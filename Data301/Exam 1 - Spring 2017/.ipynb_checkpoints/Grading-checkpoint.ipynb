{
 "cells": [
  {
   "cell_type": "markdown",
   "metadata": {},
   "source": [
    "# Grading\n",
    "\n",
    "This notebook will be used by the instructor to provide feedback on your exam."
   ]
  },
  {
   "cell_type": "markdown",
   "metadata": {},
   "source": [
    "- **Question 1:**\n",
    "- **Question 2:** \n",
    "- **Question 3:** \n",
    "- **Question 4:** \n",
    "- **Question 5:** \n",
    "- **Question 6:** \n",
    "- **Question 7:** \n",
    "- **Question 8:** "
   ]
  }
 ],
 "metadata": {
  "kernelspec": {
   "display_name": "Python 3",
   "language": "python",
   "name": "python3"
  },
  "language_info": {
   "codemirror_mode": {
    "name": "ipython",
    "version": 3
   },
   "file_extension": ".py",
   "mimetype": "text/x-python",
   "name": "python",
   "nbconvert_exporter": "python",
   "pygments_lexer": "ipython3",
   "version": "3.5.2"
  }
 },
 "nbformat": 4,
 "nbformat_minor": 1
}
