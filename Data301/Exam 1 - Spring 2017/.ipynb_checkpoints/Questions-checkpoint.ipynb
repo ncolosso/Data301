{
 "cells": [
  {
   "cell_type": "markdown",
   "metadata": {},
   "source": [
    "# Exam 1\n",
    "## DATA 301 Spring 2017"
   ]
  },
  {
   "cell_type": "markdown",
   "metadata": {},
   "source": [
    "# Questions"
   ]
  },
  {
   "cell_type": "markdown",
   "metadata": {},
   "source": [
    "## Imports\n",
    "\n",
    "All of the packages you should need are imported in the cell below. Be sure to to run it before starting this exam. Feel free to import other packages as you see fit."
   ]
  },
  {
   "cell_type": "code",
   "execution_count": null,
   "metadata": {
    "collapsed": false
   },
   "outputs": [],
   "source": [
    "from symbulate import *\n",
    "\n",
    "import numpy as np\n",
    "\n",
    "import pandas as pd\n",
    "pd.set_option(\"display.max_rows\", 15)\n",
    "\n",
    "import matplotlib.pyplot as plt\n",
    "\n",
    "from altair import *\n",
    "\n",
    "%matplotlib inline"
   ]
  },
  {
   "cell_type": "markdown",
   "metadata": {},
   "source": [
    "## Question 1 (10 points)\n",
    "\n",
    "Read in the data for 2010. The marathon times (in minutes) are stored in the column \"official\". The world record marathon time is 2:02:57, or about 123 minutes. Yet some of the times in this table are much less than 123 minutes.\n",
    "\n",
    "Find all competitors with marathon times under 123 minutes. How many are there? Look up the names of some of these competitors on Google. Can you figure out why their marathon times are so unusually fast?"
   ]
  },
  {
   "cell_type": "code",
   "execution_count": null,
   "metadata": {
    "collapsed": true
   },
   "outputs": [],
   "source": [
    "# ENTER YOUR CODE HERE."
   ]
  },
  {
   "cell_type": "markdown",
   "metadata": {},
   "source": [
    "_ENTER YOUR WRITTEN ANSWER HERE._"
   ]
  },
  {
   "cell_type": "markdown",
   "metadata": {},
   "source": [
    "## Question 2 (10 points)\n",
    "\n",
    "Let's restrict our analysis to runners only. Of course, this means that we have to remove not only the competitors that we identified in Question 1, but also other competitors like them.\n",
    "\n",
    "Look closely at the 2010 data set. Do you see anything in the data set that will allow you to identify the non-runners? Write code to remove the non-runners from the data set."
   ]
  },
  {
   "cell_type": "markdown",
   "metadata": {},
   "source": [
    "_EXPLAIN HOW YOU ARE IDENTIFYING THE NON-RUNNERS HERE._"
   ]
  },
  {
   "cell_type": "code",
   "execution_count": null,
   "metadata": {
    "collapsed": false
   },
   "outputs": [],
   "source": [
    "# ENTER YOUR CODE HERE."
   ]
  },
  {
   "cell_type": "markdown",
   "metadata": {
    "collapsed": false
   },
   "source": [
    "## Question 3 (10 points)\n",
    "\n",
    "In August 2012, Vice-Presidential candidate Paul Ryan claimed that he had run a marathon in \"under three [hours], high twos. I had a two hour and fifty-something.\"\n",
    "\n",
    "- Make a histogram showing the distribution of **men's** marathon times in the 2010 Boston Marathon.\n",
    "- If Ryan had indeed run a marathon in under 3 hours, what percentile would that have put him at among all **male** runners in the 2010 Boston Marathon?\n",
    "- It turns out that Ryan actually ran the marathon in 4:01:25. What percentile would that have put him at among all **male** runners in the 2010 Boston Marathon?"
   ]
  },
  {
   "cell_type": "code",
   "execution_count": null,
   "metadata": {
    "collapsed": true
   },
   "outputs": [],
   "source": [
    "# ENTER YOUR CODE HERE."
   ]
  },
  {
   "cell_type": "markdown",
   "metadata": {},
   "source": [
    "_ENTER YOUR WRITTEN ANSWER HERE._"
   ]
  },
  {
   "cell_type": "markdown",
   "metadata": {},
   "source": [
    "## Question 4 (10 points)\n",
    "\n",
    "How does marathon time vary with age? **For female runners only**, calculate the mean marathon time by age, as well as the standard error of this mean. Create a graphic that communicates this information. (You may use either Matplotlib or Altair.)"
   ]
  },
  {
   "cell_type": "code",
   "execution_count": null,
   "metadata": {
    "collapsed": true
   },
   "outputs": [],
   "source": [
    "# ENTER YOUR CODE HERE."
   ]
  },
  {
   "cell_type": "markdown",
   "metadata": {},
   "source": [
    "## Question 5 (10 points)\n",
    "\n",
    "Read in the 2015 results. The 2015 data only contains results for runners, so you do not have to do the same cleaning that you did for the 2010 data. \n",
    "\n",
    "Notice that the 2015 data contains not only each runner's overall time (in the column \"Official Time\"), but also the time that each runner reached the 5K, 10K, 15K, 20K, Half, 25K, 30K, 35K, and 40K marks. (A marathon is 42.2K.)\n",
    "\n",
    "Unfortunately, the times are represented by a string in hours:minutes:seconds (`\"%H:%M:%S\"`) format, instead of in minutes, as before. Convert the times in each of these columns to a number representing the time in minutes."
   ]
  },
  {
   "cell_type": "code",
   "execution_count": null,
   "metadata": {
    "collapsed": true
   },
   "outputs": [],
   "source": [
    "# ENTER YOUR CODE HERE."
   ]
  },
  {
   "cell_type": "markdown",
   "metadata": {},
   "source": [
    "## Question 6 (10 points)\n",
    "\n",
    "Do marathon runners pace themselves consistently throughout a race? Or do they run faster at some points in the race and slower at others? We can answer this question using the 2015 data.\n",
    "\n",
    "For each runner, determine the time it took for them to run the first 10K and the time it took for them to run the next 10K (i.e., the difference between the 20K and 10K times). Then, calculate the difference between these two numbers. \n",
    "\n",
    "Now answer the following questions:\n",
    "\n",
    "1. Assuming that runners do pace themselves evenly throughout the race, what would you expect the average difference to be? Set up the box model under the null hypothesis.\n",
    "2. Conduct an appropriate test of the hypothesis above.\n",
    "3. Interpret the $p$-value in the context of the problem, and state your conclusion."
   ]
  },
  {
   "cell_type": "markdown",
   "metadata": {},
   "source": [
    "_SET UP THE NULL HYPOTHESIS HERE._"
   ]
  },
  {
   "cell_type": "code",
   "execution_count": null,
   "metadata": {
    "collapsed": true
   },
   "outputs": [],
   "source": [
    "# WRITE CODE TO CONDUCT A HYPOTHESIS TEST HERE."
   ]
  },
  {
   "cell_type": "markdown",
   "metadata": {},
   "source": [
    "_STATE YOUR CONCLUSION HERE._"
   ]
  },
  {
   "cell_type": "markdown",
   "metadata": {},
   "source": [
    "## Question 7 (10 points)\n",
    "\n",
    "Let's look at how people's marathon times changed between 2010 and 2015. To do this, we need to identify runners who competed in both the 2010 and 2015 marathons.\n",
    "\n",
    "One way to do this is to inner join the two data sets on the _name_ of the runner. What potential **major problem** do you see with this approach? Then, write code to check whether this is a problem for this data set and summarize your findings."
   ]
  },
  {
   "cell_type": "markdown",
   "metadata": {},
   "source": [
    "_EXPLAIN THE POTENTIAL PROBLEM HERE._"
   ]
  },
  {
   "cell_type": "code",
   "execution_count": null,
   "metadata": {
    "collapsed": true
   },
   "outputs": [],
   "source": [
    "# WRITE CODE TO SEE IF THIS PROBLEM EXISTS IN THIS DATA SET."
   ]
  },
  {
   "cell_type": "markdown",
   "metadata": {},
   "source": [
    "_SUMMARIZE WHAT YOU DISCOVERED HERE._"
   ]
  },
  {
   "cell_type": "markdown",
   "metadata": {},
   "source": [
    "## Question 8 (10 points)\n",
    "\n",
    "Construct a data frame consisting only of people who ran in both the 2010 and 2015 marathons. (You'll need some way to deal with the problem you identified in Question 7.)\n",
    "\n",
    "- What percentage of people ran the marathon faster in 2015 than in 2010?\n",
    "- Make a plot showing the percentage of people who ran faster in 2015 _as a function of their age (in 2010)_. Summarize the trend that you see."
   ]
  },
  {
   "cell_type": "code",
   "execution_count": null,
   "metadata": {
    "collapsed": true
   },
   "outputs": [],
   "source": [
    "# ENTER YOUR CODE HERE."
   ]
  },
  {
   "cell_type": "markdown",
   "metadata": {},
   "source": [
    "_ENTER YOUR WRITTEN ANSWER HERE._"
   ]
  }
 ],
 "metadata": {
  "kernelspec": {
   "display_name": "Python 3",
   "language": "python",
   "name": "python3"
  },
  "language_info": {
   "codemirror_mode": {
    "name": "ipython",
    "version": 3
   },
   "file_extension": ".py",
   "mimetype": "text/x-python",
   "name": "python",
   "nbconvert_exporter": "python",
   "pygments_lexer": "ipython3",
   "version": "3.5.2"
  }
 },
 "nbformat": 4,
 "nbformat_minor": 2
}
