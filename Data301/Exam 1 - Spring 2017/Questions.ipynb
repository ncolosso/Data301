{
 "cells": [
  {
   "cell_type": "markdown",
   "metadata": {},
   "source": [
    "# Exam 1\n",
    "## DATA 301 Spring 2017"
   ]
  },
  {
   "cell_type": "markdown",
   "metadata": {},
   "source": [
    "# Questions"
   ]
  },
  {
   "cell_type": "markdown",
   "metadata": {},
   "source": [
    "## Imports\n",
    "\n",
    "All of the packages you should need are imported in the cell below. Be sure to to run it before starting this exam. Feel free to import other packages as you see fit."
   ]
  },
  {
   "cell_type": "code",
   "execution_count": 1,
   "metadata": {
    "collapsed": false
   },
   "outputs": [],
   "source": [
    "from symbulate import *\n",
    "\n",
    "import numpy as np\n",
    "\n",
    "import pandas as pd\n",
    "pd.set_option(\"display.max_rows\", 15)\n",
    "\n",
    "import matplotlib.pyplot as plt\n",
    "\n",
    "from altair import *\n",
    "\n",
    "%matplotlib inline"
   ]
  },
  {
   "cell_type": "markdown",
   "metadata": {},
   "source": [
    "## Question 1 (10 points)\n",
    "\n",
    "Read in the data for 2010. The marathon times (in minutes) are stored in the column \"official\". The world record marathon time is 2:02:57, or about 123 minutes. Yet some of the times in this table are much less than 123 minutes.\n",
    "\n",
    "Find all competitors with marathon times under 123 minutes. How many are there? Look up the names of some of these competitors on Google. Can you figure out why their marathon times are so unusually fast?"
   ]
  },
  {
   "cell_type": "code",
   "execution_count": 2,
   "metadata": {
    "collapsed": false
   },
   "outputs": [
    {
     "data": {
      "text/html": [
       "<div>\n",
       "<table border=\"1\" class=\"dataframe\">\n",
       "  <thead>\n",
       "    <tr style=\"text-align: right;\">\n",
       "      <th></th>\n",
       "      <th>division</th>\n",
       "      <th>name</th>\n",
       "      <th>city</th>\n",
       "      <th>gender</th>\n",
       "      <th>age</th>\n",
       "      <th>official</th>\n",
       "      <th>bib</th>\n",
       "      <th>overall</th>\n",
       "      <th>state</th>\n",
       "      <th>genderdiv</th>\n",
       "      <th>net</th>\n",
       "      <th>country</th>\n",
       "    </tr>\n",
       "  </thead>\n",
       "  <tbody>\n",
       "    <tr>\n",
       "      <th>0</th>\n",
       "      <td>1        / 22</td>\n",
       "      <td>Van Dyk, Ernst</td>\n",
       "      <td>Paarl</td>\n",
       "      <td>M</td>\n",
       "      <td>37</td>\n",
       "      <td>86.88</td>\n",
       "      <td>W1</td>\n",
       "      <td>1        / 29</td>\n",
       "      <td>NaN</td>\n",
       "      <td>1        / 24</td>\n",
       "      <td>NaN</td>\n",
       "      <td>RSA</td>\n",
       "    </tr>\n",
       "    <tr>\n",
       "      <th>1</th>\n",
       "      <td>3        / 4660</td>\n",
       "      <td>Merga, Deriba</td>\n",
       "      <td>Addis Ababa</td>\n",
       "      <td>M</td>\n",
       "      <td>29</td>\n",
       "      <td>128.65</td>\n",
       "      <td>1</td>\n",
       "      <td>3        / 22672</td>\n",
       "      <td>NaN</td>\n",
       "      <td>3        / 13120</td>\n",
       "      <td>NaN</td>\n",
       "      <td>ETH</td>\n",
       "    </tr>\n",
       "    <tr>\n",
       "      <th>2</th>\n",
       "      <td>3        / 4996</td>\n",
       "      <td>Kosgei, Salina</td>\n",
       "      <td>Eldoret</td>\n",
       "      <td>F</td>\n",
       "      <td>33</td>\n",
       "      <td>148.58</td>\n",
       "      <td>F1</td>\n",
       "      <td>58       / 22672</td>\n",
       "      <td>NaN</td>\n",
       "      <td>3        / 9552</td>\n",
       "      <td>NaN</td>\n",
       "      <td>KEN</td>\n",
       "    </tr>\n",
       "    <tr>\n",
       "      <th>3</th>\n",
       "      <td>2        / 22</td>\n",
       "      <td>Schabort, Krige</td>\n",
       "      <td>Cedartown</td>\n",
       "      <td>M</td>\n",
       "      <td>46</td>\n",
       "      <td>86.93</td>\n",
       "      <td>W2</td>\n",
       "      <td>2        / 29</td>\n",
       "      <td>GA</td>\n",
       "      <td>2        / 24</td>\n",
       "      <td>NaN</td>\n",
       "      <td>USA</td>\n",
       "    </tr>\n",
       "    <tr>\n",
       "      <th>4</th>\n",
       "      <td>4        / 22</td>\n",
       "      <td>Masazumi, Soejima</td>\n",
       "      <td>Fukuoka</td>\n",
       "      <td>M</td>\n",
       "      <td>39</td>\n",
       "      <td>88.10</td>\n",
       "      <td>W3</td>\n",
       "      <td>4        / 29</td>\n",
       "      <td>NaN</td>\n",
       "      <td>4        / 24</td>\n",
       "      <td>NaN</td>\n",
       "      <td>JPN</td>\n",
       "    </tr>\n",
       "  </tbody>\n",
       "</table>\n",
       "</div>"
      ],
      "text/plain": [
       "          division               name         city gender  age  official bib  \\\n",
       "0    1        / 22     Van Dyk, Ernst        Paarl      M   37     86.88  W1   \n",
       "1  3        / 4660      Merga, Deriba  Addis Ababa      M   29    128.65   1   \n",
       "2  3        / 4996     Kosgei, Salina      Eldoret      F   33    148.58  F1   \n",
       "3    2        / 22    Schabort, Krige    Cedartown      M   46     86.93  W2   \n",
       "4    4        / 22  Masazumi, Soejima      Fukuoka      M   39     88.10  W3   \n",
       "\n",
       "            overall state         genderdiv  net country  \n",
       "0     1        / 29   NaN     1        / 24  NaN     RSA  \n",
       "1  3        / 22672   NaN  3        / 13120  NaN     ETH  \n",
       "2  58       / 22672   NaN   3        / 9552  NaN     KEN  \n",
       "3     2        / 29    GA     2        / 24  NaN     USA  \n",
       "4     4        / 29   NaN     4        / 24  NaN     JPN  "
      ]
     },
     "execution_count": 2,
     "metadata": {},
     "output_type": "execute_result"
    }
   ],
   "source": [
    "data10 = pd.read_csv(\"/data/marathon/2010.csv\")\n",
    "data10.head()"
   ]
  },
  {
   "cell_type": "code",
   "execution_count": 3,
   "metadata": {
    "collapsed": false
   },
   "outputs": [
    {
     "data": {
      "text/html": [
       "<div>\n",
       "<table border=\"1\" class=\"dataframe\">\n",
       "  <thead>\n",
       "    <tr style=\"text-align: right;\">\n",
       "      <th></th>\n",
       "      <th>division</th>\n",
       "      <th>name</th>\n",
       "      <th>city</th>\n",
       "      <th>gender</th>\n",
       "      <th>age</th>\n",
       "      <th>official</th>\n",
       "      <th>bib</th>\n",
       "      <th>overall</th>\n",
       "      <th>state</th>\n",
       "      <th>genderdiv</th>\n",
       "      <th>net</th>\n",
       "      <th>country</th>\n",
       "    </tr>\n",
       "  </thead>\n",
       "  <tbody>\n",
       "    <tr>\n",
       "      <th>0</th>\n",
       "      <td>1        / 22</td>\n",
       "      <td>Van Dyk, Ernst</td>\n",
       "      <td>Paarl</td>\n",
       "      <td>M</td>\n",
       "      <td>37</td>\n",
       "      <td>86.88</td>\n",
       "      <td>W1</td>\n",
       "      <td>1        / 29</td>\n",
       "      <td>NaN</td>\n",
       "      <td>1        / 24</td>\n",
       "      <td>NaN</td>\n",
       "      <td>RSA</td>\n",
       "    </tr>\n",
       "    <tr>\n",
       "      <th>3</th>\n",
       "      <td>2        / 22</td>\n",
       "      <td>Schabort, Krige</td>\n",
       "      <td>Cedartown</td>\n",
       "      <td>M</td>\n",
       "      <td>46</td>\n",
       "      <td>86.93</td>\n",
       "      <td>W2</td>\n",
       "      <td>2        / 29</td>\n",
       "      <td>GA</td>\n",
       "      <td>2        / 24</td>\n",
       "      <td>NaN</td>\n",
       "      <td>USA</td>\n",
       "    </tr>\n",
       "    <tr>\n",
       "      <th>4</th>\n",
       "      <td>4        / 22</td>\n",
       "      <td>Masazumi, Soejima</td>\n",
       "      <td>Fukuoka</td>\n",
       "      <td>M</td>\n",
       "      <td>39</td>\n",
       "      <td>88.10</td>\n",
       "      <td>W3</td>\n",
       "      <td>4        / 29</td>\n",
       "      <td>NaN</td>\n",
       "      <td>4        / 24</td>\n",
       "      <td>NaN</td>\n",
       "      <td>JPN</td>\n",
       "    </tr>\n",
       "    <tr>\n",
       "      <th>7</th>\n",
       "      <td>5        / 22</td>\n",
       "      <td>Puigbo, Roger</td>\n",
       "      <td>Sant Julia De Vilatorta</td>\n",
       "      <td>M</td>\n",
       "      <td>32</td>\n",
       "      <td>88.42</td>\n",
       "      <td>W4</td>\n",
       "      <td>5        / 29</td>\n",
       "      <td>NaN</td>\n",
       "      <td>5        / 24</td>\n",
       "      <td>NaN</td>\n",
       "      <td>ESP</td>\n",
       "    </tr>\n",
       "    <tr>\n",
       "      <th>10</th>\n",
       "      <td>6        / 22</td>\n",
       "      <td>Botello Jimenez, Rafael</td>\n",
       "      <td>Manlleu (BCN)</td>\n",
       "      <td>M</td>\n",
       "      <td>31</td>\n",
       "      <td>91.20</td>\n",
       "      <td>W6</td>\n",
       "      <td>6        / 29</td>\n",
       "      <td>NaN</td>\n",
       "      <td>6        / 24</td>\n",
       "      <td>NaN</td>\n",
       "      <td>ESP</td>\n",
       "    </tr>\n",
       "    <tr>\n",
       "      <th>13</th>\n",
       "      <td>7        / 22</td>\n",
       "      <td>Madera, Jorge</td>\n",
       "      <td>Granollers</td>\n",
       "      <td>M</td>\n",
       "      <td>30</td>\n",
       "      <td>93.13</td>\n",
       "      <td>W7</td>\n",
       "      <td>7        / 29</td>\n",
       "      <td>NaN</td>\n",
       "      <td>7        / 24</td>\n",
       "      <td>NaN</td>\n",
       "      <td>ESP</td>\n",
       "    </tr>\n",
       "    <tr>\n",
       "      <th>16</th>\n",
       "      <td>3        / 22</td>\n",
       "      <td>Hokinoue, Kota</td>\n",
       "      <td>Iizuka</td>\n",
       "      <td>M</td>\n",
       "      <td>36</td>\n",
       "      <td>87.08</td>\n",
       "      <td>W8</td>\n",
       "      <td>3        / 29</td>\n",
       "      <td>NaN</td>\n",
       "      <td>3        / 24</td>\n",
       "      <td>NaN</td>\n",
       "      <td>JPN</td>\n",
       "    </tr>\n",
       "    <tr>\n",
       "      <th>...</th>\n",
       "      <td>...</td>\n",
       "      <td>...</td>\n",
       "      <td>...</td>\n",
       "      <td>...</td>\n",
       "      <td>...</td>\n",
       "      <td>...</td>\n",
       "      <td>...</td>\n",
       "      <td>...</td>\n",
       "      <td>...</td>\n",
       "      <td>...</td>\n",
       "      <td>...</td>\n",
       "      <td>...</td>\n",
       "    </tr>\n",
       "    <tr>\n",
       "      <th>127</th>\n",
       "      <td>5        / 17</td>\n",
       "      <td>Murphy, Michael G.</td>\n",
       "      <td>Mclean</td>\n",
       "      <td>M</td>\n",
       "      <td>24</td>\n",
       "      <td>108.90</td>\n",
       "      <td>203</td>\n",
       "      <td>5        / 20</td>\n",
       "      <td>VA</td>\n",
       "      <td>5        / 17</td>\n",
       "      <td>NaN</td>\n",
       "      <td>USA</td>\n",
       "    </tr>\n",
       "    <tr>\n",
       "      <th>129</th>\n",
       "      <td>3        / 17</td>\n",
       "      <td>Corral, Ricardo V. PhD.</td>\n",
       "      <td>Bronx</td>\n",
       "      <td>M</td>\n",
       "      <td>49</td>\n",
       "      <td>99.82</td>\n",
       "      <td>205</td>\n",
       "      <td>3        / 20</td>\n",
       "      <td>NY</td>\n",
       "      <td>3        / 17</td>\n",
       "      <td>NaN</td>\n",
       "      <td>USA</td>\n",
       "    </tr>\n",
       "    <tr>\n",
       "      <th>130</th>\n",
       "      <td>9        / 17</td>\n",
       "      <td>Devine, John</td>\n",
       "      <td>Massapequa</td>\n",
       "      <td>M</td>\n",
       "      <td>61</td>\n",
       "      <td>121.18</td>\n",
       "      <td>206</td>\n",
       "      <td>9        / 20</td>\n",
       "      <td>NY</td>\n",
       "      <td>9        / 17</td>\n",
       "      <td>NaN</td>\n",
       "      <td>USA</td>\n",
       "    </tr>\n",
       "    <tr>\n",
       "      <th>131</th>\n",
       "      <td>6        / 17</td>\n",
       "      <td>Rooney, Pete</td>\n",
       "      <td>Worthington</td>\n",
       "      <td>M</td>\n",
       "      <td>27</td>\n",
       "      <td>110.02</td>\n",
       "      <td>207</td>\n",
       "      <td>6        / 20</td>\n",
       "      <td>MA</td>\n",
       "      <td>6        / 17</td>\n",
       "      <td>NaN</td>\n",
       "      <td>USA</td>\n",
       "    </tr>\n",
       "    <tr>\n",
       "      <th>135</th>\n",
       "      <td>8        / 17</td>\n",
       "      <td>De Los Santos, Alfredo</td>\n",
       "      <td>New York</td>\n",
       "      <td>M</td>\n",
       "      <td>40</td>\n",
       "      <td>119.33</td>\n",
       "      <td>214</td>\n",
       "      <td>8        / 20</td>\n",
       "      <td>NY</td>\n",
       "      <td>8        / 17</td>\n",
       "      <td>NaN</td>\n",
       "      <td>USA</td>\n",
       "    </tr>\n",
       "    <tr>\n",
       "      <th>140</th>\n",
       "      <td>7        / 17</td>\n",
       "      <td>Kinard, Andrew</td>\n",
       "      <td>Cambridge</td>\n",
       "      <td>M</td>\n",
       "      <td>27</td>\n",
       "      <td>111.43</td>\n",
       "      <td>219</td>\n",
       "      <td>7        / 20</td>\n",
       "      <td>MA</td>\n",
       "      <td>7        / 17</td>\n",
       "      <td>NaN</td>\n",
       "      <td>USA</td>\n",
       "    </tr>\n",
       "    <tr>\n",
       "      <th>142</th>\n",
       "      <td>4        / 17</td>\n",
       "      <td>Reynolds, William III</td>\n",
       "      <td>Rochester</td>\n",
       "      <td>M</td>\n",
       "      <td>29</td>\n",
       "      <td>101.77</td>\n",
       "      <td>221</td>\n",
       "      <td>4        / 20</td>\n",
       "      <td>NY</td>\n",
       "      <td>4        / 17</td>\n",
       "      <td>NaN</td>\n",
       "      <td>USA</td>\n",
       "    </tr>\n",
       "  </tbody>\n",
       "</table>\n",
       "<p>33 rows × 12 columns</p>\n",
       "</div>"
      ],
      "text/plain": [
       "          division                     name                     city gender  \\\n",
       "0    1        / 22           Van Dyk, Ernst                    Paarl      M   \n",
       "3    2        / 22          Schabort, Krige                Cedartown      M   \n",
       "4    4        / 22        Masazumi, Soejima                  Fukuoka      M   \n",
       "7    5        / 22            Puigbo, Roger  Sant Julia De Vilatorta      M   \n",
       "10   6        / 22  Botello Jimenez, Rafael            Manlleu (BCN)      M   \n",
       "13   7        / 22            Madera, Jorge               Granollers      M   \n",
       "16   3        / 22           Hokinoue, Kota                   Iizuka      M   \n",
       "..             ...                      ...                      ...    ...   \n",
       "127  5        / 17       Murphy, Michael G.                   Mclean      M   \n",
       "129  3        / 17  Corral, Ricardo V. PhD.                    Bronx      M   \n",
       "130  9        / 17             Devine, John               Massapequa      M   \n",
       "131  6        / 17             Rooney, Pete              Worthington      M   \n",
       "135  8        / 17   De Los Santos, Alfredo                 New York      M   \n",
       "140  7        / 17           Kinard, Andrew                Cambridge      M   \n",
       "142  4        / 17    Reynolds, William III                Rochester      M   \n",
       "\n",
       "     age  official  bib        overall state      genderdiv  net country  \n",
       "0     37     86.88   W1  1        / 29   NaN  1        / 24  NaN     RSA  \n",
       "3     46     86.93   W2  2        / 29    GA  2        / 24  NaN     USA  \n",
       "4     39     88.10   W3  4        / 29   NaN  4        / 24  NaN     JPN  \n",
       "7     32     88.42   W4  5        / 29   NaN  5        / 24  NaN     ESP  \n",
       "10    31     91.20   W6  6        / 29   NaN  6        / 24  NaN     ESP  \n",
       "13    30     93.13   W7  7        / 29   NaN  7        / 24  NaN     ESP  \n",
       "16    36     87.08   W8  3        / 29   NaN  3        / 24  NaN     JPN  \n",
       "..   ...       ...  ...            ...   ...            ...  ...     ...  \n",
       "127   24    108.90  203  5        / 20    VA  5        / 17  NaN     USA  \n",
       "129   49     99.82  205  3        / 20    NY  3        / 17  NaN     USA  \n",
       "130   61    121.18  206  9        / 20    NY  9        / 17  NaN     USA  \n",
       "131   27    110.02  207  6        / 20    MA  6        / 17  NaN     USA  \n",
       "135   40    119.33  214  8        / 20    NY  8        / 17  NaN     USA  \n",
       "140   27    111.43  219  7        / 20    MA  7        / 17  NaN     USA  \n",
       "142   29    101.77  221  4        / 20    NY  4        / 17  NaN     USA  \n",
       "\n",
       "[33 rows x 12 columns]"
      ]
     },
     "execution_count": 3,
     "metadata": {},
     "output_type": "execute_result"
    }
   ],
   "source": [
    "data10[data10[\"official\"] < 123]"
   ]
  },
  {
   "cell_type": "code",
   "execution_count": 4,
   "metadata": {
    "collapsed": false
   },
   "outputs": [
    {
     "data": {
      "text/plain": [
       "0      1        / 22\n",
       "3      2        / 22\n",
       "4      4        / 22\n",
       "7      5        / 22\n",
       "10     6        / 22\n",
       "13     7        / 22\n",
       "16     3        / 22\n",
       "           ...      \n",
       "127    5        / 17\n",
       "129    3        / 17\n",
       "130    9        / 17\n",
       "131    6        / 17\n",
       "135    8        / 17\n",
       "140    7        / 17\n",
       "142    4        / 17\n",
       "Name: division, dtype: object"
      ]
     },
     "execution_count": 4,
     "metadata": {},
     "output_type": "execute_result"
    }
   ],
   "source": [
    "data10[data10[\"official\"] < 123][\"division\"]"
   ]
  },
  {
   "cell_type": "markdown",
   "metadata": {},
   "source": [
    "There are 33 runners with official times less than 123 minutes. After doing some research on some of the names returned in this dataset, it appears the extremely low times are all from competitors in the wheelchair portion of the Boston Marathon. After further research, I also concluded that the runners with time closer to 123 but still faster were all competing in the handcycle portion of the event. Becuase they are competing in wheelchairs/handcycles and not running, their times are much faster than those of the runners."
   ]
  },
  {
   "cell_type": "markdown",
   "metadata": {},
   "source": [
    "## Question 2 (10 points)\n",
    "\n",
    "Let's restrict our analysis to runners only. Of course, this means that we have to remove not only the competitors that we identified in Question 1, but also other competitors like them.\n",
    "\n",
    "Look closely at the 2010 data set. Do you see anything in the data set that will allow you to identify the non-runners? Write code to remove the non-runners from the data set."
   ]
  },
  {
   "cell_type": "markdown",
   "metadata": {},
   "source": [
    "From the previous question and my own research, I concluded that the only non-runner divisions in the marathon are wheelchairs and handcycles. In order to restrict our dataset to runners only, I will remove all runners in those respective divisions, which I have concluded are 22 and 17."
   ]
  },
  {
   "cell_type": "code",
   "execution_count": 5,
   "metadata": {
    "collapsed": false
   },
   "outputs": [
    {
     "data": {
      "text/html": [
       "<div>\n",
       "<table border=\"1\" class=\"dataframe\">\n",
       "  <thead>\n",
       "    <tr style=\"text-align: right;\">\n",
       "      <th></th>\n",
       "      <th>division</th>\n",
       "      <th>name</th>\n",
       "      <th>city</th>\n",
       "      <th>gender</th>\n",
       "      <th>age</th>\n",
       "      <th>official</th>\n",
       "      <th>bib</th>\n",
       "      <th>overall</th>\n",
       "      <th>state</th>\n",
       "      <th>genderdiv</th>\n",
       "      <th>net</th>\n",
       "      <th>country</th>\n",
       "    </tr>\n",
       "  </thead>\n",
       "  <tbody>\n",
       "    <tr>\n",
       "      <th>1</th>\n",
       "      <td>3        / 4660</td>\n",
       "      <td>Merga, Deriba</td>\n",
       "      <td>Addis Ababa</td>\n",
       "      <td>M</td>\n",
       "      <td>29</td>\n",
       "      <td>128.65</td>\n",
       "      <td>1</td>\n",
       "      <td>3        / 22672</td>\n",
       "      <td>NaN</td>\n",
       "      <td>3        / 13120</td>\n",
       "      <td>NaN</td>\n",
       "      <td>ETH</td>\n",
       "    </tr>\n",
       "    <tr>\n",
       "      <th>2</th>\n",
       "      <td>3        / 4996</td>\n",
       "      <td>Kosgei, Salina</td>\n",
       "      <td>Eldoret</td>\n",
       "      <td>F</td>\n",
       "      <td>33</td>\n",
       "      <td>148.58</td>\n",
       "      <td>F1</td>\n",
       "      <td>58       / 22672</td>\n",
       "      <td>NaN</td>\n",
       "      <td>3        / 9552</td>\n",
       "      <td>NaN</td>\n",
       "      <td>KEN</td>\n",
       "    </tr>\n",
       "    <tr>\n",
       "      <th>5</th>\n",
       "      <td>4        / 4660</td>\n",
       "      <td>Hall, Ryan</td>\n",
       "      <td>Mammoth Lakes</td>\n",
       "      <td>M</td>\n",
       "      <td>27</td>\n",
       "      <td>128.68</td>\n",
       "      <td>3</td>\n",
       "      <td>4        / 22672</td>\n",
       "      <td>CA</td>\n",
       "      <td>4        / 13120</td>\n",
       "      <td>NaN</td>\n",
       "      <td>USA</td>\n",
       "    </tr>\n",
       "    <tr>\n",
       "      <th>6</th>\n",
       "      <td>14       / 4996</td>\n",
       "      <td>Perez, Madai</td>\n",
       "      <td>Tlaxcala</td>\n",
       "      <td>F</td>\n",
       "      <td>30</td>\n",
       "      <td>156.07</td>\n",
       "      <td>F3</td>\n",
       "      <td>136      / 22672</td>\n",
       "      <td>NaN</td>\n",
       "      <td>14       / 9552</td>\n",
       "      <td>NaN</td>\n",
       "      <td>MEX</td>\n",
       "    </tr>\n",
       "    <tr>\n",
       "      <th>8</th>\n",
       "      <td>1        / 4996</td>\n",
       "      <td>Erkesso, Teyba</td>\n",
       "      <td>Arsi</td>\n",
       "      <td>F</td>\n",
       "      <td>27</td>\n",
       "      <td>146.18</td>\n",
       "      <td>F4</td>\n",
       "      <td>42       / 22672</td>\n",
       "      <td>NaN</td>\n",
       "      <td>1        / 9552</td>\n",
       "      <td>NaN</td>\n",
       "      <td>ETH</td>\n",
       "    </tr>\n",
       "    <tr>\n",
       "      <th>9</th>\n",
       "      <td>21       / 4660</td>\n",
       "      <td>Yegon, Gilbert</td>\n",
       "      <td>Eldoret</td>\n",
       "      <td>M</td>\n",
       "      <td>21</td>\n",
       "      <td>141.20</td>\n",
       "      <td>5</td>\n",
       "      <td>22       / 22672</td>\n",
       "      <td>NaN</td>\n",
       "      <td>22       / 13120</td>\n",
       "      <td>NaN</td>\n",
       "      <td>KEN</td>\n",
       "    </tr>\n",
       "    <tr>\n",
       "      <th>11</th>\n",
       "      <td>1        / 4660</td>\n",
       "      <td>Cheruiyot, Robert Kiprono</td>\n",
       "      <td>Bomet</td>\n",
       "      <td>M</td>\n",
       "      <td>21</td>\n",
       "      <td>125.87</td>\n",
       "      <td>6</td>\n",
       "      <td>1        / 22672</td>\n",
       "      <td>NaN</td>\n",
       "      <td>1        / 13120</td>\n",
       "      <td>NaN</td>\n",
       "      <td>KEN</td>\n",
       "    </tr>\n",
       "    <tr>\n",
       "      <th>...</th>\n",
       "      <td>...</td>\n",
       "      <td>...</td>\n",
       "      <td>...</td>\n",
       "      <td>...</td>\n",
       "      <td>...</td>\n",
       "      <td>...</td>\n",
       "      <td>...</td>\n",
       "      <td>...</td>\n",
       "      <td>...</td>\n",
       "      <td>...</td>\n",
       "      <td>...</td>\n",
       "      <td>...</td>\n",
       "    </tr>\n",
       "    <tr>\n",
       "      <th>22712</th>\n",
       "      <td>3391     / 4660</td>\n",
       "      <td>Walton, Myles A.</td>\n",
       "      <td>Wellesley</td>\n",
       "      <td>M</td>\n",
       "      <td>34</td>\n",
       "      <td>226.25</td>\n",
       "      <td>27806</td>\n",
       "      <td>11913    / 22672</td>\n",
       "      <td>MA</td>\n",
       "      <td>8308     / 13120</td>\n",
       "      <td>NaN</td>\n",
       "      <td>USA</td>\n",
       "    </tr>\n",
       "    <tr>\n",
       "      <th>22713</th>\n",
       "      <td>1566     / 1692</td>\n",
       "      <td>Sullivan, Patricia A.</td>\n",
       "      <td>Hanover</td>\n",
       "      <td>F</td>\n",
       "      <td>43</td>\n",
       "      <td>286.20</td>\n",
       "      <td>27807</td>\n",
       "      <td>20726    / 22672</td>\n",
       "      <td>MA</td>\n",
       "      <td>8578     / 9552</td>\n",
       "      <td>NaN</td>\n",
       "      <td>USA</td>\n",
       "    </tr>\n",
       "    <tr>\n",
       "      <th>22714</th>\n",
       "      <td>3877     / 4996</td>\n",
       "      <td>Nava, Elvia</td>\n",
       "      <td>Chicago</td>\n",
       "      <td>F</td>\n",
       "      <td>34</td>\n",
       "      <td>255.65</td>\n",
       "      <td>27808</td>\n",
       "      <td>17995    / 22672</td>\n",
       "      <td>IL</td>\n",
       "      <td>7061     / 9552</td>\n",
       "      <td>NaN</td>\n",
       "      <td>USA</td>\n",
       "    </tr>\n",
       "    <tr>\n",
       "      <th>22715</th>\n",
       "      <td>3346     / 4660</td>\n",
       "      <td>Stracqualursi, Thomas E.</td>\n",
       "      <td>Stoughton</td>\n",
       "      <td>M</td>\n",
       "      <td>35</td>\n",
       "      <td>224.93</td>\n",
       "      <td>27809</td>\n",
       "      <td>11493    / 22672</td>\n",
       "      <td>MA</td>\n",
       "      <td>8096     / 13120</td>\n",
       "      <td>NaN</td>\n",
       "      <td>USA</td>\n",
       "    </tr>\n",
       "    <tr>\n",
       "      <th>22716</th>\n",
       "      <td>4451     / 4660</td>\n",
       "      <td>Koliatsos, Konstantino</td>\n",
       "      <td>Arta</td>\n",
       "      <td>M</td>\n",
       "      <td>38</td>\n",
       "      <td>298.28</td>\n",
       "      <td>27810</td>\n",
       "      <td>21395    / 22672</td>\n",
       "      <td>NaN</td>\n",
       "      <td>12497    / 13120</td>\n",
       "      <td>NaN</td>\n",
       "      <td>GRE</td>\n",
       "    </tr>\n",
       "    <tr>\n",
       "      <th>22717</th>\n",
       "      <td>4611     / 4660</td>\n",
       "      <td>Parlon, Paul J.</td>\n",
       "      <td>West Roxbury</td>\n",
       "      <td>M</td>\n",
       "      <td>35</td>\n",
       "      <td>334.20</td>\n",
       "      <td>27811</td>\n",
       "      <td>22342    / 22672</td>\n",
       "      <td>MA</td>\n",
       "      <td>12957    / 13120</td>\n",
       "      <td>NaN</td>\n",
       "      <td>USA</td>\n",
       "    </tr>\n",
       "    <tr>\n",
       "      <th>22718</th>\n",
       "      <td>3889     / 4660</td>\n",
       "      <td>Imparato, Sara E.</td>\n",
       "      <td>Charlestown</td>\n",
       "      <td>M</td>\n",
       "      <td>24</td>\n",
       "      <td>249.98</td>\n",
       "      <td>27812</td>\n",
       "      <td>17198    / 22672</td>\n",
       "      <td>MA</td>\n",
       "      <td>10600    / 13120</td>\n",
       "      <td>NaN</td>\n",
       "      <td>USA</td>\n",
       "    </tr>\n",
       "  </tbody>\n",
       "</table>\n",
       "<p>22680 rows × 12 columns</p>\n",
       "</div>"
      ],
      "text/plain": [
       "              division                       name           city gender  age  \\\n",
       "1      3        / 4660              Merga, Deriba    Addis Ababa      M   29   \n",
       "2      3        / 4996             Kosgei, Salina        Eldoret      F   33   \n",
       "5      4        / 4660                 Hall, Ryan  Mammoth Lakes      M   27   \n",
       "6      14       / 4996               Perez, Madai       Tlaxcala      F   30   \n",
       "8      1        / 4996             Erkesso, Teyba           Arsi      F   27   \n",
       "9      21       / 4660             Yegon, Gilbert        Eldoret      M   21   \n",
       "11     1        / 4660  Cheruiyot, Robert Kiprono          Bomet      M   21   \n",
       "...                ...                        ...            ...    ...  ...   \n",
       "22712  3391     / 4660           Walton, Myles A.      Wellesley      M   34   \n",
       "22713  1566     / 1692      Sullivan, Patricia A.        Hanover      F   43   \n",
       "22714  3877     / 4996                Nava, Elvia        Chicago      F   34   \n",
       "22715  3346     / 4660   Stracqualursi, Thomas E.      Stoughton      M   35   \n",
       "22716  4451     / 4660     Koliatsos, Konstantino           Arta      M   38   \n",
       "22717  4611     / 4660            Parlon, Paul J.   West Roxbury      M   35   \n",
       "22718  3889     / 4660          Imparato, Sara E.    Charlestown      M   24   \n",
       "\n",
       "       official    bib           overall state         genderdiv  net country  \n",
       "1        128.65      1  3        / 22672   NaN  3        / 13120  NaN     ETH  \n",
       "2        148.58     F1  58       / 22672   NaN   3        / 9552  NaN     KEN  \n",
       "5        128.68      3  4        / 22672    CA  4        / 13120  NaN     USA  \n",
       "6        156.07     F3  136      / 22672   NaN   14       / 9552  NaN     MEX  \n",
       "8        146.18     F4  42       / 22672   NaN   1        / 9552  NaN     ETH  \n",
       "9        141.20      5  22       / 22672   NaN  22       / 13120  NaN     KEN  \n",
       "11       125.87      6  1        / 22672   NaN  1        / 13120  NaN     KEN  \n",
       "...         ...    ...               ...   ...               ...  ...     ...  \n",
       "22712    226.25  27806  11913    / 22672    MA  8308     / 13120  NaN     USA  \n",
       "22713    286.20  27807  20726    / 22672    MA   8578     / 9552  NaN     USA  \n",
       "22714    255.65  27808  17995    / 22672    IL   7061     / 9552  NaN     USA  \n",
       "22715    224.93  27809  11493    / 22672    MA  8096     / 13120  NaN     USA  \n",
       "22716    298.28  27810  21395    / 22672   NaN  12497    / 13120  NaN     GRE  \n",
       "22717    334.20  27811  22342    / 22672    MA  12957    / 13120  NaN     USA  \n",
       "22718    249.98  27812  17198    / 22672    MA  10600    / 13120  NaN     USA  \n",
       "\n",
       "[22680 rows x 12 columns]"
      ]
     },
     "execution_count": 5,
     "metadata": {},
     "output_type": "execute_result"
    }
   ],
   "source": [
    "data10_Run = data10[data10[\"division\"].str.contains(\"/ 17\")==False]\n",
    "data10_Run = data10_Run[data10_Run[\"division\"].str.contains(\"/ 22\")==False]\n",
    "data10_Run"
   ]
  },
  {
   "cell_type": "markdown",
   "metadata": {
    "collapsed": false
   },
   "source": [
    "## Question 3 (10 points)\n",
    "\n",
    "In August 2012, Vice-Presidential candidate Paul Ryan claimed that he had run a marathon in \"under three [hours], high twos. I had a two hour and fifty-something.\"\n",
    "\n",
    "- Make a histogram showing the distribution of **men's** marathon times in the 2010 Boston Marathon.\n",
    "- If Ryan had indeed run a marathon in under 3 hours, what percentile would that have put him at among all **male** runners in the 2010 Boston Marathon?\n",
    "- It turns out that Ryan actually ran the marathon in 4:01:25. What percentile would that have put him at among all **male** runners in the 2010 Boston Marathon?"
   ]
  },
  {
   "cell_type": "code",
   "execution_count": 6,
   "metadata": {
    "collapsed": false
   },
   "outputs": [
    {
     "data": {
      "text/plain": [
       "<matplotlib.axes._subplots.AxesSubplot at 0x7f25d7aa0390>"
      ]
     },
     "execution_count": 6,
     "metadata": {},
     "output_type": "execute_result"
    },
    {
     "data": {
      "image/png": "[encoded data removed]",
      "text/plain": [
       "<matplotlib.figure.Figure at 0x7f25d7aa0c50>"
      ]
     },
     "metadata": {},
     "output_type": "display_data"
    }
   ],
   "source": [
    "dataMen = data10_Run[data10_Run[\"gender\"] == \"M\"]\n",
    "ManTimes = dataMen[\"official\"].hist()\n",
    "ManTimes"
   ]
  },
  {
   "cell_type": "code",
   "execution_count": 7,
   "metadata": {
    "collapsed": false
   },
   "outputs": [
    {
     "data": {
      "text/plain": [
       "0.09702004420394787"
      ]
     },
     "execution_count": 7,
     "metadata": {},
     "output_type": "execute_result"
    }
   ],
   "source": [
    "len(dataMen[dataMen['official'] < 180])/(len(dataMen))"
   ]
  },
  {
   "cell_type": "code",
   "execution_count": 8,
   "metadata": {
    "collapsed": false
   },
   "outputs": [
    {
     "data": {
      "text/plain": [
       "0.7596981937352336"
      ]
     },
     "execution_count": 8,
     "metadata": {},
     "output_type": "execute_result"
    }
   ],
   "source": [
    "len(dataMen[dataMen['official'] <= 241])/(len(dataMen))"
   ]
  },
  {
   "cell_type": "markdown",
   "metadata": {},
   "source": [
    "If Ryan had truly run the marathon in under three hours, it would have put him within the 10th percentile of all male runners in the 2010 Boston Marathon (9.7 to be exact). His true time of 4:01:25 actually put him within the 75th percentile of all male runner in the 2010 Boston Marathon (76 to be exact)."
   ]
  },
  {
   "cell_type": "markdown",
   "metadata": {},
   "source": [
    "## Question 4 (10 points)\n",
    "\n",
    "How does marathon time vary with age? **For female runners only**, calculate the mean marathon time by age, as well as the standard error of this mean. Create a graphic that communicates this information. (You may use either Matplotlib or Altair.)"
   ]
  },
  {
   "cell_type": "code",
   "execution_count": 9,
   "metadata": {
    "collapsed": false
   },
   "outputs": [
    {
     "data": {
      "text/html": [
       "<div>\n",
       "<table border=\"1\" class=\"dataframe\">\n",
       "  <thead>\n",
       "    <tr style=\"text-align: right;\">\n",
       "      <th></th>\n",
       "      <th>division</th>\n",
       "      <th>name</th>\n",
       "      <th>city</th>\n",
       "      <th>gender</th>\n",
       "      <th>age</th>\n",
       "      <th>official</th>\n",
       "      <th>bib</th>\n",
       "      <th>overall</th>\n",
       "      <th>state</th>\n",
       "      <th>genderdiv</th>\n",
       "      <th>net</th>\n",
       "      <th>country</th>\n",
       "    </tr>\n",
       "  </thead>\n",
       "  <tbody>\n",
       "    <tr>\n",
       "      <th>2</th>\n",
       "      <td>3        / 4996</td>\n",
       "      <td>Kosgei, Salina</td>\n",
       "      <td>Eldoret</td>\n",
       "      <td>F</td>\n",
       "      <td>33</td>\n",
       "      <td>148.58</td>\n",
       "      <td>F1</td>\n",
       "      <td>58       / 22672</td>\n",
       "      <td>NaN</td>\n",
       "      <td>3        / 9552</td>\n",
       "      <td>NaN</td>\n",
       "      <td>KEN</td>\n",
       "    </tr>\n",
       "    <tr>\n",
       "      <th>6</th>\n",
       "      <td>14       / 4996</td>\n",
       "      <td>Perez, Madai</td>\n",
       "      <td>Tlaxcala</td>\n",
       "      <td>F</td>\n",
       "      <td>30</td>\n",
       "      <td>156.07</td>\n",
       "      <td>F3</td>\n",
       "      <td>136      / 22672</td>\n",
       "      <td>NaN</td>\n",
       "      <td>14       / 9552</td>\n",
       "      <td>NaN</td>\n",
       "      <td>MEX</td>\n",
       "    </tr>\n",
       "    <tr>\n",
       "      <th>8</th>\n",
       "      <td>1        / 4996</td>\n",
       "      <td>Erkesso, Teyba</td>\n",
       "      <td>Arsi</td>\n",
       "      <td>F</td>\n",
       "      <td>27</td>\n",
       "      <td>146.18</td>\n",
       "      <td>F4</td>\n",
       "      <td>42       / 22672</td>\n",
       "      <td>NaN</td>\n",
       "      <td>1        / 9552</td>\n",
       "      <td>NaN</td>\n",
       "      <td>ETH</td>\n",
       "    </tr>\n",
       "    <tr>\n",
       "      <th>12</th>\n",
       "      <td>6        / 4996</td>\n",
       "      <td>Grigoryeva, Lidiya</td>\n",
       "      <td>Cheboksary</td>\n",
       "      <td>F</td>\n",
       "      <td>36</td>\n",
       "      <td>150.52</td>\n",
       "      <td>F6</td>\n",
       "      <td>81       / 22672</td>\n",
       "      <td>NaN</td>\n",
       "      <td>6        / 9552</td>\n",
       "      <td>NaN</td>\n",
       "      <td>RUS</td>\n",
       "    </tr>\n",
       "    <tr>\n",
       "      <th>14</th>\n",
       "      <td>5        / 4996</td>\n",
       "      <td>Genovese, Bruna</td>\n",
       "      <td>Volpago del Montello</td>\n",
       "      <td>F</td>\n",
       "      <td>33</td>\n",
       "      <td>149.20</td>\n",
       "      <td>F7</td>\n",
       "      <td>67       / 22672</td>\n",
       "      <td>NaN</td>\n",
       "      <td>5        / 9552</td>\n",
       "      <td>NaN</td>\n",
       "      <td>ITA</td>\n",
       "    </tr>\n",
       "  </tbody>\n",
       "</table>\n",
       "</div>"
      ],
      "text/plain": [
       "           division                name                  city gender  age  \\\n",
       "2   3        / 4996      Kosgei, Salina               Eldoret      F   33   \n",
       "6   14       / 4996        Perez, Madai              Tlaxcala      F   30   \n",
       "8   1        / 4996      Erkesso, Teyba                  Arsi      F   27   \n",
       "12  6        / 4996  Grigoryeva, Lidiya            Cheboksary      F   36   \n",
       "14  5        / 4996     Genovese, Bruna  Volpago del Montello      F   33   \n",
       "\n",
       "    official bib           overall state        genderdiv  net country  \n",
       "2     148.58  F1  58       / 22672   NaN  3        / 9552  NaN     KEN  \n",
       "6     156.07  F3  136      / 22672   NaN  14       / 9552  NaN     MEX  \n",
       "8     146.18  F4  42       / 22672   NaN  1        / 9552  NaN     ETH  \n",
       "12    150.52  F6  81       / 22672   NaN  6        / 9552  NaN     RUS  \n",
       "14    149.20  F7  67       / 22672   NaN  5        / 9552  NaN     ITA  "
      ]
     },
     "execution_count": 9,
     "metadata": {},
     "output_type": "execute_result"
    }
   ],
   "source": [
    "dataFem = data10_Run[data10_Run[\"gender\"] == \"F\"]\n",
    "dataFem.head()"
   ]
  },
  {
   "cell_type": "code",
   "execution_count": 10,
   "metadata": {
    "collapsed": false
   },
   "outputs": [],
   "source": [
    "meanTimes = dataFem.groupby('age')['official'].mean()\n",
    "\n",
    "grouped_times = dataFem.groupby('age')['official']\n",
    "n = grouped_times.count()\n",
    "sd = grouped_times.std()\n",
    "\n",
    "std_err = (sd/np.sqrt(n))"
   ]
  },
  {
   "cell_type": "code",
   "execution_count": 11,
   "metadata": {
    "collapsed": false
   },
   "outputs": [
    {
     "data": {
      "text/plain": [
       "<matplotlib.axes._subplots.AxesSubplot at 0x7f25d7ad4550>"
      ]
     },
     "execution_count": 11,
     "metadata": {},
     "output_type": "execute_result"
    },
    {
     "data": {
      "image/png": "[encoded data removed]",
      "text/plain": [
       "<matplotlib.figure.Figure at 0x7f2604cc6cf8>"
      ]
     },
     "metadata": {},
     "output_type": "display_data"
    }
   ],
   "source": [
    "meanTimes.plot.line(yerr=2*std_err, ecolor='grey')"
   ]
  },
  {
   "cell_type": "markdown",
   "metadata": {},
   "source": [
    "## Question 5 (10 points)\n",
    "\n",
    "Read in the 2015 results. The 2015 data only contains results for runners, so you do not have to do the same cleaning that you did for the 2010 data. \n",
    "\n",
    "Notice that the 2015 data contains not only each runner's overall time (in the column \"Official Time\"), but also the time that each runner reached the 5K, 10K, 15K, 20K, Half, 25K, 30K, 35K, and 40K marks. (A marathon is 42.2K.)\n",
    "\n",
    "Unfortunately, the times are represented by a string in hours:minutes:seconds (`\"%H:%M:%S\"`) format, instead of in minutes, as before. Convert the times in each of these columns to a number representing the time in minutes."
   ]
  },
  {
   "cell_type": "code",
   "execution_count": 12,
   "metadata": {
    "collapsed": false
   },
   "outputs": [
    {
     "data": {
      "text/html": [
       "<div>\n",
       "<table border=\"1\" class=\"dataframe\">\n",
       "  <thead>\n",
       "    <tr style=\"text-align: right;\">\n",
       "      <th></th>\n",
       "      <th>Unnamed: 0</th>\n",
       "      <th>Bib</th>\n",
       "      <th>Name</th>\n",
       "      <th>Age</th>\n",
       "      <th>M/F</th>\n",
       "      <th>City</th>\n",
       "      <th>State</th>\n",
       "      <th>Country</th>\n",
       "      <th>Citizen</th>\n",
       "      <th>Unnamed: 9</th>\n",
       "      <th>...</th>\n",
       "      <th>25K</th>\n",
       "      <th>30K</th>\n",
       "      <th>35K</th>\n",
       "      <th>40K</th>\n",
       "      <th>Pace</th>\n",
       "      <th>Proj Time</th>\n",
       "      <th>Official Time</th>\n",
       "      <th>Overall</th>\n",
       "      <th>Gender</th>\n",
       "      <th>Division</th>\n",
       "    </tr>\n",
       "  </thead>\n",
       "  <tbody>\n",
       "    <tr>\n",
       "      <th>0</th>\n",
       "      <td>0</td>\n",
       "      <td>3</td>\n",
       "      <td>Desisa, Lelisa</td>\n",
       "      <td>25</td>\n",
       "      <td>M</td>\n",
       "      <td>Ambo</td>\n",
       "      <td>NaN</td>\n",
       "      <td>ETH</td>\n",
       "      <td>NaN</td>\n",
       "      <td>NaN</td>\n",
       "      <td>...</td>\n",
       "      <td>1:16:07</td>\n",
       "      <td>1:32:00</td>\n",
       "      <td>1:47:59</td>\n",
       "      <td>2:02:39</td>\n",
       "      <td>0:04:56</td>\n",
       "      <td>-</td>\n",
       "      <td>2:09:17</td>\n",
       "      <td>1</td>\n",
       "      <td>1</td>\n",
       "      <td>1</td>\n",
       "    </tr>\n",
       "    <tr>\n",
       "      <th>1</th>\n",
       "      <td>1</td>\n",
       "      <td>4</td>\n",
       "      <td>Tsegay, Yemane Adhane</td>\n",
       "      <td>30</td>\n",
       "      <td>M</td>\n",
       "      <td>Addis Ababa</td>\n",
       "      <td>NaN</td>\n",
       "      <td>ETH</td>\n",
       "      <td>NaN</td>\n",
       "      <td>NaN</td>\n",
       "      <td>...</td>\n",
       "      <td>1:16:07</td>\n",
       "      <td>1:31:59</td>\n",
       "      <td>1:47:59</td>\n",
       "      <td>2:02:42</td>\n",
       "      <td>0:04:58</td>\n",
       "      <td>-</td>\n",
       "      <td>2:09:48</td>\n",
       "      <td>2</td>\n",
       "      <td>2</td>\n",
       "      <td>2</td>\n",
       "    </tr>\n",
       "    <tr>\n",
       "      <th>2</th>\n",
       "      <td>2</td>\n",
       "      <td>8</td>\n",
       "      <td>Chebet, Wilson</td>\n",
       "      <td>29</td>\n",
       "      <td>M</td>\n",
       "      <td>Marakwet</td>\n",
       "      <td>NaN</td>\n",
       "      <td>KEN</td>\n",
       "      <td>NaN</td>\n",
       "      <td>NaN</td>\n",
       "      <td>...</td>\n",
       "      <td>1:16:07</td>\n",
       "      <td>1:32:00</td>\n",
       "      <td>1:47:59</td>\n",
       "      <td>2:03:01</td>\n",
       "      <td>0:04:59</td>\n",
       "      <td>-</td>\n",
       "      <td>2:10:22</td>\n",
       "      <td>3</td>\n",
       "      <td>3</td>\n",
       "      <td>3</td>\n",
       "    </tr>\n",
       "    <tr>\n",
       "      <th>3</th>\n",
       "      <td>3</td>\n",
       "      <td>11</td>\n",
       "      <td>Kipyego, Bernard</td>\n",
       "      <td>28</td>\n",
       "      <td>M</td>\n",
       "      <td>Eldoret</td>\n",
       "      <td>NaN</td>\n",
       "      <td>KEN</td>\n",
       "      <td>NaN</td>\n",
       "      <td>NaN</td>\n",
       "      <td>...</td>\n",
       "      <td>1:16:07</td>\n",
       "      <td>1:32:00</td>\n",
       "      <td>1:48:03</td>\n",
       "      <td>2:03:47</td>\n",
       "      <td>0:05:00</td>\n",
       "      <td>-</td>\n",
       "      <td>2:10:47</td>\n",
       "      <td>4</td>\n",
       "      <td>4</td>\n",
       "      <td>4</td>\n",
       "    </tr>\n",
       "    <tr>\n",
       "      <th>4</th>\n",
       "      <td>4</td>\n",
       "      <td>10</td>\n",
       "      <td>Korir, Wesley</td>\n",
       "      <td>32</td>\n",
       "      <td>M</td>\n",
       "      <td>Kitale</td>\n",
       "      <td>NaN</td>\n",
       "      <td>KEN</td>\n",
       "      <td>NaN</td>\n",
       "      <td>NaN</td>\n",
       "      <td>...</td>\n",
       "      <td>1:16:07</td>\n",
       "      <td>1:32:00</td>\n",
       "      <td>1:47:59</td>\n",
       "      <td>2:03:27</td>\n",
       "      <td>0:05:00</td>\n",
       "      <td>-</td>\n",
       "      <td>2:10:49</td>\n",
       "      <td>5</td>\n",
       "      <td>5</td>\n",
       "      <td>5</td>\n",
       "    </tr>\n",
       "  </tbody>\n",
       "</table>\n",
       "<p>5 rows × 25 columns</p>\n",
       "</div>"
      ],
      "text/plain": [
       "   Unnamed: 0 Bib                   Name  Age M/F         City State Country  \\\n",
       "0           0   3         Desisa, Lelisa   25   M         Ambo   NaN     ETH   \n",
       "1           1   4  Tsegay, Yemane Adhane   30   M  Addis Ababa   NaN     ETH   \n",
       "2           2   8         Chebet, Wilson   29   M     Marakwet   NaN     KEN   \n",
       "3           3  11       Kipyego, Bernard   28   M      Eldoret   NaN     KEN   \n",
       "4           4  10          Korir, Wesley   32   M       Kitale   NaN     KEN   \n",
       "\n",
       "  Citizen Unnamed: 9   ...         25K      30K      35K      40K     Pace  \\\n",
       "0     NaN        NaN   ...     1:16:07  1:32:00  1:47:59  2:02:39  0:04:56   \n",
       "1     NaN        NaN   ...     1:16:07  1:31:59  1:47:59  2:02:42  0:04:58   \n",
       "2     NaN        NaN   ...     1:16:07  1:32:00  1:47:59  2:03:01  0:04:59   \n",
       "3     NaN        NaN   ...     1:16:07  1:32:00  1:48:03  2:03:47  0:05:00   \n",
       "4     NaN        NaN   ...     1:16:07  1:32:00  1:47:59  2:03:27  0:05:00   \n",
       "\n",
       "  Proj Time Official Time Overall Gender Division  \n",
       "0         -       2:09:17       1      1        1  \n",
       "1         -       2:09:48       2      2        2  \n",
       "2         -       2:10:22       3      3        3  \n",
       "3         -       2:10:47       4      4        4  \n",
       "4         -       2:10:49       5      5        5  \n",
       "\n",
       "[5 rows x 25 columns]"
      ]
     },
     "execution_count": 12,
     "metadata": {},
     "output_type": "execute_result"
    }
   ],
   "source": [
    "data15 = pd.read_csv(\"/data/marathon/2015.csv\")\n",
    "data15.head()"
   ]
  },
  {
   "cell_type": "code",
   "execution_count": 18,
   "metadata": {
    "collapsed": false
   },
   "outputs": [
    {
     "data": {
      "text/plain": [
       "0        14.716667\n",
       "1        14.716667\n",
       "2        14.716667\n",
       "3        14.716667\n",
       "4        14.716667\n",
       "5        14.733333\n",
       "6        14.750000\n",
       "           ...    \n",
       "26591    39.866667\n",
       "26592    37.966667\n",
       "26593    50.250000\n",
       "26594    48.600000\n",
       "26595    53.050000\n",
       "26596    49.066667\n",
       "26597    40.233333\n",
       "Name: 5K, dtype: float64"
      ]
     },
     "execution_count": 18,
     "metadata": {},
     "output_type": "execute_result"
    }
   ],
   "source": [
    "def toMinutes(nums):\n",
    "    try:\n",
    "        hr = float(nums[0])*60\n",
    "        mins = float(nums[1])\n",
    "        sec = float(nums[2])/60\n",
    "        return hr+mins+sec\n",
    "    except ValueError:\n",
    "        return 0\n",
    "\n",
    "hms = data15['5K'].str.split(':', expand=True)\n",
    "data15['5K'] = (60*pd.to_numeric(hms[0], errors='coerce') + \n",
    "                pd.to_numeric(hms[1], errors='coerce') + \n",
    "                pd.to_numeric(hms[2], errors='coerce')/60)\n",
    "\n",
    "data15['5K']"
   ]
  },
  {
   "cell_type": "code",
   "execution_count": null,
   "metadata": {
    "collapsed": false
   },
   "outputs": [],
   "source": [
    "data15.head()"
   ]
  },
  {
   "cell_type": "code",
   "execution_count": null,
   "metadata": {
    "collapsed": false
   },
   "outputs": [],
   "source": [
    "## Clear 0 values from previous problem, assuming these runners did not participate in the race.\n",
    "data15 = data15[((data15['10K']==0.0)==False) & \n",
    "               ((data15['15K']==0.0)==False) & \n",
    "               ((data15['20K']==0.0)==False) & \n",
    "               ((data15['Half']==0.0)==False) & \n",
    "               ((data15['25K']==0.0)==False) & \n",
    "               ((data15['30K']==0.0)==False) & \n",
    "               ((data15['35K']==0.0)==False) & \n",
    "               ((data15['40K']==0.0)==False)]"
   ]
  },
  {
   "cell_type": "markdown",
   "metadata": {},
   "source": [
    "# Question 6\n",
    "** I accidentally deleted the question but remember what it was, output is below"
   ]
  },
  {
   "cell_type": "markdown",
   "metadata": {},
   "source": [
    "If we assumed runners paced themselves evenly, we would expect the average difference between times for the first 10K and second 10K to be 0."
   ]
  },
  {
   "cell_type": "code",
   "execution_count": null,
   "metadata": {
    "collapsed": false
   },
   "outputs": [],
   "source": [
    "data15 = pd.read_csv(\"/data/marathon/2015_clean.csv\")\n",
    "diffs = data15['20K'] - data15['10K']\n",
    "meandiff = diffs.mean()\n",
    "n = diffs.count()\n",
    "sd = diffs.std()\n",
    "\n",
    "std_err = (sd/np.sqrt(n))\n",
    "std_err, meandiff"
   ]
  },
  {
   "cell_type": "code",
   "execution_count": null,
   "metadata": {
    "collapsed": false
   },
   "outputs": [],
   "source": [
    "model = Normal(mean=0, sd=std_err)\n",
    "simDiffs = RV(model)\n",
    "sims = simDiffs.sim(5000)\n",
    "sims.plot()"
   ]
  },
  {
   "cell_type": "code",
   "execution_count": null,
   "metadata": {
    "collapsed": false
   },
   "outputs": [],
   "source": [
    "sims.count_geq(meandiff)"
   ]
  },
  {
   "cell_type": "markdown",
   "metadata": {},
   "source": [
    "If we assume runners pace themselves evenly throughout the race, we have to accept that a 0 in 5000 event just occured (impossible). Therefore, with our small p-value of 0, we can conclude that on average, runners do not truly pace themselves evenly throughout the first and second 10K."
   ]
  },
  {
   "cell_type": "markdown",
   "metadata": {},
   "source": [
    "## Question 7 (10 points)\n",
    "\n",
    "Let's look at how people's marathon times changed between 2010 and 2015. To do this, we need to identify runners who competed in both the 2010 and 2015 marathons.\n",
    "\n",
    "One way to do this is to inner join the two data sets on the _name_ of the runner. What potential **major problem** do you see with this approach? Then, write code to check whether this is a problem for this data set and summarize your findings."
   ]
  },
  {
   "cell_type": "markdown",
   "metadata": {},
   "source": [
    "_EXPLAIN THE POTENTIAL PROBLEM HERE._"
   ]
  },
  {
   "cell_type": "code",
   "execution_count": null,
   "metadata": {
    "collapsed": false
   },
   "outputs": [],
   "source": [
    "data15 = pd.read_csv(\"/data/marathon/2015_clean.csv\")\n",
    "data10 = pd.read_csv(\"/data/marathon/2010.csv\")\n",
    "data10.head()"
   ]
  },
  {
   "cell_type": "code",
   "execution_count": null,
   "metadata": {
    "collapsed": false
   },
   "outputs": [],
   "source": [
    "data10[\"Name\"] = data10[\"name\"]\n",
    "data10 = data10.drop(\"name\", axis=1)"
   ]
  },
  {
   "cell_type": "code",
   "execution_count": null,
   "metadata": {
    "collapsed": false
   },
   "outputs": [],
   "source": [
    "data_merged = data15.merge(data10, how='inner', on=[\"Name\"])\n",
    "data_merged.head()"
   ]
  },
  {
   "cell_type": "markdown",
   "metadata": {},
   "source": [
    "The underlying issue was that the \"name\" column for the 2015 data was capitalized but it was not capitalized for 2010. To resolve this issue, I made a new column in 2010 with a capitalzed title \"Name\" and then removed the original, non-capital column. After this, merging was successful."
   ]
  },
  {
   "cell_type": "markdown",
   "metadata": {},
   "source": [
    "## Question 8 (10 points)\n",
    "\n",
    "Construct a data frame consisting only of people who ran in both the 2010 and 2015 marathons. (You'll need some way to deal with the problem you identified in Question 7.)\n",
    "\n",
    "- What percentage of people ran the marathon faster in 2015 than in 2010?\n",
    "- Make a plot showing the percentage of people who ran faster in 2015 _as a function of their age (in 2010)_. Summarize the trend that you see."
   ]
  },
  {
   "cell_type": "code",
   "execution_count": null,
   "metadata": {
    "collapsed": false
   },
   "outputs": [],
   "source": [
    "data_merged = data_merged[((data_merged['official']==0)==False) & ((data_merged['Official Time']==0)==False)]"
   ]
  },
  {
   "cell_type": "code",
   "execution_count": null,
   "metadata": {
    "collapsed": false
   },
   "outputs": [],
   "source": [
    "len(data_merged[data_merged['official']<data_merged['Official Time']])/len(data_merged)"
   ]
  },
  {
   "cell_type": "code",
   "execution_count": null,
   "metadata": {
    "collapsed": false
   },
   "outputs": [],
   "source": [
    "dataFaster = data_merged[data_merged['official']<data_merged['Official Time']]\n",
    "Chart(dataFaster), mark_circle(), encode(\n",
    "    x='age',\n",
    "    y='Official Time')"
   ]
  },
  {
   "cell_type": "markdown",
   "metadata": {},
   "source": [
    "63.7% of runners ran the marathon faster in 2015 than in 2010."
   ]
  }
 ],
 "metadata": {
  "kernelspec": {
   "display_name": "Python 3",
   "language": "python",
   "name": "python3"
  },
  "language_info": {
   "codemirror_mode": {
    "name": "ipython",
    "version": 3
   },
   "file_extension": ".py",
   "mimetype": "text/x-python",
   "name": "python",
   "nbconvert_exporter": "python",
   "pygments_lexer": "ipython3",
   "version": "3.5.2"
  }
 },
 "nbformat": 4,
 "nbformat_minor": 2
}
