{
 "cells": [
  {
   "cell_type": "markdown",
   "metadata": {},
   "source": [
    "# Netflix Roulette\n",
    "\n",
    "In this part, you will use a REST API to query from the database underlying [Netflix Roulette](http://netflixroulette.net/). This API allows us to query information about movies, directors, and actors (although it is limited to movies that are currently on Netflix).\n",
    "\n",
    "Documentation for the API can be found [here](http://netflixroulette.net/api/)."
   ]
  },
  {
   "cell_type": "code",
   "execution_count": null,
   "metadata": {
    "collapsed": true
   },
   "outputs": [],
   "source": [
    "import numpy as np\n",
    "import pandas as pd\n",
    "\n",
    "import requests"
   ]
  },
  {
   "cell_type": "markdown",
   "metadata": {},
   "source": [
    "## Question 1 (10 points)\n",
    "\n",
    "What is the longest movie, in terms of runtime, that Anthony Hopkins has acted in (among movies currently on Netflix)?"
   ]
  },
  {
   "cell_type": "code",
   "execution_count": null,
   "metadata": {
    "collapsed": true
   },
   "outputs": [],
   "source": [
    "# YOUR CODE HERE. (It should output the answer.)"
   ]
  },
  {
   "cell_type": "markdown",
   "metadata": {},
   "source": [
    "## Question 2 (10 points)\n",
    "\n",
    "Create a data frame of movies directed by Woody Allen that are currently showing on Netflix. The `show_cast` field is a repeated field. Flatten the data frame at the `show_cast` level so that there is one row per actor. Use this flattened data frame to answer the question: which actor (or actress) has worked with Woody Allen the most times?"
   ]
  },
  {
   "cell_type": "code",
   "execution_count": null,
   "metadata": {
    "collapsed": true
   },
   "outputs": [],
   "source": [
    "# YOUR CODE HERE. (It should output the answer.)"
   ]
  },
  {
   "cell_type": "markdown",
   "metadata": {},
   "source": [
    "## Question 3 (10 points)\n",
    "\n",
    "_Two Degrees of Kevin Bacon_. \n",
    "\n",
    "We can quantify how \"separated\" two actors are, as follows. Suppose actor A appeared in a movie with actor B, and actor B appeared in a movie with actor C. Then we say that:\n",
    "- B is 1 degree removed from A.\n",
    "- C is 2 degrees removed from A.\n",
    "\n",
    "Find all actors who are 1 or 2 degrees removed from the actor Kevin Bacon. How many (distinct) actors are there?\n",
    "\n",
    "_Note:_ You should be vigilant about making too many API calls."
   ]
  },
  {
   "cell_type": "code",
   "execution_count": null,
   "metadata": {
    "collapsed": false
   },
   "outputs": [],
   "source": [
    "# YOUR CODE HERE. (It should output the answer.)"
   ]
  }
 ],
 "metadata": {
  "kernelspec": {
   "display_name": "Python 3",
   "language": "python",
   "name": "python3"
  },
  "language_info": {
   "codemirror_mode": {
    "name": "ipython",
    "version": 3
   },
   "file_extension": ".py",
   "mimetype": "text/x-python",
   "name": "python",
   "nbconvert_exporter": "python",
   "pygments_lexer": "ipython3",
   "version": "3.5.2"
  }
 },
 "nbformat": 4,
 "nbformat_minor": 2
}
