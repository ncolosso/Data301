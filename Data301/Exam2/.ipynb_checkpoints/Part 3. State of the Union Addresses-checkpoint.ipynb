{
 "cells": [
  {
   "cell_type": "markdown",
   "metadata": {
    "collapsed": true
   },
   "source": [
    "# State of the Union Addresses\n",
    "\n",
    "The U.S. Constitution requires that the President inform Congress of the \"state of the union\" from time to time.  In recent years, the President has delivered the State of the Union address as a speech to Congress, although for much of U.S. history, the \"address\" was actually a written letter to Congress.\n",
    "\n",
    "The directory `/data/sotu/` contains the texts of every State of the Union address dating back to George Washington's first address in 1790."
   ]
  },
  {
   "cell_type": "code",
   "execution_count": null,
   "metadata": {
    "collapsed": true
   },
   "outputs": [],
   "source": [
    "import numpy as np\n",
    "import pandas as pd"
   ]
  },
  {
   "cell_type": "code",
   "execution_count": null,
   "metadata": {
    "collapsed": false
   },
   "outputs": [],
   "source": [
    "!ls /data/sotu/"
   ]
  },
  {
   "cell_type": "markdown",
   "metadata": {},
   "source": [
    "## Question 1 (10 points)\n",
    "\n",
    "Treating each State of the Union Address from 1790-2016 as a \"document\", create a data frame `tf` of term-frequencies (TF) for all words that appear at least 10 times in the corpus. Be sure to normalize the words for capitalization and punctuation. \n",
    "\n",
    "**Note:** If you did this correctly, you should end up with fewer than 10,000 unique words."
   ]
  },
  {
   "cell_type": "code",
   "execution_count": null,
   "metadata": {
    "collapsed": true
   },
   "outputs": [],
   "source": [
    "# CREATE A DATA FRAME OF TERM FREQUENCIES\n",
    "tf = None"
   ]
  },
  {
   "cell_type": "markdown",
   "metadata": {},
   "source": [
    "## Question 2 (10 points)\n",
    "\n",
    "- Create a data frame `tf_idf` of TF-IDF weights for this corpus, using the `tf` data frame you created in Question 1.\n",
    "- Using your TF-IDF matrix (or your IDF vector), determine which words have appeared in every State of the Union address."
   ]
  },
  {
   "cell_type": "code",
   "execution_count": null,
   "metadata": {
    "collapsed": false
   },
   "outputs": [],
   "source": [
    "# CREATE A DATA FRAME OF TF-IDF WEIGHTS\n",
    "tf_idf = None"
   ]
  },
  {
   "cell_type": "markdown",
   "metadata": {},
   "source": [
    "## Question 3 (10 points)\n",
    "\n",
    "Using cosine similarity between the TF-IDF vectors, determine the State of the Union address (1790-2016) that most closely resembles Donald Trump's 2017 address (`/data/sotu/2017.txt`). Which president delivered that address?\n",
    "\n",
    "_Hint:_ You may find [this website](http://www.presidency.ucsb.edu/sou.php) helpful for answering the last part."
   ]
  },
  {
   "cell_type": "code",
   "execution_count": null,
   "metadata": {
    "collapsed": true
   },
   "outputs": [],
   "source": [
    "# YOUR CODE HERE."
   ]
  },
  {
   "cell_type": "markdown",
   "metadata": {},
   "source": [
    "_YOUR WRITTEN EXPLANATION HERE._"
   ]
  }
 ],
 "metadata": {
  "kernelspec": {
   "display_name": "Python 3",
   "language": "python",
   "name": "python3"
  },
  "language_info": {
   "codemirror_mode": {
    "name": "ipython",
    "version": 3
   },
   "file_extension": ".py",
   "mimetype": "text/x-python",
   "name": "python",
   "nbconvert_exporter": "python",
   "pygments_lexer": "ipython3",
   "version": "3.5.2"
  }
 },
 "nbformat": 4,
 "nbformat_minor": 2
}
