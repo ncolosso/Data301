{
 "cells": [
  {
   "cell_type": "markdown",
   "metadata": {},
   "source": [
    "# Exam 2\n",
    "## DATA 301 Spring 2017"
   ]
  },
  {
   "cell_type": "markdown",
   "metadata": {},
   "source": [
    "## Instructions\n",
    "\n",
    "You are to work on this exam with an assigned partner, unless you have made prior arrangements with an instructor. Please speak to an instructor if you do not know who your assigned partner is.\n",
    "\n",
    "In the past, students have found a \"pair programming\" strategy to be effective: one partner codes, while the other partner supports. The supporting partner also has a Jupyter notebook open and helps out by testing out code, looking up documentation, and offering coding advice. The two partners swap roles every 30 minutes or so.\n",
    "\n",
    "At the end of class, only _one_ of you will submit the exam. So please make sure that you write all of your code under one account. That is, you should physically switch computers if you and your partner decide to swap roles."
   ]
  },
  {
   "cell_type": "markdown",
   "metadata": {},
   "source": [
    "Please enter the __Github__ (NOT Cal Poly) username of your partner below:"
   ]
  },
  {
   "cell_type": "code",
   "execution_count": null,
   "metadata": {
    "collapsed": true
   },
   "outputs": [],
   "source": [
    "partner = \"\""
   ]
  },
  {
   "cell_type": "markdown",
   "metadata": {},
   "source": [
    "## Introduction\n",
    "\n",
    "This exam consists of 3 disjoint parts, which can be done in any order:\n",
    "\n",
    "1. Vehicles Per Capita (20 points)\n",
    "2. Netflix Roulette (30 points)\n",
    "3. State of the Union Addresses (30 points)\n",
    "\n",
    "The exam is worth a total of 80 points. You and your partner will have 100 minutes to complete the exam. Do not begin the exam until given the signal to do so.\n",
    "\n",
    "Please sign the honesty pledge below. Your exam will not be graded unless both you _and your partner_ sign below."
   ]
  },
  {
   "cell_type": "markdown",
   "metadata": {},
   "source": [
    "## Honesty Pledge\n",
    "\n",
    "This exam is open-Internet. We understand that we are allowed to use any existing resources on the web, including web search, but we are not to consult with anyone else during this exam. Giving and receiving help are both forbidden and will be prosecuted equally.\n",
    "\n",
    "We understand that the penalty for violating this pledge is a grade of **F** in the course and disciplinary action by the Office of Student Rights & Responsibilities."
   ]
  },
  {
   "cell_type": "markdown",
   "metadata": {},
   "source": [
    "__YOUR SIGNATURE HERE__"
   ]
  },
  {
   "cell_type": "markdown",
   "metadata": {},
   "source": [
    "__PARTNER'S SIGNATURE HERE__"
   ]
  }
 ],
 "metadata": {
  "kernelspec": {
   "display_name": "Python 3",
   "language": "python",
   "name": "python3"
  },
  "language_info": {
   "codemirror_mode": {
    "name": "ipython",
    "version": 3
   },
   "file_extension": ".py",
   "mimetype": "text/x-python",
   "name": "python",
   "nbconvert_exporter": "python",
   "pygments_lexer": "ipython3",
   "version": "3.5.2"
  }
 },
 "nbformat": 4,
 "nbformat_minor": 2
}
