{
 "cells": [
  {
   "cell_type": "markdown",
   "metadata": {},
   "source": [
    "# Vehicles Per Capita (20 points)\n",
    "\n",
    "Data about the number of vehicles per 1000 people can be found in `/data/vehicles.csv`. Your task is to create an appropriate map to visualize this data. (It is up to you to decide whether a dot map or a choropleth is more appropriate here.)\n",
    "\n",
    "Here are some other resources which may or may not be helpful to you:\n",
    "\n",
    "- The data set `/data/vehicles.csv` not only contains information about the number of vehicles in each state, but also the capital of each state and the latitude and longitude of the capital.\n",
    "- Shapefiles for counties can be found in `/data/cb_2016_us_county_20m/cb_2016_us_county_20m.*`.\n",
    "- Shapefiles for states can be found in `/data/cb_2016_us_state_20m/cb_2016_us_state_20m.*`.\n",
    "\n",
    "_Note:_ It's okay to leave out Alaska and Hawaii from your map."
   ]
  },
  {
   "cell_type": "code",
   "execution_count": null,
   "metadata": {
    "collapsed": false
   },
   "outputs": [],
   "source": [
    "import pandas as pd\n",
    "\n",
    "import matplotlib.pyplot as plt\n",
    "from mpl_toolkits.basemap import Basemap\n",
    "%matplotlib inline"
   ]
  },
  {
   "cell_type": "code",
   "execution_count": null,
   "metadata": {
    "collapsed": true
   },
   "outputs": [],
   "source": [
    "# YOUR CODE HERE."
   ]
  }
 ],
 "metadata": {
  "kernelspec": {
   "display_name": "Python 3",
   "language": "python",
   "name": "python3"
  },
  "language_info": {
   "codemirror_mode": {
    "name": "ipython",
    "version": 3
   },
   "file_extension": ".py",
   "mimetype": "text/x-python",
   "name": "python",
   "nbconvert_exporter": "python",
   "pygments_lexer": "ipython3",
   "version": "3.5.2"
  }
 },
 "nbformat": 4,
 "nbformat_minor": 2
}
