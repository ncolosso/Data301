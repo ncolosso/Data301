{
 "cells": [
  {
   "cell_type": "markdown",
   "metadata": {},
   "source": [
    "# Netflix Roulette\n",
    "\n",
    "In this part, you will use a REST API to query from the database underlying [Netflix Roulette](http://netflixroulette.net/). This API allows us to query information about movies, directors, and actors (although it is limited to movies that are currently on Netflix).\n",
    "\n",
    "Documentation for the API can be found [here](http://netflixroulette.net/api/)."
   ]
  },
  {
   "cell_type": "code",
   "execution_count": 1,
   "metadata": {
    "collapsed": true
   },
   "outputs": [],
   "source": [
    "import numpy as np\n",
    "import pandas as pd\n",
    "\n",
    "import requests"
   ]
  },
  {
   "cell_type": "markdown",
   "metadata": {},
   "source": [
    "## Question 1 (10 points)\n",
    "\n",
    "What is the longest movie, in terms of runtime, that Anthony Hopkins has acted in (among movies currently on Netflix)?"
   ]
  },
  {
   "cell_type": "code",
   "execution_count": 2,
   "metadata": {
    "collapsed": false
   },
   "outputs": [],
   "source": [
    "# YOUR CODE HERE. (It should output the answer.)\n",
    "resp = requests.get(\"http://netflixroulette.net/api/api.php?actor=Anthony%20Hopkins\")\n",
    "Hopkins_movies = resp.json()"
   ]
  },
  {
   "cell_type": "code",
   "execution_count": 3,
   "metadata": {
    "collapsed": false
   },
   "outputs": [],
   "source": [
    "movie_lengths = []\n",
    "for movie in Hopkins_movies:\n",
    "    movie_lengths.append([movie['show_title'], movie['runtime'].replace(\" min\",\"\")])"
   ]
  },
  {
   "cell_type": "code",
   "execution_count": 4,
   "metadata": {
    "collapsed": false
   },
   "outputs": [],
   "source": [
    "df = pd.DataFrame(movie_lengths)"
   ]
  },
  {
   "cell_type": "code",
   "execution_count": 5,
   "metadata": {
    "collapsed": false
   },
   "outputs": [
    {
     "data": {
      "text/html": [
       "<div>\n",
       "<table border=\"1\" class=\"dataframe\">\n",
       "  <thead>\n",
       "    <tr style=\"text-align: right;\">\n",
       "      <th></th>\n",
       "      <th>Title</th>\n",
       "      <th>Runtime</th>\n",
       "    </tr>\n",
       "  </thead>\n",
       "  <tbody>\n",
       "    <tr>\n",
       "      <th>0</th>\n",
       "      <td>The Human Stain</td>\n",
       "      <td>106.0</td>\n",
       "    </tr>\n",
       "    <tr>\n",
       "      <th>1</th>\n",
       "      <td>Bram Stoker's Dracula</td>\n",
       "      <td>100.0</td>\n",
       "    </tr>\n",
       "    <tr>\n",
       "      <th>2</th>\n",
       "      <td>Amistad</td>\n",
       "      <td>155.0</td>\n",
       "    </tr>\n",
       "    <tr>\n",
       "      <th>3</th>\n",
       "      <td>The Silence of the Lambs</td>\n",
       "      <td>118.0</td>\n",
       "    </tr>\n",
       "    <tr>\n",
       "      <th>4</th>\n",
       "      <td>The World's Fastest Indian</td>\n",
       "      <td>127.0</td>\n",
       "    </tr>\n",
       "  </tbody>\n",
       "</table>\n",
       "</div>"
      ],
      "text/plain": [
       "                        Title  Runtime\n",
       "0             The Human Stain    106.0\n",
       "1       Bram Stoker's Dracula    100.0\n",
       "2                     Amistad    155.0\n",
       "3    The Silence of the Lambs    118.0\n",
       "4  The World's Fastest Indian    127.0"
      ]
     },
     "execution_count": 5,
     "metadata": {},
     "output_type": "execute_result"
    }
   ],
   "source": [
    "df.columns = ['Title', 'Runtime']\n",
    "df['Runtime'] = pd.to_numeric(df['Runtime'], errors='coerce')\n",
    "df.head()"
   ]
  },
  {
   "cell_type": "code",
   "execution_count": 6,
   "metadata": {
    "collapsed": false
   },
   "outputs": [
    {
     "data": {
      "text/html": [
       "<div>\n",
       "<table border=\"1\" class=\"dataframe\">\n",
       "  <thead>\n",
       "    <tr style=\"text-align: right;\">\n",
       "      <th></th>\n",
       "      <th>Title</th>\n",
       "      <th>Runtime</th>\n",
       "    </tr>\n",
       "  </thead>\n",
       "  <tbody>\n",
       "    <tr>\n",
       "      <th>2</th>\n",
       "      <td>Amistad</td>\n",
       "      <td>155.0</td>\n",
       "    </tr>\n",
       "  </tbody>\n",
       "</table>\n",
       "</div>"
      ],
      "text/plain": [
       "     Title  Runtime\n",
       "2  Amistad    155.0"
      ]
     },
     "execution_count": 6,
     "metadata": {},
     "output_type": "execute_result"
    }
   ],
   "source": [
    "df[df['Runtime'] == df['Runtime'].max()]"
   ]
  },
  {
   "cell_type": "markdown",
   "metadata": {},
   "source": [
    "## Question 2 (10 points)\n",
    "\n",
    "Create a data frame of movies directed by Woody Allen that are currently showing on Netflix. The `show_cast` field is a repeated field. Flatten the data frame at the `show_cast` level so that there is one row per actor. Use this flattened data frame to answer the question: which actor (or actress) has worked with Woody Allen the most times?"
   ]
  },
  {
   "cell_type": "code",
   "execution_count": 7,
   "metadata": {
    "collapsed": false
   },
   "outputs": [],
   "source": [
    "# YOUR CODE HERE. (It should output the answer.)\n",
    "resp = requests.get(\"http://netflixroulette.net/api/api.php?director=Woody%20Allen\")\n",
    "woody_movies = resp.json()"
   ]
  },
  {
   "cell_type": "code",
   "execution_count": 8,
   "metadata": {
    "collapsed": false
   },
   "outputs": [
    {
     "data": {
      "text/html": [
       "<div>\n",
       "<table border=\"1\" class=\"dataframe\">\n",
       "  <thead>\n",
       "    <tr style=\"text-align: right;\">\n",
       "      <th></th>\n",
       "      <th>category</th>\n",
       "      <th>director</th>\n",
       "      <th>mediatype</th>\n",
       "      <th>poster</th>\n",
       "      <th>rating</th>\n",
       "      <th>release_year</th>\n",
       "      <th>runtime</th>\n",
       "      <th>show_cast</th>\n",
       "      <th>show_id</th>\n",
       "      <th>show_title</th>\n",
       "      <th>summary</th>\n",
       "      <th>unit</th>\n",
       "    </tr>\n",
       "  </thead>\n",
       "  <tbody>\n",
       "    <tr>\n",
       "      <th>0</th>\n",
       "      <td>Comedies</td>\n",
       "      <td>Woody Allen</td>\n",
       "      <td>0</td>\n",
       "      <td>http://netflixroulette.net/api/posters/7005166...</td>\n",
       "      <td>3.0</td>\n",
       "      <td>2006</td>\n",
       "      <td>96 min</td>\n",
       "      <td>Woody Allen, Scarlett Johansson, Hugh Jackman,...</td>\n",
       "      <td>70051665</td>\n",
       "      <td>Scoop</td>\n",
       "      <td>While visiting friends in London, an American ...</td>\n",
       "      <td>192</td>\n",
       "    </tr>\n",
       "    <tr>\n",
       "      <th>1</th>\n",
       "      <td>Classic Movies</td>\n",
       "      <td>Woody Allen</td>\n",
       "      <td>0</td>\n",
       "      <td>http://netflixroulette.net/api/posters/6000126...</td>\n",
       "      <td>3.7</td>\n",
       "      <td>1979</td>\n",
       "      <td>96 min</td>\n",
       "      <td>Woody Allen, Diane Keaton, Michael Murphy, Mer...</td>\n",
       "      <td>60001266</td>\n",
       "      <td>Manhattan</td>\n",
       "      <td>In this insightful slice of life, television w...</td>\n",
       "      <td>4898</td>\n",
       "    </tr>\n",
       "    <tr>\n",
       "      <th>2</th>\n",
       "      <td>Classic Movies</td>\n",
       "      <td>Woody Allen</td>\n",
       "      <td>0</td>\n",
       "      <td>http://netflixroulette.net/api/posters/261909.jpg</td>\n",
       "      <td>3.4</td>\n",
       "      <td>1977</td>\n",
       "      <td>N/A</td>\n",
       "      <td>Woody Allen, Diane Keaton, Tony Roberts, Carol...</td>\n",
       "      <td>261909</td>\n",
       "      <td>Annie Hall</td>\n",
       "      <td>Diane Keaton and Woody Allen star in this Osca...</td>\n",
       "      <td>8472</td>\n",
       "    </tr>\n",
       "    <tr>\n",
       "      <th>3</th>\n",
       "      <td>Independent Movies</td>\n",
       "      <td>Woody Allen</td>\n",
       "      <td>0</td>\n",
       "      <td>http://netflixroulette.net/api/posters/6002065...</td>\n",
       "      <td>3.1</td>\n",
       "      <td>1987</td>\n",
       "      <td>N/A</td>\n",
       "      <td>Denholm Elliott, Dianne Wiest, Mia Farrow, Ela...</td>\n",
       "      <td>60020654</td>\n",
       "      <td>September</td>\n",
       "      <td>Mia Farrow shines as Lane, a woman trying to r...</td>\n",
       "      <td>17448</td>\n",
       "    </tr>\n",
       "    <tr>\n",
       "      <th>4</th>\n",
       "      <td>Independent Movies</td>\n",
       "      <td>Woody Allen</td>\n",
       "      <td>0</td>\n",
       "      <td>http://netflixroulette.net/api/posters/6000120...</td>\n",
       "      <td>3.4</td>\n",
       "      <td>1978</td>\n",
       "      <td>N/A</td>\n",
       "      <td>Diane Keaton, Kristin Griffith, Geraldine Page...</td>\n",
       "      <td>60001207</td>\n",
       "      <td>Interiors</td>\n",
       "      <td>The disintegration of an upper-class couple's ...</td>\n",
       "      <td>17454</td>\n",
       "    </tr>\n",
       "    <tr>\n",
       "      <th>5</th>\n",
       "      <td>Romantic Movies</td>\n",
       "      <td>Woody Allen</td>\n",
       "      <td>0</td>\n",
       "      <td>http://netflixroulette.net/api/posters/6002028...</td>\n",
       "      <td>3.2</td>\n",
       "      <td>1990</td>\n",
       "      <td>N/A</td>\n",
       "      <td>Mia Farrow, Joe Mantegna, Alec Baldwin, Blythe...</td>\n",
       "      <td>60020281</td>\n",
       "      <td>Alice</td>\n",
       "      <td>A woman finds herself falling out of love with...</td>\n",
       "      <td>17484</td>\n",
       "    </tr>\n",
       "    <tr>\n",
       "      <th>6</th>\n",
       "      <td>Independent Movies</td>\n",
       "      <td>Woody Allen</td>\n",
       "      <td>0</td>\n",
       "      <td>http://netflixroulette.net/api/posters/6002065...</td>\n",
       "      <td>3.2</td>\n",
       "      <td>1992</td>\n",
       "      <td>N/A</td>\n",
       "      <td>Michael Kirby, Woody Allen, David Ogden Stiers...</td>\n",
       "      <td>60020658</td>\n",
       "      <td>Shadows and Fog</td>\n",
       "      <td>Writer-director Woody Allen stars as Max Klein...</td>\n",
       "      <td>17485</td>\n",
       "    </tr>\n",
       "    <tr>\n",
       "      <th>7</th>\n",
       "      <td>Romantic Movies</td>\n",
       "      <td>Woody Allen</td>\n",
       "      <td>0</td>\n",
       "      <td>http://netflixroulette.net/api/posters/6002158...</td>\n",
       "      <td>3.3</td>\n",
       "      <td>1982</td>\n",
       "      <td>N/A</td>\n",
       "      <td>Woody Allen, Mia Farrow, Tony Roberts, Mary St...</td>\n",
       "      <td>60021585</td>\n",
       "      <td>A Midsummer Night's Sex Comedy</td>\n",
       "      <td>While gathered for a party at the country home...</td>\n",
       "      <td>17487</td>\n",
       "    </tr>\n",
       "    <tr>\n",
       "      <th>8</th>\n",
       "      <td>Romantic Movies</td>\n",
       "      <td>Woody Allen</td>\n",
       "      <td>0</td>\n",
       "      <td>http://netflixroulette.net/api/posters/6000121...</td>\n",
       "      <td>3.4</td>\n",
       "      <td>1980</td>\n",
       "      <td>N/A</td>\n",
       "      <td>Woody Allen, Charlotte Rampling, Jessica Harpe...</td>\n",
       "      <td>60001210</td>\n",
       "      <td>Stardust Memories</td>\n",
       "      <td>Woody Allen plays a successful filmmaker who a...</td>\n",
       "      <td>17493</td>\n",
       "    </tr>\n",
       "    <tr>\n",
       "      <th>9</th>\n",
       "      <td>Romantic Movies</td>\n",
       "      <td>Woody Allen</td>\n",
       "      <td>0</td>\n",
       "      <td>http://netflixroulette.net/api/posters/6001131...</td>\n",
       "      <td>3.5</td>\n",
       "      <td>1985</td>\n",
       "      <td>N/A</td>\n",
       "      <td>Mia Farrow, Jeff Daniels, Danny Aiello, Dianne...</td>\n",
       "      <td>60011316</td>\n",
       "      <td>The Purple Rose of Cairo</td>\n",
       "      <td>A woman seeking escape from her job and abusiv...</td>\n",
       "      <td>17494</td>\n",
       "    </tr>\n",
       "    <tr>\n",
       "      <th>10</th>\n",
       "      <td>Independent Movies</td>\n",
       "      <td>Woody Allen</td>\n",
       "      <td>0</td>\n",
       "      <td>http://netflixroulette.net/api/posters/6001080...</td>\n",
       "      <td>3.6</td>\n",
       "      <td>1987</td>\n",
       "      <td>N/A</td>\n",
       "      <td>Mia Farrow, Julie Kavner, Dianne Wiest, Tony R...</td>\n",
       "      <td>60010809</td>\n",
       "      <td>Radio Days</td>\n",
       "      <td>Told through vignettes, director Woody Allen's...</td>\n",
       "      <td>17497</td>\n",
       "    </tr>\n",
       "    <tr>\n",
       "      <th>11</th>\n",
       "      <td>Comedies</td>\n",
       "      <td>Woody Allen</td>\n",
       "      <td>0</td>\n",
       "      <td>http://netflixroulette.net/api/posters/6001161...</td>\n",
       "      <td>3.5</td>\n",
       "      <td>1983</td>\n",
       "      <td>N/A</td>\n",
       "      <td>Woody Allen, Mia Farrow, John Buckwalter, Marv...</td>\n",
       "      <td>60011615</td>\n",
       "      <td>Zelig</td>\n",
       "      <td>A man claims he can transform himself into any...</td>\n",
       "      <td>17498</td>\n",
       "    </tr>\n",
       "    <tr>\n",
       "      <th>12</th>\n",
       "      <td>Comedies</td>\n",
       "      <td>Woody Allen</td>\n",
       "      <td>0</td>\n",
       "      <td>http://netflixroulette.net/api/posters/6000120...</td>\n",
       "      <td>3.3</td>\n",
       "      <td>1972</td>\n",
       "      <td>N/A</td>\n",
       "      <td>Woody Allen, John Carradine, Lou Jacobi, Louis...</td>\n",
       "      <td>60001205</td>\n",
       "      <td>Everything You Always Wanted to Know About Sex...</td>\n",
       "      <td>Questions from Dr. David Reuben's once-controv...</td>\n",
       "      <td>17504</td>\n",
       "    </tr>\n",
       "    <tr>\n",
       "      <th>13</th>\n",
       "      <td>Comedies</td>\n",
       "      <td>Woody Allen</td>\n",
       "      <td>0</td>\n",
       "      <td>http://netflixroulette.net/api/posters/6000120...</td>\n",
       "      <td>3.4</td>\n",
       "      <td>1971</td>\n",
       "      <td>N/A</td>\n",
       "      <td>Woody Allen, Louise Lasser, Carlos Montalban, ...</td>\n",
       "      <td>60001204</td>\n",
       "      <td>Bananas</td>\n",
       "      <td>A neurotic nebbish follows his dream girl to a...</td>\n",
       "      <td>17506</td>\n",
       "    </tr>\n",
       "    <tr>\n",
       "      <th>14</th>\n",
       "      <td>Sci-Fi &amp; Fantasy</td>\n",
       "      <td>Woody Allen</td>\n",
       "      <td>0</td>\n",
       "      <td>http://netflixroulette.net/api/posters/6000120...</td>\n",
       "      <td>3.5</td>\n",
       "      <td>1973</td>\n",
       "      <td>N/A</td>\n",
       "      <td>Woody Allen, Diane Keaton, John Beck, Howard C...</td>\n",
       "      <td>60001209</td>\n",
       "      <td>Sleeper</td>\n",
       "      <td>Health-food store owner Miles Monro bites the ...</td>\n",
       "      <td>17508</td>\n",
       "    </tr>\n",
       "    <tr>\n",
       "      <th>15</th>\n",
       "      <td>Comedies</td>\n",
       "      <td>Woody Allen</td>\n",
       "      <td>0</td>\n",
       "      <td>http://netflixroulette.net/api/posters/6000120...</td>\n",
       "      <td>3.6</td>\n",
       "      <td>1975</td>\n",
       "      <td>N/A</td>\n",
       "      <td>Woody Allen, Diane Keaton, Georges Adet, Frank...</td>\n",
       "      <td>60001208</td>\n",
       "      <td>Love and Death</td>\n",
       "      <td>In this spoof of 19th-century Russian literatu...</td>\n",
       "      <td>17511</td>\n",
       "    </tr>\n",
       "  </tbody>\n",
       "</table>\n",
       "</div>"
      ],
      "text/plain": [
       "              category     director  mediatype  \\\n",
       "0             Comedies  Woody Allen          0   \n",
       "1       Classic Movies  Woody Allen          0   \n",
       "2       Classic Movies  Woody Allen          0   \n",
       "3   Independent Movies  Woody Allen          0   \n",
       "4   Independent Movies  Woody Allen          0   \n",
       "5      Romantic Movies  Woody Allen          0   \n",
       "6   Independent Movies  Woody Allen          0   \n",
       "7      Romantic Movies  Woody Allen          0   \n",
       "8      Romantic Movies  Woody Allen          0   \n",
       "9      Romantic Movies  Woody Allen          0   \n",
       "10  Independent Movies  Woody Allen          0   \n",
       "11            Comedies  Woody Allen          0   \n",
       "12            Comedies  Woody Allen          0   \n",
       "13            Comedies  Woody Allen          0   \n",
       "14    Sci-Fi & Fantasy  Woody Allen          0   \n",
       "15            Comedies  Woody Allen          0   \n",
       "\n",
       "                                               poster rating release_year  \\\n",
       "0   http://netflixroulette.net/api/posters/7005166...    3.0         2006   \n",
       "1   http://netflixroulette.net/api/posters/6000126...    3.7         1979   \n",
       "2   http://netflixroulette.net/api/posters/261909.jpg    3.4         1977   \n",
       "3   http://netflixroulette.net/api/posters/6002065...    3.1         1987   \n",
       "4   http://netflixroulette.net/api/posters/6000120...    3.4         1978   \n",
       "5   http://netflixroulette.net/api/posters/6002028...    3.2         1990   \n",
       "6   http://netflixroulette.net/api/posters/6002065...    3.2         1992   \n",
       "7   http://netflixroulette.net/api/posters/6002158...    3.3         1982   \n",
       "8   http://netflixroulette.net/api/posters/6000121...    3.4         1980   \n",
       "9   http://netflixroulette.net/api/posters/6001131...    3.5         1985   \n",
       "10  http://netflixroulette.net/api/posters/6001080...    3.6         1987   \n",
       "11  http://netflixroulette.net/api/posters/6001161...    3.5         1983   \n",
       "12  http://netflixroulette.net/api/posters/6000120...    3.3         1972   \n",
       "13  http://netflixroulette.net/api/posters/6000120...    3.4         1971   \n",
       "14  http://netflixroulette.net/api/posters/6000120...    3.5         1973   \n",
       "15  http://netflixroulette.net/api/posters/6000120...    3.6         1975   \n",
       "\n",
       "   runtime                                          show_cast   show_id  \\\n",
       "0   96 min  Woody Allen, Scarlett Johansson, Hugh Jackman,...  70051665   \n",
       "1   96 min  Woody Allen, Diane Keaton, Michael Murphy, Mer...  60001266   \n",
       "2      N/A  Woody Allen, Diane Keaton, Tony Roberts, Carol...    261909   \n",
       "3      N/A  Denholm Elliott, Dianne Wiest, Mia Farrow, Ela...  60020654   \n",
       "4      N/A  Diane Keaton, Kristin Griffith, Geraldine Page...  60001207   \n",
       "5      N/A  Mia Farrow, Joe Mantegna, Alec Baldwin, Blythe...  60020281   \n",
       "6      N/A  Michael Kirby, Woody Allen, David Ogden Stiers...  60020658   \n",
       "7      N/A  Woody Allen, Mia Farrow, Tony Roberts, Mary St...  60021585   \n",
       "8      N/A  Woody Allen, Charlotte Rampling, Jessica Harpe...  60001210   \n",
       "9      N/A  Mia Farrow, Jeff Daniels, Danny Aiello, Dianne...  60011316   \n",
       "10     N/A  Mia Farrow, Julie Kavner, Dianne Wiest, Tony R...  60010809   \n",
       "11     N/A  Woody Allen, Mia Farrow, John Buckwalter, Marv...  60011615   \n",
       "12     N/A  Woody Allen, John Carradine, Lou Jacobi, Louis...  60001205   \n",
       "13     N/A  Woody Allen, Louise Lasser, Carlos Montalban, ...  60001204   \n",
       "14     N/A  Woody Allen, Diane Keaton, John Beck, Howard C...  60001209   \n",
       "15     N/A  Woody Allen, Diane Keaton, Georges Adet, Frank...  60001208   \n",
       "\n",
       "                                           show_title  \\\n",
       "0                                               Scoop   \n",
       "1                                           Manhattan   \n",
       "2                                          Annie Hall   \n",
       "3                                           September   \n",
       "4                                           Interiors   \n",
       "5                                               Alice   \n",
       "6                                     Shadows and Fog   \n",
       "7                      A Midsummer Night's Sex Comedy   \n",
       "8                                   Stardust Memories   \n",
       "9                            The Purple Rose of Cairo   \n",
       "10                                         Radio Days   \n",
       "11                                              Zelig   \n",
       "12  Everything You Always Wanted to Know About Sex...   \n",
       "13                                            Bananas   \n",
       "14                                            Sleeper   \n",
       "15                                     Love and Death   \n",
       "\n",
       "                                              summary   unit  \n",
       "0   While visiting friends in London, an American ...    192  \n",
       "1   In this insightful slice of life, television w...   4898  \n",
       "2   Diane Keaton and Woody Allen star in this Osca...   8472  \n",
       "3   Mia Farrow shines as Lane, a woman trying to r...  17448  \n",
       "4   The disintegration of an upper-class couple's ...  17454  \n",
       "5   A woman finds herself falling out of love with...  17484  \n",
       "6   Writer-director Woody Allen stars as Max Klein...  17485  \n",
       "7   While gathered for a party at the country home...  17487  \n",
       "8   Woody Allen plays a successful filmmaker who a...  17493  \n",
       "9   A woman seeking escape from her job and abusiv...  17494  \n",
       "10  Told through vignettes, director Woody Allen's...  17497  \n",
       "11  A man claims he can transform himself into any...  17498  \n",
       "12  Questions from Dr. David Reuben's once-controv...  17504  \n",
       "13  A neurotic nebbish follows his dream girl to a...  17506  \n",
       "14  Health-food store owner Miles Monro bites the ...  17508  \n",
       "15  In this spoof of 19th-century Russian literatu...  17511  "
      ]
     },
     "execution_count": 8,
     "metadata": {},
     "output_type": "execute_result"
    }
   ],
   "source": [
    "pd.DataFrame(woody_movies)"
   ]
  },
  {
   "cell_type": "code",
   "execution_count": 9,
   "metadata": {
    "collapsed": false
   },
   "outputs": [],
   "source": [
    "actor_list = []\n",
    "for movie in woody_movies:\n",
    "    for actor in movie[\"show_cast\"].split(\",\"):\n",
    "        actor_list.append([actor.lstrip(\" \"), movie['show_title']])\n",
    "actors = pd.DataFrame(actor_list)"
   ]
  },
  {
   "cell_type": "code",
   "execution_count": 10,
   "metadata": {
    "collapsed": false
   },
   "outputs": [],
   "source": [
    "actors.columns = ['Actor', 'show_title']"
   ]
  },
  {
   "cell_type": "code",
   "execution_count": 11,
   "metadata": {
    "collapsed": false
   },
   "outputs": [
    {
     "ename": "AttributeError",
     "evalue": "'list' object has no attribute 'merge'",
     "output_type": "error",
     "traceback": [
      "\u001b[0;31m---------------------------------------------------------------------------\u001b[0m",
      "\u001b[0;31mAttributeError\u001b[0m                            Traceback (most recent call last)",
      "\u001b[0;32m<ipython-input-11-ca9d6d0986ad>\u001b[0m in \u001b[0;36m<module>\u001b[0;34m()\u001b[0m\n\u001b[0;32m----> 1\u001b[0;31m \u001b[0mwoody_movies\u001b[0m\u001b[0;34m.\u001b[0m\u001b[0mmerge\u001b[0m\u001b[0;34m(\u001b[0m\u001b[0;34m)\u001b[0m\u001b[0;34m\u001b[0m\u001b[0m\n\u001b[0m",
      "\u001b[0;31mAttributeError\u001b[0m: 'list' object has no attribute 'merge'"
     ]
    }
   ],
   "source": [
    "woody_movies.merge()"
   ]
  },
  {
   "cell_type": "code",
   "execution_count": null,
   "metadata": {
    "collapsed": true
   },
   "outputs": [],
   "source": []
  },
  {
   "cell_type": "markdown",
   "metadata": {},
   "source": [
    "## Question 3 (10 points)\n",
    "\n",
    "_Two Degrees of Kevin Bacon_. \n",
    "\n",
    "We can quantify how \"separated\" two actors are, as follows. Suppose actor A appeared in a movie with actor B, and actor B appeared in a movie with actor C. Then we say that:\n",
    "- B is 1 degree removed from A.\n",
    "- C is 2 degrees removed from A.\n",
    "\n",
    "Find all actors who are 1 or 2 degrees removed from the actor Kevin Bacon. How many (distinct) actors are there?\n",
    "\n",
    "_Note:_ You should be vigilant about making too many API calls."
   ]
  },
  {
   "cell_type": "code",
   "execution_count": 27,
   "metadata": {
    "collapsed": false
   },
   "outputs": [],
   "source": [
    "resp = requests.get(\"http://netflixroulette.net/api/api.php?actor=Kevin%20Bacon\")\n",
    "Bacon_movies =  resp.json()"
   ]
  },
  {
   "cell_type": "code",
   "execution_count": 13,
   "metadata": {
    "collapsed": false
   },
   "outputs": [
    {
     "data": {
      "text/plain": [
       "112"
      ]
     },
     "execution_count": 13,
     "metadata": {},
     "output_type": "execute_result"
    }
   ],
   "source": [
    "# YOUR CODE HERE. (It should output the answer.)\n",
    "total_actors = []\n",
    "for movie in Bacon_movies:\n",
    "    for actor in movie['show_cast'].split(','):\n",
    "        act = actor.lstrip(\" \")\n",
    "        if act not in total_actors and act != 'Kevin Bacon':\n",
    "            total_actors.append(act)\n",
    "len(total_actors)"
   ]
  },
  {
   "cell_type": "code",
   "execution_count": 25,
   "metadata": {
    "collapsed": false
   },
   "outputs": [],
   "source": [
    "t2 = []\n",
    "for actor in total_actors:\n",
    "    aresp = requests.get(\"http://netflixroulette.net/api/api.php?actor=%s\" % actor)\n",
    "    movies = aresp.json()\n",
    "    for mov in movies:\n",
    "        for actor in movie['show_cast'].split(','):\n",
    "            act = actor.lstrip(\" \")\n",
    "            if act not in t2 and act != \"Kevin Bacon\":\n",
    "                t2.append(act)\n",
    "    t2.append(actor)"
   ]
  },
  {
   "cell_type": "code",
   "execution_count": 26,
   "metadata": {
    "collapsed": false
   },
   "outputs": [
    {
     "data": {
      "text/plain": [
       "123"
      ]
     },
     "execution_count": 26,
     "metadata": {},
     "output_type": "execute_result"
    }
   ],
   "source": [
    "len(t2)"
   ]
  },
  {
   "cell_type": "code",
   "execution_count": null,
   "metadata": {
    "collapsed": true
   },
   "outputs": [],
   "source": []
  }
 ],
 "metadata": {
  "kernelspec": {
   "display_name": "Python 3",
   "language": "python",
   "name": "python3"
  },
  "language_info": {
   "codemirror_mode": {
    "name": "ipython",
    "version": 3
   },
   "file_extension": ".py",
   "mimetype": "text/x-python",
   "name": "python",
   "nbconvert_exporter": "python",
   "pygments_lexer": "ipython3",
   "version": "3.5.2"
  }
 },
 "nbformat": 4,
 "nbformat_minor": 2
}
