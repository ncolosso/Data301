{
 "cells": [
  {
   "cell_type": "markdown",
   "metadata": {
    "collapsed": true
   },
   "source": [
    "# State of the Union Addresses\n",
    "\n",
    "The U.S. Constitution requires that the President inform Congress of the \"state of the union\" from time to time.  In recent years, the President has delivered the State of the Union address as a speech to Congress, although for much of U.S. history, the \"address\" was actually a written letter to Congress.\n",
    "\n",
    "The directory `/data/sotu/` contains the texts of every State of the Union address dating back to George Washington's first address in 1790."
   ]
  },
  {
   "cell_type": "code",
   "execution_count": 1,
   "metadata": {
    "collapsed": true
   },
   "outputs": [],
   "source": [
    "import numpy as np\n",
    "import pandas as pd"
   ]
  },
  {
   "cell_type": "code",
   "execution_count": 2,
   "metadata": {
    "collapsed": false
   },
   "outputs": [
    {
     "name": "stdout",
     "output_type": "stream",
     "text": [
      "1790.txt  1819.txt  1848.txt  1877.txt\t1906.txt  1936.txt  1965.txt  1995.txt\r\n",
      "1791.txt  1820.txt  1849.txt  1878.txt\t1907.txt  1937.txt  1966.txt  1996.txt\r\n",
      "1792.txt  1821.txt  1850.txt  1879.txt\t1908.txt  1938.txt  1967.txt  1997.txt\r\n",
      "1793.txt  1822.txt  1851.txt  1880.txt\t1909.txt  1939.txt  1968.txt  1998.txt\r\n",
      "1794.txt  1823.txt  1852.txt  1881.txt\t1910.txt  1940.txt  1969.txt  1999.txt\r\n",
      "1795.txt  1824.txt  1853.txt  1882.txt\t1911.txt  1941.txt  1970.txt  2000.txt\r\n",
      "1796.txt  1825.txt  1854.txt  1883.txt\t1912.txt  1942.txt  1971.txt  2001.txt\r\n",
      "1797.txt  1826.txt  1855.txt  1884.txt\t1913.txt  1943.txt  1972.txt  2002.txt\r\n",
      "1798.txt  1827.txt  1856.txt  1885.txt\t1914.txt  1944.txt  1974.txt  2003.txt\r\n",
      "1799.txt  1828.txt  1857.txt  1886.txt\t1915.txt  1945.txt  1975.txt  2004.txt\r\n",
      "1800.txt  1829.txt  1858.txt  1887.txt\t1916.txt  1946.txt  1976.txt  2005.txt\r\n",
      "1801.txt  1830.txt  1859.txt  1888.txt\t1917.txt  1947.txt  1977.txt  2006.txt\r\n",
      "1802.txt  1831.txt  1860.txt  1889.txt\t1918.txt  1948.txt  1978.txt  2007.txt\r\n",
      "1803.txt  1832.txt  1861.txt  1890.txt\t1919.txt  1949.txt  1979.txt  2008.txt\r\n",
      "1804.txt  1833.txt  1862.txt  1891.txt\t1920.txt  1950.txt  1980.txt  2009.txt\r\n",
      "1805.txt  1834.txt  1863.txt  1892.txt\t1921.txt  1951.txt  1981.txt  2010.txt\r\n",
      "1806.txt  1835.txt  1864.txt  1893.txt\t1922.txt  1952.txt  1982.txt  2011.txt\r\n",
      "1807.txt  1836.txt  1865.txt  1894.txt\t1923.txt  1953.txt  1983.txt  2012.txt\r\n",
      "1808.txt  1837.txt  1866.txt  1895.txt\t1924.txt  1954.txt  1984.txt  2013.txt\r\n",
      "1809.txt  1838.txt  1867.txt  1896.txt\t1925.txt  1955.txt  1985.txt  2014.txt\r\n",
      "1810.txt  1839.txt  1868.txt  1897.txt\t1926.txt  1956.txt  1986.txt  2015.txt\r\n",
      "1811.txt  1840.txt  1869.txt  1898.txt\t1927.txt  1957.txt  1987.txt  2016.txt\r\n",
      "1812.txt  1841.txt  1870.txt  1899.txt\t1928.txt  1958.txt  1988.txt  2017.txt\r\n",
      "1813.txt  1842.txt  1871.txt  1900.txt\t1929.txt  1959.txt  1989.txt\r\n",
      "1814.txt  1843.txt  1872.txt  1901.txt\t1930.txt  1960.txt  1990.txt\r\n",
      "1815.txt  1844.txt  1873.txt  1902.txt\t1931.txt  1961.txt  1991.txt\r\n",
      "1816.txt  1845.txt  1874.txt  1903.txt\t1932.txt  1962.txt  1992.txt\r\n",
      "1817.txt  1846.txt  1875.txt  1904.txt\t1934.txt  1963.txt  1993.txt\r\n",
      "1818.txt  1847.txt  1876.txt  1905.txt\t1935.txt  1964.txt  1994.txt\r\n"
     ]
    }
   ],
   "source": [
    "!ls /data/sotu/"
   ]
  },
  {
   "cell_type": "markdown",
   "metadata": {},
   "source": [
    "## Question 1 (10 points)\n",
    "\n",
    "Treating each State of the Union Address from 1790-2016 as a \"document\", create a data frame `tf` of term-frequencies (TF) for all words that appear at least 10 times in the corpus. Be sure to normalize the words for capitalization and punctuation. \n",
    "\n",
    "**Note:** If you did this correctly, you should end up with fewer than 10,000 unique words."
   ]
  },
  {
   "cell_type": "code",
   "execution_count": null,
   "metadata": {
    "collapsed": true
   },
   "outputs": [],
   "source": [
    "# CREATE A DATA FRAME OF TERM FREQUENCIES\n",
    "tf = None"
   ]
  },
  {
   "cell_type": "markdown",
   "metadata": {},
   "source": [
    "## Question 2 (10 points)\n",
    "\n",
    "- Create a data frame `tf_idf` of TF-IDF weights for this corpus, using the `tf` data frame you created in Question 1.\n",
    "- Using your TF-IDF matrix (or your IDF vector), determine which words have appeared in every State of the Union address."
   ]
  },
  {
   "cell_type": "code",
   "execution_count": null,
   "metadata": {
    "collapsed": false
   },
   "outputs": [],
   "source": [
    "# CREATE A DATA FRAME OF TF-IDF WEIGHTS\n",
    "tf_idf = None"
   ]
  },
  {
   "cell_type": "markdown",
   "metadata": {},
   "source": [
    "## Question 3 (10 points)\n",
    "\n",
    "Using cosine similarity between the TF-IDF vectors, determine the State of the Union address (1790-2016) that most closely resembles Donald Trump's 2017 address (`/data/sotu/2017.txt`). Which president delivered that address?\n",
    "\n",
    "_Hint:_ You may find [this website](http://www.presidency.ucsb.edu/sou.php) helpful for answering the last part."
   ]
  },
  {
   "cell_type": "code",
   "execution_count": null,
   "metadata": {
    "collapsed": true
   },
   "outputs": [],
   "source": [
    "# YOUR CODE HERE."
   ]
  },
  {
   "cell_type": "markdown",
   "metadata": {},
   "source": [
    "_YOUR WRITTEN EXPLANATION HERE._"
   ]
  }
 ],
 "metadata": {
  "kernelspec": {
   "display_name": "Python 3",
   "language": "python",
   "name": "python3"
  },
  "language_info": {
   "codemirror_mode": {
    "name": "ipython",
    "version": 3
   },
   "file_extension": ".py",
   "mimetype": "text/x-python",
   "name": "python",
   "nbconvert_exporter": "python",
   "pygments_lexer": "ipython3",
   "version": "3.5.2"
  }
 },
 "nbformat": 4,
 "nbformat_minor": 2
}
