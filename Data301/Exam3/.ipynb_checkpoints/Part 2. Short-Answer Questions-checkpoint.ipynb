{
 "cells": [
  {
   "cell_type": "markdown",
   "metadata": {},
   "source": [
    "# Short-Answer Questions\n",
    "\n",
    "Please be sure to write the answers to these questions on the separate answer sheet provided. Nothing in this notebook will be graded!"
   ]
  },
  {
   "cell_type": "code",
   "execution_count": 1,
   "metadata": {
    "collapsed": true
   },
   "outputs": [],
   "source": [
    "import numpy as np\n",
    "import pandas as pd"
   ]
  },
  {
   "cell_type": "markdown",
   "metadata": {},
   "source": [
    "## Part 1 (8 minutes)\n",
    "\n",
    "For each of the following scenarios, determine whether a regression, classification, or clustering model is most appropriate. **On your answer sheet, write 1 for regression, 2 for classification, and 3 for clustering.**\n",
    "\n",
    "**1.** You have the texts of several books written by Fitzgerald, Hemingway, and Steinbeck. You would like to build a machine learning model using this data that, given a new text, is able to predict whether it was written by Fitzgerald, Hemingway, or Steinbeck.\n",
    "\n",
    "**2.** You would like to build a machine learning model that predicts the price of a house, given information about the number of bedrooms, number of bathrooms, square footage, and other features.\n",
    "\n",
    "**3.** You are a data scientist for a large retailer. The retailer has data about what products each customer purchases and would like to use this data to segment its customers into 6 \"types\".\n",
    "\n",
    "**4.** You have a large database of handwritten digits. Each digit has been manually examined by a human and labeled as 0, 1, ..., 9. You would like to build a machine learning model on this data that, given a scan of a handwritten number, is able to identify the number."
   ]
  },
  {
   "cell_type": "markdown",
   "metadata": {},
   "source": [
    "## Part 2 (6 minutes)\n",
    "\n",
    "You are trying to predict whether a baseball team will win or lose based on features $x_1$ and $x_2$. You have training data, shown below.\n",
    "\n",
    "![](http://users.csc.calpoly.edu/~dsun09/data301/exam3/k_neighbors.png)\n",
    "\n",
    "You fit a 4-nearest neighbors model to this data. Use this model to predict the _probability_ that a team with $(x_1, x_2) = (2.0, 1.0)$ will win...\n",
    "\n",
    "**5.** ...if the distance metric is Euclidean distance.\n",
    "\n",
    "**6.** ...if the distance metric is cosine distance."
   ]
  },
  {
   "cell_type": "code",
   "execution_count": 2,
   "metadata": {
    "collapsed": false
   },
   "outputs": [
    {
     "data": {
      "text/plain": [
       "0.5"
      ]
     },
     "execution_count": 2,
     "metadata": {},
     "output_type": "execute_result"
    }
   ],
   "source": [
    "np.average([1, 1, 0, 0])"
   ]
  },
  {
   "cell_type": "markdown",
   "metadata": {},
   "source": [
    "## Part 3 (15 minutes)\n",
    "\n",
    "The CSV file `/data/tides.csv` contains the water level of the ocean, measured at Port San Luis every 0.1 hours over a period of 6 days. Tidal data tends to be periodic, with periodic components of 12 hours and 24 hours. Therefore, it makes sense to model the water level at time $t$ as follows:\n",
    "\n",
    "$$ f(t) = \\beta_0 + \\beta_1 \\cos\\left(\\frac{2\\pi t}{12}\\right) + \\beta_2 \\sin\\left(\\frac{2\\pi t}{12}\\right) + \\beta_3 \\cos\\left(\\frac{2 \\pi t}{24}\\right) + \\beta_4 \\sin\\left(\\frac{2 \\pi t}{24}\\right), $$\n",
    "\n",
    "where $t$ represents the time in hours.\n",
    "\n",
    "Use the data in `/data/tides.csv` to estimate $\\beta_0$, $\\beta_1$, $\\beta_2$, $\\beta_3$, and $\\beta_4$.\n",
    "\n",
    "**7.** What is your estimate of $\\beta_0$?\n",
    "\n",
    "**8.** What is your estimate of $\\beta_1$?\n",
    "\n",
    "**9.** What is your estimate of $\\beta_4$?"
   ]
  },
  {
   "cell_type": "code",
   "execution_count": 3,
   "metadata": {
    "collapsed": false
   },
   "outputs": [
    {
     "data": {
      "text/plain": [
       "(2.6774820402076234,\n",
       " array([ 0.8752349 ,  0.25942657, -0.09890444, -1.09277118]))"
      ]
     },
     "execution_count": 3,
     "metadata": {},
     "output_type": "execute_result"
    }
   ],
   "source": [
    "data = pd.read_csv(\"/data/tides.csv\")\n",
    "\n",
    "# YOUR CODE HERE\n",
    "data['B1'] = np.cos((2*np.pi*data['Time (hours)'])/12)\n",
    "data['B2'] = np.sin((2*np.pi*data['Time (hours)'])/12)\n",
    "data['B3'] = np.cos((2*np.pi*data['Time (hours)'])/24)\n",
    "data['B4'] = np.sin((2*np.pi*data['Time (hours)'])/24)\n",
    "\n",
    "from sklearn.linear_model import LinearRegression\n",
    "model = LinearRegression()\n",
    "model.fit(data[['B1', 'B2', 'B3', 'B4']], data['Water Level (ft)'])\n",
    "model.intercept_, model.coef_"
   ]
  },
  {
   "cell_type": "markdown",
   "metadata": {},
   "source": [
    "## Part 4 (6 minutes)\n",
    "\n",
    "You wish to predict the mileage (miles per gallon) of a car based on its displacement and the year the car was made. The data is shown below:\n",
    "\n",
    "![](http://users.csc.calpoly.edu/~dsun09/data301/exam3/mpg_data.png)\n",
    "\n",
    "You decide to use linear regression to model the data. Shown below are three plots representing three possible fitted models.\n",
    "\n",
    "![](http://users.csc.calpoly.edu/~dsun09/data301/exam3/mpg_fit.png)\n",
    "\n",
    "\n",
    "**10.** Suppose you model the mpg as a linear function of displacement only:\n",
    "$$ f(\\textrm{displacement}) = \\beta_0 + \\beta_1 \\cdot \\textrm{displacement}, $$\n",
    "ignoring the year variable entirely. Which of the three plots above best represents the predictions you would get from this model?\n",
    "\n",
    "**11.** Suppose you instead model the mpg as a function of displacement and year:\n",
    "$$ f(\\textrm{displacement}, \\textrm{year}) = \\beta_0 + \\beta_1 \\cdot \\textrm{displacement} + \\beta_2 \\cdot \\textrm{year1978} + \\beta_3 \\cdot \\textrm{year1982}, $$\n",
    "treating year as a categorical variable, with 1973 as a baseline. Which of the three plots above best represents the predictions you would get from this model?"
   ]
  },
  {
   "cell_type": "markdown",
   "metadata": {},
   "source": [
    "## Part 5 (3 minutes)\n",
    "\n",
    "**12.** Suppose you run $K$-means clustering on the following data, with $K=3$.\n",
    "\n",
    "![](http://users.csc.calpoly.edu/~dsun09/data301/exam3/kmeans.png)\n",
    "\n",
    "Which of the following clusterings are you most likely to get?\n",
    "\n",
    "![](http://users.csc.calpoly.edu/~dsun09/data301/exam3/kmeans_choices.png)"
   ]
  },
  {
   "cell_type": "code",
   "execution_count": 4,
   "metadata": {
    "collapsed": false
   },
   "outputs": [
    {
     "name": "stdout",
     "output_type": "stream",
     "text": [
      "[0, 150]\n",
      "[0, 9850]\n"
     ]
    }
   ],
   "source": [
    "print([0, 150])\n",
    "print([0, 9850])"
   ]
  },
  {
   "cell_type": "code",
   "execution_count": 5,
   "metadata": {
    "collapsed": false
   },
   "outputs": [
    {
     "data": {
      "text/plain": [
       "0.985"
      ]
     },
     "execution_count": 5,
     "metadata": {},
     "output_type": "execute_result"
    }
   ],
   "source": [
    "9850/10000"
   ]
  },
  {
   "cell_type": "markdown",
   "metadata": {},
   "source": [
    "## Part 6 (9 minutes)\n",
    "\n",
    "You are building a classifier to predict whether or not a [Reddit](http://www.reddit.com) comment will be controversial. You train your classifier on a training set of 10,000 Reddit comments, of which only 150 are controversial.\n",
    "\n",
    "Your classifier predicts that every comment in the training set is non-controversial.\n",
    "\n",
    "**13.** What is the accuracy of your classifier on the training set?\n",
    "\n",
    "**14.** What is the precision of your classifier for identifying _non_-controversial tweets on the training set?\n",
    "\n",
    "**15.** What is the recall of your classifier for identifying _non_-controversial tweets on the training set?\n",
    "\n",
    "_Note:_ Your answers should be numbers between 0 and 1."
   ]
  }
 ],
 "metadata": {
  "kernelspec": {
   "display_name": "Python 3",
   "language": "python",
   "name": "python3"
  },
  "language_info": {
   "codemirror_mode": {
    "name": "ipython",
    "version": 3
   },
   "file_extension": ".py",
   "mimetype": "text/x-python",
   "name": "python",
   "nbconvert_exporter": "python",
   "pygments_lexer": "ipython3",
   "version": "3.5.2"
  }
 },
 "nbformat": 4,
 "nbformat_minor": 2
}
