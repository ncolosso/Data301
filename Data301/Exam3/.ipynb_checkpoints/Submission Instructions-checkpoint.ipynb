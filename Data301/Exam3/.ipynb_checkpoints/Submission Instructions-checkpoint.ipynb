{
 "cells": [
  {
   "cell_type": "markdown",
   "metadata": {},
   "source": [
    "# Submission Instructions\n",
    "\n",
    "When you are finished with all parts of the exam (i.e., all the other notebooks in this directory), follow these instructions to submit your exam. You will be penalized 10 points (out of a possible 80) for failure to follow these instructions.\n",
    "\n",
    "1. For each of the other notebooks in this directory:\n",
    "    - From the menu, select Kernel > Restart & Run All.\n",
    "    - Make sure the notebook has executed to the very last cell. If there are any errors, fix them and start this process over again.\n",
    "    - From the menu, select File > Save and Checkpoint.\n",
    "2. Once you have finished Step 1, select Kernel > Restart & Run All for this submission notebook. This will copy your files into the submission directory.\n",
    "\n",
    "If you decide to make any changes after submitting, simply repeat all the steps above to resubmit your lab."
   ]
  },
  {
   "cell_type": "code",
   "execution_count": 1,
   "metadata": {
    "collapsed": true
   },
   "outputs": [],
   "source": [
    "!cp -r ../Exam3 /data301/submit/$USER/"
   ]
  },
  {
   "cell_type": "code",
   "execution_count": 2,
   "metadata": {
    "collapsed": true
   },
   "outputs": [],
   "source": [
    "# Failure to follow instructions will result in a score of -10 here.\n",
    "scores = [0]"
   ]
  }
 ],
 "metadata": {
  "kernelspec": {
   "display_name": "Python 3",
   "language": "python",
   "name": "python3"
  },
  "language_info": {
   "codemirror_mode": {
    "name": "ipython",
    "version": 3
   },
   "file_extension": ".py",
   "mimetype": "text/x-python",
   "name": "python",
   "nbconvert_exporter": "python",
   "pygments_lexer": "ipython3",
   "version": "3.5.2"
  }
 },
 "nbformat": 4,
 "nbformat_minor": 1
}
