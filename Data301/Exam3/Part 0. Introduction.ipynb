{
 "cells": [
  {
   "cell_type": "markdown",
   "metadata": {},
   "source": [
    "# Exam 3\n",
    "## DATA 301 Spring 2017"
   ]
  },
  {
   "cell_type": "markdown",
   "metadata": {},
   "source": [
    "## Introduction\n",
    "\n",
    "This exam consists of two parts, which can be done in either order:\n",
    "\n",
    "1. **Building a Classifier (35 points)**: Please write code and explanations directly in this notebook.\n",
    "2. **Short Answer Questions (45 points)**: The answer to every question in this notebook is a number and should be written on the separate answer sheet provided. Feel free to use this notebook for scratch work, but nothing in this notebook will be graded.\n",
    "\n",
    "The exam is worth a total of 80 points. You have 100 minutes to complete the exam. To help you pace yourself, each question has a suggested time next to it. Do not begin the exam until given the signal to do so.\n",
    "\n",
    "Please sign the honesty pledge below. Your exam will not be graded unless both you _and your partner_ sign below."
   ]
  },
  {
   "cell_type": "markdown",
   "metadata": {},
   "source": [
    "## Honesty Pledge\n",
    "\n",
    "This exam is open-Internet. I understand that I am allowed to use any existing resources on the web, including web search, but I am not to consult with anyone else during this exam. Giving and receiving help are both forbidden and will be prosecuted equally.\n",
    "\n",
    "I understand that the penalty for violating this pledge is a grade of **F** in the course and disciplinary action by the Office of Student Rights & Responsibilities."
   ]
  },
  {
   "cell_type": "markdown",
   "metadata": {},
   "source": [
    "Nicolas Colosso"
   ]
  },
  {
   "cell_type": "code",
   "execution_count": null,
   "metadata": {
    "collapsed": true
   },
   "outputs": [],
   "source": []
  }
 ],
 "metadata": {
  "kernelspec": {
   "display_name": "Python 3",
   "language": "python",
   "name": "python3"
  },
  "language_info": {
   "codemirror_mode": {
    "name": "ipython",
    "version": 3
   },
   "file_extension": ".py",
   "mimetype": "text/x-python",
   "name": "python",
   "nbconvert_exporter": "python",
   "pygments_lexer": "ipython3",
   "version": "3.5.2"
  }
 },
 "nbformat": 4,
 "nbformat_minor": 2
}
