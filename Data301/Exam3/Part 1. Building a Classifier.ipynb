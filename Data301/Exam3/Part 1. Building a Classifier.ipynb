{
 "cells": [
  {
   "cell_type": "markdown",
   "metadata": {
    "collapsed": true
   },
   "source": [
    "# Building a Classifier\n",
    "\n",
    "In this notebook, you will build various classifiers to predict whether a patient has atherosclerotic heart disease (AHD) from various input variables."
   ]
  },
  {
   "cell_type": "code",
   "execution_count": 1,
   "metadata": {
    "collapsed": true
   },
   "outputs": [],
   "source": [
    "import numpy as np\n",
    "import pandas as pd\n",
    "\n",
    "import matplotlib.pyplot as plt\n",
    "%matplotlib inline"
   ]
  },
  {
   "cell_type": "code",
   "execution_count": 2,
   "metadata": {
    "collapsed": false
   },
   "outputs": [
    {
     "data": {
      "text/html": [
       "<div>\n",
       "<table border=\"1\" class=\"dataframe\">\n",
       "  <thead>\n",
       "    <tr style=\"text-align: right;\">\n",
       "      <th></th>\n",
       "      <th>Age</th>\n",
       "      <th>Sex</th>\n",
       "      <th>ChestPain</th>\n",
       "      <th>RestBP</th>\n",
       "      <th>Chol</th>\n",
       "      <th>Fbs</th>\n",
       "      <th>RestECG</th>\n",
       "      <th>MaxHR</th>\n",
       "      <th>ExAng</th>\n",
       "      <th>Oldpeak</th>\n",
       "      <th>Slope</th>\n",
       "      <th>Ca</th>\n",
       "      <th>Thal</th>\n",
       "      <th>AHD</th>\n",
       "    </tr>\n",
       "  </thead>\n",
       "  <tbody>\n",
       "    <tr>\n",
       "      <th>0</th>\n",
       "      <td>63</td>\n",
       "      <td>1</td>\n",
       "      <td>typical</td>\n",
       "      <td>145</td>\n",
       "      <td>233</td>\n",
       "      <td>1</td>\n",
       "      <td>2</td>\n",
       "      <td>150</td>\n",
       "      <td>0</td>\n",
       "      <td>2.3</td>\n",
       "      <td>3</td>\n",
       "      <td>0.0</td>\n",
       "      <td>fixed</td>\n",
       "      <td>No</td>\n",
       "    </tr>\n",
       "    <tr>\n",
       "      <th>1</th>\n",
       "      <td>67</td>\n",
       "      <td>1</td>\n",
       "      <td>asymptomatic</td>\n",
       "      <td>160</td>\n",
       "      <td>286</td>\n",
       "      <td>0</td>\n",
       "      <td>2</td>\n",
       "      <td>108</td>\n",
       "      <td>1</td>\n",
       "      <td>1.5</td>\n",
       "      <td>2</td>\n",
       "      <td>3.0</td>\n",
       "      <td>normal</td>\n",
       "      <td>Yes</td>\n",
       "    </tr>\n",
       "    <tr>\n",
       "      <th>2</th>\n",
       "      <td>67</td>\n",
       "      <td>1</td>\n",
       "      <td>asymptomatic</td>\n",
       "      <td>120</td>\n",
       "      <td>229</td>\n",
       "      <td>0</td>\n",
       "      <td>2</td>\n",
       "      <td>129</td>\n",
       "      <td>1</td>\n",
       "      <td>2.6</td>\n",
       "      <td>2</td>\n",
       "      <td>2.0</td>\n",
       "      <td>reversable</td>\n",
       "      <td>Yes</td>\n",
       "    </tr>\n",
       "    <tr>\n",
       "      <th>3</th>\n",
       "      <td>37</td>\n",
       "      <td>1</td>\n",
       "      <td>nonanginal</td>\n",
       "      <td>130</td>\n",
       "      <td>250</td>\n",
       "      <td>0</td>\n",
       "      <td>0</td>\n",
       "      <td>187</td>\n",
       "      <td>0</td>\n",
       "      <td>3.5</td>\n",
       "      <td>3</td>\n",
       "      <td>0.0</td>\n",
       "      <td>normal</td>\n",
       "      <td>No</td>\n",
       "    </tr>\n",
       "    <tr>\n",
       "      <th>4</th>\n",
       "      <td>41</td>\n",
       "      <td>0</td>\n",
       "      <td>nontypical</td>\n",
       "      <td>130</td>\n",
       "      <td>204</td>\n",
       "      <td>0</td>\n",
       "      <td>2</td>\n",
       "      <td>172</td>\n",
       "      <td>0</td>\n",
       "      <td>1.4</td>\n",
       "      <td>1</td>\n",
       "      <td>0.0</td>\n",
       "      <td>normal</td>\n",
       "      <td>No</td>\n",
       "    </tr>\n",
       "  </tbody>\n",
       "</table>\n",
       "</div>"
      ],
      "text/plain": [
       "   Age  Sex     ChestPain  RestBP  Chol  Fbs  RestECG  MaxHR  ExAng  Oldpeak  \\\n",
       "0   63    1       typical     145   233    1        2    150      0      2.3   \n",
       "1   67    1  asymptomatic     160   286    0        2    108      1      1.5   \n",
       "2   67    1  asymptomatic     120   229    0        2    129      1      2.6   \n",
       "3   37    1    nonanginal     130   250    0        0    187      0      3.5   \n",
       "4   41    0    nontypical     130   204    0        2    172      0      1.4   \n",
       "\n",
       "   Slope   Ca        Thal  AHD  \n",
       "0      3  0.0       fixed   No  \n",
       "1      2  3.0      normal  Yes  \n",
       "2      2  2.0  reversable  Yes  \n",
       "3      3  0.0      normal   No  \n",
       "4      1  0.0      normal   No  "
      ]
     },
     "execution_count": 2,
     "metadata": {},
     "output_type": "execute_result"
    }
   ],
   "source": [
    "data = pd.read_csv(\"/data/heart.csv\")\n",
    "data.head()"
   ]
  },
  {
   "cell_type": "markdown",
   "metadata": {},
   "source": [
    "## Question 1 (15 minutes)\n",
    "\n",
    "Fit a logistic regression model to predict AHD from OldPeak, Ca, and Thal (result on a Thallium stress test). Use this model to predict the probability that a person with an Oldpeak of 1.0, a Ca of 2.0, and a \"normal\" result on the Thallium stress test will have AHD. \n",
    "\n",
    "How does the predicted probability change if the Thallium stress test instead reports that they have a \"fixed\" heart defect or a \"reversable\" heart defect?\n",
    "\n",
    "_Hint:_ When you do the prediction, double check that you are passing in a DataFrame with the variables in the right order!"
   ]
  },
  {
   "cell_type": "code",
   "execution_count": 3,
   "metadata": {
    "collapsed": false
   },
   "outputs": [
    {
     "data": {
      "text/html": [
       "<div>\n",
       "<table border=\"1\" class=\"dataframe\">\n",
       "  <thead>\n",
       "    <tr style=\"text-align: right;\">\n",
       "      <th></th>\n",
       "      <th>normal</th>\n",
       "      <th>reversable</th>\n",
       "      <th>Oldpeak</th>\n",
       "      <th>Ca</th>\n",
       "    </tr>\n",
       "  </thead>\n",
       "  <tbody>\n",
       "    <tr>\n",
       "      <th>0</th>\n",
       "      <td>0</td>\n",
       "      <td>0</td>\n",
       "      <td>2.3</td>\n",
       "      <td>0.0</td>\n",
       "    </tr>\n",
       "  </tbody>\n",
       "</table>\n",
       "</div>"
      ],
      "text/plain": [
       "   normal  reversable  Oldpeak   Ca\n",
       "0       0           0      2.3  0.0"
      ]
     },
     "execution_count": 3,
     "metadata": {},
     "output_type": "execute_result"
    }
   ],
   "source": [
    "data1 = pd.get_dummies(data['Thal']).drop('fixed', axis=1)\n",
    "data1['Oldpeak'] = data['Oldpeak']\n",
    "data1['Ca'] = data['Ca']\n",
    "data1.head(1)"
   ]
  },
  {
   "cell_type": "code",
   "execution_count": 4,
   "metadata": {
    "collapsed": false
   },
   "outputs": [
    {
     "name": "stdout",
     "output_type": "stream",
     "text": [
      "Normal: [ 0.60737989]\n",
      "Fixed: [ 0.86022448]\n",
      "Reversable: [ 0.92183202]\n"
     ]
    }
   ],
   "source": [
    "from sklearn.linear_model import LogisticRegression, LinearRegression\n",
    "\n",
    "model = LogisticRegression()\n",
    "model.fit(data1, data['AHD'])\n",
    "\n",
    "print(\"Normal:\", model.predict_proba([[1, 0, 1.0, 2.0]])[:,1])\n",
    "print(\"Fixed:\", model.predict_proba([[0, 0, 1.0, 2.0]])[:,1])\n",
    "print(\"Reversable:\", model.predict_proba([[0, 1, 1.0, 2.0]])[:,1])"
   ]
  },
  {
   "cell_type": "markdown",
   "metadata": {},
   "source": [
    "The predicted probability of AHD is higher for a person with a \"fixed\" heart defect, and even higher for someone with a \"reversable\" heart defect."
   ]
  },
  {
   "cell_type": "markdown",
   "metadata": {},
   "source": [
    "## Question 2 (20 minutes)\n",
    "\n",
    "You want to fit a logistic regression model to predict AHD from Age. You would like to fit a polynomial model in Age:\n",
    "\n",
    "$$ f({\\tt Age}) = \\beta_0 + \\beta_1 {\\tt Age} + ... + \\beta_p {\\tt Age}^p $$\n",
    "\n",
    "but you are not sure what the degree $p$ of the polynomial should be. You decide to use the data to determine the optimal value of $p$.\n",
    "\n",
    "Calculate the training F1 score and the test F1 score for $p = 1, 2, ..., 9$. Then, plot the training and test curves showing the F1 scores as a function of $p$.\n",
    "\n",
    "Comment on the trends you see in the training and test curves. Then, using your plot, determine the optimal value of $p$."
   ]
  },
  {
   "cell_type": "code",
   "execution_count": 5,
   "metadata": {
    "collapsed": false
   },
   "outputs": [],
   "source": [
    "# YOUR CODE HERE\n",
    "from sklearn.model_selection import cross_val_score\n",
    "\n",
    "test_f1 = []\n",
    "train_f1 = []\n",
    "X = ['Age']\n",
    "y = data['AHD']\n",
    "data['AHD_bin'] = [1 if AHD == 'Yes' else 0 for AHD in data['AHD']]\n",
    "y_bin = data['AHD_bin']\n",
    "for p in range(1,10):\n",
    "    if p > 1:\n",
    "        data['Age%d'%p] = data['Age']**p\n",
    "        X.append('Age%d'%p)\n",
    "    model = LogisticRegression()\n",
    "    model.fit(data[X], y)\n",
    "    \n",
    "    # test f1\n",
    "    test_f1.append(cross_val_score(model, data[X], y_bin, cv=10,\n",
    "                    scoring='recall').mean())\n",
    "    \n",
    "    # train_f1\n",
    "    y_pred = model.predict(data[X])\n",
    "    precision = sum((y_pred == 'Yes') & (y == 'Yes')) / sum(y_pred == 'Yes')\n",
    "    recall = sum((y_pred == 'Yes') & (y == 'Yes')) / sum(y == 'Yes')\n",
    "    train_f1.append(1 / ((1 / (precision + 1) / recall) / 2) )  \n",
    "    "
   ]
  },
  {
   "cell_type": "code",
   "execution_count": 6,
   "metadata": {
    "collapsed": false
   },
   "outputs": [
    {
     "data": {
      "text/plain": [
       "<matplotlib.text.Text at 0x7fe53b44b5f8>"
      ]
     },
     "execution_count": 6,
     "metadata": {},
     "output_type": "execute_result"
    },
    {
     "data": {
      "image/png": "[encoded data removed]",
      "text/plain": [
       "<matplotlib.figure.Figure at 0x7fe581d6fe80>"
      ]
     },
     "metadata": {},
     "output_type": "display_data"
    }
   ],
   "source": [
    "plt.plot(range(1,10), train_f1, '-')\n",
    "plt.plot(range(1,10), test_f1, '-')\n",
    "\n",
    "plt.legend(['Train', 'Test'])\n",
    "plt.xlabel('p')\n",
    "plt.ylabel('Error')"
   ]
  },
  {
   "cell_type": "markdown",
   "metadata": {},
   "source": [
    "Both curves see an increase in error between values 1 and 4 for p. They then both see declines for about the next 2 increments of p and then increase after that as p increases.\n",
    "\n",
    "Based on the plot, I think the optimal value of p is 2, where both training and test error are at minimum values."
   ]
  },
  {
   "cell_type": "markdown",
   "metadata": {},
   "source": [
    "## Question 3 (15 minutes)\n",
    "\n",
    "Now, fit the polynomial model (of degree $p$) that you determined to be optimal in Question 2. (If you were not able to complete Question 2, assume that $p = 3$.)\n",
    "\n",
    "Then, make a scatterplot showing Age on the $x$-axis, AHD (0 or 1) on the $y$-axis, and a curve showing the predicted probability from your model."
   ]
  },
  {
   "cell_type": "code",
   "execution_count": 7,
   "metadata": {
    "collapsed": false
   },
   "outputs": [],
   "source": [
    "# YOUR CODE HERE\n",
    "model = LogisticRegression()\n",
    "model.fit(data[['Age', 'Age2', ]], y_bin)\n",
    "\n",
    "x_new = np.arange(data['Age'].min(), data['Age'].max())\n",
    "X_new = pd.DataFrame({\n",
    "        'Age': x_new,\n",
    "        'Age2': x_new**2\n",
    "    })\n",
    "y_new = model.predict_proba(X_new)[:,1]"
   ]
  },
  {
   "cell_type": "code",
   "execution_count": 8,
   "metadata": {
    "collapsed": false
   },
   "outputs": [
    {
     "data": {
      "text/plain": [
       "<matplotlib.text.Text at 0x7fe53b543c50>"
      ]
     },
     "execution_count": 8,
     "metadata": {},
     "output_type": "execute_result"
    },
    {
     "data": {
      "image/png": "[encoded data removed]",
      "text/plain": [
       "<matplotlib.figure.Figure at 0x7fe53b51f550>"
      ]
     },
     "metadata": {},
     "output_type": "display_data"
    }
   ],
   "source": [
    "plt.plot(x_new, y_new, 'r-')\n",
    "plt.scatter(data['Age'], y_bin)\n",
    "\n",
    "plt.axis((26, 79, -.25, 1.25))\n",
    "plt.xlabel('Age')\n",
    "plt.ylabel('AHD')"
   ]
  },
  {
   "cell_type": "code",
   "execution_count": null,
   "metadata": {
    "collapsed": true
   },
   "outputs": [],
   "source": []
  }
 ],
 "metadata": {
  "kernelspec": {
   "display_name": "Python 3",
   "language": "python",
   "name": "python3"
  },
  "language_info": {
   "codemirror_mode": {
    "name": "ipython",
    "version": 3
   },
   "file_extension": ".py",
   "mimetype": "text/x-python",
   "name": "python",
   "nbconvert_exporter": "python",
   "pygments_lexer": "ipython3",
   "version": "3.5.2"
  }
 },
 "nbformat": 4,
 "nbformat_minor": 2
}
