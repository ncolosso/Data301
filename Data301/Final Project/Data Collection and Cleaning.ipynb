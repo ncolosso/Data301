{
 "cells": [
  {
   "cell_type": "markdown",
   "metadata": {},
   "source": [
    "## Data Collection and Sorting"
   ]
  },
  {
   "cell_type": "markdown",
   "metadata": {},
   "source": [
    "I used HTML Web Scraping to access and scrape my data off the official PGA tour website (http://www.pgatour.com/). There were sevaral different tables of statistics on each player, all differing in category. So, for each of the 9 tables, I created a new request with its URL and individually scraped the player names and the respected statistics. After doing so, I created a DataFrame for each pages statistical values and the players they belonged to, and at the very end merged all the DataFrames on player name in to one large DataFrame, with the golfer's name and all his respected statistics."
   ]
  },
  {
   "cell_type": "code",
   "execution_count": 1,
   "metadata": {
    "collapsed": true
   },
   "outputs": [],
   "source": [
    "import requests\n",
    "import time\n",
    "from bs4 import BeautifulSoup"
   ]
  },
  {
   "cell_type": "code",
   "execution_count": 2,
   "metadata": {
    "collapsed": true
   },
   "outputs": [],
   "source": [
    "import numpy as np\n",
    "import pandas as pd"
   ]
  },
  {
   "cell_type": "code",
   "execution_count": 3,
   "metadata": {
    "collapsed": true
   },
   "outputs": [],
   "source": [
    "req = requests.get(\"http://www.pgatour.com/stats/stat.138.html\")\n",
    "soup = BeautifulSoup(req.text, \"html.parser\")"
   ]
  },
  {
   "cell_type": "markdown",
   "metadata": {},
   "source": [
    "## Top 10 Finishes (Events, Top 10, 1st, 2nd, 3rd) (164 Golfers)"
   ]
  },
  {
   "cell_type": "code",
   "execution_count": 4,
   "metadata": {
    "collapsed": false
   },
   "outputs": [],
   "source": [
    "# First Scrape Golfer names into a list\n",
    "\n",
    "names = []\n",
    "for n in soup.find_all('td', {'class':'player-name'}):\n",
    "    names.append(n.find('a').contents[0])\n",
    "names_clean = [str(name.replace(\"\\xa0\", \" \")) for name in names]"
   ]
  },
  {
   "cell_type": "code",
   "execution_count": 5,
   "metadata": {
    "collapsed": false
   },
   "outputs": [
    {
     "data": {
      "text/plain": [
       "164"
      ]
     },
     "execution_count": 5,
     "metadata": {},
     "output_type": "execute_result"
    }
   ],
   "source": [
    "len(names_clean)"
   ]
  },
  {
   "cell_type": "code",
   "execution_count": 6,
   "metadata": {
    "collapsed": false
   },
   "outputs": [],
   "source": [
    "# Scrape stats\n",
    "stats = []\n",
    "\n",
    "for stat in soup.find_all('td', {'class':'hidden-small hidden-medium'}):\n",
    "    try:\n",
    "        stats.append(stat.contents[0])\n",
    "    except:\n",
    "        stats.append(0)"
   ]
  },
  {
   "cell_type": "code",
   "execution_count": 7,
   "metadata": {
    "collapsed": false
   },
   "outputs": [],
   "source": [
    "# Break up into separate lists for each statistic\n",
    "\n",
    "stats1 = [int(num) for num in stats]\n",
    "events = stats1[::5]\n",
    "top10 = stats1[1::5]\n",
    "num1st = stats1[2::5]\n",
    "num2nd = stats1[3::5]\n",
    "num3rd = stats1[4::5]"
   ]
  },
  {
   "cell_type": "code",
   "execution_count": 8,
   "metadata": {
    "collapsed": false
   },
   "outputs": [],
   "source": [
    "# Convert to DataFrame\n",
    "\n",
    "top10 = pd.DataFrame({\n",
    "        'Name':names_clean,\n",
    "        'Events':events,\n",
    "        '1st':num1st,\n",
    "        '2nd':num2nd,\n",
    "        '3rd':num3rd\n",
    "    })"
   ]
  },
  {
   "cell_type": "markdown",
   "metadata": {},
   "source": [
    "## Scoring Average (Rounds, Avg Score, Total Strokes, Total Adjustment, Total Rounds) (203 Golfers)"
   ]
  },
  {
   "cell_type": "code",
   "execution_count": 9,
   "metadata": {
    "collapsed": true
   },
   "outputs": [],
   "source": [
    "req = requests.get(\"http://www.pgatour.com/stats/stat.120.html\")\n",
    "soup = BeautifulSoup(req.text, \"html.parser\")"
   ]
  },
  {
   "cell_type": "code",
   "execution_count": 10,
   "metadata": {
    "collapsed": true
   },
   "outputs": [],
   "source": [
    "# First Scrape Golfer names into a list\n",
    "\n",
    "names = []\n",
    "for n in soup.find_all('td', {'class':'player-name'}):\n",
    "    names.append(n.find('a').contents[0])\n",
    "names_clean2 = [str(name.replace(\"\\xa0\", \" \")) for name in names]"
   ]
  },
  {
   "cell_type": "code",
   "execution_count": 11,
   "metadata": {
    "collapsed": false
   },
   "outputs": [
    {
     "data": {
      "text/plain": [
       "203"
      ]
     },
     "execution_count": 11,
     "metadata": {},
     "output_type": "execute_result"
    }
   ],
   "source": [
    "len(names_clean2)"
   ]
  },
  {
   "cell_type": "code",
   "execution_count": 12,
   "metadata": {
    "collapsed": false
   },
   "outputs": [],
   "source": [
    "# Scrape stats\n",
    "stats = []\n",
    "\n",
    "for stat in soup.find_all('td', {'class':'hidden-small hidden-medium'}):\n",
    "    try:\n",
    "        stats.append(stat.contents[0])\n",
    "    except:\n",
    "        stats.append(0)"
   ]
  },
  {
   "cell_type": "code",
   "execution_count": 13,
   "metadata": {
    "collapsed": false
   },
   "outputs": [],
   "source": [
    "# Convert to numeric\n",
    "\n",
    "stats1 = []\n",
    "for num in stats:\n",
    "    num = str(num).replace(',', '').replace(' ', '')\n",
    "    stats1.append(float(num))"
   ]
  },
  {
   "cell_type": "code",
   "execution_count": 14,
   "metadata": {
    "collapsed": false
   },
   "outputs": [],
   "source": [
    "# Break up into separate lists for each statistic\n",
    "\n",
    "rounds = stats1[::5]\n",
    "avg_score = stats1[1::5]\n",
    "total_strokes = stats1[2::5]\n",
    "total_adjustment = stats1[3::5]"
   ]
  },
  {
   "cell_type": "code",
   "execution_count": 15,
   "metadata": {
    "collapsed": false
   },
   "outputs": [],
   "source": [
    "# Convert to DataFrame\n",
    "\n",
    "scoring_avg = pd.DataFrame({\n",
    "        'Name':names_clean2,\n",
    "        'Rounds':rounds,\n",
    "        'Average Score':avg_score,\n",
    "        'Total Adjustment':total_adjustment,\n",
    "        'Total Strokes':total_strokes,\n",
    "    })"
   ]
  },
  {
   "cell_type": "markdown",
   "metadata": {},
   "source": [
    "## Driving Distance (Rounds, Average Drive, Total Distance, Total Drives) (205 Golfers)"
   ]
  },
  {
   "cell_type": "code",
   "execution_count": 16,
   "metadata": {
    "collapsed": true
   },
   "outputs": [],
   "source": [
    "req = requests.get(\"http://www.pgatour.com/stats/stat.101.html\")\n",
    "soup = BeautifulSoup(req.text, \"html.parser\")"
   ]
  },
  {
   "cell_type": "code",
   "execution_count": 17,
   "metadata": {
    "collapsed": true
   },
   "outputs": [],
   "source": [
    "# First Scrape Golfer names into a list\n",
    "\n",
    "names = []\n",
    "for n in soup.find_all('td', {'class':'player-name'}):\n",
    "    names.append(n.find('a').contents[0])\n",
    "names_clean3 = [str(name.replace(\"\\xa0\", \" \")) for name in names]"
   ]
  },
  {
   "cell_type": "code",
   "execution_count": 18,
   "metadata": {
    "collapsed": false
   },
   "outputs": [
    {
     "data": {
      "text/plain": [
       "205"
      ]
     },
     "execution_count": 18,
     "metadata": {},
     "output_type": "execute_result"
    }
   ],
   "source": [
    "len(names_clean3)"
   ]
  },
  {
   "cell_type": "code",
   "execution_count": 19,
   "metadata": {
    "collapsed": false
   },
   "outputs": [],
   "source": [
    "# Scrape stats\n",
    "stats = []\n",
    "\n",
    "for stat in soup.find_all('td', {'class':'hidden-small hidden-medium'}):\n",
    "    try:\n",
    "        stats.append(stat.contents[0])\n",
    "    except:\n",
    "        stats.append(0)"
   ]
  },
  {
   "cell_type": "code",
   "execution_count": 20,
   "metadata": {
    "collapsed": true
   },
   "outputs": [],
   "source": [
    "# Convert to numeric\n",
    "\n",
    "stats1 = []\n",
    "for num in stats:\n",
    "    num = str(num).replace(',', '').replace(' ', '')\n",
    "    stats1.append(float(num))"
   ]
  },
  {
   "cell_type": "code",
   "execution_count": 21,
   "metadata": {
    "collapsed": true
   },
   "outputs": [],
   "source": [
    "# Break up into separate lists for each statistic\n",
    "\n",
    "avg_drive = stats1[1::4]"
   ]
  },
  {
   "cell_type": "code",
   "execution_count": 22,
   "metadata": {
    "collapsed": false
   },
   "outputs": [],
   "source": [
    "# Convert to DataFrame\n",
    "\n",
    "driving_distance = pd.DataFrame({\n",
    "        'Name':names_clean3,\n",
    "        'Average Drive':avg_drive,\n",
    "    })"
   ]
  },
  {
   "cell_type": "markdown",
   "metadata": {},
   "source": [
    "## Driving Accuracy Percentage (Rounds, %) (205 Golfers)"
   ]
  },
  {
   "cell_type": "code",
   "execution_count": 23,
   "metadata": {
    "collapsed": true
   },
   "outputs": [],
   "source": [
    "req = requests.get(\"http://www.pgatour.com/stats/stat.102.html\")\n",
    "soup = BeautifulSoup(req.text, \"html.parser\")"
   ]
  },
  {
   "cell_type": "code",
   "execution_count": 24,
   "metadata": {
    "collapsed": true
   },
   "outputs": [],
   "source": [
    "# First Scrape Golfer names into a list\n",
    "\n",
    "names = []\n",
    "for n in soup.find_all('td', {'class':'player-name'}):\n",
    "    names.append(n.find('a').contents[0])\n",
    "names_clean4 = [str(name.replace(\"\\xa0\", \" \")) for name in names]"
   ]
  },
  {
   "cell_type": "code",
   "execution_count": 25,
   "metadata": {
    "collapsed": false
   },
   "outputs": [
    {
     "data": {
      "text/plain": [
       "205"
      ]
     },
     "execution_count": 25,
     "metadata": {},
     "output_type": "execute_result"
    }
   ],
   "source": [
    "len(names_clean4)"
   ]
  },
  {
   "cell_type": "code",
   "execution_count": 26,
   "metadata": {
    "collapsed": true
   },
   "outputs": [],
   "source": [
    "# Scrape stats\n",
    "stats = []\n",
    "\n",
    "for stat in soup.find_all('td', {'class':'hidden-small hidden-medium'}):\n",
    "    try:\n",
    "        stats.append(stat.contents[0])\n",
    "    except:\n",
    "        stats.append(0)"
   ]
  },
  {
   "cell_type": "code",
   "execution_count": 27,
   "metadata": {
    "collapsed": true
   },
   "outputs": [],
   "source": [
    "# Convert to numeric\n",
    "\n",
    "stats1 = []\n",
    "for num in stats:\n",
    "    num = str(num).replace(',', '').replace(' ', '')\n",
    "    stats1.append(float(num))"
   ]
  },
  {
   "cell_type": "code",
   "execution_count": 28,
   "metadata": {
    "collapsed": true
   },
   "outputs": [],
   "source": [
    "# Break up into separate lists for each statistic\n",
    "\n",
    "perc = stats1[1::4]\n",
    "fairways_hit = stats1[2::4]\n",
    "possible_fairways = stats1[3::4]"
   ]
  },
  {
   "cell_type": "code",
   "execution_count": 29,
   "metadata": {
    "collapsed": false
   },
   "outputs": [],
   "source": [
    "# Convert to DataFrame\n",
    "\n",
    "driving_accuracy = pd.DataFrame({\n",
    "        'Name':names_clean4,\n",
    "        'Driving Percentage':perc,\n",
    "        'Fairways Hit':fairways_hit,\n",
    "        'Possible Fairways':possible_fairways\n",
    "    })"
   ]
  },
  {
   "cell_type": "markdown",
   "metadata": {},
   "source": [
    "## Greens in Regulation Percentage (Rounds, %) (205 Golfers)"
   ]
  },
  {
   "cell_type": "code",
   "execution_count": 30,
   "metadata": {
    "collapsed": true
   },
   "outputs": [],
   "source": [
    "req = requests.get(\"http://www.pgatour.com/stats/stat.103.html\")\n",
    "soup = BeautifulSoup(req.text, \"html.parser\")"
   ]
  },
  {
   "cell_type": "code",
   "execution_count": 31,
   "metadata": {
    "collapsed": true
   },
   "outputs": [],
   "source": [
    "# First Scrape Golfer names into a list\n",
    "\n",
    "names = []\n",
    "for n in soup.find_all('td', {'class':'player-name'}):\n",
    "    names.append(n.find('a').contents[0])\n",
    "names_clean5 = [str(name.replace(\"\\xa0\", \" \")) for name in names]"
   ]
  },
  {
   "cell_type": "code",
   "execution_count": 32,
   "metadata": {
    "collapsed": false
   },
   "outputs": [
    {
     "data": {
      "text/plain": [
       "205"
      ]
     },
     "execution_count": 32,
     "metadata": {},
     "output_type": "execute_result"
    }
   ],
   "source": [
    "len(names_clean5)"
   ]
  },
  {
   "cell_type": "code",
   "execution_count": 33,
   "metadata": {
    "collapsed": true
   },
   "outputs": [],
   "source": [
    "# Scrape stats\n",
    "stats = []\n",
    "\n",
    "for stat in soup.find_all('td', {'class':'hidden-small hidden-medium'}):\n",
    "    try:\n",
    "        stats.append(stat.contents[0])\n",
    "    except:\n",
    "        stats.append(0)"
   ]
  },
  {
   "cell_type": "code",
   "execution_count": 34,
   "metadata": {
    "collapsed": true
   },
   "outputs": [],
   "source": [
    "# Convert to numeric\n",
    "\n",
    "stats1 = []\n",
    "for num in stats:\n",
    "    num = str(num).replace(',', '').replace(' ', '')\n",
    "    stats1.append(float(num))"
   ]
  },
  {
   "cell_type": "code",
   "execution_count": 35,
   "metadata": {
    "collapsed": true
   },
   "outputs": [],
   "source": [
    "# Break up into separate lists for each statistic\n",
    "\n",
    "perc = stats1[1::5]"
   ]
  },
  {
   "cell_type": "code",
   "execution_count": 36,
   "metadata": {
    "collapsed": false
   },
   "outputs": [
    {
     "data": {
      "text/plain": [
       "205"
      ]
     },
     "execution_count": 36,
     "metadata": {},
     "output_type": "execute_result"
    }
   ],
   "source": [
    "len(perc)"
   ]
  },
  {
   "cell_type": "code",
   "execution_count": 37,
   "metadata": {
    "collapsed": false
   },
   "outputs": [],
   "source": [
    "# Convert to DataFrame\n",
    "\n",
    "greens_in_regulation = pd.DataFrame({\n",
    "        'Name':names_clean5,\n",
    "        'Greens Percentage':perc\n",
    "    })"
   ]
  },
  {
   "cell_type": "markdown",
   "metadata": {},
   "source": [
    "## SG: Tee-to-Green (205 Golfers)"
   ]
  },
  {
   "cell_type": "code",
   "execution_count": 38,
   "metadata": {
    "collapsed": true
   },
   "outputs": [],
   "source": [
    "req = requests.get(\"http://www.pgatour.com/stats/stat.02674.html\")\n",
    "soup = BeautifulSoup(req.text, \"html.parser\")"
   ]
  },
  {
   "cell_type": "code",
   "execution_count": 39,
   "metadata": {
    "collapsed": true
   },
   "outputs": [],
   "source": [
    "# First Scrape Golfer names into a list\n",
    "\n",
    "names = []\n",
    "for n in soup.find_all('td', {'class':'player-name'}):\n",
    "    names.append(n.find('a').contents[0])\n",
    "names_clean6 = [str(name.replace(\"\\xa0\", \" \")) for name in names]"
   ]
  },
  {
   "cell_type": "code",
   "execution_count": 40,
   "metadata": {
    "collapsed": false
   },
   "outputs": [
    {
     "data": {
      "text/plain": [
       "205"
      ]
     },
     "execution_count": 40,
     "metadata": {},
     "output_type": "execute_result"
    }
   ],
   "source": [
    "len(names_clean6)"
   ]
  },
  {
   "cell_type": "code",
   "execution_count": 41,
   "metadata": {
    "collapsed": true
   },
   "outputs": [],
   "source": [
    "# Scrape stats\n",
    "stats = []\n",
    "\n",
    "for stat in soup.find_all('td', {'class':'hidden-small hidden-medium'}):\n",
    "    try:\n",
    "        stats.append(stat.contents[0])\n",
    "    except:\n",
    "        stats.append(0)"
   ]
  },
  {
   "cell_type": "code",
   "execution_count": 42,
   "metadata": {
    "collapsed": true
   },
   "outputs": [],
   "source": [
    "# Convert to numeric\n",
    "\n",
    "stats1 = []\n",
    "for num in stats:\n",
    "    num = str(num).replace(',', '').replace(' ', '')\n",
    "    stats1.append(float(num))"
   ]
  },
  {
   "cell_type": "code",
   "execution_count": 43,
   "metadata": {
    "collapsed": true
   },
   "outputs": [],
   "source": [
    "# Break up into separate lists for each statistic\n",
    "\n",
    "perc = stats1[1::6]"
   ]
  },
  {
   "cell_type": "code",
   "execution_count": 44,
   "metadata": {
    "collapsed": false
   },
   "outputs": [],
   "source": [
    "# Convert to DataFrame\n",
    "\n",
    "sg_tee_to_green = pd.DataFrame({\n",
    "        'Name':names_clean6,\n",
    "        'SG: Tee-to-Green':perc\n",
    "    })"
   ]
  },
  {
   "cell_type": "markdown",
   "metadata": {},
   "source": [
    "## SG: Total (205 Golfers)"
   ]
  },
  {
   "cell_type": "code",
   "execution_count": 45,
   "metadata": {
    "collapsed": true
   },
   "outputs": [],
   "source": [
    "req = requests.get(\"http://www.pgatour.com/stats/stat.02675.html\")\n",
    "soup = BeautifulSoup(req.text, \"html.parser\")"
   ]
  },
  {
   "cell_type": "code",
   "execution_count": 46,
   "metadata": {
    "collapsed": true
   },
   "outputs": [],
   "source": [
    "# First Scrape Golfer names into a list\n",
    "\n",
    "names = []\n",
    "for n in soup.find_all('td', {'class':'player-name'}):\n",
    "    names.append(n.find('a').contents[0])\n",
    "names_clean7 = [str(name.replace(\"\\xa0\", \" \")) for name in names]"
   ]
  },
  {
   "cell_type": "code",
   "execution_count": 47,
   "metadata": {
    "collapsed": false
   },
   "outputs": [
    {
     "data": {
      "text/plain": [
       "205"
      ]
     },
     "execution_count": 47,
     "metadata": {},
     "output_type": "execute_result"
    }
   ],
   "source": [
    "len(names_clean7)"
   ]
  },
  {
   "cell_type": "code",
   "execution_count": 48,
   "metadata": {
    "collapsed": true
   },
   "outputs": [],
   "source": [
    "# Scrape stats\n",
    "stats = []\n",
    "\n",
    "for stat in soup.find_all('td', {'class':'hidden-small hidden-medium'}):\n",
    "    try:\n",
    "        stats.append(stat.contents[0])\n",
    "    except:\n",
    "        stats.append(0)"
   ]
  },
  {
   "cell_type": "code",
   "execution_count": 49,
   "metadata": {
    "collapsed": true
   },
   "outputs": [],
   "source": [
    "# Convert to numeric\n",
    "\n",
    "stats1 = []\n",
    "for num in stats:\n",
    "    num = str(num).replace(',', '').replace(' ', '')\n",
    "    stats1.append(float(num))"
   ]
  },
  {
   "cell_type": "code",
   "execution_count": 50,
   "metadata": {
    "collapsed": true
   },
   "outputs": [],
   "source": [
    "# Break up into separate lists for each statistic\n",
    "\n",
    "perc = stats1[1::6]"
   ]
  },
  {
   "cell_type": "code",
   "execution_count": 51,
   "metadata": {
    "collapsed": false
   },
   "outputs": [],
   "source": [
    "# Convert to DataFrame\n",
    "\n",
    "sg_total = pd.DataFrame({\n",
    "        'Name':names_clean7,\n",
    "        'SG: Total':perc\n",
    "    })"
   ]
  },
  {
   "cell_type": "markdown",
   "metadata": {},
   "source": [
    "## SG: Putting (205 Golfers)"
   ]
  },
  {
   "cell_type": "code",
   "execution_count": 52,
   "metadata": {
    "collapsed": true
   },
   "outputs": [],
   "source": [
    "req = requests.get(\"http://www.pgatour.com/stats/stat.02564.html\")\n",
    "soup = BeautifulSoup(req.text, \"html.parser\")"
   ]
  },
  {
   "cell_type": "code",
   "execution_count": 53,
   "metadata": {
    "collapsed": true
   },
   "outputs": [],
   "source": [
    "# First Scrape Golfer names into a list\n",
    "\n",
    "names = []\n",
    "for n in soup.find_all('td', {'class':'player-name'}):\n",
    "    names.append(n.find('a').contents[0])\n",
    "names_clean8 = [str(name.replace(\"\\xa0\", \" \")) for name in names]"
   ]
  },
  {
   "cell_type": "code",
   "execution_count": 54,
   "metadata": {
    "collapsed": false
   },
   "outputs": [
    {
     "data": {
      "text/plain": [
       "205"
      ]
     },
     "execution_count": 54,
     "metadata": {},
     "output_type": "execute_result"
    }
   ],
   "source": [
    "len(names_clean8)"
   ]
  },
  {
   "cell_type": "code",
   "execution_count": 55,
   "metadata": {
    "collapsed": true
   },
   "outputs": [],
   "source": [
    "# Scrape stats\n",
    "stats = []\n",
    "\n",
    "for stat in soup.find_all('td', {'class':'hidden-small hidden-medium'}):\n",
    "    try:\n",
    "        stats.append(stat.contents[0])\n",
    "    except:\n",
    "        stats.append(0)"
   ]
  },
  {
   "cell_type": "code",
   "execution_count": 56,
   "metadata": {
    "collapsed": true
   },
   "outputs": [],
   "source": [
    "# Convert to numeric\n",
    "\n",
    "stats1 = []\n",
    "for num in stats:\n",
    "    num = str(num).replace(',', '').replace(' ', '')\n",
    "    stats1.append(float(num))"
   ]
  },
  {
   "cell_type": "code",
   "execution_count": 57,
   "metadata": {
    "collapsed": true
   },
   "outputs": [],
   "source": [
    "# Break up into separate lists for each statistic\n",
    "\n",
    "perc = stats1[1::4]"
   ]
  },
  {
   "cell_type": "code",
   "execution_count": 58,
   "metadata": {
    "collapsed": false
   },
   "outputs": [],
   "source": [
    "# Convert to DataFrame\n",
    "\n",
    "sg_putting = pd.DataFrame({\n",
    "        'Name':names_clean8,\n",
    "        'SG: Putting':perc\n",
    "    })"
   ]
  },
  {
   "cell_type": "markdown",
   "metadata": {},
   "source": [
    "## Scrambling (205 Golfers)"
   ]
  },
  {
   "cell_type": "code",
   "execution_count": 59,
   "metadata": {
    "collapsed": true
   },
   "outputs": [],
   "source": [
    "req = requests.get(\"http://www.pgatour.com/stats/stat.130.html\")\n",
    "soup = BeautifulSoup(req.text, \"html.parser\")"
   ]
  },
  {
   "cell_type": "code",
   "execution_count": 60,
   "metadata": {
    "collapsed": true
   },
   "outputs": [],
   "source": [
    "# First Scrape Golfer names into a list\n",
    "\n",
    "names = []\n",
    "for n in soup.find_all('td', {'class':'player-name'}):\n",
    "    names.append(n.find('a').contents[0])\n",
    "names_clean9 = [str(name.replace(\"\\xa0\", \" \")) for name in names]"
   ]
  },
  {
   "cell_type": "code",
   "execution_count": 61,
   "metadata": {
    "collapsed": false
   },
   "outputs": [
    {
     "data": {
      "text/plain": [
       "205"
      ]
     },
     "execution_count": 61,
     "metadata": {},
     "output_type": "execute_result"
    }
   ],
   "source": [
    "len(names_clean9)"
   ]
  },
  {
   "cell_type": "code",
   "execution_count": 62,
   "metadata": {
    "collapsed": true
   },
   "outputs": [],
   "source": [
    "# Scrape stats\n",
    "stats = []\n",
    "\n",
    "for stat in soup.find_all('td', {'class':'hidden-small hidden-medium'}):\n",
    "    try:\n",
    "        stats.append(stat.contents[0])\n",
    "    except:\n",
    "        stats.append(0)"
   ]
  },
  {
   "cell_type": "code",
   "execution_count": 63,
   "metadata": {
    "collapsed": true
   },
   "outputs": [],
   "source": [
    "# Convert to numeric\n",
    "\n",
    "stats1 = []\n",
    "for num in stats:\n",
    "    num = str(num).replace(',', '').replace(' ', '')\n",
    "    stats1.append(float(num))"
   ]
  },
  {
   "cell_type": "code",
   "execution_count": 64,
   "metadata": {
    "collapsed": true
   },
   "outputs": [],
   "source": [
    "# Break up into separate lists for each statistic\n",
    "\n",
    "perc = stats1[1::4]"
   ]
  },
  {
   "cell_type": "code",
   "execution_count": 65,
   "metadata": {
    "collapsed": false
   },
   "outputs": [],
   "source": [
    "# Convert to DataFrame\n",
    "\n",
    "scrambling = pd.DataFrame({\n",
    "        'Name':names_clean9,\n",
    "        'Scrambling %':perc\n",
    "    })"
   ]
  },
  {
   "cell_type": "markdown",
   "metadata": {},
   "source": [
    "## Combine Stats Into One DataFrame"
   ]
  },
  {
   "cell_type": "code",
   "execution_count": 66,
   "metadata": {
    "collapsed": false
   },
   "outputs": [],
   "source": [
    "# Sets are (top10, scoring_avg, driving_distance, driving_accuracy, greens_in_regulation,\n",
    "#            sg_tee_to_green, sg_total, sg_putting, scrambling)\n",
    "\n",
    "data = top10.merge(scoring_avg, how='right', on=['Name']).merge(\n",
    "    driving_distance, on=['Name']).merge(driving_accuracy, on=['Name']).merge(\n",
    "    greens_in_regulation, on=['Name']).merge(sg_tee_to_green, on=['Name']).merge(\n",
    "    sg_total, on=['Name']).merge(sg_putting, on=['Name']).merge(scrambling, on=['Name'])\n"
   ]
  },
  {
   "cell_type": "code",
   "execution_count": 67,
   "metadata": {
    "collapsed": false
   },
   "outputs": [],
   "source": [
    "# clean\n",
    "\n",
    "for col in ['1st', '2nd', '3rd', 'Events']:\n",
    "    data[col] = data[col].fillna(0)"
   ]
  },
  {
   "cell_type": "code",
   "execution_count": 68,
   "metadata": {
    "collapsed": true
   },
   "outputs": [],
   "source": [
    "# write out to csv\n",
    "\n",
    "data.to_csv('golfers.csv')"
   ]
  },
  {
   "cell_type": "markdown",
   "metadata": {},
   "source": [
    "## Collect Data on the Course Itself (Erin Hills)\n",
    "The US Open this year will be played at Erin Hills. In anticipation of my machine learning model, I did some preliminary research on the course. I created a separate dataset with information on each hole on the course (distance, par, and description) and also jotted down notes on the course so I could better estimate which attributes would give players more of an edge in this tournament."
   ]
  },
  {
   "cell_type": "code",
   "execution_count": 69,
   "metadata": {
    "collapsed": true
   },
   "outputs": [],
   "source": [
    "req = requests.get(\"https://erinhills.com/golf/hole-by-hole/\")\n",
    "soup = BeautifulSoup(req.text, \"html.parser\")"
   ]
  },
  {
   "cell_type": "code",
   "execution_count": 70,
   "metadata": {
    "collapsed": false
   },
   "outputs": [],
   "source": [
    "dists = []\n",
    "for dist in soup.find_all('p', {'class':'tee-distance'})[::5]:\n",
    "    dists.append(int(dist.contents[0]))"
   ]
  },
  {
   "cell_type": "code",
   "execution_count": 71,
   "metadata": {
    "collapsed": false
   },
   "outputs": [],
   "source": [
    "par = []\n",
    "for num in soup.find_all('div', {'class':'par'}):\n",
    "    p = str(num.contents[0])[13]\n",
    "    par.append(int(p))"
   ]
  },
  {
   "cell_type": "code",
   "execution_count": 72,
   "metadata": {
    "collapsed": false
   },
   "outputs": [],
   "source": [
    "descs = []\n",
    "for desc in soup.find_all('div', {'class':'hole-copy'}):\n",
    "    descs.append(str(desc.contents[0])[3:-4])"
   ]
  },
  {
   "cell_type": "code",
   "execution_count": 73,
   "metadata": {
    "collapsed": false
   },
   "outputs": [],
   "source": [
    "course = pd.DataFrame({\n",
    "        'Hole':np.arange(1,19),\n",
    "        'Distance':dists,\n",
    "        'Par':par,\n",
    "        'Description':descs\n",
    "    })"
   ]
  },
  {
   "cell_type": "code",
   "execution_count": 74,
   "metadata": {
    "collapsed": false
   },
   "outputs": [],
   "source": [
    "# write to csv\n",
    "\n",
    "course.to_csv('course.csv')"
   ]
  }
 ],
 "metadata": {
  "kernelspec": {
   "display_name": "Python 3",
   "language": "python",
   "name": "python3"
  },
  "language_info": {
   "codemirror_mode": {
    "name": "ipython",
    "version": 3
   },
   "file_extension": ".py",
   "mimetype": "text/x-python",
   "name": "python",
   "nbconvert_exporter": "python",
   "pygments_lexer": "ipython3",
   "version": "3.5.2"
  }
 },
 "nbformat": 4,
 "nbformat_minor": 2
}
