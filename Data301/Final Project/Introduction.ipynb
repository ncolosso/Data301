{
 "cells": [
  {
   "cell_type": "markdown",
   "metadata": {},
   "source": [
    "## Introduction\n",
    "I am a big golf fanatic. I love to play and love to watch as well. When I was choosing a topic for this project, I knew I wanted to do something sports related, but didn't know which sport exactly I was set on. It was when I noticed that the US Open was on the horizon that I decided to do golf, and additionally predict the winner of this tournament.\n",
    "\n",
    "Choosing golf presented more of a challenge because unlike basketball or football, there isn't some massive online database with stats for games, players, etc. that you can easily download and start analyzing immediately. No, the closest thing to that I found was pages and pages of different statistics on players for this year alone, all on different HTML pages. So scraping the data off each page and organizing and cleaning it in a dataset would definitely be required.\n",
    "\n",
    "This page will also serve as a breakdown of the meaning of some of the more complicated statistics I analyzed in this project:\n",
    "- Driving Percentage: % of the holes this golfer's drives land in the fairway\n",
    "- Greens Percentage: % of the holes this golfer gets on the green with 2 strokes left\n",
    "- SG (Strokes-Gained): A measure of how well a golfer's shot has put him in position to par the hole\n",
    "- Scrambling %: % of holes this golfer is able to avoid bogey after failing to make the green with 2 strokes left"
   ]
  },
  {
   "cell_type": "code",
   "execution_count": null,
   "metadata": {
    "collapsed": true
   },
   "outputs": [],
   "source": []
  }
 ],
 "metadata": {
  "kernelspec": {
   "display_name": "Python 3",
   "language": "python",
   "name": "python3"
  },
  "language_info": {
   "codemirror_mode": {
    "name": "ipython",
    "version": 3
   },
   "file_extension": ".py",
   "mimetype": "text/x-python",
   "name": "python",
   "nbconvert_exporter": "python",
   "pygments_lexer": "ipython3",
   "version": "3.5.2"
  }
 },
 "nbformat": 4,
 "nbformat_minor": 2
}
