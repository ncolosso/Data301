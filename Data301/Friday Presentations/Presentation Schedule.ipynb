{
 "cells": [
  {
   "cell_type": "markdown",
   "metadata": {},
   "source": [
    "# Presentation Schedule\n",
    "\n",
    "As you know, participation is a component of your final project grade. Your participation will be based on questions that you ask during the session, as well as on peer feedback that you provide. \n",
    "\n",
    "Run the cells below. You should see a list of the Github usernames of the presenters, in the order that they will present. Each username is a hyperlink that will take you to a form where you can submit peer feedback for that presenter."
   ]
  },
  {
   "cell_type": "code",
   "execution_count": null,
   "metadata": {
    "collapsed": false
   },
   "outputs": [],
   "source": [
    "import os\n",
    "import pwd\n",
    "from IPython.core.display import display, HTML\n",
    "\n",
    "user = pwd.getpwuid(os.getuid())[0]\n",
    "\n",
    "print(\"I am %s.\" % user)"
   ]
  },
  {
   "cell_type": "code",
   "execution_count": null,
   "metadata": {
    "collapsed": true
   },
   "outputs": [],
   "source": [
    "presenters = [\"bweeks42\", \"kartik924\", \"jfong27\", \"josephhurst\",\n",
    "              \"georgiev2592\", \"kort-h\", \"tmgerrit\", \"hanskamin\",\n",
    "              \"levimusk\", \"geraldomacias\", \"kriscampos\", \"diazchris007\"]"
   ]
  },
  {
   "cell_type": "code",
   "execution_count": null,
   "metadata": {
    "collapsed": false
   },
   "outputs": [],
   "source": [
    "display(HTML(\"<h2>Presentation Schedule</h2>\"))\n",
    "\n",
    "for i, presenter in enumerate(presenters):\n",
    "    display(HTML('''\n",
    "    %d. <a href=\"https://docs.google.com/forms/d/e/1FAIpQLSe8D1TC7fzfAd6k0e3Q-jCmO15L3RJwVWFn0I2u-tiOvhvoGA/viewform?usp=pp_url&entry.1227876566=%s&entry.375934390=%s\" target=\"_blank\">%s</a> \n",
    "    ''' % (i, user, presenter, presenter)))"
   ]
  }
 ],
 "metadata": {
  "kernelspec": {
   "display_name": "Python 3",
   "language": "python",
   "name": "python3"
  },
  "language_info": {
   "codemirror_mode": {
    "name": "ipython",
    "version": 3
   },
   "file_extension": ".py",
   "mimetype": "text/x-python",
   "name": "python",
   "nbconvert_exporter": "python",
   "pygments_lexer": "ipython3",
   "version": "3.5.2"
  }
 },
 "nbformat": 4,
 "nbformat_minor": 2
}
