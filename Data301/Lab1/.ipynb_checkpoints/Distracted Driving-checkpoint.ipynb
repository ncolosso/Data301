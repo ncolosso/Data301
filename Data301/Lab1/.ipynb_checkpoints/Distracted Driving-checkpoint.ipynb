{
 "cells": [
  {
   "cell_type": "markdown",
   "metadata": {},
   "source": [
    "# Distracted Driving\n",
    "\n",
    "Researchers at the University of Utah (Strayer and Johnston, 2001) asked student volunteers to use a machine that simulated driving situations. At irregular intervals, a target would flash red or green. Participants were instructed to press a \"brake button\" as soon as possible when they detected a red light. The machine would calculate the mean reaction time to the red flashing targets for each student in milliseconds.\n",
    "\n",
    "The students were given a warm-up period to familiarize themselves with the driving simulator. Then the researchers had each student use the driving simulation machine while talking on a cell phone about politics to someone in another room and then again with music or a book-on-tape\n",
    "playing in the background (control). The students were randomly assigned as to whether they used the cell phone or the control setting for the first trial. "
   ]
  },
  {
   "cell_type": "code",
   "execution_count": 1,
   "metadata": {
    "collapsed": true
   },
   "outputs": [],
   "source": [
    "from symbulate import *\n",
    "%matplotlib inline"
   ]
  },
  {
   "cell_type": "code",
   "execution_count": 2,
   "metadata": {
    "collapsed": true
   },
   "outputs": [],
   "source": [
    "# This cell should only be modified only by a grader.\n",
    "scores = []"
   ]
  },
  {
   "cell_type": "markdown",
   "metadata": {},
   "source": [
    "The data for 16 students appears below. The first number in each tuple is their reaction time (in milliseconds) when they used the cell phone, while the second number is their reaction time when they were assigned to control."
   ]
  },
  {
   "cell_type": "code",
   "execution_count": 3,
   "metadata": {
    "collapsed": true
   },
   "outputs": [],
   "source": [
    "data = [\n",
    "    (636, 604),\n",
    "    (623, 556),\n",
    "    (615, 540),\n",
    "    (672, 522),\n",
    "    (601, 459),\n",
    "    (600, 544),\n",
    "    (542, 513),\n",
    "    (554, 470),\n",
    "    (543, 556),\n",
    "    (520, 531),\n",
    "    (609, 599),\n",
    "    (559, 537),\n",
    "    (595, 619),\n",
    "    (565, 536),\n",
    "    (573, 554),\n",
    "    (554, 467)\n",
    "       ]"
   ]
  },
  {
   "cell_type": "markdown",
   "metadata": {},
   "source": [
    "## Question 1\n",
    "\n",
    "We want to test the null hypothesis that talking on a cell phone has no effect on reaction time. Suppose we ignore the actual reaction times and just focus on whether or not the reaction time was longer when the subject used a cell phone. We count up the number of subjects who had a longer reaction time when they used a cell phone, and we want to know whether it is more than we would expect by chance, if using a cell phone really has no effect.\n",
    "\n",
    "**Step 1.** Set up a box model that will allow you to conduct this analysis."
   ]
  },
  {
   "cell_type": "code",
   "execution_count": 4,
   "metadata": {
    "collapsed": false
   },
   "outputs": [],
   "source": [
    "box = [0, 1]\n",
    "model = RV(BoxModel(box, size=16, replace=True), sum)"
   ]
  },
  {
   "cell_type": "code",
   "execution_count": 5,
   "metadata": {
    "collapsed": false
   },
   "outputs": [
    {
     "data": {
      "text/plain": [
       "[1, 1, 1, 1, 1, 1, 1, 1, 0, 0, 1, 1, 0, 1, 1, 1]"
      ]
     },
     "execution_count": 5,
     "metadata": {},
     "output_type": "execute_result"
    }
   ],
   "source": [
    "## Change original sample list into 1 for when reaction time is greater when on phone, 0 for when it's not\n",
    "dataMan = [1 if time[0] > time[1] else 0 for time in data]\n",
    "dataMan"
   ]
  },
  {
   "cell_type": "code",
   "execution_count": 6,
   "metadata": {
    "collapsed": false
   },
   "outputs": [
    {
     "data": {
      "text/plain": [
       "13"
      ]
     },
     "execution_count": 6,
     "metadata": {},
     "output_type": "execute_result"
    }
   ],
   "source": [
    "## Find count of observations where reaction time is greater when on the phone\n",
    "count = sum(dataMan)\n",
    "count"
   ]
  },
  {
   "cell_type": "markdown",
   "metadata": {},
   "source": [
    "**Step 2.** Simulate from the box model, and compare the observed value to the simulations to obtain a $p$-value."
   ]
  },
  {
   "cell_type": "code",
   "execution_count": 7,
   "metadata": {
    "collapsed": false
   },
   "outputs": [
    {
     "data": {
      "image/png": "[encoded data removed]",
      "text/plain": [
       "<matplotlib.figure.Figure at 0x7ff69d9c79e8>"
      ]
     },
     "metadata": {},
     "output_type": "display_data"
    }
   ],
   "source": [
    "sims = model.sim(5000)\n",
    "sims.plot()"
   ]
  },
  {
   "cell_type": "code",
   "execution_count": 8,
   "metadata": {
    "collapsed": false
   },
   "outputs": [
    {
     "data": {
      "text/plain": [
       "0.0116"
      ]
     },
     "execution_count": 8,
     "metadata": {},
     "output_type": "execute_result"
    }
   ],
   "source": [
    "## Find p-value using observed count\n",
    "sims.count_geq(13)/5000"
   ]
  },
  {
   "cell_type": "markdown",
   "metadata": {},
   "source": [
    "**Step 3.** Interpret the $p$-value in context, and state your conclusion precisely."
   ]
  },
  {
   "cell_type": "markdown",
   "metadata": {
    "collapsed": true
   },
   "source": [
    "Assuming there is no difference in reaction time when someone is on their phone, there is a 0.1% chance we would observe 13 counts or more of a higher reaction time when someone is on their phone out of a sample of 16 observations. Given this, we conclude that using a cell phone while driving does, in fact, have an effect on one's reaction time."
   ]
  },
  {
   "cell_type": "markdown",
   "metadata": {},
   "source": [
    "### Grader's Comments\n",
    "\n",
    "- \n",
    "- \n",
    "\n",
    "[This question is worth 20 points.]"
   ]
  },
  {
   "cell_type": "code",
   "execution_count": 9,
   "metadata": {
    "collapsed": false
   },
   "outputs": [],
   "source": [
    "# This cell should only be modified only by a grader.\n",
    "scores.append(0)"
   ]
  },
  {
   "cell_type": "markdown",
   "metadata": {},
   "source": [
    "## Question 2\n",
    "\n",
    "Now let's use the reaction times to test the same null hypothesis. First, we'll calculate the difference between the reaction times for each subject (the reaction time when he/she talked on a cell phone, minus the reaction time when he/she was assigned to control). \n",
    "\n",
    "If talking on a cell phone really has no effect on reaction time, what would you expect the average difference to be? Can the observed difference be explained by random chance?\n",
    "\n",
    "Conduct a complete hypothesis test by simulating from a relevant model, comparing the observed data to the simulations, and calculating a $p$-value. Be sure to interpret the $p$-value in context and state your final conclusion precisely. (Two cells have been provided for you below, but you may need to insert more.)"
   ]
  },
  {
   "cell_type": "code",
   "execution_count": 10,
   "metadata": {
    "collapsed": false
   },
   "outputs": [
    {
     "data": {
      "text/plain": [
       "[32, 67, 75, 150, 142, 56, 29, 84, -13, -11, 10, 22, -24, 29, 19, 87]"
      ]
     },
     "execution_count": 10,
     "metadata": {},
     "output_type": "execute_result"
    }
   ],
   "source": [
    "## Create new list with time differences for each observation (phone-noPhone)\n",
    "timediff = [i[0] - i[1] for i in data]\n",
    "timediff"
   ]
  },
  {
   "cell_type": "code",
   "execution_count": 11,
   "metadata": {
    "collapsed": false
   },
   "outputs": [
    {
     "data": {
      "image/png": "[encoded data removed]",
      "text/plain": [
       "<matplotlib.figure.Figure at 0x7ff6638324a8>"
      ]
     },
     "metadata": {},
     "output_type": "display_data"
    }
   ],
   "source": [
    "## Create sample t-distribution using new list of differences\n",
    "n = len(timediff)\n",
    "T = RV(StudentT(df=n-1))\n",
    "sims = T.sim(5000)\n",
    "sims.plot(type=\"bar\")"
   ]
  },
  {
   "cell_type": "code",
   "execution_count": 12,
   "metadata": {
    "collapsed": false
   },
   "outputs": [
    {
     "data": {
      "text/plain": [
       "3.792645702135892"
      ]
     },
     "execution_count": 12,
     "metadata": {},
     "output_type": "execute_result"
    }
   ],
   "source": [
    "## Find t-value of observed data\n",
    "tSamp = (mean(timediff)-0)/(sd(timediff)/sqrt(n))\n",
    "tSamp"
   ]
  },
  {
   "cell_type": "code",
   "execution_count": 13,
   "metadata": {
    "collapsed": false
   },
   "outputs": [
    {
     "data": {
      "text/plain": [
       "0.001"
      ]
     },
     "execution_count": 13,
     "metadata": {},
     "output_type": "execute_result"
    }
   ],
   "source": [
    "## Calculate p-value using observed t-value\n",
    "sims.count_geq(tSamp)/5000"
   ]
  },
  {
   "cell_type": "markdown",
   "metadata": {},
   "source": [
    "Assuming there really is no difference in reaction time when talking on the phone, there is a 0.1% chance we would observe a t-value of 3.79 or greater from our observed data. We would have to accept that an approximately 1 in 100 event has just happened if we believe the null to be true. Based on this, we would conclude that there truly is a difference in average reaction time when someone is talking on their cell phone."
   ]
  },
  {
   "cell_type": "markdown",
   "metadata": {},
   "source": [
    "### Grader's Comments\n",
    "\n",
    "- \n",
    "- \n",
    "\n",
    "[This question is worth 20 points.]"
   ]
  },
  {
   "cell_type": "code",
   "execution_count": 14,
   "metadata": {
    "collapsed": true
   },
   "outputs": [],
   "source": [
    "# This cell should only be modified only by a grader.\n",
    "scores.append(0)"
   ]
  }
 ],
 "metadata": {
  "kernelspec": {
   "display_name": "Python 3",
   "language": "python",
   "name": "python3"
  },
  "language_info": {
   "codemirror_mode": {
    "name": "ipython",
    "version": 3
   },
   "file_extension": ".py",
   "mimetype": "text/x-python",
   "name": "python",
   "nbconvert_exporter": "python",
   "pygments_lexer": "ipython3",
   "version": "3.5.2"
  }
 },
 "nbformat": 4,
 "nbformat_minor": 1
}
