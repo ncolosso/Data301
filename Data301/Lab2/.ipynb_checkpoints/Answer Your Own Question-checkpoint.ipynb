{
 "cells": [
  {
   "cell_type": "markdown",
   "metadata": {},
   "source": [
    "# Answer Your Own Question!\n",
    "\n",
    "While it's obviously important to be able to answer a question that is posed to you, a big part of data science is knowing what questions to ask. To give you practice doing this, the last part of this lab is deliberately open-ended. \n",
    "\n",
    "**Task:** Come up with your own question about the Shark Tank data set and answer it. \n",
    "\n",
    "You will need to add Markdown and Code cells below to (1) state the question you are trying to answer, (2) write code to answer the question, and (3) explain your findings. You will be graded on:\n",
    "- how interesting your question is [5 points]\n",
    "- the correctness of your analysis [10 points]\n",
    "- the clarity of the presentation [5 points]\n",
    "\n",
    "If you go above and beyond, you can even earn extra credit."
   ]
  },
  {
   "cell_type": "code",
   "execution_count": 1,
   "metadata": {
    "collapsed": false
   },
   "outputs": [],
   "source": [
    "import pandas as pd\n",
    "import numpy as np\n",
    "from symbulate import *\n",
    "pd.set_option(\"display.max_rows\", 15)\n",
    "data = pd.read_csv(\"/data/sharktank.csv\")"
   ]
  },
  {
   "cell_type": "markdown",
   "metadata": {},
   "source": [
    "# Which Industry Was Worth the Most?"
   ]
  },
  {
   "cell_type": "markdown",
   "metadata": {},
   "source": [
    "For an entreprenuer wanting to get rich, choosing the right industry is critical, Calculate which industry vas valued the most by the sharks, as well as the one that received the most in total investments from the sharks in order to give some insight on this topic."
   ]
  },
  {
   "cell_type": "code",
   "execution_count": 2,
   "metadata": {
    "collapsed": false
   },
   "outputs": [],
   "source": [
    "data[\"Amount\"] = data[\"Amount\"].str.replace(\",\",\"\")\n",
    "data[\"Amount\"] = data[\"Amount\"].str.replace(\"$\",\"\")\n",
    "data[\"Amount\"] = data[\"Amount\"].apply(pd.to_numeric)\n",
    "data[\"Equity\"] = data[\"Equity\"].str.replace(\"%\",\"\")\n",
    "data[\"Equity\"] = pd.to_numeric(data[\"Equity\"], errors='coerce')"
   ]
  },
  {
   "cell_type": "code",
   "execution_count": 3,
   "metadata": {
    "collapsed": false
   },
   "outputs": [],
   "source": [
    "data[\"Valuation\"] = data.Amount/(data.Equity/100)\n",
    "data[\"Valuation\"] = data[\"Valuation\"].replace(np.inf, np.nan)"
   ]
  },
  {
   "cell_type": "code",
   "execution_count": 4,
   "metadata": {
    "collapsed": false
   },
   "outputs": [
    {
     "data": {
      "text/plain": [
       "Industry\n",
       "Business Services        2.400000e+06\n",
       "Children / Education     2.469848e+07\n",
       "Consumer Products        7.187479e+06\n",
       "Fashion / Beauty         3.641161e+07\n",
       "Fitness / Sports         2.933684e+07\n",
       "Food and Beverage        7.601234e+07\n",
       "Green/CleanTech          1.631723e+07\n",
       "Healthcare               1.990194e+07\n",
       "Lifestyle / Home         3.538333e+07\n",
       "Media / Entertainment    3.215278e+07\n",
       "Pet Products             2.135714e+06\n",
       "Software / Tech          1.555409e+07\n",
       "Uncertain / Other        7.152381e+06\n",
       "Name: Valuation, dtype: float64"
      ]
     },
     "execution_count": 4,
     "metadata": {},
     "output_type": "execute_result"
    }
   ],
   "source": [
    "data.groupby(\"Industry\")[\"Valuation\"].sum()"
   ]
  },
  {
   "cell_type": "code",
   "execution_count": 5,
   "metadata": {
    "collapsed": false
   },
   "outputs": [
    {
     "data": {
      "text/plain": [
       "Industry\n",
       "Business Services          675000.0\n",
       "Children / Education      3985000.0\n",
       "Consumer Products         2110000.0\n",
       "Fashion / Beauty          8895000.0\n",
       "Fitness / Sports          7035000.0\n",
       "Food and Beverage        13585000.0\n",
       "Green/CleanTech           6450000.0\n",
       "Healthcare                5380000.0\n",
       "Lifestyle / Home          6700000.0\n",
       "Media / Entertainment     4000000.0\n",
       "Pet Products               675000.0\n",
       "Software / Tech           3069000.0\n",
       "Uncertain / Other         2525000.0\n",
       "Name: Amount, dtype: float64"
      ]
     },
     "execution_count": 5,
     "metadata": {},
     "output_type": "execute_result"
    }
   ],
   "source": [
    "data.groupby(\"Industry\")[\"Amount\"].sum()"
   ]
  },
  {
   "cell_type": "markdown",
   "metadata": {},
   "source": [
    "The industry with the highest valuation is once again the Food and Beverage industry, it is also the same industry with the highest aggregate amount of investments from the sharks. As the industry with the highest proportion of investment, as well as the industry with the highest aggregate valuation and investment amount, entreprenuers should look to enter the Food and Beverage industry if they hope to become rich. However, the results of our analysis do not fully convey the difficulty of entry into this industry, which is expected to be very high."
   ]
  },
  {
   "cell_type": "markdown",
   "metadata": {},
   "source": [
    "### Grader's Comments\n",
    "\n",
    "- \n",
    "- \n",
    "\n",
    "[This question is worth 20 points.]"
   ]
  },
  {
   "cell_type": "code",
   "execution_count": 6,
   "metadata": {
    "collapsed": false
   },
   "outputs": [
    {
     "ename": "NameError",
     "evalue": "name 'scores' is not defined",
     "output_type": "error",
     "traceback": [
      "\u001b[0;31m---------------------------------------------------------------------------\u001b[0m",
      "\u001b[0;31mNameError\u001b[0m                                 Traceback (most recent call last)",
      "\u001b[0;32m<ipython-input-6-81471e7703c2>\u001b[0m in \u001b[0;36m<module>\u001b[0;34m()\u001b[0m\n\u001b[1;32m      1\u001b[0m \u001b[0;31m# This cell should only be modified only by a grader.\u001b[0m\u001b[0;34m\u001b[0m\u001b[0;34m\u001b[0m\u001b[0m\n\u001b[0;32m----> 2\u001b[0;31m \u001b[0mscores\u001b[0m\u001b[0;34m.\u001b[0m\u001b[0mappend\u001b[0m\u001b[0;34m(\u001b[0m\u001b[0;36m0\u001b[0m\u001b[0;34m)\u001b[0m\u001b[0;34m\u001b[0m\u001b[0m\n\u001b[0m",
      "\u001b[0;31mNameError\u001b[0m: name 'scores' is not defined"
     ]
    }
   ],
   "source": [
    "# This cell should only be modified only by a grader.\n",
    "scores.append(0)"
   ]
  }
 ],
 "metadata": {
  "kernelspec": {
   "display_name": "Python 3",
   "language": "python",
   "name": "python3"
  },
  "language_info": {
   "codemirror_mode": {
    "name": "ipython",
    "version": 3
   },
   "file_extension": ".py",
   "mimetype": "text/x-python",
   "name": "python",
   "nbconvert_exporter": "python",
   "pygments_lexer": "ipython3",
   "version": "3.5.2"
  }
 },
 "nbformat": 4,
 "nbformat_minor": 1
}
