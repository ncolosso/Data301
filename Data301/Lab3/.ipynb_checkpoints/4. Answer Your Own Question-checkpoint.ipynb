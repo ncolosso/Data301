{
 "cells": [
  {
   "cell_type": "markdown",
   "metadata": {},
   "source": [
    "# Answer Your Own Question\n",
    "\n",
    "While it's obviously important to be able to answer a question that is posed to you, a big part of data science is knowing what questions to ask. To give you practice doing this, the last part of this lab is deliberately open-ended. \n",
    "\n",
    "**Task:** Come up with your own question about the MovieLens data set and answer it.\n",
    "\n",
    "You will need to add Markdown and Code cells below to (1) state the question you are trying to answer, (2) write code to answer the question, and (3) explain your findings. You will be graded on:\n",
    "- how interesting your question is [5 points]\n",
    "- the correctness of your analysis [10 points]\n",
    "- the clarity of the presentation [5 points]\n",
    "\n",
    "If you go above and beyond, you can even earn extra credit."
   ]
  },
  {
   "cell_type": "markdown",
   "metadata": {},
   "source": [
    "**Some Tips:**\n",
    "\n",
    "- In the past, students have found the `Occupation` and `Zip-Code` columns in the users table to be a rich source of questions.\n",
    "- Your question does not necessarily have to pertain to all movies. Feel free to analyze a specific movie or a specific set of movies, like you did in Question 2 of this lab."
   ]
  },
  {
   "cell_type": "markdown",
   "metadata": {},
   "source": [
    "# Who rates what movies?"
   ]
  },
  {
   "cell_type": "markdown",
   "metadata": {},
   "source": [
    "One would naturally assume older movies have an audience of older people, and vise versa. However, data could be biased if the population of users rating each movie was correlated with the movie's release date. Does this dataset face that issue? To answer this question, find the average age of users for older vs newer movies. In order to eliminate outliers, use only films that have a high number of ratings, say at least 100."
   ]
  },
  {
   "cell_type": "code",
   "execution_count": 1,
   "metadata": {
    "collapsed": true
   },
   "outputs": [],
   "source": [
    "import pandas as pd\n",
    "\n",
    "columns1 = \"UserID::MovieID::Rating::Timestamp\".split(\"::\")\n",
    "columns2 = \"UserID::Gender::Age::Occupation::Zip-Code\".split(\"::\")\n",
    "columns3 = \"MovieID::Title::Genres\".split(\"::\")\n",
    "ratings = pd.read_table('/data/movielens/ratings.dat', sep='::', \n",
    "                        header=None, names=columns1, engine='python')\n",
    "users = pd.read_table('/data/movielens/users.dat', sep='::', \n",
    "                        header=None, names=columns2, engine='python')\n",
    "movies = pd.read_table('/data/movielens/movies.dat', sep='::', \n",
    "                        header=None, names=columns3, engine='python')"
   ]
  },
  {
   "cell_type": "code",
   "execution_count": 2,
   "metadata": {
    "collapsed": false
   },
   "outputs": [],
   "source": [
    "merge1 = users.merge(ratings, how='left', on=[\"UserID\"])\n",
    "data_merged = merge1.merge(movies, how='right', on=[\"MovieID\"])"
   ]
  },
  {
   "cell_type": "code",
   "execution_count": 3,
   "metadata": {
    "collapsed": false
   },
   "outputs": [
    {
     "data": {
      "text/html": [
       "<div>\n",
       "<table border=\"1\" class=\"dataframe\">\n",
       "  <thead>\n",
       "    <tr style=\"text-align: right;\">\n",
       "      <th></th>\n",
       "      <th>Title</th>\n",
       "      <th>Count</th>\n",
       "    </tr>\n",
       "  </thead>\n",
       "  <tbody>\n",
       "    <tr>\n",
       "      <th>0</th>\n",
       "      <td>$1,000,000 Duck (1971)</td>\n",
       "      <td>37</td>\n",
       "    </tr>\n",
       "    <tr>\n",
       "      <th>1</th>\n",
       "      <td>'Night Mother (1986)</td>\n",
       "      <td>70</td>\n",
       "    </tr>\n",
       "    <tr>\n",
       "      <th>2</th>\n",
       "      <td>'Til There Was You (1997)</td>\n",
       "      <td>52</td>\n",
       "    </tr>\n",
       "    <tr>\n",
       "      <th>3</th>\n",
       "      <td>'burbs, The (1989)</td>\n",
       "      <td>303</td>\n",
       "    </tr>\n",
       "    <tr>\n",
       "      <th>4</th>\n",
       "      <td>...And Justice for All (1979)</td>\n",
       "      <td>199</td>\n",
       "    </tr>\n",
       "  </tbody>\n",
       "</table>\n",
       "</div>"
      ],
      "text/plain": [
       "                           Title  Count\n",
       "0         $1,000,000 Duck (1971)     37\n",
       "1           'Night Mother (1986)     70\n",
       "2      'Til There Was You (1997)     52\n",
       "3             'burbs, The (1989)    303\n",
       "4  ...And Justice for All (1979)    199"
      ]
     },
     "execution_count": 3,
     "metadata": {},
     "output_type": "execute_result"
    }
   ],
   "source": [
    "counts = data_merged.groupby(\"Title\")[\"MovieID\"].count().reset_index(name=\"Count\")\n",
    "counts.head()"
   ]
  },
  {
   "cell_type": "code",
   "execution_count": 4,
   "metadata": {
    "collapsed": false
   },
   "outputs": [
    {
     "name": "stderr",
     "output_type": "stream",
     "text": [
      "/opt/conda/lib/python3.5/site-packages/ipykernel/__main__.py:3: SettingWithCopyWarning: \n",
      "A value is trying to be set on a copy of a slice from a DataFrame.\n",
      "Try using .loc[row_indexer,col_indexer] = value instead\n",
      "\n",
      "See the caveats in the documentation: http://pandas.pydata.org/pandas-docs/stable/indexing.html#indexing-view-versus-copy\n",
      "  app.launch_new_instance()\n",
      "/opt/conda/lib/python3.5/site-packages/ipykernel/__main__.py:4: SettingWithCopyWarning: \n",
      "A value is trying to be set on a copy of a slice from a DataFrame.\n",
      "Try using .loc[row_indexer,col_indexer] = value instead\n",
      "\n",
      "See the caveats in the documentation: http://pandas.pydata.org/pandas-docs/stable/indexing.html#indexing-view-versus-copy\n"
     ]
    }
   ],
   "source": [
    "data_merged = data_merged.merge(counts, how='right', on=[\"Title\"])\n",
    "data_clean = data_merged[data_merged[\"Count\"] >= 100]\n",
    "data_clean[\"Year\"] = data_clean[\"Title\"].str[-5:-1]\n",
    "data_clean[\"Year\"] = data_clean[\"Year\"].astype(int)\n",
    "data_clean = data_clean.drop([\"Occupation\", \"Zip-Code\"], 1)"
   ]
  },
  {
   "cell_type": "code",
   "execution_count": 5,
   "metadata": {
    "collapsed": false
   },
   "outputs": [
    {
     "name": "stderr",
     "output_type": "stream",
     "text": [
      "/opt/conda/lib/python3.5/site-packages/ipykernel/__main__.py:1: FutureWarning: sort(columns=....) is deprecated, use sort_values(by=.....)\n",
      "  if __name__ == '__main__':\n"
     ]
    },
    {
     "data": {
      "text/html": [
       "<div>\n",
       "<table border=\"1\" class=\"dataframe\">\n",
       "  <thead>\n",
       "    <tr style=\"text-align: right;\">\n",
       "      <th></th>\n",
       "      <th>UserID</th>\n",
       "      <th>Gender</th>\n",
       "      <th>Age</th>\n",
       "      <th>MovieID</th>\n",
       "      <th>Rating</th>\n",
       "      <th>Timestamp</th>\n",
       "      <th>Title</th>\n",
       "      <th>Genres</th>\n",
       "      <th>Count</th>\n",
       "      <th>Year</th>\n",
       "    </tr>\n",
       "  </thead>\n",
       "  <tbody>\n",
       "    <tr>\n",
       "      <th>819670</th>\n",
       "      <td>6036.0</td>\n",
       "      <td>F</td>\n",
       "      <td>25.0</td>\n",
       "      <td>1348</td>\n",
       "      <td>4.0</td>\n",
       "      <td>956710766.0</td>\n",
       "      <td>Nosferatu (Nosferatu, eine Symphonie des Graue...</td>\n",
       "      <td>Horror</td>\n",
       "      <td>238</td>\n",
       "      <td>1922</td>\n",
       "    </tr>\n",
       "    <tr>\n",
       "      <th>819518</th>\n",
       "      <td>2065.0</td>\n",
       "      <td>M</td>\n",
       "      <td>25.0</td>\n",
       "      <td>1348</td>\n",
       "      <td>4.0</td>\n",
       "      <td>974659677.0</td>\n",
       "      <td>Nosferatu (Nosferatu, eine Symphonie des Graue...</td>\n",
       "      <td>Horror</td>\n",
       "      <td>238</td>\n",
       "      <td>1922</td>\n",
       "    </tr>\n",
       "    <tr>\n",
       "      <th>819517</th>\n",
       "      <td>2056.0</td>\n",
       "      <td>M</td>\n",
       "      <td>25.0</td>\n",
       "      <td>1348</td>\n",
       "      <td>4.0</td>\n",
       "      <td>974660416.0</td>\n",
       "      <td>Nosferatu (Nosferatu, eine Symphonie des Graue...</td>\n",
       "      <td>Horror</td>\n",
       "      <td>238</td>\n",
       "      <td>1922</td>\n",
       "    </tr>\n",
       "    <tr>\n",
       "      <th>819516</th>\n",
       "      <td>2038.0</td>\n",
       "      <td>F</td>\n",
       "      <td>45.0</td>\n",
       "      <td>1348</td>\n",
       "      <td>4.0</td>\n",
       "      <td>974673140.0</td>\n",
       "      <td>Nosferatu (Nosferatu, eine Symphonie des Graue...</td>\n",
       "      <td>Horror</td>\n",
       "      <td>238</td>\n",
       "      <td>1922</td>\n",
       "    </tr>\n",
       "    <tr>\n",
       "      <th>819515</th>\n",
       "      <td>1969.0</td>\n",
       "      <td>F</td>\n",
       "      <td>25.0</td>\n",
       "      <td>1348</td>\n",
       "      <td>2.0</td>\n",
       "      <td>974693428.0</td>\n",
       "      <td>Nosferatu (Nosferatu, eine Symphonie des Graue...</td>\n",
       "      <td>Horror</td>\n",
       "      <td>238</td>\n",
       "      <td>1922</td>\n",
       "    </tr>\n",
       "  </tbody>\n",
       "</table>\n",
       "</div>"
      ],
      "text/plain": [
       "        UserID Gender   Age  MovieID  Rating    Timestamp  \\\n",
       "819670  6036.0      F  25.0     1348     4.0  956710766.0   \n",
       "819518  2065.0      M  25.0     1348     4.0  974659677.0   \n",
       "819517  2056.0      M  25.0     1348     4.0  974660416.0   \n",
       "819516  2038.0      F  45.0     1348     4.0  974673140.0   \n",
       "819515  1969.0      F  25.0     1348     2.0  974693428.0   \n",
       "\n",
       "                                                    Title  Genres  Count  Year  \n",
       "819670  Nosferatu (Nosferatu, eine Symphonie des Graue...  Horror    238  1922  \n",
       "819518  Nosferatu (Nosferatu, eine Symphonie des Graue...  Horror    238  1922  \n",
       "819517  Nosferatu (Nosferatu, eine Symphonie des Graue...  Horror    238  1922  \n",
       "819516  Nosferatu (Nosferatu, eine Symphonie des Graue...  Horror    238  1922  \n",
       "819515  Nosferatu (Nosferatu, eine Symphonie des Graue...  Horror    238  1922  "
      ]
     },
     "execution_count": 5,
     "metadata": {},
     "output_type": "execute_result"
    }
   ],
   "source": [
    "data_clean = data_clean.sort(columns=\"Year\", axis=0)\n",
    "data_clean.head()"
   ]
  },
  {
   "cell_type": "code",
   "execution_count": 6,
   "metadata": {
    "collapsed": true
   },
   "outputs": [],
   "source": [
    "%matplotlib inline"
   ]
  },
  {
   "cell_type": "code",
   "execution_count": 7,
   "metadata": {
    "collapsed": false
   },
   "outputs": [
    {
     "data": {
      "text/plain": [
       "<matplotlib.axes._subplots.AxesSubplot at 0x7f0b358019b0>"
      ]
     },
     "execution_count": 7,
     "metadata": {},
     "output_type": "execute_result"
    },
    {
     "data": {
      "image/png": "[encoded data removed]",
      "text/plain": [
       "<matplotlib.figure.Figure at 0x7f0b358049b0>"
      ]
     },
     "metadata": {},
     "output_type": "display_data"
    }
   ],
   "source": [
    "data_clean.groupby(\"Year\")[\"Age\"].mean().plot()"
   ]
  },
  {
   "cell_type": "markdown",
   "metadata": {},
   "source": [
    "The plot of average user age vs. release year of movies shows no pattern for movies released from 1930 to about 1970. However, there is a steep decline from 1970 to 2000 which indicates movies released during this period show a correlation between user age and movie release, with younger users rating newer movies. \n",
    "\n",
    "Since a movie requires input from people of all ages to receive a truly accurate rating, I can conclude that movies in this data set from 1970 to 2000 show some evidence of bias in age for older vs newer movies and that the ratings pertaining to these movies may be inaccurate. However, our findings show no concrete evidence of rating bias based on user age."
   ]
  },
  {
   "cell_type": "markdown",
   "metadata": {
    "deletable": false
   },
   "source": [
    "### Grader's Comments\n",
    "\n",
    "- \n",
    "- \n",
    "\n",
    "[This question is worth 20 points.]"
   ]
  },
  {
   "cell_type": "code",
   "execution_count": 8,
   "metadata": {
    "collapsed": true,
    "deletable": false
   },
   "outputs": [],
   "source": [
    "# This cell should only be modified only by a grader.\n",
    "scores = [0]"
   ]
  }
 ],
 "metadata": {
  "kernelspec": {
   "display_name": "Python 3",
   "language": "python",
   "name": "python3"
  },
  "language_info": {
   "codemirror_mode": {
    "name": "ipython",
    "version": 3
   },
   "file_extension": ".py",
   "mimetype": "text/x-python",
   "name": "python",
   "nbconvert_exporter": "python",
   "pygments_lexer": "ipython3",
   "version": "3.5.2"
  }
 },
 "nbformat": 4,
 "nbformat_minor": 1
}
