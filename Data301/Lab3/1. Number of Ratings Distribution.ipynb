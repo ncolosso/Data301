{
 "cells": [
  {
   "cell_type": "markdown",
   "metadata": {
    "collapsed": true
   },
   "source": [
    "# Number of Ratings Distribution\n",
    "\n",
    "Some movies have been rated more times than others. Calculate the number of times each movie has been rated. Then, make a histogram of the distribution of the number of ratings. (You can make a histogram of the values in a Pandas series by calling the method `.hist()`.\n",
    "\n",
    "_Hint:_ Some of the movies in the data set have been rated 0 times. Make sure that you are handling this case correctly. You should not need to write any code to handle this case specifically. Instead, think about what type of join you should use and how null values are handled by `.count()`."
   ]
  },
  {
   "cell_type": "code",
   "execution_count": 1,
   "metadata": {
    "collapsed": true
   },
   "outputs": [],
   "source": [
    "import pandas as pd\n",
    "pd.set_option(\"display.max_rows\", 15)\n",
    "%matplotlib inline"
   ]
  },
  {
   "cell_type": "code",
   "execution_count": 2,
   "metadata": {
    "collapsed": false
   },
   "outputs": [],
   "source": [
    "columns = \"UserID::MovieID::Rating::Timestamp\".split(\"::\")\n",
    "ratings = pd.read_table('/data/movielens/ratings.dat', sep='::', \n",
    "                        header=None, names=columns, engine='python')\n",
    "columns2 = \"MovieID::Title::Genres\".split(\"::\")\n",
    "movies = pd.read_table('/data/movielens/movies.dat', sep='::', \n",
    "                        header=None, names=columns2, engine='python')"
   ]
  },
  {
   "cell_type": "code",
   "execution_count": 3,
   "metadata": {
    "collapsed": false
   },
   "outputs": [
    {
     "data": {
      "text/html": [
       "<div>\n",
       "<table border=\"1\" class=\"dataframe\">\n",
       "  <thead>\n",
       "    <tr style=\"text-align: right;\">\n",
       "      <th></th>\n",
       "      <th>UserID</th>\n",
       "      <th>MovieID</th>\n",
       "      <th>Rating</th>\n",
       "      <th>Timestamp</th>\n",
       "      <th>Title</th>\n",
       "      <th>Genres</th>\n",
       "    </tr>\n",
       "  </thead>\n",
       "  <tbody>\n",
       "    <tr>\n",
       "      <th>0</th>\n",
       "      <td>1.0</td>\n",
       "      <td>1193</td>\n",
       "      <td>5.0</td>\n",
       "      <td>978300760.0</td>\n",
       "      <td>One Flew Over the Cuckoo's Nest (1975)</td>\n",
       "      <td>Drama</td>\n",
       "    </tr>\n",
       "    <tr>\n",
       "      <th>1</th>\n",
       "      <td>2.0</td>\n",
       "      <td>1193</td>\n",
       "      <td>5.0</td>\n",
       "      <td>978298413.0</td>\n",
       "      <td>One Flew Over the Cuckoo's Nest (1975)</td>\n",
       "      <td>Drama</td>\n",
       "    </tr>\n",
       "    <tr>\n",
       "      <th>2</th>\n",
       "      <td>12.0</td>\n",
       "      <td>1193</td>\n",
       "      <td>4.0</td>\n",
       "      <td>978220179.0</td>\n",
       "      <td>One Flew Over the Cuckoo's Nest (1975)</td>\n",
       "      <td>Drama</td>\n",
       "    </tr>\n",
       "    <tr>\n",
       "      <th>3</th>\n",
       "      <td>15.0</td>\n",
       "      <td>1193</td>\n",
       "      <td>4.0</td>\n",
       "      <td>978199279.0</td>\n",
       "      <td>One Flew Over the Cuckoo's Nest (1975)</td>\n",
       "      <td>Drama</td>\n",
       "    </tr>\n",
       "    <tr>\n",
       "      <th>4</th>\n",
       "      <td>17.0</td>\n",
       "      <td>1193</td>\n",
       "      <td>5.0</td>\n",
       "      <td>978158471.0</td>\n",
       "      <td>One Flew Over the Cuckoo's Nest (1975)</td>\n",
       "      <td>Drama</td>\n",
       "    </tr>\n",
       "    <tr>\n",
       "      <th>5</th>\n",
       "      <td>18.0</td>\n",
       "      <td>1193</td>\n",
       "      <td>4.0</td>\n",
       "      <td>978156168.0</td>\n",
       "      <td>One Flew Over the Cuckoo's Nest (1975)</td>\n",
       "      <td>Drama</td>\n",
       "    </tr>\n",
       "    <tr>\n",
       "      <th>6</th>\n",
       "      <td>19.0</td>\n",
       "      <td>1193</td>\n",
       "      <td>5.0</td>\n",
       "      <td>982730936.0</td>\n",
       "      <td>One Flew Over the Cuckoo's Nest (1975)</td>\n",
       "      <td>Drama</td>\n",
       "    </tr>\n",
       "    <tr>\n",
       "      <th>...</th>\n",
       "      <td>...</td>\n",
       "      <td>...</td>\n",
       "      <td>...</td>\n",
       "      <td>...</td>\n",
       "      <td>...</td>\n",
       "      <td>...</td>\n",
       "    </tr>\n",
       "    <tr>\n",
       "      <th>1000379</th>\n",
       "      <td>NaN</td>\n",
       "      <td>3589</td>\n",
       "      <td>NaN</td>\n",
       "      <td>NaN</td>\n",
       "      <td>Kill, Baby... Kill! (Operazione Paura) (1966)</td>\n",
       "      <td>Horror</td>\n",
       "    </tr>\n",
       "    <tr>\n",
       "      <th>1000380</th>\n",
       "      <td>NaN</td>\n",
       "      <td>3630</td>\n",
       "      <td>NaN</td>\n",
       "      <td>NaN</td>\n",
       "      <td>House of Exorcism, The (La Casa dell'esorcismo...</td>\n",
       "      <td>Horror</td>\n",
       "    </tr>\n",
       "    <tr>\n",
       "      <th>1000381</th>\n",
       "      <td>NaN</td>\n",
       "      <td>3650</td>\n",
       "      <td>NaN</td>\n",
       "      <td>NaN</td>\n",
       "      <td>Anguish (Angustia) (1986)</td>\n",
       "      <td>Horror</td>\n",
       "    </tr>\n",
       "    <tr>\n",
       "      <th>1000382</th>\n",
       "      <td>NaN</td>\n",
       "      <td>3750</td>\n",
       "      <td>NaN</td>\n",
       "      <td>NaN</td>\n",
       "      <td>Boricua's Bond (2000)</td>\n",
       "      <td>Drama</td>\n",
       "    </tr>\n",
       "    <tr>\n",
       "      <th>1000383</th>\n",
       "      <td>NaN</td>\n",
       "      <td>3829</td>\n",
       "      <td>NaN</td>\n",
       "      <td>NaN</td>\n",
       "      <td>Mad About Mambo (2000)</td>\n",
       "      <td>Comedy|Romance</td>\n",
       "    </tr>\n",
       "    <tr>\n",
       "      <th>1000384</th>\n",
       "      <td>NaN</td>\n",
       "      <td>3856</td>\n",
       "      <td>NaN</td>\n",
       "      <td>NaN</td>\n",
       "      <td>Autumn Heart (1999)</td>\n",
       "      <td>Drama</td>\n",
       "    </tr>\n",
       "    <tr>\n",
       "      <th>1000385</th>\n",
       "      <td>NaN</td>\n",
       "      <td>3907</td>\n",
       "      <td>NaN</td>\n",
       "      <td>NaN</td>\n",
       "      <td>Prince of Central Park, The (1999)</td>\n",
       "      <td>Drama</td>\n",
       "    </tr>\n",
       "  </tbody>\n",
       "</table>\n",
       "<p>1000386 rows × 6 columns</p>\n",
       "</div>"
      ],
      "text/plain": [
       "         UserID  MovieID  Rating    Timestamp  \\\n",
       "0           1.0     1193     5.0  978300760.0   \n",
       "1           2.0     1193     5.0  978298413.0   \n",
       "2          12.0     1193     4.0  978220179.0   \n",
       "3          15.0     1193     4.0  978199279.0   \n",
       "4          17.0     1193     5.0  978158471.0   \n",
       "5          18.0     1193     4.0  978156168.0   \n",
       "6          19.0     1193     5.0  982730936.0   \n",
       "...         ...      ...     ...          ...   \n",
       "1000379     NaN     3589     NaN          NaN   \n",
       "1000380     NaN     3630     NaN          NaN   \n",
       "1000381     NaN     3650     NaN          NaN   \n",
       "1000382     NaN     3750     NaN          NaN   \n",
       "1000383     NaN     3829     NaN          NaN   \n",
       "1000384     NaN     3856     NaN          NaN   \n",
       "1000385     NaN     3907     NaN          NaN   \n",
       "\n",
       "                                                     Title          Genres  \n",
       "0                   One Flew Over the Cuckoo's Nest (1975)           Drama  \n",
       "1                   One Flew Over the Cuckoo's Nest (1975)           Drama  \n",
       "2                   One Flew Over the Cuckoo's Nest (1975)           Drama  \n",
       "3                   One Flew Over the Cuckoo's Nest (1975)           Drama  \n",
       "4                   One Flew Over the Cuckoo's Nest (1975)           Drama  \n",
       "5                   One Flew Over the Cuckoo's Nest (1975)           Drama  \n",
       "6                   One Flew Over the Cuckoo's Nest (1975)           Drama  \n",
       "...                                                    ...             ...  \n",
       "1000379      Kill, Baby... Kill! (Operazione Paura) (1966)          Horror  \n",
       "1000380  House of Exorcism, The (La Casa dell'esorcismo...          Horror  \n",
       "1000381                          Anguish (Angustia) (1986)          Horror  \n",
       "1000382                              Boricua's Bond (2000)           Drama  \n",
       "1000383                             Mad About Mambo (2000)  Comedy|Romance  \n",
       "1000384                                Autumn Heart (1999)           Drama  \n",
       "1000385                 Prince of Central Park, The (1999)           Drama  \n",
       "\n",
       "[1000386 rows x 6 columns]"
      ]
     },
     "execution_count": 3,
     "metadata": {},
     "output_type": "execute_result"
    }
   ],
   "source": [
    "data_merged = ratings.merge(movies, how='right',on=[\"MovieID\"])\n",
    "data_merged"
   ]
  },
  {
   "cell_type": "code",
   "execution_count": 4,
   "metadata": {
    "collapsed": false
   },
   "outputs": [
    {
     "data": {
      "text/plain": [
       "<matplotlib.axes._subplots.AxesSubplot at 0x7f6db6ee2358>"
      ]
     },
     "execution_count": 4,
     "metadata": {},
     "output_type": "execute_result"
    },
    {
     "data": {
      "image/png": "[encoded data removed]",
      "text/plain": [
       "<matplotlib.figure.Figure at 0x7f6da75255f8>"
      ]
     },
     "metadata": {},
     "output_type": "display_data"
    }
   ],
   "source": [
    "data_merged.groupby(\"Title\")[\"MovieID\"].count().hist()"
   ]
  },
  {
   "cell_type": "code",
   "execution_count": 5,
   "metadata": {
    "collapsed": false
   },
   "outputs": [
    {
     "data": {
      "text/html": [
       "<div>\n",
       "<table border=\"1\" class=\"dataframe\">\n",
       "  <thead>\n",
       "    <tr style=\"text-align: right;\">\n",
       "      <th></th>\n",
       "      <th>UserID</th>\n",
       "      <th>MovieID</th>\n",
       "      <th>Rating</th>\n",
       "      <th>Timestamp</th>\n",
       "      <th>Title</th>\n",
       "      <th>Genres</th>\n",
       "    </tr>\n",
       "  </thead>\n",
       "  <tbody>\n",
       "    <tr>\n",
       "      <th>228866</th>\n",
       "      <td>5.0</td>\n",
       "      <td>39</td>\n",
       "      <td>3.0</td>\n",
       "      <td>978245037.0</td>\n",
       "      <td>Clueless (1995)</td>\n",
       "      <td>Comedy|Romance</td>\n",
       "    </tr>\n",
       "    <tr>\n",
       "      <th>228867</th>\n",
       "      <td>8.0</td>\n",
       "      <td>39</td>\n",
       "      <td>3.0</td>\n",
       "      <td>978229571.0</td>\n",
       "      <td>Clueless (1995)</td>\n",
       "      <td>Comedy|Romance</td>\n",
       "    </tr>\n",
       "    <tr>\n",
       "      <th>228868</th>\n",
       "      <td>22.0</td>\n",
       "      <td>39</td>\n",
       "      <td>2.0</td>\n",
       "      <td>978153593.0</td>\n",
       "      <td>Clueless (1995)</td>\n",
       "      <td>Comedy|Romance</td>\n",
       "    </tr>\n",
       "    <tr>\n",
       "      <th>228869</th>\n",
       "      <td>23.0</td>\n",
       "      <td>39</td>\n",
       "      <td>4.0</td>\n",
       "      <td>978465404.0</td>\n",
       "      <td>Clueless (1995)</td>\n",
       "      <td>Comedy|Romance</td>\n",
       "    </tr>\n",
       "    <tr>\n",
       "      <th>228870</th>\n",
       "      <td>26.0</td>\n",
       "      <td>39</td>\n",
       "      <td>3.0</td>\n",
       "      <td>978271401.0</td>\n",
       "      <td>Clueless (1995)</td>\n",
       "      <td>Comedy|Romance</td>\n",
       "    </tr>\n",
       "  </tbody>\n",
       "</table>\n",
       "</div>"
      ],
      "text/plain": [
       "        UserID  MovieID  Rating    Timestamp            Title          Genres\n",
       "228866     5.0       39     3.0  978245037.0  Clueless (1995)  Comedy|Romance\n",
       "228867     8.0       39     3.0  978229571.0  Clueless (1995)  Comedy|Romance\n",
       "228868    22.0       39     2.0  978153593.0  Clueless (1995)  Comedy|Romance\n",
       "228869    23.0       39     4.0  978465404.0  Clueless (1995)  Comedy|Romance\n",
       "228870    26.0       39     3.0  978271401.0  Clueless (1995)  Comedy|Romance"
      ]
     },
     "execution_count": 5,
     "metadata": {},
     "output_type": "execute_result"
    }
   ],
   "source": [
    "## For Problem 2\n",
    "data_merged[data_merged[\"Title\"] == \"Clueless (1995)\"].head()"
   ]
  },
  {
   "cell_type": "code",
   "execution_count": 6,
   "metadata": {
    "collapsed": false
   },
   "outputs": [
    {
     "data": {
      "text/html": [
       "<div>\n",
       "<table border=\"1\" class=\"dataframe\">\n",
       "  <thead>\n",
       "    <tr style=\"text-align: right;\">\n",
       "      <th></th>\n",
       "      <th>UserID</th>\n",
       "      <th>MovieID</th>\n",
       "      <th>Rating</th>\n",
       "      <th>Timestamp</th>\n",
       "      <th>Title</th>\n",
       "      <th>Genres</th>\n",
       "    </tr>\n",
       "  </thead>\n",
       "  <tbody>\n",
       "    <tr>\n",
       "      <th>579176</th>\n",
       "      <td>13.0</td>\n",
       "      <td>10</td>\n",
       "      <td>3.0</td>\n",
       "      <td>978201884.0</td>\n",
       "      <td>GoldenEye (1995)</td>\n",
       "      <td>Action|Adventure|Thriller</td>\n",
       "    </tr>\n",
       "    <tr>\n",
       "      <th>579177</th>\n",
       "      <td>18.0</td>\n",
       "      <td>10</td>\n",
       "      <td>5.0</td>\n",
       "      <td>978153344.0</td>\n",
       "      <td>GoldenEye (1995)</td>\n",
       "      <td>Action|Adventure|Thriller</td>\n",
       "    </tr>\n",
       "    <tr>\n",
       "      <th>579178</th>\n",
       "      <td>19.0</td>\n",
       "      <td>10</td>\n",
       "      <td>5.0</td>\n",
       "      <td>978147137.0</td>\n",
       "      <td>GoldenEye (1995)</td>\n",
       "      <td>Action|Adventure|Thriller</td>\n",
       "    </tr>\n",
       "    <tr>\n",
       "      <th>579179</th>\n",
       "      <td>22.0</td>\n",
       "      <td>10</td>\n",
       "      <td>3.0</td>\n",
       "      <td>980066459.0</td>\n",
       "      <td>GoldenEye (1995)</td>\n",
       "      <td>Action|Adventure|Thriller</td>\n",
       "    </tr>\n",
       "    <tr>\n",
       "      <th>579180</th>\n",
       "      <td>36.0</td>\n",
       "      <td>10</td>\n",
       "      <td>4.0</td>\n",
       "      <td>978211470.0</td>\n",
       "      <td>GoldenEye (1995)</td>\n",
       "      <td>Action|Adventure|Thriller</td>\n",
       "    </tr>\n",
       "  </tbody>\n",
       "</table>\n",
       "</div>"
      ],
      "text/plain": [
       "        UserID  MovieID  Rating    Timestamp             Title  \\\n",
       "579176    13.0       10     3.0  978201884.0  GoldenEye (1995)   \n",
       "579177    18.0       10     5.0  978153344.0  GoldenEye (1995)   \n",
       "579178    19.0       10     5.0  978147137.0  GoldenEye (1995)   \n",
       "579179    22.0       10     3.0  980066459.0  GoldenEye (1995)   \n",
       "579180    36.0       10     4.0  978211470.0  GoldenEye (1995)   \n",
       "\n",
       "                           Genres  \n",
       "579176  Action|Adventure|Thriller  \n",
       "579177  Action|Adventure|Thriller  \n",
       "579178  Action|Adventure|Thriller  \n",
       "579179  Action|Adventure|Thriller  \n",
       "579180  Action|Adventure|Thriller  "
      ]
     },
     "execution_count": 6,
     "metadata": {},
     "output_type": "execute_result"
    }
   ],
   "source": [
    "## For Problem 2\n",
    "data_merged[data_merged[\"Title\"] == \"GoldenEye (1995)\"].head()"
   ]
  },
  {
   "cell_type": "markdown",
   "metadata": {
    "deletable": false
   },
   "source": [
    "### Grader's Comments\n",
    "\n",
    "- \n",
    "- \n",
    "\n",
    "[This question is worth 15 points.]"
   ]
  },
  {
   "cell_type": "code",
   "execution_count": 7,
   "metadata": {
    "collapsed": true,
    "deletable": false
   },
   "outputs": [],
   "source": [
    "# This cell should only be modified only by a grader.\n",
    "scores = [0]"
   ]
  }
 ],
 "metadata": {
  "kernelspec": {
   "display_name": "Python 3",
   "language": "python",
   "name": "python3"
  },
  "language_info": {
   "codemirror_mode": {
    "name": "ipython",
    "version": 3
   },
   "file_extension": ".py",
   "mimetype": "text/x-python",
   "name": "python",
   "nbconvert_exporter": "python",
   "pygments_lexer": "ipython3",
   "version": "3.5.2"
  }
 },
 "nbformat": 4,
 "nbformat_minor": 1
}
