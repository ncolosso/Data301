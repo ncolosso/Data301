{
 "cells": [
  {
   "cell_type": "markdown",
   "metadata": {},
   "source": [
    "# Introduction\n",
    "\n",
    "In this lab, you will conduct textual analyses of an important set of documents from U.S. history, the _Federalist Papers_, a collection of 85 essays written by Alexander Hamilton, John Jay, and James Madison to support the ratification of the U.S. Constitution.\n",
    "\n",
    "In the first analysis, you will see whether the term frequencies in the _Federalist Papers_ obey a remarkable relationship known as [Zipf's Law](https://www.youtube.com/watch?v=fCn8zs912OE).\n",
    "\n",
    "In the second analysis, you will use term frequencies and cosine similarity to answer a longstanding mystery: Who Wrote the Federalist Papers?"
   ]
  },
  {
   "cell_type": "markdown",
   "metadata": {},
   "source": [
    "You are permitted (but not required) to work on this lab with a partner. If you do, only one of you should submit the lab, and the other person should enter their __Github__ (NOT Cal Poly) username below:"
   ]
  },
  {
   "cell_type": "code",
   "execution_count": null,
   "metadata": {
    "collapsed": true
   },
   "outputs": [],
   "source": [
    "partner = \"\""
   ]
  }
 ],
 "metadata": {
  "kernelspec": {
   "display_name": "Python 3",
   "language": "python",
   "name": "python3"
  },
  "language_info": {
   "codemirror_mode": {
    "name": "ipython",
    "version": 3
   },
   "file_extension": ".py",
   "mimetype": "text/x-python",
   "name": "python",
   "nbconvert_exporter": "python",
   "pygments_lexer": "ipython3",
   "version": "3.5.2"
  }
 },
 "nbformat": 4,
 "nbformat_minor": 2
}
