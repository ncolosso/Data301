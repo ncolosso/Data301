{
 "cells": [
  {
   "cell_type": "markdown",
   "metadata": {},
   "source": [
    "# Zipf's Law\n",
    "\n",
    "[Zipf's Law](https://www.youtube.com/watch?v=fCn8zs912OE) is a empirical observation about the distribution of word frequencies in natural language. Mathematically, it says that the term frequency of the $k$th most common term (let's call it $f_k$), is\n",
    "\n",
    "$$ f_k = \\frac{\\alpha}{k^\\beta}, $$\n",
    "\n",
    "where $\\alpha$ and $\\beta$ are constants.\n",
    "\n",
    "In other words, if we plot the log-frequency $\\log(f_k)$ against the log-rank $\\log(k)$, the relationship is linear:\n",
    "\n",
    "$$ \\log(f_k) = \\alpha - \\beta \\log(k). $$\n",
    "\n",
    "In this lab, you will investigate the extent to which Zipf's law holds for the _Federalist Papers_."
   ]
  },
  {
   "cell_type": "code",
   "execution_count": 15,
   "metadata": {
    "collapsed": true
   },
   "outputs": [],
   "source": [
    "import pandas as pd\n",
    "pd.set_option(\"display.max_rows\", 15)\n",
    "import numpy as np\n",
    "import matplotlib.pyplot as plt\n",
    "from altair import *\n",
    "\n",
    "%matplotlib inline"
   ]
  },
  {
   "cell_type": "code",
   "execution_count": 2,
   "metadata": {
    "collapsed": true
   },
   "outputs": [],
   "source": [
    "socres = []"
   ]
  },
  {
   "cell_type": "code",
   "execution_count": 3,
   "metadata": {
    "collapsed": false
   },
   "outputs": [
    {
     "name": "stdout",
     "output_type": "stream",
     "text": [
      "/data/federalist/10.txt  /data/federalist/37.txt  /data/federalist/63.txt\r\n",
      "/data/federalist/11.txt  /data/federalist/38.txt  /data/federalist/64.txt\r\n",
      "/data/federalist/12.txt  /data/federalist/39.txt  /data/federalist/65.txt\r\n",
      "/data/federalist/13.txt  /data/federalist/3.txt   /data/federalist/66.txt\r\n",
      "/data/federalist/14.txt  /data/federalist/40.txt  /data/federalist/67.txt\r\n",
      "/data/federalist/15.txt  /data/federalist/41.txt  /data/federalist/68.txt\r\n",
      "/data/federalist/16.txt  /data/federalist/42.txt  /data/federalist/69.txt\r\n",
      "/data/federalist/17.txt  /data/federalist/43.txt  /data/federalist/6.txt\r\n",
      "/data/federalist/18.txt  /data/federalist/44.txt  /data/federalist/70.txt\r\n",
      "/data/federalist/19.txt  /data/federalist/45.txt  /data/federalist/71.txt\r\n",
      "/data/federalist/1.txt\t /data/federalist/46.txt  /data/federalist/72.txt\r\n",
      "/data/federalist/20.txt  /data/federalist/47.txt  /data/federalist/73.txt\r\n",
      "/data/federalist/21.txt  /data/federalist/48.txt  /data/federalist/74.txt\r\n",
      "/data/federalist/22.txt  /data/federalist/49.txt  /data/federalist/75.txt\r\n",
      "/data/federalist/23.txt  /data/federalist/4.txt   /data/federalist/76.txt\r\n",
      "/data/federalist/24.txt  /data/federalist/50.txt  /data/federalist/77.txt\r\n",
      "/data/federalist/25.txt  /data/federalist/51.txt  /data/federalist/78.txt\r\n",
      "/data/federalist/26.txt  /data/federalist/52.txt  /data/federalist/79.txt\r\n",
      "/data/federalist/27.txt  /data/federalist/53.txt  /data/federalist/7.txt\r\n",
      "/data/federalist/28.txt  /data/federalist/54.txt  /data/federalist/80.txt\r\n",
      "/data/federalist/29.txt  /data/federalist/55.txt  /data/federalist/81.txt\r\n",
      "/data/federalist/2.txt\t /data/federalist/56.txt  /data/federalist/82.txt\r\n",
      "/data/federalist/30.txt  /data/federalist/57.txt  /data/federalist/83.txt\r\n",
      "/data/federalist/31.txt  /data/federalist/58.txt  /data/federalist/84.txt\r\n",
      "/data/federalist/32.txt  /data/federalist/59.txt  /data/federalist/85.txt\r\n",
      "/data/federalist/33.txt  /data/federalist/5.txt   /data/federalist/8.txt\r\n",
      "/data/federalist/34.txt  /data/federalist/60.txt  /data/federalist/9.txt\r\n",
      "/data/federalist/35.txt  /data/federalist/61.txt\r\n",
      "/data/federalist/36.txt  /data/federalist/62.txt\r\n"
     ]
    }
   ],
   "source": [
    "!ls /data/federalist/*.txt"
   ]
  },
  {
   "cell_type": "markdown",
   "metadata": {},
   "source": [
    "## Step 1\n",
    "\n",
    "Produce a table of word counts for the entire _Federalist Papers_ corpus (`/data/federalist/*.txt`). Be sure to normalize the words. Then, write the table to a CSV file called `word_counts.csv` in the current directory. The first entry in each row should be the word, and the second entry should be the count of how many times that word appears in the corpus."
   ]
  },
  {
   "cell_type": "code",
   "execution_count": 4,
   "metadata": {
    "collapsed": false
   },
   "outputs": [
    {
     "data": {
      "text/plain": [
       "8812"
      ]
     },
     "execution_count": 4,
     "metadata": {},
     "output_type": "execute_result"
    }
   ],
   "source": [
    "vocab = {}\n",
    "for page in range(1,85):\n",
    "    with open(\"/data/federalist/%d.txt\"%page) as f:\n",
    "        text = f.read()\n",
    "        words = text.split()\n",
    "        fixed = []\n",
    "        for word in words:\n",
    "            fixed.append(word.lower().rstrip(';.?!,:)\"').lstrip('\"(').replace('-','').replace('\"',''))\n",
    "        for word in fixed:\n",
    "            if word not in vocab:\n",
    "                vocab[word] = 1\n",
    "            else:\n",
    "                vocab[word] += 1\n",
    "len(vocab)"
   ]
  },
  {
   "cell_type": "code",
   "execution_count": 5,
   "metadata": {
    "collapsed": false
   },
   "outputs": [],
   "source": [
    "import csv\n",
    "with open('word_counts.csv', 'w') as f:\n",
    "    w = csv.writer(f)\n",
    "    w.writerows(vocab.items())"
   ]
  },
  {
   "cell_type": "markdown",
   "metadata": {},
   "source": [
    "### Grader's Comments\n",
    "\n",
    "- \n",
    "- \n",
    "\n",
    "[This question is worth 15 points.]"
   ]
  },
  {
   "cell_type": "code",
   "execution_count": 6,
   "metadata": {
    "collapsed": false
   },
   "outputs": [
    {
     "ename": "NameError",
     "evalue": "name 'scores' is not defined",
     "output_type": "error",
     "traceback": [
      "\u001b[0;31m---------------------------------------------------------------------------\u001b[0m",
      "\u001b[0;31mNameError\u001b[0m                                 Traceback (most recent call last)",
      "\u001b[0;32m<ipython-input-6-81471e7703c2>\u001b[0m in \u001b[0;36m<module>\u001b[0;34m()\u001b[0m\n\u001b[1;32m      1\u001b[0m \u001b[0;31m# This cell should only be modified only by a grader.\u001b[0m\u001b[0;34m\u001b[0m\u001b[0;34m\u001b[0m\u001b[0m\n\u001b[0;32m----> 2\u001b[0;31m \u001b[0mscores\u001b[0m\u001b[0;34m.\u001b[0m\u001b[0mappend\u001b[0m\u001b[0;34m(\u001b[0m\u001b[0;36m0\u001b[0m\u001b[0;34m)\u001b[0m\u001b[0;34m\u001b[0m\u001b[0m\n\u001b[0m",
      "\u001b[0;31mNameError\u001b[0m: name 'scores' is not defined"
     ]
    }
   ],
   "source": [
    "# This cell should only be modified only by a grader.\n",
    "scores.append(0)"
   ]
  },
  {
   "cell_type": "markdown",
   "metadata": {},
   "source": [
    "## Step 2\n",
    "\n",
    "If you did Step 1 correctly, the following line should produce a DataFrame of word counts with two columns: Word and Count.\n",
    "\n",
    "Then, sort the words by their counts, and make a scatterplot where each point represents a word, with the x-coordinate representing the rank of that word and the y-coordinate representing the frequency of that word (i.e., the count of how many times that word appears). Keep in mind that the relationship should be linear on a log-log scale. There are two ways to do this:\n",
    "\n",
    "- Take the log of both x and y before plotting. (Not recommended, because the numbers will no longer be interpretable.)\n",
    "- Change the scale of both the x- and y-axes to be logarithmic. (Recommended.)"
   ]
  },
  {
   "cell_type": "code",
   "execution_count": 45,
   "metadata": {
    "collapsed": false
   },
   "outputs": [
    {
     "data": {
      "text/html": [
       "<div>\n",
       "<table border=\"1\" class=\"dataframe\">\n",
       "  <thead>\n",
       "    <tr style=\"text-align: right;\">\n",
       "      <th></th>\n",
       "      <th>Word</th>\n",
       "      <th>Count</th>\n",
       "      <th>Rank</th>\n",
       "    </tr>\n",
       "  </thead>\n",
       "  <tbody>\n",
       "    <tr>\n",
       "      <th>0</th>\n",
       "      <td>the</td>\n",
       "      <td>17508</td>\n",
       "      <td>1</td>\n",
       "    </tr>\n",
       "    <tr>\n",
       "      <th>1</th>\n",
       "      <td>of</td>\n",
       "      <td>11652</td>\n",
       "      <td>2</td>\n",
       "    </tr>\n",
       "    <tr>\n",
       "      <th>2</th>\n",
       "      <td>to</td>\n",
       "      <td>6951</td>\n",
       "      <td>3</td>\n",
       "    </tr>\n",
       "    <tr>\n",
       "      <th>3</th>\n",
       "      <td>and</td>\n",
       "      <td>5024</td>\n",
       "      <td>4</td>\n",
       "    </tr>\n",
       "    <tr>\n",
       "      <th>4</th>\n",
       "      <td>in</td>\n",
       "      <td>4377</td>\n",
       "      <td>5</td>\n",
       "    </tr>\n",
       "  </tbody>\n",
       "</table>\n",
       "</div>"
      ],
      "text/plain": [
       "  Word  Count  Rank\n",
       "0  the  17508     1\n",
       "1   of  11652     2\n",
       "2   to   6951     3\n",
       "3  and   5024     4\n",
       "4   in   4377     5"
      ]
     },
     "execution_count": 45,
     "metadata": {},
     "output_type": "execute_result"
    }
   ],
   "source": [
    "word_counts = pd.read_csv(\"word_counts.csv\", header=None, names=[\"Word\", \"Count\"])\n",
    "word_counts = word_counts.sort_values(by='Count', ascending=False)\n",
    "word_counts = word_counts.reset_index().drop('index',axis=1)\n",
    "word_counts['Rank']=range(1,len(word_counts)+1)\n",
    "word_counts.head(5)"
   ]
  },
  {
   "cell_type": "code",
   "execution_count": 56,
   "metadata": {
    "collapsed": false
   },
   "outputs": [
    {
     "data": {
      "text/plain": [
       "<matplotlib.text.Text at 0x7faa483ad2e8>"
      ]
     },
     "execution_count": 56,
     "metadata": {},
     "output_type": "execute_result"
    },
    {
     "data": {
      "image/png": "[encoded data removed]",
      "text/plain": [
       "<matplotlib.figure.Figure at 0x7faa484bab38>"
      ]
     },
     "metadata": {},
     "output_type": "display_data"
    }
   ],
   "source": [
    "plt.scatter(word_counts['Rank'],word_counts['Count'])\n",
    "plt.yscale('log')\n",
    "plt.xscale('log')\n",
    "plt.ylabel('Word Count')\n",
    "plt.xlabel('Rank')\n",
    "plt.title('Log-Log Relationsip between Word Rank and Count')"
   ]
  },
  {
   "cell_type": "markdown",
   "metadata": {},
   "source": [
    "### Grader's Comments\n",
    "\n",
    "- \n",
    "- \n",
    "\n",
    "[This question is worth 15 points.]"
   ]
  },
  {
   "cell_type": "code",
   "execution_count": null,
   "metadata": {
    "collapsed": true
   },
   "outputs": [],
   "source": [
    "# This cell should only be modified only by a grader.\n",
    "scores.append(0)"
   ]
  }
 ],
 "metadata": {
  "kernelspec": {
   "display_name": "Python 3",
   "language": "python",
   "name": "python3"
  },
  "language_info": {
   "codemirror_mode": {
    "name": "ipython",
    "version": 3
   },
   "file_extension": ".py",
   "mimetype": "text/x-python",
   "name": "python",
   "nbconvert_exporter": "python",
   "pygments_lexer": "ipython3",
   "version": "3.5.2"
  }
 },
 "nbformat": 4,
 "nbformat_minor": 2
}
