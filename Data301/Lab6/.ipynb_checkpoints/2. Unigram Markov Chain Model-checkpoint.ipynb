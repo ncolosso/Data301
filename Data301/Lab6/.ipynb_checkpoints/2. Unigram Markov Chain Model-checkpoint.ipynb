{
 "cells": [
  {
   "cell_type": "markdown",
   "metadata": {},
   "source": [
    "# Unigram Markov Chain Model\n",
    "\n",
    "You will build a Markov chain for the artist whose lyrics you scraped in Part 1. To do this, you have to go through the lyrics and learn the word transitions for that artist. You will store this information in a dict called `chain`, which maps each word to a list of words that appear after it in the training data. So for example, one entry of this dict might be\n",
    "\n",
    "```\n",
    "chain = {\n",
    "    \"it\": [\"is\", \"runs\", \"is\", \"is\", \"was\", \"is\", \"was\"],\n",
    "    ...\n",
    "}\n",
    "```\n",
    "\n",
    "You should include a few additional states, besides words, in your Markov chain. You should have `\"<START>\"` and `\"<END>\"` states so that we can keep track of what words songs are likely to begin and end on. You should also include a state called `\"<N>\"` to denote line breaks so that you can keep track of where lines begin and end. \n",
    "\n",
    "So if the song starts with the line \"Is this the real life?\" and ends with the line \"Nothing really matters to me.\", you would have a dictionary that looks like\n",
    "```\n",
    "chain = {\n",
    "    \"<START>\": [\"Is\", ...],\n",
    "    \"Is\": [\"this\", ...],\n",
    "    \"this\": [\"the\", ...],\n",
    "    \"the\": [\"real\", ...],\n",
    "    \"real\": [\"life?\", ...],\n",
    "    \"life?\": [\"<N>\", ...],\n",
    "    \"<N>\": [\"Nothing\", ...],\n",
    "    \"Nothing\": [\"really\", ...],\n",
    "    \"really\": [\"matters\", ...],\n",
    "    \"matters\": [\"to\", ...],\n",
    "    \"to\": [\"me\", ...],\n",
    "    \"me.\": [\"<END>\", ...],\n",
    "    ...\n",
    "}\n",
    "```\n"
   ]
  },
  {
   "cell_type": "code",
   "execution_count": 3,
   "metadata": {
    "collapsed": true
   },
   "outputs": [],
   "source": [
    "def train_markov_chain(lyrics):\n",
    "    \"\"\"\n",
    "    Args:\n",
    "      - lyrics: a list of strings, where each string represents\n",
    "                the lyrics of one song by an artist.\n",
    "    \n",
    "    Returns:\n",
    "      A dict that maps a single word (\"unigram\") to a list of\n",
    "      words that follow that word, representing the Markov\n",
    "      chain trained on the lyrics.\n",
    "    \"\"\"\n",
    "    chain = {\"<START>\": []}\n",
    "    for song in lyrics: ## lyric is a list of lines = one song's lyrics\n",
    "        l_count = 0\n",
    "        end_count = len(song)-1\n",
    "        for line in song:\n",
    "            words = line.split()\n",
    "            for idx,word in enumerate(words):\n",
    "                if idx == 0 & l_count == 0:\n",
    "                    chain[\"<START>\"].append(word)\n",
    "                if word not in chain:\n",
    "                    if l_count == end_count:\n",
    "                        chain[word] = [\"<END>\"]\n",
    "                    else:\n",
    "                        chain[word] = [words[idx+1]]\n",
    "                if word in chain:\n",
    "                    if l_count == end_count:\n",
    "                        chain[word].append(\"<END>\")\n",
    "                    else:\n",
    "                        chain[word].append(words[idx+1])\n",
    "            l_count+=1\n",
    "                    \n",
    "    return chain"
   ]
  },
  {
   "cell_type": "code",
   "execution_count": 7,
   "metadata": {
    "collapsed": false
   },
   "outputs": [
    {
     "name": "stdout",
     "output_type": "stream",
     "text": [
      "['Hold', 'Hold', 'Hold', 'Hold', 'Hold', 'Hold', 'Hold', '[Intro:', 'Buddah', '[Intro:', 'Zaytoven!', 'Respect', '[Hook', 'Cocaina,', 'Cocaina,', 'Cocaina,', 'Cocaina,', 'Cocaina,', 'Cocaina,', 'Cocaina,']\n"
     ]
    }
   ],
   "source": [
    "# Load the pickled lyrics object that you created in Part 1.\n",
    "import pickle\n",
    "lyrics = pickle.load(open(\"lyrics.pkl\", \"rb\"))\n",
    "\n",
    "# Call the function you wrote above.\n",
    "chain = train_markov_chain(lyrics)\n",
    "\n",
    "# What words tend to start a song (i.e., what words follow the <START> tag?)\n",
    "print(chain[\"<START>\"][:20])\n",
    "\n",
    "# What words tend to begin a line (i.e., what words follow the line break tag?)\n",
    "##print(chain[\"<N>\"][:20])"
   ]
  },
  {
   "cell_type": "markdown",
   "metadata": {},
   "source": [
    "Now, let's generate new lyrics using the Markov chain you constructed above. To do this, we'll begin at the `\"<START>\"` state and randomly sample a word from the list of first words. Then, we'll randomly sample each next word from the list of words that appeared after the current word in the training data. We will continue this until we reach the `\"<END>\"` state. This will give us the complete lyrics of a randomly generated song!\n",
    "\n",
    "You may find the `random.choice()` function helpful for this question."
   ]
  },
  {
   "cell_type": "code",
   "execution_count": null,
   "metadata": {
    "collapsed": true
   },
   "outputs": [],
   "source": [
    "import random\n",
    "\n",
    "def generate_new_lyrics(chain):\n",
    "    \"\"\"\n",
    "    Args:\n",
    "      - chain: a dict representing the Markov chain,\n",
    "               such as one generated by generate_new_lyrics()\n",
    "    \n",
    "    Returns:\n",
    "      A string representing the randomly generated song.\n",
    "    \"\"\"\n",
    "    \n",
    "    # a list for storing the generated words\n",
    "    words = []\n",
    "    # generate the first word\n",
    "    words.append(random.choice(chain[\"<START>\"]))\n",
    "    \n",
    "    # YOUR CODE HERE\n",
    "    \n",
    "    \n",
    "    # join the words together into a string with line breaks\n",
    "    lyrics = \" \".join(words[:-1])\n",
    "    return \"\\n\".join(lyrics.split(\"<N>\"))"
   ]
  },
  {
   "cell_type": "code",
   "execution_count": null,
   "metadata": {
    "collapsed": true
   },
   "outputs": [],
   "source": [
    "print(generate_new_lyrics(chain))"
   ]
  },
  {
   "cell_type": "markdown",
   "metadata": {},
   "source": [
    "### Grader's Comments\n",
    "\n",
    "- \n",
    "- \n",
    "\n",
    "[This question is worth 20 points.]"
   ]
  },
  {
   "cell_type": "code",
   "execution_count": null,
   "metadata": {
    "collapsed": true
   },
   "outputs": [],
   "source": [
    "# This cell should only be modified only by a grader.\n",
    "scores = [None]"
   ]
  }
 ],
 "metadata": {
  "kernelspec": {
   "display_name": "Python 3",
   "language": "python",
   "name": "python3"
  },
  "language_info": {
   "codemirror_mode": {
    "name": "ipython",
    "version": 3
   },
   "file_extension": ".py",
   "mimetype": "text/x-python",
   "name": "python",
   "nbconvert_exporter": "python",
   "pygments_lexer": "ipython3",
   "version": "3.5.2"
  }
 },
 "nbformat": 4,
 "nbformat_minor": 2
}
