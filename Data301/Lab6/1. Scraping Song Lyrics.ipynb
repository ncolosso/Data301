{
 "cells": [
  {
   "cell_type": "markdown",
   "metadata": {},
   "source": [
    "# Scraping Song Lyrics"
   ]
  },
  {
   "cell_type": "markdown",
   "metadata": {
    "deletable": false,
    "nbgrader": {
     "checksum": "8df71135a614086706cabada8726e93c",
     "grade": false,
     "grade_id": "scraping_question",
     "locked": true,
     "solution": false
    }
   },
   "source": [
    "Find a website that has lyrics for all the songs by your favorite artist. Then scrape the lyrics into a Python list called `lyrics`, where each element of the list represents the lyrics of one song.\n",
    "\n",
    "Tips:\n",
    "- Find a webpage that has links to all the songs, like [this one](http://www.azlyrics.com/n/nirvana.html). [NOTE: It seems like azlyrics.com does not allow you to scrape their webpages, so you'll have to find another source.] Then, you can write code to visit all the links and scrape each page one by one.\n",
    "- Make sure you use time.sleep(0.1) to stagger your requests so that you do not get banned by the website for making too many requests."
   ]
  },
  {
   "cell_type": "code",
   "execution_count": 1,
   "metadata": {
    "collapsed": true
   },
   "outputs": [],
   "source": [
    "import requests\n",
    "import time\n",
    "from bs4 import BeautifulSoup"
   ]
  },
  {
   "cell_type": "code",
   "execution_count": 2,
   "metadata": {
    "collapsed": true
   },
   "outputs": [],
   "source": [
    "req = requests.get(\"http://www.metrolyrics.com/get-right-witcha-lyrics-migos.html\")\n",
    "soup = BeautifulSoup(req.text, \"html.parser\")"
   ]
  },
  {
   "cell_type": "code",
   "execution_count": 3,
   "metadata": {
    "collapsed": false
   },
   "outputs": [],
   "source": [
    "lyrics = []\n",
    "\n",
    "req = requests.get(\"http://www.metrolyrics.com/migos-albums-list.html\")\n",
    "soup = BeautifulSoup(req.text, \"html.parser\")\n",
    "\n",
    "\n",
    "## Function to get lyrics\n",
    "def get_song_lyrics(url, lyr):\n",
    "    req = requests.get(url)\n",
    "    soup = BeautifulSoup(req.text, \"html.parser\")\n",
    "    time.sleep(0.1)\n",
    "    song = []\n",
    "    for verse in soup.find_all(\"p\",{\"class\":\"verse\"}):\n",
    "        v = verse.text.split(\"\\n\")\n",
    "        for lne in v:\n",
    "            song.append(lne)\n",
    "    lyr.append(song)\n",
    "\n",
    "## Run function\n",
    "for album in soup.find_all(\"div\", {\"class\":\"content song-list compact clearfix\"}):\n",
    "    for song in album.find_all(\"a\"):\n",
    "        url = song.get(\"href\")\n",
    "        get_song_lyrics(url, lyrics)"
   ]
  },
  {
   "cell_type": "code",
   "execution_count": 4,
   "metadata": {
    "collapsed": false
   },
   "outputs": [
    {
     "data": {
      "text/plain": [
       "56"
      ]
     },
     "execution_count": 4,
     "metadata": {},
     "output_type": "execute_result"
    }
   ],
   "source": [
    "len(lyrics)"
   ]
  },
  {
   "cell_type": "code",
   "execution_count": 5,
   "metadata": {
    "collapsed": false,
    "deletable": false,
    "nbgrader": {
     "checksum": "fc30426e397a9a8fd5e5386ba96c683d",
     "grade": false,
     "grade_id": "scraping_run",
     "locked": true,
     "solution": false
    }
   },
   "outputs": [
    {
     "name": "stdout",
     "output_type": "stream",
     "text": [
      "[\"Hold up, get right witcha (I'ma get right witcha)\", \"Bad bitches, fuck 'em then dismiss em (bad, woo)\", \"I ain't really here to take no pictures (flash)\", \"Middle finger up fuck the system (fuck 'em)\", \"Yeah, coupe is robotic, I ain't touchin' (nah, skrt)\", \"Lookin' at your hoe because she bustin' (ye, woo)\", \"Ridin' in the coupe with the wings (brrt)\", 'Going to Thailand with them chinks (chinks)', \"Percocet party, servin' fiends (perky!)\", 'Swear to god my plug was Vietnamese (brrt brrt brrt)', \"Taliban, my drugs, wrap 'em please (Taliban)\", \"Servin' all day, my gas on E (let's go)\", 'Thirty hollow tips in extendo (bow, thirty)', \"Shadows keep wavin' by my window (woo, shadows)\", \"Thankin' God he saved my life from kick doors (god!)\", \"Still sippin' oil, Migos Citgo (drank, gone)\", \"Hold up, get right witcha (I'ma get right witcha)\", \"Bad bitches, fuck 'em then dismiss em (bad, woo)\", \"I ain't really here to take no pictures (flash)\", \"Middle finger up fuck the system (fuck 'em)\", \"Get right witcha (I'ma get right witcha)\", \"Get right witcha (I'ma get right witcha)\", \"Hold up, get right witcha (I'ma get right witcha)\", 'Get right witcha', 'Offset!', 'In the kitchen with a lot of white (white)', \"I done fucked a lot of niggas' wife (smash)\", \"Make a milli, then I make it twice (M's)\", 'Bought that Wraith and had the ceiling light (Wraith)', 'I like a bitch with some cellulite (ooh)', 'Tape a brick to her, take a flight (ooh)', 'Used to ask what the lick was like (where?)', \"Now I'm askin' what the Lear look like (huh?)\", 'Niggas copy, Mike Tyson bite (ahh-urr, ahh-urr, ahh)', \"Smokin' cookie yeah that's dynamite (cookie, woo)\", 'Lamborghini, white on white (Lamborghini)', 'All these diamonds yeah they white on white (white)', \"Takin' chances, had to roll the dice (aye)\", 'Send my shooters, come and take your life (brrt)', \"Born with it, count a hundred thousand start snowin' with it (hundred)\", 'Go and get it, thirty round clip tear off a arm or ligament (rrah)', \"Bitch I'm a dog from menace (urr)\", \"You trappin' hard for pennies (go)\", \"Hop in the frog, it's tinted (skrrt)\", \"Askin' the lord, forgive me (hey)\", \"Hold up, get right witcha (I'ma get right witcha)\", \"Bad bitches, fuck 'em then dismiss em (bad, woo)\", \"I ain't really here to take no pictures (flash)\", \"Middle finger up fuck the system (fuck 'em)\", \"Get right witcha (I'ma get right witcha)\", \"Get right witcha (I'ma get right witcha)\", \"Hold up, get right witcha (I'ma get right witcha)\", 'Get right witcha', 'Pop me a missile (aye)', 'Take me a picture (flash)', \"Get right witcha (I'ma get right witcha)\", 'Lit like Christmas (like Christmas)', 'White like tissue (white)', 'Drank too official (drank)', 'Cut like scissors (cut)', 'Boy got wisdom (wisdom)', \"Fuckin' on vixens (smash)\", \"Hoe game itchin' (itch)\", \"Fuckin' with the wrong one, trippin'\", 'Thirty round extension for the tension (brrt)', 'Hundred round drum, listen', \"Fuck around and end up missin' (brrt)\", \"Get 'em knocked off for a ticket\", 'Have my young nigga do the sentence', 'Aw man, whip up the white, Wendy', 'Pick up the pipe, and she get no penny (nope)', \"Rockstar livin' life, Lennon\", 'You can do better, never settle', 'Keep a Beretta, case of the pressure (brrt)', 'I tell the plug mail them', \"Which way? dat way, tell 'em, aye\", \"Hold up, get right witcha (I'ma get right witcha)\", \"Bad bitches, fuck 'em then dismiss em (bad, woo)\", \"I ain't really here to take no pictures (flash)\", \"Middle finger up fuck the system (fuck 'em)\", \"Get right witcha (I'ma get right witcha)\", \"Get right witcha (I'ma get right witcha)\", \"Hold up, get right witcha (I'ma get right witcha)\", 'Get right witcha']\n"
     ]
    }
   ],
   "source": [
    "# Print out the lyrics to the first song.\n",
    "print(lyrics[0])"
   ]
  },
  {
   "cell_type": "markdown",
   "metadata": {},
   "source": [
    "`pickle` is a Python package that serializes Python objects to disk so that you can load them in later."
   ]
  },
  {
   "cell_type": "code",
   "execution_count": 6,
   "metadata": {
    "collapsed": true
   },
   "outputs": [],
   "source": [
    "import pickle\n",
    "pickle.dump(lyrics, open(\"lyrics.pkl\", \"wb\"))"
   ]
  },
  {
   "cell_type": "markdown",
   "metadata": {},
   "source": [
    "### Grader's Comments\n",
    "\n",
    "- \n",
    "- \n",
    "\n",
    "[This question is worth 30 points.]"
   ]
  },
  {
   "cell_type": "code",
   "execution_count": 7,
   "metadata": {
    "collapsed": true
   },
   "outputs": [],
   "source": [
    "# This cell should only be modified only by a grader.\n",
    "scores = [None]"
   ]
  }
 ],
 "metadata": {
  "kernelspec": {
   "display_name": "Python 3",
   "language": "python",
   "name": "python3"
  },
  "language_info": {
   "codemirror_mode": {
    "name": "ipython",
    "version": 3
   },
   "file_extension": ".py",
   "mimetype": "text/x-python",
   "name": "python",
   "nbconvert_exporter": "python",
   "pygments_lexer": "ipython3",
   "version": "3.5.2"
  }
 },
 "nbformat": 4,
 "nbformat_minor": 0
}
