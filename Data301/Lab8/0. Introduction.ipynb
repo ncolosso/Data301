{
 "cells": [
  {
   "cell_type": "markdown",
   "metadata": {},
   "source": [
    "# Introduction\n",
    "\n",
    "[Kaggle](http://www.kaggle.com/) is a website where companies can host machine learning competitions. Usually, these companies do not have the resources to build their own machine learning models, so they outsource the task to the public through Kaggle. In exchange, they offer cash prizes to the team that manages to build the best model!\n",
    "\n",
    "This lab is a Kaggle competition, although this contest is limited to students in our class. The competition can be found [here](https://inclass.kaggle.com/c/beer2). The goal of this contest is to build a machine learning model that predicts the IBU (a measure of bitterness) of a beer from other features. The data files are available on Kaggle, as well as on JupyterHub:\n",
    "\n",
    "- `/data/beer_train.csv`: the training data\n",
    "- `/data/beer_test.csv`: the test data. Notice that the `ibu` column is empty in this data set. It's your job to fill it in with your machine learning model!\n",
    "- `/data/beer_test_sample_submission.csv`: Kaggle expects your predictions for the test data to be submitted in a specific format. This is an example file in that format.\n",
    "\n",
    "There will be a prize for the team that manages to build the best machine learning model, as measured by mean-squared (prediction) error on the test set. You are permitted to work on this lab with a partner. If you choose to do so, please enter his or her Github (NOT Cal Poly) username below."
   ]
  },
  {
   "cell_type": "code",
   "execution_count": 1,
   "metadata": {
    "collapsed": true
   },
   "outputs": [],
   "source": [
    "partner = \"levimusk\""
   ]
  }
 ],
 "metadata": {
  "kernelspec": {
   "display_name": "Python 3",
   "language": "python",
   "name": "python3"
  },
  "language_info": {
   "codemirror_mode": {
    "name": "ipython",
    "version": 3
   },
   "file_extension": ".py",
   "mimetype": "text/x-python",
   "name": "python",
   "nbconvert_exporter": "python",
   "pygments_lexer": "ipython3",
   "version": "3.5.2"
  }
 },
 "nbformat": 4,
 "nbformat_minor": 2
}
