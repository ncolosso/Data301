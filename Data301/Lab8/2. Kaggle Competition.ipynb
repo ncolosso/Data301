{
 "cells": [
  {
   "cell_type": "markdown",
   "metadata": {},
   "source": [
    "# Kaggle Competition\n",
    "\n",
    "Now it's your turn to determine what machine learning model you want to fit to the data! You may use any machine model you like, including ones that we did not cover in class. Remember, your goal is to win the [Kaggle competition](https://inclass.kaggle.com/c/beer2), so try to get your prediction error down, any way you can!"
   ]
  },
  {
   "cell_type": "code",
   "execution_count": 1,
   "metadata": {
    "collapsed": true
   },
   "outputs": [],
   "source": [
    "import pandas as pd\n",
    "\n",
    "import matplotlib.pyplot as plt\n",
    "%matplotlib inline\n",
    "\n",
    "data_train = pd.read_csv(\"/data/beer_train.csv\")\n",
    "data_test = pd.read_csv(\"/data/beer_test.csv\")"
   ]
  },
  {
   "cell_type": "code",
   "execution_count": 2,
   "metadata": {
    "collapsed": false
   },
   "outputs": [
    {
     "data": {
      "text/plain": [
       "Index(['id', 'abv', 'available', 'description', 'glass', 'ibu', 'isOrganic',\n",
       "       'name', 'originalGravity', 'srm'],\n",
       "      dtype='object')"
      ]
     },
     "execution_count": 2,
     "metadata": {},
     "output_type": "execute_result"
    }
   ],
   "source": [
    "data_train.columns"
   ]
  },
  {
   "cell_type": "code",
   "execution_count": 3,
   "metadata": {
    "collapsed": true
   },
   "outputs": [],
   "source": [
    "scores = []"
   ]
  },
  {
   "cell_type": "markdown",
   "metadata": {},
   "source": [
    "## Question 1\n",
    "\n",
    "Fit _at least_ 5 different models to the training data (`/data/beer_train.csv`). Each model must include at least one categorical and one quantitative input variable. At least one model must use linear regression, and at least one model must use $k$-nearest neighbors. Other than that, you are free to fit any machine learning model you like, with any input variables you like, in your pursuit of the model with the best prediction accuracy. (_Hint:_ You might find it worthwhile to create new input variables out of the descriptions of the beers, which are rich in information.)\n",
    "\n",
    "Estimate the test error of each of the models using cross-validation. Determine which of the models you tried is the best."
   ]
  },
  {
   "cell_type": "markdown",
   "metadata": {},
   "source": [
    "## Clean Data"
   ]
  },
  {
   "cell_type": "code",
   "execution_count": 4,
   "metadata": {
    "collapsed": false
   },
   "outputs": [],
   "source": [
    "# YOUR CODE HERE\n",
    "data_clean = data_train.sort_values(by='ibu', ascending=False).reset_index().drop([0,1,2])\n",
    "data_clean['abv2'] = data_clean['abv']**2"
   ]
  },
  {
   "cell_type": "markdown",
   "metadata": {},
   "source": [
    "## Model 1"
   ]
  },
  {
   "cell_type": "code",
   "execution_count": 5,
   "metadata": {
    "collapsed": false
   },
   "outputs": [
    {
     "name": "stdout",
     "output_type": "stream",
     "text": [
      "514.019482683\n"
     ]
    }
   ],
   "source": [
    "from sklearn.linear_model import LinearRegression\n",
    "from sklearn.model_selection import cross_val_score\n",
    "\n",
    "X = pd.get_dummies(data_clean['isOrganic'])\n",
    "Y = pd.get_dummies(data_clean['srm'])\n",
    "X = pd.concat([X, Y, data_clean[['abv', 'abv2']]], axis=1)\n",
    "X = X.drop('1', axis=1).drop('N', axis=1)\n",
    "model = LinearRegression()\n",
    "model.fit(X, data_clean['ibu'])\n",
    "Z = pd.get_dummies(data_test['isOrganic'])\n",
    "W = pd.get_dummies(data_test['srm'])\n",
    "data_test['abv2'] = data_test['abv']**2\n",
    "Z = pd.concat([Z, W, data_test[['abv', 'abv2']]], axis=1)\n",
    "y_predict = model.predict(Z)\n",
    "submish = ({\n",
    "        'id':data_test['id'],\n",
    "        'ibu':y_predict\n",
    "    })\n",
    "sub = pd.DataFrame(submish)\n",
    "sub.to_csv('sub.csv')\n",
    "print(\n",
    "    -cross_val_score(model, X, data_clean['ibu'], cv=15, scoring='neg_mean_squared_error').mean()\n",
    "    )"
   ]
  },
  {
   "cell_type": "markdown",
   "metadata": {},
   "source": [
    "## Model 2"
   ]
  },
  {
   "cell_type": "code",
   "execution_count": 6,
   "metadata": {
    "collapsed": false
   },
   "outputs": [
    {
     "name": "stdout",
     "output_type": "stream",
     "text": [
      "500.227371234\n"
     ]
    }
   ],
   "source": [
    "data_clean['originalGravity2'] = data_clean['originalGravity']**2\n",
    "srm_dum = pd.get_dummies(data_clean['srm']).drop(\"1\",axis=1)\n",
    "org_dum = pd.get_dummies(data_clean['isOrganic']).drop(\"N\", axis=1)\n",
    "ava_dum = pd.get_dummies(data_clean['available']).drop(\"Available at the same time of year, every year.\",axis=1)\n",
    "X = pd.concat([srm_dum, org_dum, ava_dum, data_clean[[\"abv\",\"abv2\",\"originalGravity\",\"originalGravity2\"]]], axis=1)\n",
    "from sklearn.linear_model import LinearRegression\n",
    "from sklearn.model_selection import train_test_split\n",
    "from sklearn.model_selection import cross_val_score\n",
    "\n",
    "X_train, X_test, y_train, y_test = train_test_split(X, data_clean[\"ibu\"], test_size=10)\n",
    "\n",
    "model = LinearRegression()\n",
    "\n",
    "print(\n",
    "    -cross_val_score(model, X, data_clean['ibu'], cv=15, scoring='neg_mean_squared_error').mean()\n",
    "    )"
   ]
  },
  {
   "cell_type": "markdown",
   "metadata": {},
   "source": [
    "## Model 3"
   ]
  },
  {
   "cell_type": "code",
   "execution_count": 7,
   "metadata": {
    "collapsed": false
   },
   "outputs": [
    {
     "name": "stdout",
     "output_type": "stream",
     "text": [
      "536.213512352\n"
     ]
    }
   ],
   "source": [
    "from sklearn.neighbors import KNeighborsRegressor\n",
    "\n",
    "model = KNeighborsRegressor(n_neighbors=25)\n",
    "model.fit(X, data_clean['ibu'])\n",
    "print(-cross_val_score(model, X, data_clean['ibu'], cv=15, \n",
    "            scoring=\"neg_mean_squared_error\").mean())"
   ]
  },
  {
   "cell_type": "markdown",
   "metadata": {},
   "source": [
    "## Model 4"
   ]
  },
  {
   "cell_type": "code",
   "execution_count": 8,
   "metadata": {
    "collapsed": false
   },
   "outputs": [
    {
     "data": {
      "text/plain": [
       "'A light beer with a pleasant aroma and after taste of, you guessed it, strawberries.  How to we do it?  10 pounds of strawberries per 10 gallon batch!'"
      ]
     },
     "execution_count": 8,
     "metadata": {},
     "output_type": "execute_result"
    }
   ],
   "source": [
    "data_clean.iloc[-10]['description']"
   ]
  },
  {
   "cell_type": "code",
   "execution_count": 9,
   "metadata": {
    "collapsed": false
   },
   "outputs": [
    {
     "name": "stdout",
     "output_type": "stream",
     "text": [
      "338.483707753\n"
     ]
    }
   ],
   "source": [
    "data_clean['originalGravity3'] = data_clean['originalGravity']**3\n",
    "srm_dum = pd.get_dummies(data_clean['srm']).drop(\"1\",axis=1)\n",
    "org_dum = pd.get_dummies(data_clean['isOrganic']).drop(\"N\", axis=1)\n",
    "ava_dum = pd.get_dummies(data_clean['available']).drop(\"Available at the same time of year, every year.\",axis=1)\n",
    "X = pd.concat([srm_dum, org_dum, ava_dum, data_clean[[\"abv\",\"abv2\",\"originalGravity\",\"originalGravity2\", \"originalGravity3\"]]], axis=1)\n",
    "\n",
    "X['BerryName'] = [1 if 'berry' in name or 'Berry' in name else 0 for name in data_clean['name'].fillna(\" \")]\n",
    "X['Fruity'] = [1 if 'fruit' in desc or 'Fruit' in desc else 0 for desc in data_clean['description'].fillna(\" \")]\n",
    "X['NameLight'] = [1 if 'light' in name else 0 for name in data_clean['name'].fillna(\" \")]\n",
    "X['DescWheat'] = [1 if 'wheat' in desc or 'light' in desc else 0 for desc in data_clean['description'].fillna(\" \")]\n",
    "X['DescDouble'] = [1 if 'double' in desc or '2x' in desc else 0 for desc in data_clean['description'].fillna(\" \")]\n",
    "X['ContainsBitter'] = [1 if 'bitter' in desc or 'Bitter' in desc else 0 for desc in data_clean['description'].fillna(\" \")]\n",
    "X['IPA'] = [1 if 'IPA' in name or 'I.P.A' in name or 'India' in name else 0 for name in data_clean['name'].fillna(\" \")]\n",
    "X['Pilsner'] = [1 if 'Pilsner' in name or 'pilsner' in name else 0 for name in data_clean['name'].fillna(\" \")]\n",
    "X['Lager'] = [1 if 'Lager' in name or 'lager' in name else 0 for name in data_clean['name'].fillna(\" \")]\n",
    "X['Amber'] = [1 if 'Amber' in name or 'amber' in name else 0 for name in data_clean['name'].fillna(\" \")]\n",
    "X['Blonde'] = [1 if 'blonde' in desc or 'blonde' in desc else 0 for desc in data_clean['description'].fillna(\" \")]\n",
    "X['Dark'] = [1 if 'Dark' in desc or 'dark' in desc else 0 for desc in data_clean['description'].fillna(\" \")]\n",
    "X['Black'] = [1 if 'Black' in name or 'black' in name else 0 for name in data_clean['name'].fillna(\" \")]\n",
    "X['Red'] = [1 if 'Red' in desc or 'red' in desc else 0 for desc in data_clean['description'].fillna(\" \")]\n",
    "X['German'] = [1 if 'German' in desc or 'german' in desc else 0 for desc in data_clean['description'].fillna(\" \")]\n",
    "X['ContainsHops'] = [1 if 'hop' in desc or 'hops' in desc else 0 for desc in data_clean['description'].fillna(\" \")]\n",
    "X['DescIPA'] = [1 if 'IPA' in desc or 'I.P.A' in desc or 'India' in desc else 0 for desc in data_clean['description'].fillna(\" \")]\n",
    "X['3X'] = [1 if '3x' in name or '3X' in name else 0 for name in data_clean['name'].fillna(\" \")]\n",
    "X['Hops2'] = [1 if 'Hops' in desc or 'Hops' in desc else 0 for desc in data_clean['description'].fillna(\" \")]\n",
    "X['Malty'] = [1 if 'Malt' in desc or 'malt' in desc else 0 for desc in data_clean['description'].fillna(\" \")]\n",
    "X['USA'] = [1 if 'American' in desc or 'america' in desc or 'USA' in desc else 0 for desc in data_clean['description'].fillna(\" \")]\n",
    "X['Belgian'] = [1 if 'Belgian' in desc or 'belgian' in desc else 0 for desc in data_clean['description'].fillna(\" \")]\n",
    "X['Russian'] = [1 if 'Russia' in desc or 'russia' in desc else 0 for desc in data_clean['description'].fillna(\" \")]\n",
    "X['England'] = [1 if 'Engl' in desc or 'engl' in desc or 'Brit' in desc or 'brit' in desc else 0 for desc in data_clean['description'].fillna(\" \")]\n",
    "X['Imp'] = [1 if 'Imperial' in desc or 'imperial' in desc else 0 for desc in data_clean['description'].fillna(\" \")]\n",
    "X['NameImp'] = [1 if 'Imperial' in name or 'imperial' in name else 0 for name in data_clean['name'].fillna(\" \")]\n",
    "X['Japanese'] = [1 if 'Japan' in desc or 'japan' in desc else 0 for desc in data_clean['description'].fillna(\" \")]\n",
    "\n",
    "from sklearn.linear_model import LinearRegression\n",
    "from sklearn.model_selection import cross_val_score\n",
    "\n",
    "model = LinearRegression()\n",
    "model.fit(X, data_clean['ibu'])\n",
    "\n",
    "print(\n",
    "    -cross_val_score(model, X, data_clean['ibu'], cv=15, scoring='neg_mean_squared_error').mean()\n",
    "    )"
   ]
  },
  {
   "cell_type": "code",
   "execution_count": 10,
   "metadata": {
    "collapsed": false
   },
   "outputs": [],
   "source": [
    "data_test['originalGravity2'] = data_test['originalGravity']**2\n",
    "data_test['originalGravity3'] = data_test['originalGravity']**3\n",
    "srm_dum = pd.get_dummies(data_test['srm'])\n",
    "org_dum = pd.get_dummies(data_test['isOrganic'])\n",
    "ava_dum = pd.get_dummies(data_test['available']).drop('Available at the same time of year, every year.', axis=1)\n",
    "Z = pd.concat([srm_dum, org_dum, ava_dum, data_test[['abv', 'abv2','originalGravity','originalGravity2', 'originalGravity3']]], axis=1)\n",
    "\n",
    "Z['BerryName'] = [1 if 'berry' in name or 'Berry' in name else 0 for name in data_test['name'].fillna(\" \")]\n",
    "Z['Fruity'] = [1 if 'fruit' in desc or 'Fruit' in desc else 0 for desc in data_test['description'].fillna(\" \")]\n",
    "Z['NameLight'] = [1 if 'light' in name else 0 for name in data_test['name'].fillna(\" \")]\n",
    "Z['DescWheat'] = [1 if 'wheat' in desc or 'light' in desc else 0 for desc in data_test['description'].fillna(\" \")]\n",
    "Z['DescDouble'] = [1 if 'double' in desc or '2x' in desc else 0 for desc in data_test['description'].fillna(\" \")]\n",
    "Z['ContainsBitter'] = [1 if 'bitter' in desc or 'Bitter' in desc else 0 for desc in data_test['description'].fillna(\" \")]\n",
    "Z['NameIPA'] = [1 if 'IPA' in name or 'I.P.A' in name or 'India' in name else 0 for name in data_test['name'].fillna(\" \")]\n",
    "Z['Pilsner'] = [1 if 'Pilsner' in name or 'pilsner' in name else 0 for name in data_test['name'].fillna(\" \")]\n",
    "Z['Amber'] = [1 if 'Amber' in name or 'amber' in name else 0 for name in data_test['name'].fillna(\" \")]\n",
    "Z['Lager'] = [1 if 'Lager' in name or 'lager' in name else 0 for name in data_test['name'].fillna(\" \")]\n",
    "Z['Blonde'] = [1 if 'blonde' in desc or 'blonde' in desc else 0 for desc in data_test['description'].fillna(\" \")]\n",
    "Z['Dark'] = [1 if 'Dark' in desc or 'dark' in desc else 0 for desc in data_test['description'].fillna(\" \")]\n",
    "Z['Black'] = [1 if 'Black' in name or 'black' in name else 0 for name in data_test['name'].fillna(\" \")]\n",
    "Z['Red'] = [1 if 'Red' in desc or 'red' in desc else 0 for desc in data_test['description'].fillna(\" \")]\n",
    "Z['German'] = [1 if 'German' in desc or 'german' in desc else 0 for desc in data_test['description'].fillna(\" \")]\n",
    "Z['ContainsHops'] = [1 if 'hop' in desc or 'hops' in desc else 0 for desc in data_test['description'].fillna(\" \")]\n",
    "Z['DescIPA'] = [1 if 'IPA' in desc or 'I.P.A' in desc or 'India' in desc else 0 for desc in data_test['description'].fillna(\" \")]\n",
    "Z['3X'] = [1 if '3x' in name or '3X' in name else 0 for name in data_test['name'].fillna(\" \")]\n",
    "Z['Hops2'] = [1 if 'Hops' in desc or 'Hops' in desc else 0 for desc in data_test['description'].fillna(\" \")]\n",
    "Z['Malty'] = [1 if 'Malt' in desc or 'malt' in desc else 0 for desc in data_test['description'].fillna(\" \")]\n",
    "Z['USA'] = [1 if 'American' in desc or 'america' in desc or 'USA' in desc else 0 for desc in data_test['description'].fillna(\" \")]\n",
    "Z['Belgian'] = [1 if 'Belgian' in desc or 'belgian' in desc else 0 for desc in data_test['description'].fillna(\" \")]\n",
    "Z['Russian'] = [1 if 'Russia' in desc or 'russia' in desc else 0 for desc in data_test['description'].fillna(\" \")]\n",
    "Z['England'] = [1 if 'Engl' in desc or 'engl' in desc or 'Brit' in desc or 'brit' in desc else 0 for desc in data_test['description'].fillna(\" \")]\n",
    "Z['Imp'] = [1 if 'Imperial' in desc or 'imperial' in desc else 0 for desc in data_test['description'].fillna(\" \")]\n",
    "Z['NameImp'] = [1 if 'Imperial' in name or 'imperial' in name else 0 for name in data_test['name'].fillna(\" \")]\n",
    "Z['Japanese'] = [1 if 'Japan' in desc or 'japan' in desc else 0 for desc in data_test['description'].fillna(\" \")]\n"
   ]
  },
  {
   "cell_type": "code",
   "execution_count": 11,
   "metadata": {
    "collapsed": false
   },
   "outputs": [],
   "source": [
    "# write predictions to csv\n",
    "y_predict = model.predict(Z)\n",
    "submish = ({\n",
    "        'id':data_test['id'],\n",
    "        'ibu':y_predict\n",
    "    })\n",
    "sub = pd.DataFrame(submish)\n",
    "sub.to_csv('sub5.csv')"
   ]
  },
  {
   "cell_type": "markdown",
   "metadata": {},
   "source": [
    "## Model 5"
   ]
  },
  {
   "cell_type": "code",
   "execution_count": 12,
   "metadata": {
    "collapsed": false
   },
   "outputs": [
    {
     "name": "stdout",
     "output_type": "stream",
     "text": [
      "698.524051156\n",
      "551.763869208\n",
      "500.764579426\n",
      "470.687241541\n",
      "453.941204087\n",
      "442.834918126\n",
      "440.567953152\n",
      "438.998738725\n",
      "438.47950312\n",
      "434.769758801\n",
      "434.374729934\n",
      "436.436251708\n",
      "436.540750331\n",
      "437.168550187\n",
      "436.865632819\n",
      "437.19364642\n",
      "437.95598401\n",
      "437.850524256\n",
      "437.93280823\n",
      "439.57087604\n",
      "440.490045014\n",
      "441.611244621\n",
      "442.915966085\n",
      "443.998511607\n",
      "445.416072182\n",
      "445.942566454\n",
      "447.293119433\n",
      "447.810288532\n",
      "447.926335531\n"
     ]
    }
   ],
   "source": [
    "for num in range(1,30):\n",
    "    model = KNeighborsRegressor(num)\n",
    "    model.fit(X, data_clean['ibu'])\n",
    "    print(\n",
    "        -cross_val_score(model, X, data_clean['ibu'], cv=15, scoring='neg_mean_squared_error').mean()\n",
    "        )"
   ]
  },
  {
   "cell_type": "markdown",
   "metadata": {},
   "source": [
    "_YOUR ANALYSIS OF THE RESULTS HERE_"
   ]
  },
  {
   "cell_type": "markdown",
   "metadata": {},
   "source": [
    "### Grader Comments\n",
    "\n",
    "- \n",
    "- \n",
    "\n",
    "[This question is worth 30 points]"
   ]
  },
  {
   "cell_type": "code",
   "execution_count": 13,
   "metadata": {
    "collapsed": true
   },
   "outputs": [],
   "source": [
    "scores.append(None)"
   ]
  },
  {
   "cell_type": "markdown",
   "metadata": {},
   "source": [
    "## Question 2\n",
    "\n",
    "Use the model that you determined to be optimal in Question 1, and predict the IBU for the test data. Export your predictions to a CSV file (using `.to_csv()`) in the format expected by Kaggle (see `/data/beer_test_sample_submission.csv`). Then, upload your predictions to [Kaggle](https://inclass.kaggle.com/c/beer2). You'll be able to see how well you did on the Leaderboard. You can upload as often as twice a day until the contest ends on Tuesday, June 6.\n",
    "\n",
    "The top 5 teams will earn up to 5 bonus points. In addition, the team that wins the competition will get another prize!\n",
    "\n",
    "_Hint:_ Be extra careful when encoding the categorical variables. Make sure your encoding for the test data matches the encoding you used for the training data **exactly**."
   ]
  },
  {
   "cell_type": "markdown",
   "metadata": {
    "collapsed": true
   },
   "source": [
    "## ****Code for csv write is at end of Model 4 code"
   ]
  },
  {
   "cell_type": "markdown",
   "metadata": {},
   "source": [
    "### Grader Comments\n",
    "\n",
    "- \n",
    "- \n",
    "\n",
    "[This question is worth 20 points]"
   ]
  },
  {
   "cell_type": "code",
   "execution_count": 14,
   "metadata": {
    "collapsed": true
   },
   "outputs": [],
   "source": [
    "scores.append(None)"
   ]
  }
 ],
 "metadata": {
  "kernelspec": {
   "display_name": "Python 3",
   "language": "python",
   "name": "python3"
  },
  "language_info": {
   "codemirror_mode": {
    "name": "ipython",
    "version": 3
   },
   "file_extension": ".py",
   "mimetype": "text/x-python",
   "name": "python",
   "nbconvert_exporter": "python",
   "pygments_lexer": "ipython3",
   "version": "3.5.2"
  }
 },
 "nbformat": 4,
 "nbformat_minor": 2
}
