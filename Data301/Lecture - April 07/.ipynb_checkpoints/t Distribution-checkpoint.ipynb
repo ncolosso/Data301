{
 "cells": [
  {
   "cell_type": "markdown",
   "metadata": {},
   "source": [
    "# The $t$ Distribution\n",
    "\n",
    "So far in this class, we've seen two ways of conducting hypothesis tests:\n",
    "\n",
    "1. The null hypothesis completely specifies the box model, so we can just simulate from the box and compare these simulations to the observed data.\n",
    "2. The null hypothesis specifies only the mean $\\mu$ and SD $\\sigma$ of the box. This is enough to apply the Central Limit Theorem. We can simulate from a $N(\\mu, \\frac{\\sigma}{\\sqrt{n}})$ distribution and compare these simulations to \n",
    "the observed sample mean. Equivalently, we can simulate from a $N(0, 1)$ distribution and compare these simulations to the _standardized_ sample mean:\n",
    "$$Z = \\frac{\\bar X - \\mu}{\\sigma / \\sqrt{n}}.$$\n",
    "\n",
    "However, in most cases, the null hypothesis only specifies the mean of the box, not the standard deviation. We have to estimate $\\sigma$ using the standard deviation $S$ of the sample. In other words, we compute the _studentized_ sample mean:\n",
    "$$T = \\frac{\\bar X - \\mu}{S / \\sqrt{n}}.$$\n",
    "\n",
    "In general, it is not valid to compare this test statistic to a $N(0, 1)$ distribution. In this workbook, you will explore why."
   ]
  },
  {
   "cell_type": "code",
   "execution_count": 1,
   "metadata": {
    "collapsed": true
   },
   "outputs": [],
   "source": [
    "from symbulate import *\n",
    "%matplotlib inline"
   ]
  },
  {
   "cell_type": "markdown",
   "metadata": {},
   "source": [
    "## Comparing the Standardized and Studentized Sample Means"
   ]
  },
  {
   "cell_type": "markdown",
   "metadata": {},
   "source": [
    "First, let's construct a simple box model, from which we'll simulate many samples."
   ]
  },
  {
   "cell_type": "code",
   "execution_count": 8,
   "metadata": {
    "collapsed": false
   },
   "outputs": [
    {
     "data": {
      "text/html": [
       "\n",
       "    <table>\n",
       "      <thead>\n",
       "        <th width=\"10%\">Index</th>\n",
       "        <th width=\"90%\">Result</th>\n",
       "      </thead>\n",
       "      <tbody>\n",
       "        \n",
       "        <tr>\n",
       "          <td>0</td><td>(4, 2, 4, 2, 2, 4, 1, 2, 3, 2)</td>\n",
       "        </tr>\n",
       "        \n",
       "        <tr>\n",
       "          <td>1</td><td>(3, 1, 2, 3, 2, 2, 2, 2, 2, 3)</td>\n",
       "        </tr>\n",
       "        \n",
       "        <tr>\n",
       "          <td>2</td><td>(1, 2, 2, 1, 2, 3, 2, 3, 1, 4)</td>\n",
       "        </tr>\n",
       "        \n",
       "        <tr>\n",
       "          <td>3</td><td>(3, 1, 3, 1, 3, 2, 2, 3, 1, 4)</td>\n",
       "        </tr>\n",
       "        \n",
       "        <tr>\n",
       "          <td>4</td><td>(3, 3, 2, 2, 3, 1, 3, 4, 2, 2)</td>\n",
       "        </tr>\n",
       "        \n",
       "        <tr>\n",
       "          <td>5</td><td>(4, 1, 2, 3, 2, 1, 1, 2, 3, 4)</td>\n",
       "        </tr>\n",
       "        \n",
       "        <tr>\n",
       "          <td>6</td><td>(2, 2, 2, 2, 4, 4, 2, 1, 2, 1)</td>\n",
       "        </tr>\n",
       "        \n",
       "        <tr>\n",
       "          <td>7</td><td>(4, 3, 4, 3, 4, 4, 3, 3, 1, 2)</td>\n",
       "        </tr>\n",
       "        \n",
       "        <tr>\n",
       "          <td>8</td><td>(2, 3, 3, 4, 4, 3, 2, 2, 1, 3)</td>\n",
       "        </tr>\n",
       "        <tr><td>...</td><td>...</td></tr>\n",
       "        <tr>\n",
       "          <td>9</td><td>(2, 2, 4, 2, 2, 1, 1, 2, 2, 3)</td>\n",
       "        </tr>\n",
       "        \n",
       "      </tbody>\n",
       "    </table>\n",
       "    "
      ],
      "text/plain": [
       "[(4, 2, 4, 2, 2, 4, 1, 2, 3, 2),\n",
       " (3, 1, 2, 3, 2, 2, 2, 2, 2, 3),\n",
       " (1, 2, 2, 1, 2, 3, 2, 3, 1, 4),\n",
       " (3, 1, 3, 1, 3, 2, 2, 3, 1, 4),\n",
       " (3, 3, 2, 2, 3, 1, 3, 4, 2, 2),\n",
       " (4, 1, 2, 3, 2, 1, 1, 2, 3, 4),\n",
       " (2, 2, 2, 2, 4, 4, 2, 1, 2, 1),\n",
       " (4, 3, 4, 3, 4, 4, 3, 3, 1, 2),\n",
       " (2, 3, 3, 4, 4, 3, 2, 2, 1, 3),\n",
       " (2, 2, 4, 2, 2, 1, 1, 2, 2, 3)]"
      ]
     },
     "execution_count": 8,
     "metadata": {},
     "output_type": "execute_result"
    }
   ],
   "source": [
    "box = [1, 2, 2, 3, 4]\n",
    "model = BoxModel(box, size=10, replace=True)\n",
    "model.sim(10)"
   ]
  },
  {
   "cell_type": "markdown",
   "metadata": {},
   "source": [
    "Now let's simulate the distribution of the $Z$-statistic. Remember, the $Z$-statistic is computed using both the mean _and_ standard deviation of the box. Implement the function `standardize()` below, which takes in a sample (i.e., an outcome from the box model) and standardizes the sample mean to obtain the $Z$-statistic."
   ]
  },
  {
   "cell_type": "code",
   "execution_count": 22,
   "metadata": {
    "collapsed": false
   },
   "outputs": [
    {
     "data": {
      "text/html": [
       "\n",
       "    <table>\n",
       "      <thead>\n",
       "        <th width=\"10%\">Index</th>\n",
       "        <th width=\"90%\">Result</th>\n",
       "      </thead>\n",
       "      <tbody>\n",
       "        \n",
       "        <tr>\n",
       "          <td>0</td><td>-1.5504341823651056</td>\n",
       "        </tr>\n",
       "        \n",
       "        <tr>\n",
       "          <td>1</td><td>1.2403473458920842</td>\n",
       "        </tr>\n",
       "        \n",
       "        <tr>\n",
       "          <td>2</td><td>1.5504341823651056</td>\n",
       "        </tr>\n",
       "        \n",
       "        <tr>\n",
       "          <td>3</td><td>0.9302605094190642</td>\n",
       "        </tr>\n",
       "        \n",
       "        <tr>\n",
       "          <td>4</td><td>1.8605210188381271</td>\n",
       "        </tr>\n",
       "        \n",
       "        <tr>\n",
       "          <td>5</td><td>0.0</td>\n",
       "        </tr>\n",
       "        \n",
       "        <tr>\n",
       "          <td>6</td><td>-1.2403473458920842</td>\n",
       "        </tr>\n",
       "        \n",
       "        <tr>\n",
       "          <td>7</td><td>-0.6201736729460414</td>\n",
       "        </tr>\n",
       "        \n",
       "        <tr>\n",
       "          <td>8</td><td>-1.5504341823651056</td>\n",
       "        </tr>\n",
       "        <tr><td>...</td><td>...</td></tr>\n",
       "        <tr>\n",
       "          <td>9</td><td>0.9302605094190642</td>\n",
       "        </tr>\n",
       "        \n",
       "      </tbody>\n",
       "    </table>\n",
       "    "
      ],
      "text/plain": [
       "[-1.5504341823651056,\n",
       " 1.2403473458920842,\n",
       " 1.5504341823651056,\n",
       " 0.9302605094190642,\n",
       " 1.8605210188381271,\n",
       " 0.0,\n",
       " -1.2403473458920842,\n",
       " -0.6201736729460414,\n",
       " -1.5504341823651056,\n",
       " 0.9302605094190642]"
      ]
     },
     "execution_count": 22,
     "metadata": {},
     "output_type": "execute_result"
    }
   ],
   "source": [
    "def standardize(sample):\n",
    "    return (mean(sample) - mean(box))/(sd(box)/sqrt(len(sample)))\n",
    "    \n",
    "Z = RV(model, standardize)\n",
    "Z.sim(10)"
   ]
  },
  {
   "cell_type": "markdown",
   "metadata": {},
   "source": [
    "Next, let's simulate the distribution of the $T$-statistic. Remember, the $T$-statistic is computed using the mean of the box (for example, specified by the null hypothesis) but the standard deviation of the sample. Implement the function `studentize()` below, which takes in a sample and studentizes the sample mean to obtain the $T$-statistic."
   ]
  },
  {
   "cell_type": "code",
   "execution_count": 21,
   "metadata": {
    "collapsed": false
   },
   "outputs": [
    {
     "data": {
      "text/html": [
       "\n",
       "    <table>\n",
       "      <thead>\n",
       "        <th width=\"10%\">Index</th>\n",
       "        <th width=\"90%\">Result</th>\n",
       "      </thead>\n",
       "      <tbody>\n",
       "        \n",
       "        <tr>\n",
       "          <td>0</td><td>-1.2649110640673513</td>\n",
       "        </tr>\n",
       "        \n",
       "        <tr>\n",
       "          <td>1</td><td>-1.6760038078849773</td>\n",
       "        </tr>\n",
       "        \n",
       "        <tr>\n",
       "          <td>2</td><td>-0.8451542547285156</td>\n",
       "        </tr>\n",
       "        \n",
       "        <tr>\n",
       "          <td>3</td><td>-0.6454972243679019</td>\n",
       "        </tr>\n",
       "        \n",
       "        <tr>\n",
       "          <td>4</td><td>0.2828427124746193</td>\n",
       "        </tr>\n",
       "        \n",
       "        <tr>\n",
       "          <td>5</td><td>1.4509525002200232</td>\n",
       "        </tr>\n",
       "        \n",
       "        <tr>\n",
       "          <td>6</td><td>0.6201736729460428</td>\n",
       "        </tr>\n",
       "        \n",
       "        <tr>\n",
       "          <td>7</td><td>0.5270462766947304</td>\n",
       "        </tr>\n",
       "        \n",
       "        <tr>\n",
       "          <td>8</td><td>2.346405331038969</td>\n",
       "        </tr>\n",
       "        <tr><td>...</td><td>...</td></tr>\n",
       "        <tr>\n",
       "          <td>9</td><td>1.690308509457033</td>\n",
       "        </tr>\n",
       "        \n",
       "      </tbody>\n",
       "    </table>\n",
       "    "
      ],
      "text/plain": [
       "[-1.2649110640673513,\n",
       " -1.6760038078849773,\n",
       " -0.8451542547285156,\n",
       " -0.6454972243679019,\n",
       " 0.2828427124746193,\n",
       " 1.4509525002200232,\n",
       " 0.6201736729460428,\n",
       " 0.5270462766947304,\n",
       " 2.346405331038969,\n",
       " 1.690308509457033]"
      ]
     },
     "execution_count": 21,
     "metadata": {},
     "output_type": "execute_result"
    }
   ],
   "source": [
    "def studentize(sample):\n",
    "    return (mean(sample) - mean(box))/(sd(sample)/sqrt(len(sample)))\n",
    "\n",
    "T = RV(model, studentize)\n",
    "T.sim(10)"
   ]
  },
  {
   "cell_type": "markdown",
   "metadata": {},
   "source": [
    "Now let's simulate many realizations of both $Z$ and $T$, and plot both distributions on the same graph."
   ]
  },
  {
   "cell_type": "code",
   "execution_count": 20,
   "metadata": {
    "collapsed": false
   },
   "outputs": [
    {
     "data": {
      "image/png": "[encoded data removed]",
      "text/plain": [
       "<matplotlib.figure.Figure at 0x7fd0e8ce14e0>"
      ]
     },
     "metadata": {},
     "output_type": "display_data"
    }
   ],
   "source": [
    "Z.sim(10000).plot(type=\"bar\")\n",
    "T.sim(10000).plot(type=\"bar\")"
   ]
  },
  {
   "cell_type": "markdown",
   "metadata": {},
   "source": [
    "How do the distributions of $Z$ and $T$ compare?"
   ]
  },
  {
   "cell_type": "markdown",
   "metadata": {},
   "source": [
    "ENTER YOUR ANSWER HERE."
   ]
  },
  {
   "cell_type": "markdown",
   "metadata": {},
   "source": [
    "## The $t$ Test"
   ]
  },
  {
   "cell_type": "markdown",
   "metadata": {},
   "source": [
    "The studentized sample mean $T$ follows a $t$ distribution (also called the Student-$t$ distribution, after its discoverer William Sealy Gosset, who published under the pseudonym \"Student\") with $n-1$ degrees of freedom. To conduct a hypothesis test, we compare the studentized sample mean with simulations from the appropriate $t$ distribution."
   ]
  },
  {
   "cell_type": "markdown",
   "metadata": {},
   "source": [
    "**Example** (Deflategate) NFL rules stipulate that footballs must be inflated to have pressures greater than 12.5 psi. \n",
    "Each team is responsible for maintaining the pressure in their own balls, but the officials inspect the balls.\n",
    "\n",
    "On January 18, 2015, during the AFC championship game, the Indianapolis Colts accused the New England Patriots of playing with deflated footballs. At halftime, the officials measured the pressures of 11 Patriots balls. The data is recorded below. Are you convinced that the Patriots were playing with balls with an average pressure below the required level of 12.5 psi? Or is this just natural variability?"
   ]
  },
  {
   "cell_type": "code",
   "execution_count": 23,
   "metadata": {
    "collapsed": true
   },
   "outputs": [],
   "source": [
    "pressures = [11.80, 11.20, 11.50, 11.00, 11.45, 11.95, 12.30, 11.55, 11.35, 10.90, 11.35]"
   ]
  },
  {
   "cell_type": "markdown",
   "metadata": {},
   "source": [
    "**Step 1.** To conduct a $t$-test, we simulate from a $t$ distribution with the appropriate degrees of freedom."
   ]
  },
  {
   "cell_type": "code",
   "execution_count": 24,
   "metadata": {
    "collapsed": false
   },
   "outputs": [
    {
     "data": {
      "image/png": "[encoded data removed]",
      "text/plain": [
       "<matplotlib.figure.Figure at 0x7fd0e8db74a8>"
      ]
     },
     "metadata": {},
     "output_type": "display_data"
    }
   ],
   "source": [
    "n = len(pressures)\n",
    "T = RV(StudentT(df=n-1))\n",
    "sims = T.sim(10000)\n",
    "sims.plot()"
   ]
  },
  {
   "cell_type": "markdown",
   "metadata": {},
   "source": [
    "**Step 2.** Compare the studentized sample mean to this distribution to obtain a $p$-value."
   ]
  },
  {
   "cell_type": "code",
   "execution_count": 27,
   "metadata": {
    "collapsed": false
   },
   "outputs": [
    {
     "data": {
      "text/plain": [
       "0.0"
      ]
     },
     "execution_count": 27,
     "metadata": {},
     "output_type": "execute_result"
    }
   ],
   "source": [
    "t = (mean(pressures) - 12.5)/(sd(pressures)/sqrt(n))\n",
    "sims.count_leq(t)/1000"
   ]
  },
  {
   "cell_type": "markdown",
   "metadata": {},
   "source": [
    "**Step 3.** State your conclusion."
   ]
  },
  {
   "cell_type": "markdown",
   "metadata": {},
   "source": [
    "Assuming the average psi of Patriot footballs was 12.5, there is a 0% chance we would have obtained this mean and standard deviation from a sample. So, we conclude that they cheated."
   ]
  }
 ],
 "metadata": {
  "kernelspec": {
   "display_name": "Python 3",
   "language": "python",
   "name": "python3"
  },
  "language_info": {
   "codemirror_mode": {
    "name": "ipython",
    "version": 3
   },
   "file_extension": ".py",
   "mimetype": "text/x-python",
   "name": "python",
   "nbconvert_exporter": "python",
   "pygments_lexer": "ipython3",
   "version": "3.5.2"
  }
 },
 "nbformat": 4,
 "nbformat_minor": 1
}
