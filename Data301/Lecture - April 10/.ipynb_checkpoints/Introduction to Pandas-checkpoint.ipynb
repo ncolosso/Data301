{
 "cells": [
  {
   "cell_type": "markdown",
   "metadata": {
    "collapsed": true
   },
   "source": [
    "# Introduction to Pandas\n",
    "\n",
    "In this workbook, you will learn [Pandas](http://pandas.pydata.org/), which provides a convenient data structure for storing and manipulating data called a `DataFrame`."
   ]
  },
  {
   "cell_type": "code",
   "execution_count": 1,
   "metadata": {
    "collapsed": true
   },
   "outputs": [],
   "source": [
    "import pandas as pd\n",
    "pd.set_option(\"display.max_rows\", 15)"
   ]
  },
  {
   "cell_type": "markdown",
   "metadata": {},
   "source": [
    "## Reading in Data"
   ]
  },
  {
   "cell_type": "markdown",
   "metadata": {},
   "source": [
    "When you use Pandas to read in data from a CSV, it automatically infers the types of the columns."
   ]
  },
  {
   "cell_type": "code",
   "execution_count": 2,
   "metadata": {
    "collapsed": false
   },
   "outputs": [
    {
     "data": {
      "text/html": [
       "<div>\n",
       "<table border=\"1\" class=\"dataframe\">\n",
       "  <thead>\n",
       "    <tr style=\"text-align: right;\">\n",
       "      <th></th>\n",
       "      <th>Bsal</th>\n",
       "      <th>Sal77</th>\n",
       "      <th>Sex</th>\n",
       "      <th>Senior</th>\n",
       "      <th>Age</th>\n",
       "      <th>Educ</th>\n",
       "      <th>Exper</th>\n",
       "    </tr>\n",
       "  </thead>\n",
       "  <tbody>\n",
       "    <tr>\n",
       "      <th>0</th>\n",
       "      <td>5040</td>\n",
       "      <td>12420</td>\n",
       "      <td>Male</td>\n",
       "      <td>96</td>\n",
       "      <td>329</td>\n",
       "      <td>15</td>\n",
       "      <td>14.0</td>\n",
       "    </tr>\n",
       "    <tr>\n",
       "      <th>1</th>\n",
       "      <td>6300</td>\n",
       "      <td>12060</td>\n",
       "      <td>Male</td>\n",
       "      <td>82</td>\n",
       "      <td>357</td>\n",
       "      <td>15</td>\n",
       "      <td>72.0</td>\n",
       "    </tr>\n",
       "    <tr>\n",
       "      <th>2</th>\n",
       "      <td>6000</td>\n",
       "      <td>15120</td>\n",
       "      <td>Male</td>\n",
       "      <td>67</td>\n",
       "      <td>315</td>\n",
       "      <td>15</td>\n",
       "      <td>35.5</td>\n",
       "    </tr>\n",
       "    <tr>\n",
       "      <th>3</th>\n",
       "      <td>6000</td>\n",
       "      <td>16320</td>\n",
       "      <td>Male</td>\n",
       "      <td>97</td>\n",
       "      <td>354</td>\n",
       "      <td>12</td>\n",
       "      <td>24.0</td>\n",
       "    </tr>\n",
       "    <tr>\n",
       "      <th>4</th>\n",
       "      <td>6000</td>\n",
       "      <td>12300</td>\n",
       "      <td>Male</td>\n",
       "      <td>66</td>\n",
       "      <td>351</td>\n",
       "      <td>12</td>\n",
       "      <td>56.0</td>\n",
       "    </tr>\n",
       "    <tr>\n",
       "      <th>5</th>\n",
       "      <td>6840</td>\n",
       "      <td>10380</td>\n",
       "      <td>Male</td>\n",
       "      <td>92</td>\n",
       "      <td>374</td>\n",
       "      <td>15</td>\n",
       "      <td>41.5</td>\n",
       "    </tr>\n",
       "    <tr>\n",
       "      <th>6</th>\n",
       "      <td>8100</td>\n",
       "      <td>13980</td>\n",
       "      <td>Male</td>\n",
       "      <td>66</td>\n",
       "      <td>369</td>\n",
       "      <td>16</td>\n",
       "      <td>54.5</td>\n",
       "    </tr>\n",
       "    <tr>\n",
       "      <th>...</th>\n",
       "      <td>...</td>\n",
       "      <td>...</td>\n",
       "      <td>...</td>\n",
       "      <td>...</td>\n",
       "      <td>...</td>\n",
       "      <td>...</td>\n",
       "      <td>...</td>\n",
       "    </tr>\n",
       "    <tr>\n",
       "      <th>86</th>\n",
       "      <td>5100</td>\n",
       "      <td>10560</td>\n",
       "      <td>Female</td>\n",
       "      <td>84</td>\n",
       "      <td>458</td>\n",
       "      <td>12</td>\n",
       "      <td>36.0</td>\n",
       "    </tr>\n",
       "    <tr>\n",
       "      <th>87</th>\n",
       "      <td>4800</td>\n",
       "      <td>9240</td>\n",
       "      <td>Female</td>\n",
       "      <td>84</td>\n",
       "      <td>571</td>\n",
       "      <td>16</td>\n",
       "      <td>214.0</td>\n",
       "    </tr>\n",
       "    <tr>\n",
       "      <th>88</th>\n",
       "      <td>6000</td>\n",
       "      <td>11940</td>\n",
       "      <td>Female</td>\n",
       "      <td>86</td>\n",
       "      <td>486</td>\n",
       "      <td>15</td>\n",
       "      <td>78.5</td>\n",
       "    </tr>\n",
       "    <tr>\n",
       "      <th>89</th>\n",
       "      <td>4380</td>\n",
       "      <td>10020</td>\n",
       "      <td>Female</td>\n",
       "      <td>93</td>\n",
       "      <td>313</td>\n",
       "      <td>8</td>\n",
       "      <td>7.5</td>\n",
       "    </tr>\n",
       "    <tr>\n",
       "      <th>90</th>\n",
       "      <td>5580</td>\n",
       "      <td>7860</td>\n",
       "      <td>Female</td>\n",
       "      <td>69</td>\n",
       "      <td>600</td>\n",
       "      <td>12</td>\n",
       "      <td>132.5</td>\n",
       "    </tr>\n",
       "    <tr>\n",
       "      <th>91</th>\n",
       "      <td>4620</td>\n",
       "      <td>9420</td>\n",
       "      <td>Female</td>\n",
       "      <td>96</td>\n",
       "      <td>385</td>\n",
       "      <td>12</td>\n",
       "      <td>52.0</td>\n",
       "    </tr>\n",
       "    <tr>\n",
       "      <th>92</th>\n",
       "      <td>5220</td>\n",
       "      <td>8340</td>\n",
       "      <td>Female</td>\n",
       "      <td>70</td>\n",
       "      <td>468</td>\n",
       "      <td>12</td>\n",
       "      <td>127.0</td>\n",
       "    </tr>\n",
       "  </tbody>\n",
       "</table>\n",
       "<p>93 rows × 7 columns</p>\n",
       "</div>"
      ],
      "text/plain": [
       "    Bsal  Sal77     Sex  Senior  Age  Educ  Exper\n",
       "0   5040  12420    Male      96  329    15   14.0\n",
       "1   6300  12060    Male      82  357    15   72.0\n",
       "2   6000  15120    Male      67  315    15   35.5\n",
       "3   6000  16320    Male      97  354    12   24.0\n",
       "4   6000  12300    Male      66  351    12   56.0\n",
       "5   6840  10380    Male      92  374    15   41.5\n",
       "6   8100  13980    Male      66  369    16   54.5\n",
       "..   ...    ...     ...     ...  ...   ...    ...\n",
       "86  5100  10560  Female      84  458    12   36.0\n",
       "87  4800   9240  Female      84  571    16  214.0\n",
       "88  6000  11940  Female      86  486    15   78.5\n",
       "89  4380  10020  Female      93  313     8    7.5\n",
       "90  5580   7860  Female      69  600    12  132.5\n",
       "91  4620   9420  Female      96  385    12   52.0\n",
       "92  5220   8340  Female      70  468    12  127.0\n",
       "\n",
       "[93 rows x 7 columns]"
      ]
     },
     "execution_count": 2,
     "metadata": {},
     "output_type": "execute_result"
    }
   ],
   "source": [
    "data = pd.read_csv(\"/data/harris.csv\")\n",
    "data"
   ]
  },
  {
   "cell_type": "markdown",
   "metadata": {},
   "source": [
    "## Basic Indexing and Selection"
   ]
  },
  {
   "cell_type": "markdown",
   "metadata": {},
   "source": [
    "Let's check that Pandas inferred the types reasonably. You can access columns either using dictionary-style notation..."
   ]
  },
  {
   "cell_type": "code",
   "execution_count": 59,
   "metadata": {
    "collapsed": false
   },
   "outputs": [
    {
     "data": {
      "text/plain": [
       "0     5040\n",
       "1     6300\n",
       "2     6000\n",
       "3     6000\n",
       "4     6000\n",
       "5     6840\n",
       "6     8100\n",
       "      ... \n",
       "86    5100\n",
       "87    4800\n",
       "88    6000\n",
       "89    4380\n",
       "90    5580\n",
       "91    4620\n",
       "92    5220\n",
       "Name: Bsal, dtype: int64"
      ]
     },
     "execution_count": 59,
     "metadata": {},
     "output_type": "execute_result"
    }
   ],
   "source": [
    "data[\"Bsal\"]"
   ]
  },
  {
   "cell_type": "markdown",
   "metadata": {},
   "source": [
    "...or attribute-style notation."
   ]
  },
  {
   "cell_type": "code",
   "execution_count": 4,
   "metadata": {
    "collapsed": false
   },
   "outputs": [
    {
     "data": {
      "text/plain": [
       "0       Male\n",
       "1       Male\n",
       "2       Male\n",
       "3       Male\n",
       "4       Male\n",
       "5       Male\n",
       "6       Male\n",
       "       ...  \n",
       "86    Female\n",
       "87    Female\n",
       "88    Female\n",
       "89    Female\n",
       "90    Female\n",
       "91    Female\n",
       "92    Female\n",
       "Name: Sex, dtype: object"
      ]
     },
     "execution_count": 4,
     "metadata": {},
     "output_type": "execute_result"
    }
   ],
   "source": [
    "data.Sex"
   ]
  },
  {
   "cell_type": "markdown",
   "metadata": {},
   "source": [
    "What happens if you index by a slice (e.g., `2:5`)?"
   ]
  },
  {
   "cell_type": "code",
   "execution_count": 6,
   "metadata": {
    "collapsed": false
   },
   "outputs": [
    {
     "data": {
      "text/html": [
       "<div>\n",
       "<table border=\"1\" class=\"dataframe\">\n",
       "  <thead>\n",
       "    <tr style=\"text-align: right;\">\n",
       "      <th></th>\n",
       "      <th>Bsal</th>\n",
       "      <th>Sal77</th>\n",
       "      <th>Sex</th>\n",
       "      <th>Senior</th>\n",
       "      <th>Age</th>\n",
       "      <th>Educ</th>\n",
       "      <th>Exper</th>\n",
       "    </tr>\n",
       "  </thead>\n",
       "  <tbody>\n",
       "    <tr>\n",
       "      <th>2</th>\n",
       "      <td>6000</td>\n",
       "      <td>15120</td>\n",
       "      <td>Male</td>\n",
       "      <td>67</td>\n",
       "      <td>315</td>\n",
       "      <td>15</td>\n",
       "      <td>35.5</td>\n",
       "    </tr>\n",
       "    <tr>\n",
       "      <th>3</th>\n",
       "      <td>6000</td>\n",
       "      <td>16320</td>\n",
       "      <td>Male</td>\n",
       "      <td>97</td>\n",
       "      <td>354</td>\n",
       "      <td>12</td>\n",
       "      <td>24.0</td>\n",
       "    </tr>\n",
       "    <tr>\n",
       "      <th>4</th>\n",
       "      <td>6000</td>\n",
       "      <td>12300</td>\n",
       "      <td>Male</td>\n",
       "      <td>66</td>\n",
       "      <td>351</td>\n",
       "      <td>12</td>\n",
       "      <td>56.0</td>\n",
       "    </tr>\n",
       "  </tbody>\n",
       "</table>\n",
       "</div>"
      ],
      "text/plain": [
       "   Bsal  Sal77   Sex  Senior  Age  Educ  Exper\n",
       "2  6000  15120  Male      67  315    15   35.5\n",
       "3  6000  16320  Male      97  354    12   24.0\n",
       "4  6000  12300  Male      66  351    12   56.0"
      ]
     },
     "execution_count": 6,
     "metadata": {},
     "output_type": "execute_result"
    }
   ],
   "source": [
    "data[2:5]"
   ]
  },
  {
   "cell_type": "markdown",
   "metadata": {},
   "source": [
    "What happens if you index by a Boolean mask?"
   ]
  },
  {
   "cell_type": "code",
   "execution_count": 25,
   "metadata": {
    "collapsed": false
   },
   "outputs": [
    {
     "data": {
      "text/html": [
       "<div>\n",
       "<table border=\"1\" class=\"dataframe\">\n",
       "  <thead>\n",
       "    <tr style=\"text-align: right;\">\n",
       "      <th></th>\n",
       "      <th>Bsal</th>\n",
       "      <th>Sal77</th>\n",
       "      <th>Sex</th>\n",
       "      <th>Senior</th>\n",
       "      <th>Age</th>\n",
       "      <th>Educ</th>\n",
       "      <th>Exper</th>\n",
       "    </tr>\n",
       "  </thead>\n",
       "  <tbody>\n",
       "    <tr>\n",
       "      <th>14</th>\n",
       "      <td>5100</td>\n",
       "      <td>8940</td>\n",
       "      <td>Female</td>\n",
       "      <td>95</td>\n",
       "      <td>640</td>\n",
       "      <td>15</td>\n",
       "      <td>165.0</td>\n",
       "    </tr>\n",
       "    <tr>\n",
       "      <th>15</th>\n",
       "      <td>4800</td>\n",
       "      <td>8580</td>\n",
       "      <td>Female</td>\n",
       "      <td>98</td>\n",
       "      <td>774</td>\n",
       "      <td>12</td>\n",
       "      <td>381.0</td>\n",
       "    </tr>\n",
       "    <tr>\n",
       "      <th>16</th>\n",
       "      <td>5280</td>\n",
       "      <td>8760</td>\n",
       "      <td>Female</td>\n",
       "      <td>98</td>\n",
       "      <td>557</td>\n",
       "      <td>8</td>\n",
       "      <td>190.0</td>\n",
       "    </tr>\n",
       "    <tr>\n",
       "      <th>17</th>\n",
       "      <td>5280</td>\n",
       "      <td>8040</td>\n",
       "      <td>Female</td>\n",
       "      <td>88</td>\n",
       "      <td>745</td>\n",
       "      <td>8</td>\n",
       "      <td>90.0</td>\n",
       "    </tr>\n",
       "    <tr>\n",
       "      <th>18</th>\n",
       "      <td>4800</td>\n",
       "      <td>9000</td>\n",
       "      <td>Female</td>\n",
       "      <td>77</td>\n",
       "      <td>505</td>\n",
       "      <td>12</td>\n",
       "      <td>63.0</td>\n",
       "    </tr>\n",
       "    <tr>\n",
       "      <th>19</th>\n",
       "      <td>4800</td>\n",
       "      <td>8820</td>\n",
       "      <td>Female</td>\n",
       "      <td>76</td>\n",
       "      <td>482</td>\n",
       "      <td>12</td>\n",
       "      <td>6.0</td>\n",
       "    </tr>\n",
       "    <tr>\n",
       "      <th>20</th>\n",
       "      <td>5400</td>\n",
       "      <td>13320</td>\n",
       "      <td>Female</td>\n",
       "      <td>86</td>\n",
       "      <td>329</td>\n",
       "      <td>15</td>\n",
       "      <td>24.0</td>\n",
       "    </tr>\n",
       "    <tr>\n",
       "      <th>...</th>\n",
       "      <td>...</td>\n",
       "      <td>...</td>\n",
       "      <td>...</td>\n",
       "      <td>...</td>\n",
       "      <td>...</td>\n",
       "      <td>...</td>\n",
       "      <td>...</td>\n",
       "    </tr>\n",
       "    <tr>\n",
       "      <th>86</th>\n",
       "      <td>5100</td>\n",
       "      <td>10560</td>\n",
       "      <td>Female</td>\n",
       "      <td>84</td>\n",
       "      <td>458</td>\n",
       "      <td>12</td>\n",
       "      <td>36.0</td>\n",
       "    </tr>\n",
       "    <tr>\n",
       "      <th>87</th>\n",
       "      <td>4800</td>\n",
       "      <td>9240</td>\n",
       "      <td>Female</td>\n",
       "      <td>84</td>\n",
       "      <td>571</td>\n",
       "      <td>16</td>\n",
       "      <td>214.0</td>\n",
       "    </tr>\n",
       "    <tr>\n",
       "      <th>88</th>\n",
       "      <td>6000</td>\n",
       "      <td>11940</td>\n",
       "      <td>Female</td>\n",
       "      <td>86</td>\n",
       "      <td>486</td>\n",
       "      <td>15</td>\n",
       "      <td>78.5</td>\n",
       "    </tr>\n",
       "    <tr>\n",
       "      <th>89</th>\n",
       "      <td>4380</td>\n",
       "      <td>10020</td>\n",
       "      <td>Female</td>\n",
       "      <td>93</td>\n",
       "      <td>313</td>\n",
       "      <td>8</td>\n",
       "      <td>7.5</td>\n",
       "    </tr>\n",
       "    <tr>\n",
       "      <th>90</th>\n",
       "      <td>5580</td>\n",
       "      <td>7860</td>\n",
       "      <td>Female</td>\n",
       "      <td>69</td>\n",
       "      <td>600</td>\n",
       "      <td>12</td>\n",
       "      <td>132.5</td>\n",
       "    </tr>\n",
       "    <tr>\n",
       "      <th>91</th>\n",
       "      <td>4620</td>\n",
       "      <td>9420</td>\n",
       "      <td>Female</td>\n",
       "      <td>96</td>\n",
       "      <td>385</td>\n",
       "      <td>12</td>\n",
       "      <td>52.0</td>\n",
       "    </tr>\n",
       "    <tr>\n",
       "      <th>92</th>\n",
       "      <td>5220</td>\n",
       "      <td>8340</td>\n",
       "      <td>Female</td>\n",
       "      <td>70</td>\n",
       "      <td>468</td>\n",
       "      <td>12</td>\n",
       "      <td>127.0</td>\n",
       "    </tr>\n",
       "  </tbody>\n",
       "</table>\n",
       "<p>61 rows × 7 columns</p>\n",
       "</div>"
      ],
      "text/plain": [
       "    Bsal  Sal77     Sex  Senior  Age  Educ  Exper\n",
       "14  5100   8940  Female      95  640    15  165.0\n",
       "15  4800   8580  Female      98  774    12  381.0\n",
       "16  5280   8760  Female      98  557     8  190.0\n",
       "17  5280   8040  Female      88  745     8   90.0\n",
       "18  4800   9000  Female      77  505    12   63.0\n",
       "19  4800   8820  Female      76  482    12    6.0\n",
       "20  5400  13320  Female      86  329    15   24.0\n",
       "..   ...    ...     ...     ...  ...   ...    ...\n",
       "86  5100  10560  Female      84  458    12   36.0\n",
       "87  4800   9240  Female      84  571    16  214.0\n",
       "88  6000  11940  Female      86  486    15   78.5\n",
       "89  4380  10020  Female      93  313     8    7.5\n",
       "90  5580   7860  Female      69  600    12  132.5\n",
       "91  4620   9420  Female      96  385    12   52.0\n",
       "92  5220   8340  Female      70  468    12  127.0\n",
       "\n",
       "[61 rows x 7 columns]"
      ]
     },
     "execution_count": 25,
     "metadata": {},
     "output_type": "execute_result"
    }
   ],
   "source": [
    "data[data.Sex == \"Female\"]"
   ]
  },
  {
   "cell_type": "markdown",
   "metadata": {},
   "source": [
    "What happens if you try to get the second row by `data[1]`? Can you think of a reason why this doesn't work?"
   ]
  },
  {
   "cell_type": "markdown",
   "metadata": {},
   "source": [
    "## Pandas Indexers\n",
    "\n",
    "To index specific rows, Pandas offers the `.loc` and `.iloc` indexers.\n",
    "\n",
    "- `.loc` indexes by label.\n",
    "- `.iloc` indexes by position.\n",
    "\n",
    "By default, when you read in data, the index label _is_ just its position, so there is no difference between the two. However, we will see an example shortly where the index label is not just its position. In these cases, you usually will want to use `.loc`."
   ]
  },
  {
   "cell_type": "code",
   "execution_count": 61,
   "metadata": {
    "collapsed": false
   },
   "outputs": [
    {
     "data": {
      "text/plain": [
       "Bsal            6300\n",
       "Sal77          12060\n",
       "Sex             Male\n",
       "Senior            82\n",
       "Age              357\n",
       "Educ              15\n",
       "Exper             72\n",
       "AgeInYears        29\n",
       "SalIncrease     5760\n",
       "Name: 1, dtype: object"
      ]
     },
     "execution_count": 61,
     "metadata": {},
     "output_type": "execute_result"
    }
   ],
   "source": [
    "data.loc[1]"
   ]
  },
  {
   "cell_type": "code",
   "execution_count": 28,
   "metadata": {
    "collapsed": false
   },
   "outputs": [
    {
     "data": {
      "text/plain": [
       "Bsal       6300\n",
       "Sal77     12060\n",
       "Sex        Male\n",
       "Senior       82\n",
       "Age         357\n",
       "Educ         15\n",
       "Exper        72\n",
       "Name: 1, dtype: object"
      ]
     },
     "execution_count": 28,
     "metadata": {},
     "output_type": "execute_result"
    }
   ],
   "source": [
    "data.iloc[1]"
   ]
  },
  {
   "cell_type": "markdown",
   "metadata": {},
   "source": [
    "You can pass in both row and column indexers to `.loc` or `.iloc`."
   ]
  },
  {
   "cell_type": "code",
   "execution_count": 65,
   "metadata": {
    "collapsed": false
   },
   "outputs": [
    {
     "data": {
      "text/plain": [
       "6300"
      ]
     },
     "execution_count": 65,
     "metadata": {},
     "output_type": "execute_result"
    }
   ],
   "source": [
    "data.loc[1, \"Bsal\"]"
   ]
  },
  {
   "cell_type": "markdown",
   "metadata": {},
   "source": [
    "You can even pass in a slice of column labels! This is a quick way to get many columns at once, without having to manually type in each of the names of the columns."
   ]
  },
  {
   "cell_type": "code",
   "execution_count": 30,
   "metadata": {
    "collapsed": false
   },
   "outputs": [
    {
     "data": {
      "text/html": [
       "<div>\n",
       "<table border=\"1\" class=\"dataframe\">\n",
       "  <thead>\n",
       "    <tr style=\"text-align: right;\">\n",
       "      <th></th>\n",
       "      <th>Senior</th>\n",
       "      <th>Age</th>\n",
       "      <th>Educ</th>\n",
       "      <th>Exper</th>\n",
       "    </tr>\n",
       "  </thead>\n",
       "  <tbody>\n",
       "    <tr>\n",
       "      <th>0</th>\n",
       "      <td>96</td>\n",
       "      <td>329</td>\n",
       "      <td>15</td>\n",
       "      <td>14.0</td>\n",
       "    </tr>\n",
       "    <tr>\n",
       "      <th>1</th>\n",
       "      <td>82</td>\n",
       "      <td>357</td>\n",
       "      <td>15</td>\n",
       "      <td>72.0</td>\n",
       "    </tr>\n",
       "    <tr>\n",
       "      <th>2</th>\n",
       "      <td>67</td>\n",
       "      <td>315</td>\n",
       "      <td>15</td>\n",
       "      <td>35.5</td>\n",
       "    </tr>\n",
       "    <tr>\n",
       "      <th>3</th>\n",
       "      <td>97</td>\n",
       "      <td>354</td>\n",
       "      <td>12</td>\n",
       "      <td>24.0</td>\n",
       "    </tr>\n",
       "    <tr>\n",
       "      <th>4</th>\n",
       "      <td>66</td>\n",
       "      <td>351</td>\n",
       "      <td>12</td>\n",
       "      <td>56.0</td>\n",
       "    </tr>\n",
       "    <tr>\n",
       "      <th>5</th>\n",
       "      <td>92</td>\n",
       "      <td>374</td>\n",
       "      <td>15</td>\n",
       "      <td>41.5</td>\n",
       "    </tr>\n",
       "    <tr>\n",
       "      <th>6</th>\n",
       "      <td>66</td>\n",
       "      <td>369</td>\n",
       "      <td>16</td>\n",
       "      <td>54.5</td>\n",
       "    </tr>\n",
       "    <tr>\n",
       "      <th>...</th>\n",
       "      <td>...</td>\n",
       "      <td>...</td>\n",
       "      <td>...</td>\n",
       "      <td>...</td>\n",
       "    </tr>\n",
       "    <tr>\n",
       "      <th>86</th>\n",
       "      <td>84</td>\n",
       "      <td>458</td>\n",
       "      <td>12</td>\n",
       "      <td>36.0</td>\n",
       "    </tr>\n",
       "    <tr>\n",
       "      <th>87</th>\n",
       "      <td>84</td>\n",
       "      <td>571</td>\n",
       "      <td>16</td>\n",
       "      <td>214.0</td>\n",
       "    </tr>\n",
       "    <tr>\n",
       "      <th>88</th>\n",
       "      <td>86</td>\n",
       "      <td>486</td>\n",
       "      <td>15</td>\n",
       "      <td>78.5</td>\n",
       "    </tr>\n",
       "    <tr>\n",
       "      <th>89</th>\n",
       "      <td>93</td>\n",
       "      <td>313</td>\n",
       "      <td>8</td>\n",
       "      <td>7.5</td>\n",
       "    </tr>\n",
       "    <tr>\n",
       "      <th>90</th>\n",
       "      <td>69</td>\n",
       "      <td>600</td>\n",
       "      <td>12</td>\n",
       "      <td>132.5</td>\n",
       "    </tr>\n",
       "    <tr>\n",
       "      <th>91</th>\n",
       "      <td>96</td>\n",
       "      <td>385</td>\n",
       "      <td>12</td>\n",
       "      <td>52.0</td>\n",
       "    </tr>\n",
       "    <tr>\n",
       "      <th>92</th>\n",
       "      <td>70</td>\n",
       "      <td>468</td>\n",
       "      <td>12</td>\n",
       "      <td>127.0</td>\n",
       "    </tr>\n",
       "  </tbody>\n",
       "</table>\n",
       "<p>93 rows × 4 columns</p>\n",
       "</div>"
      ],
      "text/plain": [
       "    Senior  Age  Educ  Exper\n",
       "0       96  329    15   14.0\n",
       "1       82  357    15   72.0\n",
       "2       67  315    15   35.5\n",
       "3       97  354    12   24.0\n",
       "4       66  351    12   56.0\n",
       "5       92  374    15   41.5\n",
       "6       66  369    16   54.5\n",
       "..     ...  ...   ...    ...\n",
       "86      84  458    12   36.0\n",
       "87      84  571    16  214.0\n",
       "88      86  486    15   78.5\n",
       "89      93  313     8    7.5\n",
       "90      69  600    12  132.5\n",
       "91      96  385    12   52.0\n",
       "92      70  468    12  127.0\n",
       "\n",
       "[93 rows x 4 columns]"
      ]
     },
     "execution_count": 30,
     "metadata": {},
     "output_type": "execute_result"
    }
   ],
   "source": [
    "data.loc[:, \"Senior\":\"Exper\"]"
   ]
  },
  {
   "cell_type": "markdown",
   "metadata": {},
   "source": [
    "## Adding New Columns\n",
    "\n",
    "We can add new columns using dictionary assignment. For example, the column `Age` is in months. Let's create a new column, `AgeInYears`, which converts `Age` to years."
   ]
  },
  {
   "cell_type": "code",
   "execution_count": 39,
   "metadata": {
    "collapsed": false
   },
   "outputs": [
    {
     "data": {
      "text/html": [
       "<div>\n",
       "<table border=\"1\" class=\"dataframe\">\n",
       "  <thead>\n",
       "    <tr style=\"text-align: right;\">\n",
       "      <th></th>\n",
       "      <th>Bsal</th>\n",
       "      <th>Sal77</th>\n",
       "      <th>Sex</th>\n",
       "      <th>Senior</th>\n",
       "      <th>Age</th>\n",
       "      <th>Educ</th>\n",
       "      <th>Exper</th>\n",
       "      <th>AgeInYears</th>\n",
       "    </tr>\n",
       "  </thead>\n",
       "  <tbody>\n",
       "    <tr>\n",
       "      <th>0</th>\n",
       "      <td>5040</td>\n",
       "      <td>12420</td>\n",
       "      <td>Male</td>\n",
       "      <td>96</td>\n",
       "      <td>329</td>\n",
       "      <td>15</td>\n",
       "      <td>14.0</td>\n",
       "      <td>27</td>\n",
       "    </tr>\n",
       "    <tr>\n",
       "      <th>1</th>\n",
       "      <td>6300</td>\n",
       "      <td>12060</td>\n",
       "      <td>Male</td>\n",
       "      <td>82</td>\n",
       "      <td>357</td>\n",
       "      <td>15</td>\n",
       "      <td>72.0</td>\n",
       "      <td>29</td>\n",
       "    </tr>\n",
       "    <tr>\n",
       "      <th>2</th>\n",
       "      <td>6000</td>\n",
       "      <td>15120</td>\n",
       "      <td>Male</td>\n",
       "      <td>67</td>\n",
       "      <td>315</td>\n",
       "      <td>15</td>\n",
       "      <td>35.5</td>\n",
       "      <td>26</td>\n",
       "    </tr>\n",
       "    <tr>\n",
       "      <th>3</th>\n",
       "      <td>6000</td>\n",
       "      <td>16320</td>\n",
       "      <td>Male</td>\n",
       "      <td>97</td>\n",
       "      <td>354</td>\n",
       "      <td>12</td>\n",
       "      <td>24.0</td>\n",
       "      <td>29</td>\n",
       "    </tr>\n",
       "    <tr>\n",
       "      <th>4</th>\n",
       "      <td>6000</td>\n",
       "      <td>12300</td>\n",
       "      <td>Male</td>\n",
       "      <td>66</td>\n",
       "      <td>351</td>\n",
       "      <td>12</td>\n",
       "      <td>56.0</td>\n",
       "      <td>29</td>\n",
       "    </tr>\n",
       "    <tr>\n",
       "      <th>5</th>\n",
       "      <td>6840</td>\n",
       "      <td>10380</td>\n",
       "      <td>Male</td>\n",
       "      <td>92</td>\n",
       "      <td>374</td>\n",
       "      <td>15</td>\n",
       "      <td>41.5</td>\n",
       "      <td>31</td>\n",
       "    </tr>\n",
       "    <tr>\n",
       "      <th>6</th>\n",
       "      <td>8100</td>\n",
       "      <td>13980</td>\n",
       "      <td>Male</td>\n",
       "      <td>66</td>\n",
       "      <td>369</td>\n",
       "      <td>16</td>\n",
       "      <td>54.5</td>\n",
       "      <td>30</td>\n",
       "    </tr>\n",
       "    <tr>\n",
       "      <th>...</th>\n",
       "      <td>...</td>\n",
       "      <td>...</td>\n",
       "      <td>...</td>\n",
       "      <td>...</td>\n",
       "      <td>...</td>\n",
       "      <td>...</td>\n",
       "      <td>...</td>\n",
       "      <td>...</td>\n",
       "    </tr>\n",
       "    <tr>\n",
       "      <th>86</th>\n",
       "      <td>5100</td>\n",
       "      <td>10560</td>\n",
       "      <td>Female</td>\n",
       "      <td>84</td>\n",
       "      <td>458</td>\n",
       "      <td>12</td>\n",
       "      <td>36.0</td>\n",
       "      <td>38</td>\n",
       "    </tr>\n",
       "    <tr>\n",
       "      <th>87</th>\n",
       "      <td>4800</td>\n",
       "      <td>9240</td>\n",
       "      <td>Female</td>\n",
       "      <td>84</td>\n",
       "      <td>571</td>\n",
       "      <td>16</td>\n",
       "      <td>214.0</td>\n",
       "      <td>47</td>\n",
       "    </tr>\n",
       "    <tr>\n",
       "      <th>88</th>\n",
       "      <td>6000</td>\n",
       "      <td>11940</td>\n",
       "      <td>Female</td>\n",
       "      <td>86</td>\n",
       "      <td>486</td>\n",
       "      <td>15</td>\n",
       "      <td>78.5</td>\n",
       "      <td>40</td>\n",
       "    </tr>\n",
       "    <tr>\n",
       "      <th>89</th>\n",
       "      <td>4380</td>\n",
       "      <td>10020</td>\n",
       "      <td>Female</td>\n",
       "      <td>93</td>\n",
       "      <td>313</td>\n",
       "      <td>8</td>\n",
       "      <td>7.5</td>\n",
       "      <td>26</td>\n",
       "    </tr>\n",
       "    <tr>\n",
       "      <th>90</th>\n",
       "      <td>5580</td>\n",
       "      <td>7860</td>\n",
       "      <td>Female</td>\n",
       "      <td>69</td>\n",
       "      <td>600</td>\n",
       "      <td>12</td>\n",
       "      <td>132.5</td>\n",
       "      <td>50</td>\n",
       "    </tr>\n",
       "    <tr>\n",
       "      <th>91</th>\n",
       "      <td>4620</td>\n",
       "      <td>9420</td>\n",
       "      <td>Female</td>\n",
       "      <td>96</td>\n",
       "      <td>385</td>\n",
       "      <td>12</td>\n",
       "      <td>52.0</td>\n",
       "      <td>32</td>\n",
       "    </tr>\n",
       "    <tr>\n",
       "      <th>92</th>\n",
       "      <td>5220</td>\n",
       "      <td>8340</td>\n",
       "      <td>Female</td>\n",
       "      <td>70</td>\n",
       "      <td>468</td>\n",
       "      <td>12</td>\n",
       "      <td>127.0</td>\n",
       "      <td>39</td>\n",
       "    </tr>\n",
       "  </tbody>\n",
       "</table>\n",
       "<p>93 rows × 8 columns</p>\n",
       "</div>"
      ],
      "text/plain": [
       "    Bsal  Sal77     Sex  Senior  Age  Educ  Exper  AgeInYears\n",
       "0   5040  12420    Male      96  329    15   14.0          27\n",
       "1   6300  12060    Male      82  357    15   72.0          29\n",
       "2   6000  15120    Male      67  315    15   35.5          26\n",
       "3   6000  16320    Male      97  354    12   24.0          29\n",
       "4   6000  12300    Male      66  351    12   56.0          29\n",
       "5   6840  10380    Male      92  374    15   41.5          31\n",
       "6   8100  13980    Male      66  369    16   54.5          30\n",
       "..   ...    ...     ...     ...  ...   ...    ...         ...\n",
       "86  5100  10560  Female      84  458    12   36.0          38\n",
       "87  4800   9240  Female      84  571    16  214.0          47\n",
       "88  6000  11940  Female      86  486    15   78.5          40\n",
       "89  4380  10020  Female      93  313     8    7.5          26\n",
       "90  5580   7860  Female      69  600    12  132.5          50\n",
       "91  4620   9420  Female      96  385    12   52.0          32\n",
       "92  5220   8340  Female      70  468    12  127.0          39\n",
       "\n",
       "[93 rows x 8 columns]"
      ]
     },
     "execution_count": 39,
     "metadata": {},
     "output_type": "execute_result"
    }
   ],
   "source": [
    "data[\"AgeInYears\"] = data[\"Age\"] // 12\n",
    "data"
   ]
  },
  {
   "cell_type": "markdown",
   "metadata": {},
   "source": [
    "## Summarizing Data\n",
    "\n",
    "Pandas offers many functions for summarizing data. To quickly get an overview of the entire DataFrame, you can use the `.describe()` method."
   ]
  },
  {
   "cell_type": "code",
   "execution_count": 40,
   "metadata": {
    "collapsed": false
   },
   "outputs": [
    {
     "data": {
      "text/html": [
       "<div>\n",
       "<table border=\"1\" class=\"dataframe\">\n",
       "  <thead>\n",
       "    <tr style=\"text-align: right;\">\n",
       "      <th></th>\n",
       "      <th>Bsal</th>\n",
       "      <th>Sal77</th>\n",
       "      <th>Senior</th>\n",
       "      <th>Age</th>\n",
       "      <th>Educ</th>\n",
       "      <th>Exper</th>\n",
       "      <th>AgeInYears</th>\n",
       "    </tr>\n",
       "  </thead>\n",
       "  <tbody>\n",
       "    <tr>\n",
       "      <th>count</th>\n",
       "      <td>93.000000</td>\n",
       "      <td>93.000000</td>\n",
       "      <td>93.000000</td>\n",
       "      <td>93.000000</td>\n",
       "      <td>93.000000</td>\n",
       "      <td>93.000000</td>\n",
       "      <td>93.000000</td>\n",
       "    </tr>\n",
       "    <tr>\n",
       "      <th>mean</th>\n",
       "      <td>5420.322581</td>\n",
       "      <td>10392.903226</td>\n",
       "      <td>82.279570</td>\n",
       "      <td>474.397849</td>\n",
       "      <td>12.505376</td>\n",
       "      <td>100.927419</td>\n",
       "      <td>39.129032</td>\n",
       "    </tr>\n",
       "    <tr>\n",
       "      <th>std</th>\n",
       "      <td>709.587222</td>\n",
       "      <td>1789.640831</td>\n",
       "      <td>10.254761</td>\n",
       "      <td>140.210489</td>\n",
       "      <td>2.282369</td>\n",
       "      <td>90.946985</td>\n",
       "      <td>11.684462</td>\n",
       "    </tr>\n",
       "    <tr>\n",
       "      <th>min</th>\n",
       "      <td>3900.000000</td>\n",
       "      <td>7860.000000</td>\n",
       "      <td>65.000000</td>\n",
       "      <td>280.000000</td>\n",
       "      <td>8.000000</td>\n",
       "      <td>0.000000</td>\n",
       "      <td>23.000000</td>\n",
       "    </tr>\n",
       "    <tr>\n",
       "      <th>25%</th>\n",
       "      <td>4980.000000</td>\n",
       "      <td>9000.000000</td>\n",
       "      <td>74.000000</td>\n",
       "      <td>349.000000</td>\n",
       "      <td>12.000000</td>\n",
       "      <td>35.500000</td>\n",
       "      <td>29.000000</td>\n",
       "    </tr>\n",
       "    <tr>\n",
       "      <th>50%</th>\n",
       "      <td>5400.000000</td>\n",
       "      <td>10020.000000</td>\n",
       "      <td>84.000000</td>\n",
       "      <td>468.000000</td>\n",
       "      <td>12.000000</td>\n",
       "      <td>70.000000</td>\n",
       "      <td>39.000000</td>\n",
       "    </tr>\n",
       "    <tr>\n",
       "      <th>75%</th>\n",
       "      <td>6000.000000</td>\n",
       "      <td>11220.000000</td>\n",
       "      <td>90.000000</td>\n",
       "      <td>590.000000</td>\n",
       "      <td>15.000000</td>\n",
       "      <td>144.000000</td>\n",
       "      <td>49.000000</td>\n",
       "    </tr>\n",
       "    <tr>\n",
       "      <th>max</th>\n",
       "      <td>8100.000000</td>\n",
       "      <td>16320.000000</td>\n",
       "      <td>98.000000</td>\n",
       "      <td>774.000000</td>\n",
       "      <td>16.000000</td>\n",
       "      <td>381.000000</td>\n",
       "      <td>64.000000</td>\n",
       "    </tr>\n",
       "  </tbody>\n",
       "</table>\n",
       "</div>"
      ],
      "text/plain": [
       "              Bsal         Sal77     Senior         Age       Educ  \\\n",
       "count    93.000000     93.000000  93.000000   93.000000  93.000000   \n",
       "mean   5420.322581  10392.903226  82.279570  474.397849  12.505376   \n",
       "std     709.587222   1789.640831  10.254761  140.210489   2.282369   \n",
       "min    3900.000000   7860.000000  65.000000  280.000000   8.000000   \n",
       "25%    4980.000000   9000.000000  74.000000  349.000000  12.000000   \n",
       "50%    5400.000000  10020.000000  84.000000  468.000000  12.000000   \n",
       "75%    6000.000000  11220.000000  90.000000  590.000000  15.000000   \n",
       "max    8100.000000  16320.000000  98.000000  774.000000  16.000000   \n",
       "\n",
       "            Exper  AgeInYears  \n",
       "count   93.000000   93.000000  \n",
       "mean   100.927419   39.129032  \n",
       "std     90.946985   11.684462  \n",
       "min      0.000000   23.000000  \n",
       "25%     35.500000   29.000000  \n",
       "50%     70.000000   39.000000  \n",
       "75%    144.000000   49.000000  \n",
       "max    381.000000   64.000000  "
      ]
     },
     "execution_count": 40,
     "metadata": {},
     "output_type": "execute_result"
    }
   ],
   "source": [
    "data.describe()"
   ]
  },
  {
   "cell_type": "markdown",
   "metadata": {},
   "source": [
    "What is the type of this object? How would you extract the mean salary in 1977?"
   ]
  },
  {
   "cell_type": "code",
   "execution_count": 42,
   "metadata": {
    "collapsed": false
   },
   "outputs": [
    {
     "data": {
      "text/plain": [
       "10392.903225806451"
      ]
     },
     "execution_count": 42,
     "metadata": {},
     "output_type": "execute_result"
    }
   ],
   "source": [
    "# ENTER YOUR CODE HERE\n",
    "data.describe().loc[\"mean\", \"Sal77\"]"
   ]
  },
  {
   "cell_type": "markdown",
   "metadata": {},
   "source": [
    "Notice that the above description only included the quantitative variables. We can also apply the `.describe()` method  individual variables. Let's see what happens when we apply it to a categorical variable."
   ]
  },
  {
   "cell_type": "code",
   "execution_count": 43,
   "metadata": {
    "collapsed": false
   },
   "outputs": [
    {
     "data": {
      "text/plain": [
       "count         93\n",
       "unique         2\n",
       "top       Female\n",
       "freq          61\n",
       "Name: Sex, dtype: object"
      ]
     },
     "execution_count": 43,
     "metadata": {},
     "output_type": "execute_result"
    }
   ],
   "source": [
    "data[\"Sex\"].describe()"
   ]
  },
  {
   "cell_type": "markdown",
   "metadata": {},
   "source": [
    "We can also calculate specific summary statistics directly."
   ]
  },
  {
   "cell_type": "code",
   "execution_count": 44,
   "metadata": {
    "collapsed": false
   },
   "outputs": [
    {
     "data": {
      "text/plain": [
       "(5420.322580645161, 709.58722173207275)"
      ]
     },
     "execution_count": 44,
     "metadata": {},
     "output_type": "execute_result"
    }
   ],
   "source": [
    "data[\"Bsal\"].mean(), data[\"Bsal\"].std()"
   ]
  },
  {
   "cell_type": "markdown",
   "metadata": {},
   "source": [
    "## Exercises"
   ]
  },
  {
   "cell_type": "markdown",
   "metadata": {},
   "source": [
    "**Exercise 1.** Calculate the average beginning salary (`Bsal`) for men. Then do the same for women. How do they compare? (For a full analysis, you should also look at the standard deviations.)"
   ]
  },
  {
   "cell_type": "code",
   "execution_count": 53,
   "metadata": {
    "collapsed": false
   },
   "outputs": [
    {
     "name": "stdout",
     "output_type": "stream",
     "text": [
      "Male: 5956.875\n",
      "Female: 5138.85245902\n"
     ]
    }
   ],
   "source": [
    "# ENTER YOUR CODE HERE\n",
    "print(\"Male:\", data[data.Sex == \"Male\"][\"Bsal\"].mean())\n",
    "print(\"Female:\", data[data.Sex == \"Female\"][\"Bsal\"].mean())"
   ]
  },
  {
   "cell_type": "markdown",
   "metadata": {},
   "source": [
    "**Exercise 2.** Add a column called `SalIncrease` that represents how much each employee's salary increased between when they started and 1977."
   ]
  },
  {
   "cell_type": "code",
   "execution_count": 57,
   "metadata": {
    "collapsed": false
   },
   "outputs": [
    {
     "data": {
      "text/plain": [
       "0      7380\n",
       "1      5760\n",
       "2      9120\n",
       "3     10320\n",
       "4      6300\n",
       "5      3540\n",
       "6      5880\n",
       "      ...  \n",
       "86     5460\n",
       "87     4440\n",
       "88     5940\n",
       "89     5640\n",
       "90     2280\n",
       "91     4800\n",
       "92     3120\n",
       "Name: SalIncrease, dtype: int64"
      ]
     },
     "execution_count": 57,
     "metadata": {},
     "output_type": "execute_result"
    }
   ],
   "source": [
    "# ENTER YOUR CODE HERE\n",
    "data[\"SalIncrease\"] = data.Sal77 - data.Bsal\n",
    "data[\"SalIncrease\"]"
   ]
  },
  {
   "cell_type": "markdown",
   "metadata": {},
   "source": [
    "**Exercise 3.** `Educ` represents how many years of education an employee had. `Exper` represents how many months of experience an employee had _before_ coming to Harris Bank. `Senior` represents how many months an employee had been at the company.\n",
    "\n",
    "The sum of an employee's education, experience, and seniority should not exceed their age! Let's sanity check the data. Has anyone in the data set been studying / working longer than they've been alive?"
   ]
  },
  {
   "cell_type": "code",
   "execution_count": 80,
   "metadata": {
    "collapsed": false
   },
   "outputs": [
    {
     "data": {
      "text/plain": [
       "1"
      ]
     },
     "execution_count": 80,
     "metadata": {},
     "output_type": "execute_result"
    }
   ],
   "source": [
    "# ENTER YOUR CODE HERE\n",
    "check = ((data.Educ*12 + data.Exper + data.Senior) > data.Age)\n",
    "check.sum()"
   ]
  },
  {
   "cell_type": "code",
   "execution_count": 81,
   "metadata": {
    "collapsed": false
   },
   "outputs": [
    {
     "data": {
      "text/html": [
       "<div>\n",
       "<table border=\"1\" class=\"dataframe\">\n",
       "  <thead>\n",
       "    <tr style=\"text-align: right;\">\n",
       "      <th></th>\n",
       "      <th>Bsal</th>\n",
       "      <th>Sal77</th>\n",
       "      <th>Sex</th>\n",
       "      <th>Senior</th>\n",
       "      <th>Age</th>\n",
       "      <th>Educ</th>\n",
       "      <th>Exper</th>\n",
       "      <th>AgeInYears</th>\n",
       "      <th>SalIncrease</th>\n",
       "    </tr>\n",
       "  </thead>\n",
       "  <tbody>\n",
       "    <tr>\n",
       "      <th>78</th>\n",
       "      <td>4440</td>\n",
       "      <td>9600</td>\n",
       "      <td>Female</td>\n",
       "      <td>97</td>\n",
       "      <td>341</td>\n",
       "      <td>15</td>\n",
       "      <td>75.0</td>\n",
       "      <td>28</td>\n",
       "      <td>5160</td>\n",
       "    </tr>\n",
       "  </tbody>\n",
       "</table>\n",
       "</div>"
      ],
      "text/plain": [
       "    Bsal  Sal77     Sex  Senior  Age  Educ  Exper  AgeInYears  SalIncrease\n",
       "78  4440   9600  Female      97  341    15   75.0          28         5160"
      ]
     },
     "execution_count": 81,
     "metadata": {},
     "output_type": "execute_result"
    }
   ],
   "source": [
    "data[check]"
   ]
  },
  {
   "cell_type": "code",
   "execution_count": null,
   "metadata": {
    "collapsed": true
   },
   "outputs": [],
   "source": []
  }
 ],
 "metadata": {
  "kernelspec": {
   "display_name": "Python 3",
   "language": "python",
   "name": "python3"
  },
  "language_info": {
   "codemirror_mode": {
    "name": "ipython",
    "version": 3
   },
   "file_extension": ".py",
   "mimetype": "text/x-python",
   "name": "python",
   "nbconvert_exporter": "python",
   "pygments_lexer": "ipython3",
   "version": "3.5.2"
  }
 },
 "nbformat": 4,
 "nbformat_minor": 1
}
