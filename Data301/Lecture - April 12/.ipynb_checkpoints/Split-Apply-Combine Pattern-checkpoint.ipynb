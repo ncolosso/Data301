{
 "cells": [
  {
   "cell_type": "markdown",
   "metadata": {},
   "source": [
    "# Split-Apply-Combine Pattern\n",
    "\n",
    "In this workbook, you will learn the split-apply-combine pattern of data analysis. You will also see how to implement this powerful pattern in Pandas."
   ]
  },
  {
   "cell_type": "code",
   "execution_count": 1,
   "metadata": {
    "collapsed": true
   },
   "outputs": [],
   "source": [
    "import pandas as pd\n",
    "pd.set_option(\"display.max_rows\", 15)\n",
    "\n",
    "%matplotlib inline"
   ]
  },
  {
   "cell_type": "code",
   "execution_count": 2,
   "metadata": {
    "collapsed": false
   },
   "outputs": [
    {
     "data": {
      "text/html": [
       "<div>\n",
       "<table border=\"1\" class=\"dataframe\">\n",
       "  <thead>\n",
       "    <tr style=\"text-align: right;\">\n",
       "      <th></th>\n",
       "      <th>Bsal</th>\n",
       "      <th>Sal77</th>\n",
       "      <th>Sex</th>\n",
       "      <th>Senior</th>\n",
       "      <th>Age</th>\n",
       "      <th>Educ</th>\n",
       "      <th>Exper</th>\n",
       "    </tr>\n",
       "  </thead>\n",
       "  <tbody>\n",
       "    <tr>\n",
       "      <th>0</th>\n",
       "      <td>5040</td>\n",
       "      <td>12420</td>\n",
       "      <td>Male</td>\n",
       "      <td>96</td>\n",
       "      <td>329</td>\n",
       "      <td>15</td>\n",
       "      <td>14.0</td>\n",
       "    </tr>\n",
       "    <tr>\n",
       "      <th>1</th>\n",
       "      <td>6300</td>\n",
       "      <td>12060</td>\n",
       "      <td>Male</td>\n",
       "      <td>82</td>\n",
       "      <td>357</td>\n",
       "      <td>15</td>\n",
       "      <td>72.0</td>\n",
       "    </tr>\n",
       "    <tr>\n",
       "      <th>2</th>\n",
       "      <td>6000</td>\n",
       "      <td>15120</td>\n",
       "      <td>Male</td>\n",
       "      <td>67</td>\n",
       "      <td>315</td>\n",
       "      <td>15</td>\n",
       "      <td>35.5</td>\n",
       "    </tr>\n",
       "    <tr>\n",
       "      <th>3</th>\n",
       "      <td>6000</td>\n",
       "      <td>16320</td>\n",
       "      <td>Male</td>\n",
       "      <td>97</td>\n",
       "      <td>354</td>\n",
       "      <td>12</td>\n",
       "      <td>24.0</td>\n",
       "    </tr>\n",
       "    <tr>\n",
       "      <th>4</th>\n",
       "      <td>6000</td>\n",
       "      <td>12300</td>\n",
       "      <td>Male</td>\n",
       "      <td>66</td>\n",
       "      <td>351</td>\n",
       "      <td>12</td>\n",
       "      <td>56.0</td>\n",
       "    </tr>\n",
       "    <tr>\n",
       "      <th>5</th>\n",
       "      <td>6840</td>\n",
       "      <td>10380</td>\n",
       "      <td>Male</td>\n",
       "      <td>92</td>\n",
       "      <td>374</td>\n",
       "      <td>15</td>\n",
       "      <td>41.5</td>\n",
       "    </tr>\n",
       "    <tr>\n",
       "      <th>6</th>\n",
       "      <td>8100</td>\n",
       "      <td>13980</td>\n",
       "      <td>Male</td>\n",
       "      <td>66</td>\n",
       "      <td>369</td>\n",
       "      <td>16</td>\n",
       "      <td>54.5</td>\n",
       "    </tr>\n",
       "    <tr>\n",
       "      <th>...</th>\n",
       "      <td>...</td>\n",
       "      <td>...</td>\n",
       "      <td>...</td>\n",
       "      <td>...</td>\n",
       "      <td>...</td>\n",
       "      <td>...</td>\n",
       "      <td>...</td>\n",
       "    </tr>\n",
       "    <tr>\n",
       "      <th>86</th>\n",
       "      <td>5100</td>\n",
       "      <td>10560</td>\n",
       "      <td>Female</td>\n",
       "      <td>84</td>\n",
       "      <td>458</td>\n",
       "      <td>12</td>\n",
       "      <td>36.0</td>\n",
       "    </tr>\n",
       "    <tr>\n",
       "      <th>87</th>\n",
       "      <td>4800</td>\n",
       "      <td>9240</td>\n",
       "      <td>Female</td>\n",
       "      <td>84</td>\n",
       "      <td>571</td>\n",
       "      <td>16</td>\n",
       "      <td>214.0</td>\n",
       "    </tr>\n",
       "    <tr>\n",
       "      <th>88</th>\n",
       "      <td>6000</td>\n",
       "      <td>11940</td>\n",
       "      <td>Female</td>\n",
       "      <td>86</td>\n",
       "      <td>486</td>\n",
       "      <td>15</td>\n",
       "      <td>78.5</td>\n",
       "    </tr>\n",
       "    <tr>\n",
       "      <th>89</th>\n",
       "      <td>4380</td>\n",
       "      <td>10020</td>\n",
       "      <td>Female</td>\n",
       "      <td>93</td>\n",
       "      <td>313</td>\n",
       "      <td>8</td>\n",
       "      <td>7.5</td>\n",
       "    </tr>\n",
       "    <tr>\n",
       "      <th>90</th>\n",
       "      <td>5580</td>\n",
       "      <td>7860</td>\n",
       "      <td>Female</td>\n",
       "      <td>69</td>\n",
       "      <td>600</td>\n",
       "      <td>12</td>\n",
       "      <td>132.5</td>\n",
       "    </tr>\n",
       "    <tr>\n",
       "      <th>91</th>\n",
       "      <td>4620</td>\n",
       "      <td>9420</td>\n",
       "      <td>Female</td>\n",
       "      <td>96</td>\n",
       "      <td>385</td>\n",
       "      <td>12</td>\n",
       "      <td>52.0</td>\n",
       "    </tr>\n",
       "    <tr>\n",
       "      <th>92</th>\n",
       "      <td>5220</td>\n",
       "      <td>8340</td>\n",
       "      <td>Female</td>\n",
       "      <td>70</td>\n",
       "      <td>468</td>\n",
       "      <td>12</td>\n",
       "      <td>127.0</td>\n",
       "    </tr>\n",
       "  </tbody>\n",
       "</table>\n",
       "<p>93 rows × 7 columns</p>\n",
       "</div>"
      ],
      "text/plain": [
       "    Bsal  Sal77     Sex  Senior  Age  Educ  Exper\n",
       "0   5040  12420    Male      96  329    15   14.0\n",
       "1   6300  12060    Male      82  357    15   72.0\n",
       "2   6000  15120    Male      67  315    15   35.5\n",
       "3   6000  16320    Male      97  354    12   24.0\n",
       "4   6000  12300    Male      66  351    12   56.0\n",
       "5   6840  10380    Male      92  374    15   41.5\n",
       "6   8100  13980    Male      66  369    16   54.5\n",
       "..   ...    ...     ...     ...  ...   ...    ...\n",
       "86  5100  10560  Female      84  458    12   36.0\n",
       "87  4800   9240  Female      84  571    16  214.0\n",
       "88  6000  11940  Female      86  486    15   78.5\n",
       "89  4380  10020  Female      93  313     8    7.5\n",
       "90  5580   7860  Female      69  600    12  132.5\n",
       "91  4620   9420  Female      96  385    12   52.0\n",
       "92  5220   8340  Female      70  468    12  127.0\n",
       "\n",
       "[93 rows x 7 columns]"
      ]
     },
     "execution_count": 2,
     "metadata": {},
     "output_type": "execute_result"
    }
   ],
   "source": [
    "data = pd.read_csv(\"/data/harris.csv\")\n",
    "data"
   ]
  },
  {
   "cell_type": "markdown",
   "metadata": {},
   "source": [
    "## Motivation\n",
    "\n",
    "An \"analysis\" is simply a specification of what we want to do with a data set. For example, one analysis might be to \"calculate the average years of experience and seniority\". Another might be to \"plot the distribution of beginning salary\".\n",
    "\n",
    "We've already seen how to carry out an analysis on an entire data set."
   ]
  },
  {
   "cell_type": "code",
   "execution_count": 3,
   "metadata": {
    "collapsed": false
   },
   "outputs": [
    {
     "data": {
      "text/plain": [
       "Exper     100.927419\n",
       "Senior     82.279570\n",
       "dtype: float64"
      ]
     },
     "execution_count": 3,
     "metadata": {},
     "output_type": "execute_result"
    }
   ],
   "source": [
    "data[[\"Exper\", \"Senior\"]].mean()"
   ]
  },
  {
   "cell_type": "code",
   "execution_count": 4,
   "metadata": {
    "collapsed": false,
    "scrolled": true
   },
   "outputs": [
    {
     "data": {
      "text/plain": [
       "<matplotlib.axes._subplots.AxesSubplot at 0x7f04c871e9b0>"
      ]
     },
     "execution_count": 4,
     "metadata": {},
     "output_type": "execute_result"
    },
    {
     "data": {
      "image/png": "[encoded data removed]",
      "text/plain": [
       "<matplotlib.figure.Figure at 0x7f04c874ce10>"
      ]
     },
     "metadata": {},
     "output_type": "display_data"
    }
   ],
   "source": [
    "data[\"Bsal\"].hist()"
   ]
  },
  {
   "cell_type": "markdown",
   "metadata": {},
   "source": [
    "But in many cases, we want to carry out an analysis on several subsets of the data. For example, for the Harris Bank data, the question is whether females were treated differently from males. To answer this question, we have to repeat the same analysis for the males and the females in the data set and compare the results.\n",
    "\n",
    "Of course, one way to accomplish this is by subsetting."
   ]
  },
  {
   "cell_type": "code",
   "execution_count": 6,
   "metadata": {
    "collapsed": false
   },
   "outputs": [
    {
     "name": "stdout",
     "output_type": "stream",
     "text": [
      "Men: 103.046875\n",
      "Women: 99.8155737705\n"
     ]
    }
   ],
   "source": [
    "print(\"Men:\",data[data[\"Sex\"] == \"Male\"][\"Exper\"].mean())\n",
    "print(\"Women:\",data[data[\"Sex\"] == \"Female\"][\"Exper\"].mean())"
   ]
  },
  {
   "cell_type": "markdown",
   "metadata": {},
   "source": [
    "But it turns out that this pattern (of repeating an analysis over subsets of the data defined by some variable, such as `Sex`) arises so frequently that it is worth coming up with a general solution."
   ]
  },
  {
   "cell_type": "markdown",
   "metadata": {
    "collapsed": true
   },
   "source": [
    "## Split-Apply-Combine Pattern\n",
    "\n",
    "The split-apply-combine pattern was coined by Hadley Wickham in [a 2011 paper](https://www.jstatsoft.org/article/view/v040i01), but the pattern itself is not new. You'll recognize the pattern if you've ever used SQL or MapReduce. The idea is that many data analyses follow the same basic pattern:\n",
    "\n",
    "- First, a data set is **split** into several smaller data sets.\n",
    "- Next, some analysis is **applied** to each of the smaller data sets.\n",
    "- Finally, the results from each analysis are **combined**.\n",
    "\n",
    "The three steps are diagrammed in the figure below (taken from your textbook):\n",
    "\n",
    "![](03.08-split-apply-combine.png)"
   ]
  },
  {
   "cell_type": "markdown",
   "metadata": {},
   "source": [
    "## Split-Apply-Combine in Pandas: the `.groupby()` method\n",
    "\n",
    "In Pandas, we specify the variable on which to split our data using the `.groupby()` method. Then, we specify our analysis as usual. Pandas will take care of splitting the data, applying the analysis to each subset, and combining the results at the end."
   ]
  },
  {
   "cell_type": "code",
   "execution_count": 7,
   "metadata": {
    "collapsed": false
   },
   "outputs": [
    {
     "data": {
      "text/html": [
       "<div>\n",
       "<table border=\"1\" class=\"dataframe\">\n",
       "  <thead>\n",
       "    <tr style=\"text-align: right;\">\n",
       "      <th></th>\n",
       "      <th>Exper</th>\n",
       "      <th>Senior</th>\n",
       "    </tr>\n",
       "    <tr>\n",
       "      <th>Sex</th>\n",
       "      <th></th>\n",
       "      <th></th>\n",
       "    </tr>\n",
       "  </thead>\n",
       "  <tbody>\n",
       "    <tr>\n",
       "      <th>Female</th>\n",
       "      <td>99.815574</td>\n",
       "      <td>81.557377</td>\n",
       "    </tr>\n",
       "    <tr>\n",
       "      <th>Male</th>\n",
       "      <td>103.046875</td>\n",
       "      <td>83.656250</td>\n",
       "    </tr>\n",
       "  </tbody>\n",
       "</table>\n",
       "</div>"
      ],
      "text/plain": [
       "             Exper     Senior\n",
       "Sex                          \n",
       "Female   99.815574  81.557377\n",
       "Male    103.046875  83.656250"
      ]
     },
     "execution_count": 7,
     "metadata": {},
     "output_type": "execute_result"
    }
   ],
   "source": [
    "data.groupby(\"Sex\")[[\"Exper\", \"Senior\"]].mean()"
   ]
  },
  {
   "cell_type": "code",
   "execution_count": 8,
   "metadata": {
    "collapsed": false
   },
   "outputs": [
    {
     "data": {
      "text/plain": [
       "Sex\n",
       "Female    Axes(0.125,0.125;0.775x0.755)\n",
       "Male      Axes(0.125,0.125;0.775x0.755)\n",
       "Name: Bsal, dtype: object"
      ]
     },
     "execution_count": 8,
     "metadata": {},
     "output_type": "execute_result"
    },
    {
     "data": {
      "image/png": "[encoded data removed]",
      "text/plain": [
       "<matplotlib.figure.Figure at 0x7f04c86aa3c8>"
      ]
     },
     "metadata": {},
     "output_type": "display_data"
    }
   ],
   "source": [
    "data.groupby(\"Sex\")[\"Bsal\"].hist()"
   ]
  },
  {
   "cell_type": "markdown",
   "metadata": {},
   "source": [
    "We can also specify custom analyses using the `.apply()` method. For example, suppose we want to look at the average change in salary for the Harris Bank employees (between when they started and 1977). \n",
    "\n",
    "First, let's define a function that carries out this analysis on a general data frame."
   ]
  },
  {
   "cell_type": "code",
   "execution_count": 16,
   "metadata": {
    "collapsed": false
   },
   "outputs": [
    {
     "data": {
      "text/plain": [
       "4972.5806451612907"
      ]
     },
     "execution_count": 16,
     "metadata": {},
     "output_type": "execute_result"
    }
   ],
   "source": [
    "def calculate_avg_salary_change(df):\n",
    "    return (df.Sal77 - df.Bsal).mean()\n",
    "    \n",
    "calculate_avg_salary_change(data)"
   ]
  },
  {
   "cell_type": "markdown",
   "metadata": {},
   "source": [
    "Then, we pass this function to the `.apply()` method. Pandas will split the data frame into several smaller data frames (based on the variable(s) we specified in the `.groupby()` method), apply this function to each smaller data frame, and combine the results."
   ]
  },
  {
   "cell_type": "code",
   "execution_count": 18,
   "metadata": {
    "collapsed": false
   },
   "outputs": [
    {
     "data": {
      "text/plain": [
       "Sex\n",
       "Female    4578.196721\n",
       "Male      5724.375000\n",
       "dtype: float64"
      ]
     },
     "execution_count": 18,
     "metadata": {},
     "output_type": "execute_result"
    }
   ],
   "source": [
    "data.groupby(\"Sex\").apply(calculate_avg_salary_change)"
   ]
  },
  {
   "cell_type": "markdown",
   "metadata": {},
   "source": [
    "We can also split a data set on the values of several variables, by passing a _list_ of variable names to `.groupby()`."
   ]
  },
  {
   "cell_type": "code",
   "execution_count": 20,
   "metadata": {
    "collapsed": false
   },
   "outputs": [
    {
     "data": {
      "text/html": [
       "<div>\n",
       "<table border=\"1\" class=\"dataframe\">\n",
       "  <thead>\n",
       "    <tr style=\"text-align: right;\">\n",
       "      <th></th>\n",
       "      <th></th>\n",
       "      <th>Exper</th>\n",
       "      <th>Senior</th>\n",
       "    </tr>\n",
       "    <tr>\n",
       "      <th>Educ</th>\n",
       "      <th>Sex</th>\n",
       "      <th></th>\n",
       "      <th></th>\n",
       "    </tr>\n",
       "  </thead>\n",
       "  <tbody>\n",
       "    <tr>\n",
       "      <th rowspan=\"2\" valign=\"top\">8</th>\n",
       "      <th>Female</th>\n",
       "      <td>121.159091</td>\n",
       "      <td>80.636364</td>\n",
       "    </tr>\n",
       "    <tr>\n",
       "      <th>Male</th>\n",
       "      <td>320.000000</td>\n",
       "      <td>78.000000</td>\n",
       "    </tr>\n",
       "    <tr>\n",
       "      <th>10</th>\n",
       "      <th>Female</th>\n",
       "      <td>44.000000</td>\n",
       "      <td>92.000000</td>\n",
       "    </tr>\n",
       "    <tr>\n",
       "      <th rowspan=\"2\" valign=\"top\">12</th>\n",
       "      <th>Female</th>\n",
       "      <td>88.900000</td>\n",
       "      <td>80.800000</td>\n",
       "    </tr>\n",
       "    <tr>\n",
       "      <th>Male</th>\n",
       "      <td>110.964286</td>\n",
       "      <td>85.571429</td>\n",
       "    </tr>\n",
       "    <tr>\n",
       "      <th rowspan=\"2\" valign=\"top\">15</th>\n",
       "      <th>Female</th>\n",
       "      <td>105.291667</td>\n",
       "      <td>83.083333</td>\n",
       "    </tr>\n",
       "    <tr>\n",
       "      <th>Male</th>\n",
       "      <td>88.266667</td>\n",
       "      <td>82.600000</td>\n",
       "    </tr>\n",
       "    <tr>\n",
       "      <th rowspan=\"2\" valign=\"top\">16</th>\n",
       "      <th>Female</th>\n",
       "      <td>168.500000</td>\n",
       "      <td>85.500000</td>\n",
       "    </tr>\n",
       "    <tr>\n",
       "      <th>Male</th>\n",
       "      <td>50.000000</td>\n",
       "      <td>81.000000</td>\n",
       "    </tr>\n",
       "  </tbody>\n",
       "</table>\n",
       "</div>"
      ],
      "text/plain": [
       "                  Exper     Senior\n",
       "Educ Sex                          \n",
       "8    Female  121.159091  80.636364\n",
       "     Male    320.000000  78.000000\n",
       "10   Female   44.000000  92.000000\n",
       "12   Female   88.900000  80.800000\n",
       "     Male    110.964286  85.571429\n",
       "15   Female  105.291667  83.083333\n",
       "     Male     88.266667  82.600000\n",
       "16   Female  168.500000  85.500000\n",
       "     Male     50.000000  81.000000"
      ]
     },
     "execution_count": 20,
     "metadata": {},
     "output_type": "execute_result"
    }
   ],
   "source": [
    "data.groupby([\"Educ\", \"Sex\"])[[\"Exper\", \"Senior\"]].mean()"
   ]
  },
  {
   "cell_type": "markdown",
   "metadata": {},
   "source": [
    "## Hierarchical Indexing"
   ]
  },
  {
   "cell_type": "markdown",
   "metadata": {},
   "source": [
    "When you use `.groupby()`, the variables that you grouped by will become the index of the resulting `DataFrame` or `Series`. If you group by multiple variables, the index will have multiple levels, one for each variable. Indexes with more than one level are called **hierarchical indexes**.\n",
    "\n",
    "Let's take the results from the last analysis and store it in the variable `results`. Let's check out its index."
   ]
  },
  {
   "cell_type": "code",
   "execution_count": 21,
   "metadata": {
    "collapsed": false
   },
   "outputs": [
    {
     "data": {
      "text/plain": [
       "MultiIndex(levels=[['Female', 'Male'], [8, 10, 12, 15, 16]],\n",
       "           labels=[[0, 0, 0, 0, 0, 1, 1, 1, 1], [0, 1, 2, 3, 4, 0, 2, 3, 4]],\n",
       "           names=['Sex', 'Educ'])"
      ]
     },
     "execution_count": 21,
     "metadata": {},
     "output_type": "execute_result"
    }
   ],
   "source": [
    "results = data.groupby([\"Sex\", \"Educ\"])[[\"Exper\", \"Senior\"]].mean()\n",
    "results.index"
   ]
  },
  {
   "cell_type": "code",
   "execution_count": 29,
   "metadata": {
    "collapsed": false
   },
   "outputs": [
    {
     "data": {
      "text/html": [
       "<div>\n",
       "<table border=\"1\" class=\"dataframe\">\n",
       "  <thead>\n",
       "    <tr style=\"text-align: right;\">\n",
       "      <th></th>\n",
       "      <th></th>\n",
       "      <th>Exper</th>\n",
       "      <th>Senior</th>\n",
       "    </tr>\n",
       "    <tr>\n",
       "      <th>Sex</th>\n",
       "      <th>Educ</th>\n",
       "      <th></th>\n",
       "      <th></th>\n",
       "    </tr>\n",
       "  </thead>\n",
       "  <tbody>\n",
       "    <tr>\n",
       "      <th rowspan=\"5\" valign=\"top\">Female</th>\n",
       "      <th>8</th>\n",
       "      <td>121.159091</td>\n",
       "      <td>80.636364</td>\n",
       "    </tr>\n",
       "    <tr>\n",
       "      <th>10</th>\n",
       "      <td>44.000000</td>\n",
       "      <td>92.000000</td>\n",
       "    </tr>\n",
       "    <tr>\n",
       "      <th>12</th>\n",
       "      <td>88.900000</td>\n",
       "      <td>80.800000</td>\n",
       "    </tr>\n",
       "    <tr>\n",
       "      <th>15</th>\n",
       "      <td>105.291667</td>\n",
       "      <td>83.083333</td>\n",
       "    </tr>\n",
       "    <tr>\n",
       "      <th>16</th>\n",
       "      <td>168.500000</td>\n",
       "      <td>85.500000</td>\n",
       "    </tr>\n",
       "    <tr>\n",
       "      <th rowspan=\"4\" valign=\"top\">Male</th>\n",
       "      <th>8</th>\n",
       "      <td>320.000000</td>\n",
       "      <td>78.000000</td>\n",
       "    </tr>\n",
       "    <tr>\n",
       "      <th>12</th>\n",
       "      <td>110.964286</td>\n",
       "      <td>85.571429</td>\n",
       "    </tr>\n",
       "    <tr>\n",
       "      <th>15</th>\n",
       "      <td>88.266667</td>\n",
       "      <td>82.600000</td>\n",
       "    </tr>\n",
       "    <tr>\n",
       "      <th>16</th>\n",
       "      <td>50.000000</td>\n",
       "      <td>81.000000</td>\n",
       "    </tr>\n",
       "  </tbody>\n",
       "</table>\n",
       "</div>"
      ],
      "text/plain": [
       "                  Exper     Senior\n",
       "Sex    Educ                       \n",
       "Female 8     121.159091  80.636364\n",
       "       10     44.000000  92.000000\n",
       "       12     88.900000  80.800000\n",
       "       15    105.291667  83.083333\n",
       "       16    168.500000  85.500000\n",
       "Male   8     320.000000  78.000000\n",
       "       12    110.964286  85.571429\n",
       "       15     88.266667  82.600000\n",
       "       16     50.000000  81.000000"
      ]
     },
     "execution_count": 29,
     "metadata": {},
     "output_type": "execute_result"
    }
   ],
   "source": [
    "results"
   ]
  },
  {
   "cell_type": "markdown",
   "metadata": {},
   "source": [
    "**Exercise 1.** How would you access just the results for females?"
   ]
  },
  {
   "cell_type": "code",
   "execution_count": 45,
   "metadata": {
    "collapsed": false
   },
   "outputs": [
    {
     "data": {
      "text/html": [
       "<div>\n",
       "<table border=\"1\" class=\"dataframe\">\n",
       "  <thead>\n",
       "    <tr style=\"text-align: right;\">\n",
       "      <th></th>\n",
       "      <th>Exper</th>\n",
       "      <th>Senior</th>\n",
       "    </tr>\n",
       "    <tr>\n",
       "      <th>Educ</th>\n",
       "      <th></th>\n",
       "      <th></th>\n",
       "    </tr>\n",
       "  </thead>\n",
       "  <tbody>\n",
       "    <tr>\n",
       "      <th>8</th>\n",
       "      <td>121.159091</td>\n",
       "      <td>80.636364</td>\n",
       "    </tr>\n",
       "    <tr>\n",
       "      <th>10</th>\n",
       "      <td>44.000000</td>\n",
       "      <td>92.000000</td>\n",
       "    </tr>\n",
       "    <tr>\n",
       "      <th>12</th>\n",
       "      <td>88.900000</td>\n",
       "      <td>80.800000</td>\n",
       "    </tr>\n",
       "    <tr>\n",
       "      <th>15</th>\n",
       "      <td>105.291667</td>\n",
       "      <td>83.083333</td>\n",
       "    </tr>\n",
       "    <tr>\n",
       "      <th>16</th>\n",
       "      <td>168.500000</td>\n",
       "      <td>85.500000</td>\n",
       "    </tr>\n",
       "  </tbody>\n",
       "</table>\n",
       "</div>"
      ],
      "text/plain": [
       "           Exper     Senior\n",
       "Educ                       \n",
       "8     121.159091  80.636364\n",
       "10     44.000000  92.000000\n",
       "12     88.900000  80.800000\n",
       "15    105.291667  83.083333\n",
       "16    168.500000  85.500000"
      ]
     },
     "execution_count": 45,
     "metadata": {},
     "output_type": "execute_result"
    }
   ],
   "source": [
    "# ENTER YOUR CODE HERE\n",
    "results.loc[\"Female\"]"
   ]
  },
  {
   "cell_type": "markdown",
   "metadata": {},
   "source": [
    "**Exercise 2.** How would you access the results for males with 12 years of education?"
   ]
  },
  {
   "cell_type": "code",
   "execution_count": 61,
   "metadata": {
    "collapsed": false
   },
   "outputs": [
    {
     "data": {
      "text/plain": [
       "Exper     110.964286\n",
       "Senior     85.571429\n",
       "Name: (Male, 12), dtype: float64"
      ]
     },
     "execution_count": 61,
     "metadata": {},
     "output_type": "execute_result"
    }
   ],
   "source": [
    "# ENTER YOUR CODE HERE\n",
    "results.loc[(\"Male\",12)]"
   ]
  },
  {
   "cell_type": "markdown",
   "metadata": {},
   "source": [
    "**Exercise 3. (Challenge)** How would you access the results for employees with 12 years of education?"
   ]
  },
  {
   "cell_type": "code",
   "execution_count": 73,
   "metadata": {
    "collapsed": false
   },
   "outputs": [
    {
     "data": {
      "text/html": [
       "<div>\n",
       "<table border=\"1\" class=\"dataframe\">\n",
       "  <thead>\n",
       "    <tr style=\"text-align: right;\">\n",
       "      <th></th>\n",
       "      <th></th>\n",
       "      <th>Exper</th>\n",
       "      <th>Senior</th>\n",
       "    </tr>\n",
       "    <tr>\n",
       "      <th>Sex</th>\n",
       "      <th>Educ</th>\n",
       "      <th></th>\n",
       "      <th></th>\n",
       "    </tr>\n",
       "  </thead>\n",
       "  <tbody>\n",
       "    <tr>\n",
       "      <th>Female</th>\n",
       "      <th>12</th>\n",
       "      <td>88.900000</td>\n",
       "      <td>80.800000</td>\n",
       "    </tr>\n",
       "    <tr>\n",
       "      <th>Male</th>\n",
       "      <th>12</th>\n",
       "      <td>110.964286</td>\n",
       "      <td>85.571429</td>\n",
       "    </tr>\n",
       "  </tbody>\n",
       "</table>\n",
       "</div>"
      ],
      "text/plain": [
       "                  Exper     Senior\n",
       "Sex    Educ                       \n",
       "Female 12     88.900000  80.800000\n",
       "Male   12    110.964286  85.571429"
      ]
     },
     "execution_count": 73,
     "metadata": {},
     "output_type": "execute_result"
    }
   ],
   "source": [
    "# ENTER YOUR CODE HERE\n",
    "results.loc[(slice(None),12),:]"
   ]
  },
  {
   "cell_type": "code",
   "execution_count": null,
   "metadata": {
    "collapsed": true
   },
   "outputs": [],
   "source": []
  }
 ],
 "metadata": {
  "kernelspec": {
   "display_name": "Python 3",
   "language": "python",
   "name": "python3"
  },
  "language_info": {
   "codemirror_mode": {
    "name": "ipython",
    "version": 3
   },
   "file_extension": ".py",
   "mimetype": "text/x-python",
   "name": "python",
   "nbconvert_exporter": "python",
   "pygments_lexer": "ipython3",
   "version": "3.5.2"
  }
 },
 "nbformat": 4,
 "nbformat_minor": 1
}
