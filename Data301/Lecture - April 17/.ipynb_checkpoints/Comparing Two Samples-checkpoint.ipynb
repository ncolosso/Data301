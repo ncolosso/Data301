{
 "cells": [
  {
   "cell_type": "markdown",
   "metadata": {},
   "source": [
    "# Comparing Two Samples\n",
    "\n",
    "In this workbook, you will learn how to test whether two populations are the same, by simulation and by theory."
   ]
  },
  {
   "cell_type": "code",
   "execution_count": null,
   "metadata": {
    "collapsed": true
   },
   "outputs": [],
   "source": [
    "from symbulate import *\n",
    "%matplotlib inline"
   ]
  },
  {
   "cell_type": "code",
   "execution_count": null,
   "metadata": {
    "collapsed": true
   },
   "outputs": [],
   "source": [
    "import numpy as np\n",
    "\n",
    "import pandas as pd\n",
    "pd.set_option(\"display.max_rows\", 15)"
   ]
  },
  {
   "cell_type": "code",
   "execution_count": null,
   "metadata": {
    "collapsed": false
   },
   "outputs": [],
   "source": [
    "data = pd.read_csv(\"/data/harris.csv\")\n",
    "data"
   ]
  },
  {
   "cell_type": "markdown",
   "metadata": {},
   "source": [
    "## By Simulation\n",
    "\n",
    "Let's test whether the beginning salaries of men and women are the same, using simulation. This simulation-based test is usually called a **permutation test**.\n",
    "\n",
    "Suppose that salaries of men and women are really the same and that any difference is just due to chance. (This is the null hypothesis.) Then, the `Sex` variable is arbitrary as far as salaries are concerned. We can shuffle the `Sex` variable to get the distribution of differences between the salaries of men and women, assuming the null hypothesis is true."
   ]
  },
  {
   "cell_type": "markdown",
   "metadata": {},
   "source": [
    "**Step 1.** To shuffle the `Sex` column, we can simply put that column into a box model and pull out all the tickets without replacement. The set of tickets we get will be the same every time, but the order will be different."
   ]
  },
  {
   "cell_type": "code",
   "execution_count": null,
   "metadata": {
    "collapsed": false
   },
   "outputs": [],
   "source": [
    "model = BoxModel(box=list(data[\"Sex\"]), size=len(data), replace=False)\n",
    "model.sim(100)"
   ]
  },
  {
   "cell_type": "markdown",
   "metadata": {},
   "source": [
    "**Step 2.** Let's define a function that, given a sex column, returns the difference in average beginning salary between men and women. \n",
    "\n",
    "(Note the use of vectorization and boolean masking!)"
   ]
  },
  {
   "cell_type": "code",
   "execution_count": null,
   "metadata": {
    "collapsed": false
   },
   "outputs": [],
   "source": [
    "def calculate_difference(sex):\n",
    "    sex = np.array(sex)\n",
    "    return data[sex == \"Male\"][\"Bsal\"].mean() - data[sex == \"Female\"][\"Bsal\"].mean()\n",
    "\n",
    "diffs = RV(model, calculate_difference)\n",
    "sims = diffs.sim(10000)"
   ]
  },
  {
   "cell_type": "markdown",
   "metadata": {},
   "source": [
    "**Step 3.** Let's plot the distribution of the differences and locate the observed difference on this distribution to obtain a $p$-value."
   ]
  },
  {
   "cell_type": "code",
   "execution_count": null,
   "metadata": {
    "collapsed": false
   },
   "outputs": [],
   "source": [
    "sims.plot(type=\"bar\", bins=30)"
   ]
  },
  {
   "cell_type": "code",
   "execution_count": null,
   "metadata": {
    "collapsed": false
   },
   "outputs": [],
   "source": [
    "obs_diff = calculate_difference(data[\"Sex\"])\n",
    "obs_diff"
   ]
  },
  {
   "cell_type": "code",
   "execution_count": null,
   "metadata": {
    "collapsed": false
   },
   "outputs": [],
   "source": [
    "sims.count_geq(obs_diff) / 10000"
   ]
  },
  {
   "cell_type": "markdown",
   "metadata": {},
   "source": [
    "## By Theory\n",
    "\n",
    "Under the null hypothesis that the populations are the same, the observed difference $\\bar X_1 - \\bar X_2$ approximately follows a \n",
    "\n",
    "$$\\textrm{Normal}\\left(0, \\sqrt{\\frac{S_1^2}{n_1} + \\frac{S_2^2}{n_2}}\\right)$$ \n",
    "\n",
    "distribution. Let's repeat the above analysis using this theoretical approximation. Do we get the same answer?"
   ]
  },
  {
   "cell_type": "markdown",
   "metadata": {},
   "source": [
    "**Step 1.** Calculate the standard error."
   ]
  },
  {
   "cell_type": "code",
   "execution_count": null,
   "metadata": {
    "collapsed": false
   },
   "outputs": [],
   "source": [
    "m = data[data[\"Sex\"] == \"Male\"][\"Bsal\"]\n",
    "f = data[data[\"Sex\"] == \"Female\"][\"Bsal\"]\n",
    "\n",
    "se = np.sqrt(m.var() / m.count() + f.var() / f.count())"
   ]
  },
  {
   "cell_type": "markdown",
   "metadata": {},
   "source": [
    "**Step 2.** Simulate from the normal distribution, and compare the observed difference to this distribution to obtain a $p$-value."
   ]
  },
  {
   "cell_type": "code",
   "execution_count": null,
   "metadata": {
    "collapsed": false
   },
   "outputs": [],
   "source": [
    "Z = RV(Normal(mean=0, sd=se))\n",
    "sims = Z.sim(10000)\n",
    "sims.plot(type=\"bar\", bins=30)\n",
    "\n",
    "sims.count_geq(obs_diff) / 10000"
   ]
  },
  {
   "cell_type": "markdown",
   "metadata": {},
   "source": [
    "## Now You Try It!\n",
    "\n",
    "The main contention in the Harris Bank lawsuit was that men and women were treated differently in terms of salary _increases_. Test the null hypothesis that salary _increases_ did not differ between men and women. Try doing this by simulation and by theory."
   ]
  },
  {
   "cell_type": "code",
   "execution_count": null,
   "metadata": {
    "collapsed": true
   },
   "outputs": [],
   "source": []
  }
 ],
 "metadata": {
  "kernelspec": {
   "display_name": "Python 3",
   "language": "python",
   "name": "python3"
  },
  "language_info": {
   "codemirror_mode": {
    "name": "ipython",
    "version": 3
   },
   "file_extension": ".py",
   "mimetype": "text/x-python",
   "name": "python",
   "nbconvert_exporter": "python",
   "pygments_lexer": "ipython3",
   "version": "3.5.2"
  }
 },
 "nbformat": 4,
 "nbformat_minor": 1
}
