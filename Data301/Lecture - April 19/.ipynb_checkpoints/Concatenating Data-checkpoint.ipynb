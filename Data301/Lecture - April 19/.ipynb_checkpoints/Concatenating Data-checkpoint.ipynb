{
 "cells": [
  {
   "cell_type": "markdown",
   "metadata": {},
   "source": [
    "# Concatenating Data\n",
    "\n",
    "A central problem in data science is combining data from different sources. One of the simplest ways to combine data sets is to **concatenate** them.\n",
    "\n",
    "In this class, we will use \"concatenate\" to refer to stacking data frames on top of one another and \"merge\" to refer to stacking data frames next to each other."
   ]
  },
  {
   "cell_type": "code",
   "execution_count": null,
   "metadata": {
    "collapsed": true
   },
   "outputs": [],
   "source": [
    "import pandas as pd"
   ]
  },
  {
   "cell_type": "markdown",
   "metadata": {},
   "source": [
    "## Baby Names Dataset"
   ]
  },
  {
   "cell_type": "markdown",
   "metadata": {},
   "source": [
    "The Social Security Administration tracks the names of all babies born in the United States each year. The data is [publicly available](https://www.ssa.gov/OACT/babynames/limits.html), and a copy of the data has been made available at `/data/names/`."
   ]
  },
  {
   "cell_type": "code",
   "execution_count": null,
   "metadata": {
    "collapsed": false
   },
   "outputs": [],
   "source": [
    "!ls /data/names"
   ]
  },
  {
   "cell_type": "markdown",
   "metadata": {},
   "source": [
    "The data for each year is stored in separate files. The files are named `yob####.txt`, where `####` is the year. Notice that the data goes all the way back to 1880!\n",
    "\n",
    "Now let's look at how the data is stored."
   ]
  },
  {
   "cell_type": "code",
   "execution_count": null,
   "metadata": {
    "collapsed": false
   },
   "outputs": [],
   "source": [
    "!head /data/names/yob1997.txt"
   ]
  },
  {
   "cell_type": "markdown",
   "metadata": {},
   "source": [
    "Each row specifies the number of babies born that year with that name and gender."
   ]
  },
  {
   "cell_type": "markdown",
   "metadata": {},
   "source": [
    "## Exercises"
   ]
  },
  {
   "cell_type": "markdown",
   "metadata": {},
   "source": [
    "**Question 1.** Read in the data for the year you were born. Specify appropriate column names. How many people were born with your name?"
   ]
  },
  {
   "cell_type": "code",
   "execution_count": null,
   "metadata": {
    "collapsed": true
   },
   "outputs": [],
   "source": []
  },
  {
   "cell_type": "markdown",
   "metadata": {},
   "source": [
    "**Question 2.** Track the popularity of your name in the years since you were born. To do this, you'll have to read in data from multiple years and concatenate the data sets into a single data frame using `pd.concat()`. Make sure you add a column \"Year\" so that you can keep track of which year each row came from.\n",
    "\n",
    "Some code to generate the filenames has been provided for you."
   ]
  },
  {
   "cell_type": "code",
   "execution_count": null,
   "metadata": {
    "collapsed": true
   },
   "outputs": [],
   "source": [
    "for year in range(1990, 2016):\n",
    "    filename = \"/data/names/yob%d.txt\" % year"
   ]
  },
  {
   "cell_type": "markdown",
   "metadata": {},
   "source": [
    "**Question 3.** What do you notice about the index? What problems might this cause? How do you fix it? (_Hint_: Look at the documentation for `pd.concat`.)"
   ]
  },
  {
   "cell_type": "code",
   "execution_count": null,
   "metadata": {
    "collapsed": true
   },
   "outputs": [],
   "source": []
  },
  {
   "cell_type": "markdown",
   "metadata": {},
   "source": [
    "**Question 4.** What happens if you try to concatenate two data frames with different column names?"
   ]
  },
  {
   "cell_type": "code",
   "execution_count": null,
   "metadata": {
    "collapsed": true
   },
   "outputs": [],
   "source": []
  },
  {
   "cell_type": "markdown",
   "metadata": {
    "collapsed": true
   },
   "source": [
    "## A Word on `.append`\n",
    "\n",
    "Another way to concatenate two data frames is:\n",
    "\n",
    "`df1.append(df2)`.\n",
    "\n",
    "Note that unlike `pd.concat()`, which is called on the data frames you want to concatenate, `.append()` is actually a method of a data frame.\n",
    "\n",
    "While `.append()` works fine for two data frames, it's much too slow to concatenate many data frames by using `.append()` in a loop. In general, use `pd.concat()`, but in some situations, `.append()` looks nicer."
   ]
  }
 ],
 "metadata": {
  "kernelspec": {
   "display_name": "Python 3",
   "language": "python",
   "name": "python3"
  },
  "language_info": {
   "codemirror_mode": {
    "name": "ipython",
    "version": 3
   },
   "file_extension": ".py",
   "mimetype": "text/x-python",
   "name": "python",
   "nbconvert_exporter": "python",
   "pygments_lexer": "ipython3",
   "version": "3.5.2"
  }
 },
 "nbformat": 4,
 "nbformat_minor": 1
}
