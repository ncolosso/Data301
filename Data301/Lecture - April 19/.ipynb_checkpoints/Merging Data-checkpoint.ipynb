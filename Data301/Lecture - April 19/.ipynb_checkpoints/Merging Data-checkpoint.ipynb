{
 "cells": [
  {
   "cell_type": "markdown",
   "metadata": {},
   "source": [
    "# Merging Data\n",
    "\n",
    "In this workbook, you will learn how to merge two data frames together in Pandas. Merging is equivalent to SQL joins, for those of you familiar with that."
   ]
  },
  {
   "cell_type": "markdown",
   "metadata": {},
   "source": [
    "Suppose we want to know which names increased and decreased the most in popularity between 1990 and 2000. While we can concatenate the two DataFrames (stack them on top of each other), it is easier to merge the two DataFrames (stack them next to each other) so that the numbers for 1990 and 2000 are side by side."
   ]
  },
  {
   "cell_type": "code",
   "execution_count": 1,
   "metadata": {
    "collapsed": true
   },
   "outputs": [],
   "source": [
    "import pandas as pd\n",
    "pd.set_option(\"display.max_rows\", 15)"
   ]
  },
  {
   "cell_type": "code",
   "execution_count": 4,
   "metadata": {
    "collapsed": false
   },
   "outputs": [
    {
     "data": {
      "text/html": [
       "<div>\n",
       "<table border=\"1\" class=\"dataframe\">\n",
       "  <thead>\n",
       "    <tr style=\"text-align: right;\">\n",
       "      <th></th>\n",
       "      <th>Name</th>\n",
       "      <th>Gender</th>\n",
       "      <th>Count</th>\n",
       "    </tr>\n",
       "  </thead>\n",
       "  <tbody>\n",
       "    <tr>\n",
       "      <th>0</th>\n",
       "      <td>Emily</td>\n",
       "      <td>F</td>\n",
       "      <td>25953</td>\n",
       "    </tr>\n",
       "    <tr>\n",
       "      <th>1</th>\n",
       "      <td>Hannah</td>\n",
       "      <td>F</td>\n",
       "      <td>23075</td>\n",
       "    </tr>\n",
       "    <tr>\n",
       "      <th>2</th>\n",
       "      <td>Madison</td>\n",
       "      <td>F</td>\n",
       "      <td>19967</td>\n",
       "    </tr>\n",
       "    <tr>\n",
       "      <th>3</th>\n",
       "      <td>Ashley</td>\n",
       "      <td>F</td>\n",
       "      <td>17997</td>\n",
       "    </tr>\n",
       "    <tr>\n",
       "      <th>4</th>\n",
       "      <td>Sarah</td>\n",
       "      <td>F</td>\n",
       "      <td>17689</td>\n",
       "    </tr>\n",
       "    <tr>\n",
       "      <th>5</th>\n",
       "      <td>Alexis</td>\n",
       "      <td>F</td>\n",
       "      <td>17627</td>\n",
       "    </tr>\n",
       "    <tr>\n",
       "      <th>6</th>\n",
       "      <td>Samantha</td>\n",
       "      <td>F</td>\n",
       "      <td>17264</td>\n",
       "    </tr>\n",
       "    <tr>\n",
       "      <th>...</th>\n",
       "      <td>...</td>\n",
       "      <td>...</td>\n",
       "      <td>...</td>\n",
       "    </tr>\n",
       "    <tr>\n",
       "      <th>29757</th>\n",
       "      <td>Zelig</td>\n",
       "      <td>M</td>\n",
       "      <td>5</td>\n",
       "    </tr>\n",
       "    <tr>\n",
       "      <th>29758</th>\n",
       "      <td>Zemar</td>\n",
       "      <td>M</td>\n",
       "      <td>5</td>\n",
       "    </tr>\n",
       "    <tr>\n",
       "      <th>29759</th>\n",
       "      <td>Zeph</td>\n",
       "      <td>M</td>\n",
       "      <td>5</td>\n",
       "    </tr>\n",
       "    <tr>\n",
       "      <th>29760</th>\n",
       "      <td>Zeven</td>\n",
       "      <td>M</td>\n",
       "      <td>5</td>\n",
       "    </tr>\n",
       "    <tr>\n",
       "      <th>29761</th>\n",
       "      <td>Ziggy</td>\n",
       "      <td>M</td>\n",
       "      <td>5</td>\n",
       "    </tr>\n",
       "    <tr>\n",
       "      <th>29762</th>\n",
       "      <td>Zo</td>\n",
       "      <td>M</td>\n",
       "      <td>5</td>\n",
       "    </tr>\n",
       "    <tr>\n",
       "      <th>29763</th>\n",
       "      <td>Zyier</td>\n",
       "      <td>M</td>\n",
       "      <td>5</td>\n",
       "    </tr>\n",
       "  </tbody>\n",
       "</table>\n",
       "<p>29764 rows × 3 columns</p>\n",
       "</div>"
      ],
      "text/plain": [
       "           Name Gender  Count\n",
       "0         Emily      F  25953\n",
       "1        Hannah      F  23075\n",
       "2       Madison      F  19967\n",
       "3        Ashley      F  17997\n",
       "4         Sarah      F  17689\n",
       "5        Alexis      F  17627\n",
       "6      Samantha      F  17264\n",
       "...         ...    ...    ...\n",
       "29757     Zelig      M      5\n",
       "29758     Zemar      M      5\n",
       "29759      Zeph      M      5\n",
       "29760     Zeven      M      5\n",
       "29761     Ziggy      M      5\n",
       "29762        Zo      M      5\n",
       "29763     Zyier      M      5\n",
       "\n",
       "[29764 rows x 3 columns]"
      ]
     },
     "execution_count": 4,
     "metadata": {},
     "output_type": "execute_result"
    }
   ],
   "source": [
    "data90 = pd.read_csv(\"/data/names/yob1990.txt\", names=[\"Name\", \"Gender\", \"Count\"])\n",
    "data00 = pd.read_csv(\"/data/names/yob2000.txt\", names=[\"Name\", \"Gender\", \"Count\"])\n",
    "data00"
   ]
  },
  {
   "cell_type": "markdown",
   "metadata": {},
   "source": [
    "We can use the `.merge()` method of a data frame to \"stack\" another data frame next to it. Note that this method _returns_ a new data frame, rather than modifying the existing one in place.\n",
    "\n",
    "We have to specify:\n",
    "\n",
    "- the \"other\" data frame\n",
    "- what variables to join on (by default, it joins on all columns that exist in both data frames)\n",
    "- how to do the join (by default, it does an inner join)"
   ]
  },
  {
   "cell_type": "code",
   "execution_count": 5,
   "metadata": {
    "collapsed": false
   },
   "outputs": [
    {
     "data": {
      "text/html": [
       "<div>\n",
       "<table border=\"1\" class=\"dataframe\">\n",
       "  <thead>\n",
       "    <tr style=\"text-align: right;\">\n",
       "      <th></th>\n",
       "      <th>Name</th>\n",
       "      <th>Gender</th>\n",
       "      <th>Count_x</th>\n",
       "      <th>Count_y</th>\n",
       "    </tr>\n",
       "  </thead>\n",
       "  <tbody>\n",
       "    <tr>\n",
       "      <th>0</th>\n",
       "      <td>Jessica</td>\n",
       "      <td>F</td>\n",
       "      <td>46470</td>\n",
       "      <td>15705</td>\n",
       "    </tr>\n",
       "    <tr>\n",
       "      <th>1</th>\n",
       "      <td>Ashley</td>\n",
       "      <td>F</td>\n",
       "      <td>45553</td>\n",
       "      <td>17997</td>\n",
       "    </tr>\n",
       "    <tr>\n",
       "      <th>2</th>\n",
       "      <td>Brittany</td>\n",
       "      <td>F</td>\n",
       "      <td>36534</td>\n",
       "      <td>5183</td>\n",
       "    </tr>\n",
       "    <tr>\n",
       "      <th>3</th>\n",
       "      <td>Amanda</td>\n",
       "      <td>F</td>\n",
       "      <td>34405</td>\n",
       "      <td>8550</td>\n",
       "    </tr>\n",
       "    <tr>\n",
       "      <th>4</th>\n",
       "      <td>Samantha</td>\n",
       "      <td>F</td>\n",
       "      <td>25865</td>\n",
       "      <td>17264</td>\n",
       "    </tr>\n",
       "    <tr>\n",
       "      <th>5</th>\n",
       "      <td>Sarah</td>\n",
       "      <td>F</td>\n",
       "      <td>25810</td>\n",
       "      <td>17689</td>\n",
       "    </tr>\n",
       "    <tr>\n",
       "      <th>6</th>\n",
       "      <td>Stephanie</td>\n",
       "      <td>F</td>\n",
       "      <td>24859</td>\n",
       "      <td>7029</td>\n",
       "    </tr>\n",
       "    <tr>\n",
       "      <th>...</th>\n",
       "      <td>...</td>\n",
       "      <td>...</td>\n",
       "      <td>...</td>\n",
       "      <td>...</td>\n",
       "    </tr>\n",
       "    <tr>\n",
       "      <th>17537</th>\n",
       "      <td>Zander</td>\n",
       "      <td>M</td>\n",
       "      <td>5</td>\n",
       "      <td>150</td>\n",
       "    </tr>\n",
       "    <tr>\n",
       "      <th>17538</th>\n",
       "      <td>Zedekiah</td>\n",
       "      <td>M</td>\n",
       "      <td>5</td>\n",
       "      <td>10</td>\n",
       "    </tr>\n",
       "    <tr>\n",
       "      <th>17539</th>\n",
       "      <td>Zephan</td>\n",
       "      <td>M</td>\n",
       "      <td>5</td>\n",
       "      <td>8</td>\n",
       "    </tr>\n",
       "    <tr>\n",
       "      <th>17540</th>\n",
       "      <td>Zeus</td>\n",
       "      <td>M</td>\n",
       "      <td>5</td>\n",
       "      <td>31</td>\n",
       "    </tr>\n",
       "    <tr>\n",
       "      <th>17541</th>\n",
       "      <td>Ziyad</td>\n",
       "      <td>M</td>\n",
       "      <td>5</td>\n",
       "      <td>17</td>\n",
       "    </tr>\n",
       "    <tr>\n",
       "      <th>17542</th>\n",
       "      <td>Zoran</td>\n",
       "      <td>M</td>\n",
       "      <td>5</td>\n",
       "      <td>9</td>\n",
       "    </tr>\n",
       "    <tr>\n",
       "      <th>17543</th>\n",
       "      <td>Zvi</td>\n",
       "      <td>M</td>\n",
       "      <td>5</td>\n",
       "      <td>10</td>\n",
       "    </tr>\n",
       "  </tbody>\n",
       "</table>\n",
       "<p>17544 rows × 4 columns</p>\n",
       "</div>"
      ],
      "text/plain": [
       "            Name Gender  Count_x  Count_y\n",
       "0        Jessica      F    46470    15705\n",
       "1         Ashley      F    45553    17997\n",
       "2       Brittany      F    36534     5183\n",
       "3         Amanda      F    34405     8550\n",
       "4       Samantha      F    25865    17264\n",
       "5          Sarah      F    25810    17689\n",
       "6      Stephanie      F    24859     7029\n",
       "...          ...    ...      ...      ...\n",
       "17537     Zander      M        5      150\n",
       "17538   Zedekiah      M        5       10\n",
       "17539     Zephan      M        5        8\n",
       "17540       Zeus      M        5       31\n",
       "17541      Ziyad      M        5       17\n",
       "17542      Zoran      M        5        9\n",
       "17543        Zvi      M        5       10\n",
       "\n",
       "[17544 rows x 4 columns]"
      ]
     },
     "execution_count": 5,
     "metadata": {},
     "output_type": "execute_result"
    }
   ],
   "source": [
    "data_merged = data90.merge(data00, on=[\"Name\", \"Gender\"])\n",
    "data_merged"
   ]
  },
  {
   "cell_type": "markdown",
   "metadata": {},
   "source": [
    "Notice that Pandas found a `Count` column in both data frames, but `Count` was not one of the columns that we joined on. So Pandas had to distinguish between the `Count`s from the left and right data frames. To do this, it appended `_x` to the `Count` from the left data frame and `_y` to the one from the right.\n",
    "\n",
    "We can customize this by specifying the `suffixes=` argument."
   ]
  },
  {
   "cell_type": "code",
   "execution_count": 7,
   "metadata": {
    "collapsed": false
   },
   "outputs": [
    {
     "data": {
      "text/html": [
       "<div>\n",
       "<table border=\"1\" class=\"dataframe\">\n",
       "  <thead>\n",
       "    <tr style=\"text-align: right;\">\n",
       "      <th></th>\n",
       "      <th>Name</th>\n",
       "      <th>Gender</th>\n",
       "      <th>Count90</th>\n",
       "      <th>Count00</th>\n",
       "    </tr>\n",
       "  </thead>\n",
       "  <tbody>\n",
       "    <tr>\n",
       "      <th>0</th>\n",
       "      <td>Jessica</td>\n",
       "      <td>F</td>\n",
       "      <td>46470</td>\n",
       "      <td>15705</td>\n",
       "    </tr>\n",
       "    <tr>\n",
       "      <th>1</th>\n",
       "      <td>Ashley</td>\n",
       "      <td>F</td>\n",
       "      <td>45553</td>\n",
       "      <td>17997</td>\n",
       "    </tr>\n",
       "    <tr>\n",
       "      <th>2</th>\n",
       "      <td>Brittany</td>\n",
       "      <td>F</td>\n",
       "      <td>36534</td>\n",
       "      <td>5183</td>\n",
       "    </tr>\n",
       "    <tr>\n",
       "      <th>3</th>\n",
       "      <td>Amanda</td>\n",
       "      <td>F</td>\n",
       "      <td>34405</td>\n",
       "      <td>8550</td>\n",
       "    </tr>\n",
       "    <tr>\n",
       "      <th>4</th>\n",
       "      <td>Samantha</td>\n",
       "      <td>F</td>\n",
       "      <td>25865</td>\n",
       "      <td>17264</td>\n",
       "    </tr>\n",
       "    <tr>\n",
       "      <th>5</th>\n",
       "      <td>Sarah</td>\n",
       "      <td>F</td>\n",
       "      <td>25810</td>\n",
       "      <td>17689</td>\n",
       "    </tr>\n",
       "    <tr>\n",
       "      <th>6</th>\n",
       "      <td>Stephanie</td>\n",
       "      <td>F</td>\n",
       "      <td>24859</td>\n",
       "      <td>7029</td>\n",
       "    </tr>\n",
       "    <tr>\n",
       "      <th>...</th>\n",
       "      <td>...</td>\n",
       "      <td>...</td>\n",
       "      <td>...</td>\n",
       "      <td>...</td>\n",
       "    </tr>\n",
       "    <tr>\n",
       "      <th>17537</th>\n",
       "      <td>Zander</td>\n",
       "      <td>M</td>\n",
       "      <td>5</td>\n",
       "      <td>150</td>\n",
       "    </tr>\n",
       "    <tr>\n",
       "      <th>17538</th>\n",
       "      <td>Zedekiah</td>\n",
       "      <td>M</td>\n",
       "      <td>5</td>\n",
       "      <td>10</td>\n",
       "    </tr>\n",
       "    <tr>\n",
       "      <th>17539</th>\n",
       "      <td>Zephan</td>\n",
       "      <td>M</td>\n",
       "      <td>5</td>\n",
       "      <td>8</td>\n",
       "    </tr>\n",
       "    <tr>\n",
       "      <th>17540</th>\n",
       "      <td>Zeus</td>\n",
       "      <td>M</td>\n",
       "      <td>5</td>\n",
       "      <td>31</td>\n",
       "    </tr>\n",
       "    <tr>\n",
       "      <th>17541</th>\n",
       "      <td>Ziyad</td>\n",
       "      <td>M</td>\n",
       "      <td>5</td>\n",
       "      <td>17</td>\n",
       "    </tr>\n",
       "    <tr>\n",
       "      <th>17542</th>\n",
       "      <td>Zoran</td>\n",
       "      <td>M</td>\n",
       "      <td>5</td>\n",
       "      <td>9</td>\n",
       "    </tr>\n",
       "    <tr>\n",
       "      <th>17543</th>\n",
       "      <td>Zvi</td>\n",
       "      <td>M</td>\n",
       "      <td>5</td>\n",
       "      <td>10</td>\n",
       "    </tr>\n",
       "  </tbody>\n",
       "</table>\n",
       "<p>17544 rows × 4 columns</p>\n",
       "</div>"
      ],
      "text/plain": [
       "            Name Gender  Count90  Count00\n",
       "0        Jessica      F    46470    15705\n",
       "1         Ashley      F    45553    17997\n",
       "2       Brittany      F    36534     5183\n",
       "3         Amanda      F    34405     8550\n",
       "4       Samantha      F    25865    17264\n",
       "5          Sarah      F    25810    17689\n",
       "6      Stephanie      F    24859     7029\n",
       "...          ...    ...      ...      ...\n",
       "17537     Zander      M        5      150\n",
       "17538   Zedekiah      M        5       10\n",
       "17539     Zephan      M        5        8\n",
       "17540       Zeus      M        5       31\n",
       "17541      Ziyad      M        5       17\n",
       "17542      Zoran      M        5        9\n",
       "17543        Zvi      M        5       10\n",
       "\n",
       "[17544 rows x 4 columns]"
      ]
     },
     "execution_count": 7,
     "metadata": {},
     "output_type": "execute_result"
    }
   ],
   "source": [
    "data_merged = data90.merge(data00, on=[\"Name\", \"Gender\"], suffixes=(\"90\",\"00\"))\n",
    "data_merged"
   ]
  },
  {
   "cell_type": "markdown",
   "metadata": {},
   "source": [
    "Let's check to see if there are any missing entries in either `Count` column."
   ]
  },
  {
   "cell_type": "code",
   "execution_count": 11,
   "metadata": {
    "collapsed": false
   },
   "outputs": [
    {
     "data": {
      "text/plain": [
       "(0, 0)"
      ]
     },
     "execution_count": 11,
     "metadata": {},
     "output_type": "execute_result"
    }
   ],
   "source": [
    "data_merged[\"Count90\"].isnull().sum(), data_merged[\"Count00\"].isnull().sum()"
   ]
  },
  {
   "cell_type": "markdown",
   "metadata": {},
   "source": [
    "Now with the data side by side, it's trivial to figure out which names increased and decreased the most in popularity."
   ]
  },
  {
   "cell_type": "code",
   "execution_count": 15,
   "metadata": {
    "collapsed": false
   },
   "outputs": [
    {
     "data": {
      "text/html": [
       "<div>\n",
       "<table border=\"1\" class=\"dataframe\">\n",
       "  <thead>\n",
       "    <tr style=\"text-align: right;\">\n",
       "      <th></th>\n",
       "      <th>Name</th>\n",
       "      <th>Gender</th>\n",
       "      <th>Count90</th>\n",
       "      <th>Count00</th>\n",
       "      <th>CountDiff</th>\n",
       "    </tr>\n",
       "  </thead>\n",
       "  <tbody>\n",
       "    <tr>\n",
       "      <th>10323</th>\n",
       "      <td>Michael</td>\n",
       "      <td>M</td>\n",
       "      <td>65275</td>\n",
       "      <td>32028</td>\n",
       "      <td>-33247</td>\n",
       "    </tr>\n",
       "    <tr>\n",
       "      <th>2</th>\n",
       "      <td>Brittany</td>\n",
       "      <td>F</td>\n",
       "      <td>36534</td>\n",
       "      <td>5183</td>\n",
       "      <td>-31351</td>\n",
       "    </tr>\n",
       "    <tr>\n",
       "      <th>0</th>\n",
       "      <td>Jessica</td>\n",
       "      <td>F</td>\n",
       "      <td>46470</td>\n",
       "      <td>15705</td>\n",
       "      <td>-30765</td>\n",
       "    </tr>\n",
       "    <tr>\n",
       "      <th>1</th>\n",
       "      <td>Ashley</td>\n",
       "      <td>F</td>\n",
       "      <td>45553</td>\n",
       "      <td>17997</td>\n",
       "      <td>-27556</td>\n",
       "    </tr>\n",
       "    <tr>\n",
       "      <th>10324</th>\n",
       "      <td>Christopher</td>\n",
       "      <td>M</td>\n",
       "      <td>52331</td>\n",
       "      <td>24928</td>\n",
       "      <td>-27403</td>\n",
       "    </tr>\n",
       "    <tr>\n",
       "      <th>3</th>\n",
       "      <td>Amanda</td>\n",
       "      <td>F</td>\n",
       "      <td>34405</td>\n",
       "      <td>8550</td>\n",
       "      <td>-25855</td>\n",
       "    </tr>\n",
       "    <tr>\n",
       "      <th>6</th>\n",
       "      <td>Stephanie</td>\n",
       "      <td>F</td>\n",
       "      <td>24859</td>\n",
       "      <td>7029</td>\n",
       "      <td>-17830</td>\n",
       "    </tr>\n",
       "    <tr>\n",
       "      <th>...</th>\n",
       "      <td>...</td>\n",
       "      <td>...</td>\n",
       "      <td>...</td>\n",
       "      <td>...</td>\n",
       "      <td>...</td>\n",
       "    </tr>\n",
       "    <tr>\n",
       "      <th>10405</th>\n",
       "      <td>Dylan</td>\n",
       "      <td>M</td>\n",
       "      <td>4414</td>\n",
       "      <td>15398</td>\n",
       "      <td>10984</td>\n",
       "    </tr>\n",
       "    <tr>\n",
       "      <th>10541</th>\n",
       "      <td>Hunter</td>\n",
       "      <td>M</td>\n",
       "      <td>1388</td>\n",
       "      <td>12535</td>\n",
       "      <td>11147</td>\n",
       "    </tr>\n",
       "    <tr>\n",
       "      <th>65</th>\n",
       "      <td>Alexis</td>\n",
       "      <td>F</td>\n",
       "      <td>5256</td>\n",
       "      <td>17627</td>\n",
       "      <td>12371</td>\n",
       "    </tr>\n",
       "    <tr>\n",
       "      <th>10342</th>\n",
       "      <td>Jacob</td>\n",
       "      <td>M</td>\n",
       "      <td>22005</td>\n",
       "      <td>34467</td>\n",
       "      <td>12462</td>\n",
       "    </tr>\n",
       "    <tr>\n",
       "      <th>29</th>\n",
       "      <td>Hannah</td>\n",
       "      <td>F</td>\n",
       "      <td>10274</td>\n",
       "      <td>23075</td>\n",
       "      <td>12801</td>\n",
       "    </tr>\n",
       "    <tr>\n",
       "      <th>10550</th>\n",
       "      <td>Noah</td>\n",
       "      <td>M</td>\n",
       "      <td>1305</td>\n",
       "      <td>14265</td>\n",
       "      <td>12960</td>\n",
       "    </tr>\n",
       "    <tr>\n",
       "      <th>202</th>\n",
       "      <td>Madison</td>\n",
       "      <td>F</td>\n",
       "      <td>1407</td>\n",
       "      <td>19967</td>\n",
       "      <td>18560</td>\n",
       "    </tr>\n",
       "  </tbody>\n",
       "</table>\n",
       "<p>17544 rows × 5 columns</p>\n",
       "</div>"
      ],
      "text/plain": [
       "              Name Gender  Count90  Count00  CountDiff\n",
       "10323      Michael      M    65275    32028     -33247\n",
       "2         Brittany      F    36534     5183     -31351\n",
       "0          Jessica      F    46470    15705     -30765\n",
       "1           Ashley      F    45553    17997     -27556\n",
       "10324  Christopher      M    52331    24928     -27403\n",
       "3           Amanda      F    34405     8550     -25855\n",
       "6        Stephanie      F    24859     7029     -17830\n",
       "...            ...    ...      ...      ...        ...\n",
       "10405        Dylan      M     4414    15398      10984\n",
       "10541       Hunter      M     1388    12535      11147\n",
       "65          Alexis      F     5256    17627      12371\n",
       "10342        Jacob      M    22005    34467      12462\n",
       "29          Hannah      F    10274    23075      12801\n",
       "10550         Noah      M     1305    14265      12960\n",
       "202        Madison      F     1407    19967      18560\n",
       "\n",
       "[17544 rows x 5 columns]"
      ]
     },
     "execution_count": 15,
     "metadata": {},
     "output_type": "execute_result"
    }
   ],
   "source": [
    "data_merged[\"CountDiff\"] = (data_merged[\"Count00\"] - data_merged[\"Count90\"])\n",
    "data_merged.sort_values(\"CountDiff\")"
   ]
  },
  {
   "cell_type": "markdown",
   "metadata": {},
   "source": [
    "## Exercises"
   ]
  },
  {
   "cell_type": "markdown",
   "metadata": {},
   "source": [
    "**Question 1.** Merge the 1990 data with the 2000 data, but do a left join instead of an inner join.\n",
    "\n",
    "Are there any missing values in the 1990 column? What about the 2000 column? Can you interpret what these missing values mean?"
   ]
  },
  {
   "cell_type": "code",
   "execution_count": 40,
   "metadata": {
    "collapsed": false
   },
   "outputs": [
    {
     "data": {
      "text/plain": [
       "(0, 7171)"
      ]
     },
     "execution_count": 40,
     "metadata": {},
     "output_type": "execute_result"
    }
   ],
   "source": [
    "data_leftMerge = data90.merge(data00, how='left', on=[\"Name\", \"Gender\"], suffixes=(\"90\",\"00\"))\n",
    "data_leftMerge.fillna(0)\n",
    "data_leftMerge[\"Count90\"].isnull().sum(), data_leftMerge[\"Count00\"].isnull().sum()"
   ]
  },
  {
   "cell_type": "markdown",
   "metadata": {},
   "source": [
    "**Question 2.** Merge the 1990 data with the 2000 data, but do a right join instead of an inner join.\n",
    "\n",
    "Are there any missing values in the 1990 column? What about the 2000 column? Can you interpret what these missing values mean?"
   ]
  },
  {
   "cell_type": "code",
   "execution_count": 41,
   "metadata": {
    "collapsed": false
   },
   "outputs": [
    {
     "data": {
      "text/plain": [
       "(12220, 0)"
      ]
     },
     "execution_count": 41,
     "metadata": {},
     "output_type": "execute_result"
    }
   ],
   "source": [
    "data_rightMerge = data90.merge(data00, how='right', on=[\"Name\", \"Gender\"], suffixes=(\"90\",\"00\"))\n",
    "data_rightMerge.fillna(0)\n",
    "data_rightMerge[\"Count90\"].isnull().sum(), data_rightMerge[\"Count00\"].isnull().sum()"
   ]
  },
  {
   "cell_type": "markdown",
   "metadata": {},
   "source": [
    "**Question 3.** Merge the 1990 data with the 2000 data, but do an outer join instead of an inner join.\n",
    "\n",
    "Are there any rows with missing values in _both_ the 1990 and 2000 columns? Why or why not?"
   ]
  },
  {
   "cell_type": "code",
   "execution_count": 42,
   "metadata": {
    "collapsed": false
   },
   "outputs": [
    {
     "data": {
      "text/plain": [
       "(12220, 7171)"
      ]
     },
     "execution_count": 42,
     "metadata": {},
     "output_type": "execute_result"
    }
   ],
   "source": [
    "data_outMerge = data90.merge(data00, how='outer', on=[\"Name\", \"Gender\"], suffixes=(\"90\",\"00\"))\n",
    "data_outMerge.fillna(0)\n",
    "data_outMerge[\"Count90\"].isnull().sum(), data_outMerge[\"Count00\"].isnull().sum()"
   ]
  },
  {
   "cell_type": "markdown",
   "metadata": {},
   "source": [
    "**Question 4.** The code below produces a version of the 1990 data frame where `Name` and `Gender` are indices (instead of columns). How would you merge this data frame to the 2000 data frame now? \n",
    "\n",
    "_Hint:_ Take a look at the documentation for `.merge()`."
   ]
  },
  {
   "cell_type": "code",
   "execution_count": 47,
   "metadata": {
    "collapsed": false
   },
   "outputs": [
    {
     "data": {
      "text/html": [
       "<div>\n",
       "<table border=\"1\" class=\"dataframe\">\n",
       "  <thead>\n",
       "    <tr style=\"text-align: right;\">\n",
       "      <th></th>\n",
       "      <th>Count1990</th>\n",
       "      <th>Name</th>\n",
       "      <th>Gender</th>\n",
       "      <th>Count2000</th>\n",
       "    </tr>\n",
       "  </thead>\n",
       "  <tbody>\n",
       "    <tr>\n",
       "      <th>7</th>\n",
       "      <td>46470</td>\n",
       "      <td>Jessica</td>\n",
       "      <td>F</td>\n",
       "      <td>15705</td>\n",
       "    </tr>\n",
       "    <tr>\n",
       "      <th>3</th>\n",
       "      <td>45553</td>\n",
       "      <td>Ashley</td>\n",
       "      <td>F</td>\n",
       "      <td>17997</td>\n",
       "    </tr>\n",
       "    <tr>\n",
       "      <th>59</th>\n",
       "      <td>36534</td>\n",
       "      <td>Brittany</td>\n",
       "      <td>F</td>\n",
       "      <td>5183</td>\n",
       "    </tr>\n",
       "    <tr>\n",
       "      <th>31</th>\n",
       "      <td>34405</td>\n",
       "      <td>Amanda</td>\n",
       "      <td>F</td>\n",
       "      <td>8550</td>\n",
       "    </tr>\n",
       "    <tr>\n",
       "      <th>6</th>\n",
       "      <td>25865</td>\n",
       "      <td>Samantha</td>\n",
       "      <td>F</td>\n",
       "      <td>17264</td>\n",
       "    </tr>\n",
       "    <tr>\n",
       "      <th>4</th>\n",
       "      <td>25810</td>\n",
       "      <td>Sarah</td>\n",
       "      <td>F</td>\n",
       "      <td>17689</td>\n",
       "    </tr>\n",
       "    <tr>\n",
       "      <th>39</th>\n",
       "      <td>24859</td>\n",
       "      <td>Stephanie</td>\n",
       "      <td>F</td>\n",
       "      <td>7029</td>\n",
       "    </tr>\n",
       "    <tr>\n",
       "      <th>...</th>\n",
       "      <td>...</td>\n",
       "      <td>...</td>\n",
       "      <td>...</td>\n",
       "      <td>...</td>\n",
       "    </tr>\n",
       "    <tr>\n",
       "      <th>18644</th>\n",
       "      <td>5</td>\n",
       "      <td>Zander</td>\n",
       "      <td>M</td>\n",
       "      <td>150</td>\n",
       "    </tr>\n",
       "    <tr>\n",
       "      <th>24477</th>\n",
       "      <td>5</td>\n",
       "      <td>Zedekiah</td>\n",
       "      <td>M</td>\n",
       "      <td>10</td>\n",
       "    </tr>\n",
       "    <tr>\n",
       "      <th>25852</th>\n",
       "      <td>5</td>\n",
       "      <td>Zephan</td>\n",
       "      <td>M</td>\n",
       "      <td>8</td>\n",
       "    </tr>\n",
       "    <tr>\n",
       "      <th>20572</th>\n",
       "      <td>5</td>\n",
       "      <td>Zeus</td>\n",
       "      <td>M</td>\n",
       "      <td>31</td>\n",
       "    </tr>\n",
       "    <tr>\n",
       "      <th>22218</th>\n",
       "      <td>5</td>\n",
       "      <td>Ziyad</td>\n",
       "      <td>M</td>\n",
       "      <td>17</td>\n",
       "    </tr>\n",
       "    <tr>\n",
       "      <th>25062</th>\n",
       "      <td>5</td>\n",
       "      <td>Zoran</td>\n",
       "      <td>M</td>\n",
       "      <td>9</td>\n",
       "    </tr>\n",
       "    <tr>\n",
       "      <th>24480</th>\n",
       "      <td>5</td>\n",
       "      <td>Zvi</td>\n",
       "      <td>M</td>\n",
       "      <td>10</td>\n",
       "    </tr>\n",
       "  </tbody>\n",
       "</table>\n",
       "<p>17544 rows × 4 columns</p>\n",
       "</div>"
      ],
      "text/plain": [
       "       Count1990       Name Gender  Count2000\n",
       "7          46470    Jessica      F      15705\n",
       "3          45553     Ashley      F      17997\n",
       "59         36534   Brittany      F       5183\n",
       "31         34405     Amanda      F       8550\n",
       "6          25865   Samantha      F      17264\n",
       "4          25810      Sarah      F      17689\n",
       "39         24859  Stephanie      F       7029\n",
       "...          ...        ...    ...        ...\n",
       "18644          5     Zander      M        150\n",
       "24477          5   Zedekiah      M         10\n",
       "25852          5     Zephan      M          8\n",
       "20572          5       Zeus      M         31\n",
       "22218          5      Ziyad      M         17\n",
       "25062          5      Zoran      M          9\n",
       "24480          5        Zvi      M         10\n",
       "\n",
       "[17544 rows x 4 columns]"
      ]
     },
     "execution_count": 47,
     "metadata": {},
     "output_type": "execute_result"
    }
   ],
   "source": [
    "data90_reindex = data90.set_index([\"Name\", \"Gender\"])\n",
    "data90_reindex\n",
    "\n",
    "data90_reindex.merge(data00,left_index=True, right_on=[\"Name\", \"Gender\"], suffixes=[\"1990\", \"2000\"])"
   ]
  },
  {
   "cell_type": "markdown",
   "metadata": {},
   "source": [
    "**Question 5.** What happens if you only join on `Name` (not on `Gender`)?\n",
    "\n",
    "_Hint:_ Look for the name \"Jessica\" in the merged data frame. How many times does it appear? What do you notice?"
   ]
  },
  {
   "cell_type": "code",
   "execution_count": null,
   "metadata": {
    "collapsed": false
   },
   "outputs": [],
   "source": [
    "# ENTER CODE HERE"
   ]
  },
  {
   "cell_type": "markdown",
   "metadata": {},
   "source": [
    "## A Word on `.join()`\n",
    "\n",
    "When the variables you want to join on are the indices of _both_ data frames, you can use the `.join()` method instead of `.merge()`. However, as you saw above, you can do the same thing with `.merge()` using `left_index=True` and `right_index=True`. Using `.join()` just saves you some typing if you really want to join on the indices."
   ]
  },
  {
   "cell_type": "code",
   "execution_count": null,
   "metadata": {
    "collapsed": true
   },
   "outputs": [],
   "source": [
    "data90_reindex = data90.set_index([\"Name\", \"Gender\"])\n",
    "data00_reindex = data00.set_index([\"Name\", \"Gender\"])"
   ]
  },
  {
   "cell_type": "code",
   "execution_count": null,
   "metadata": {
    "collapsed": false
   },
   "outputs": [],
   "source": [
    "data90_reindex.join(data00_reindex, lsuffix=\"1990\", rsuffix=\"2000\")"
   ]
  }
 ],
 "metadata": {
  "kernelspec": {
   "display_name": "Python 3",
   "language": "python",
   "name": "python3"
  },
  "language_info": {
   "codemirror_mode": {
    "name": "ipython",
    "version": 3
   },
   "file_extension": ".py",
   "mimetype": "text/x-python",
   "name": "python",
   "nbconvert_exporter": "python",
   "pygments_lexer": "ipython3",
   "version": "3.5.2"
  }
 },
 "nbformat": 4,
 "nbformat_minor": 1
}
