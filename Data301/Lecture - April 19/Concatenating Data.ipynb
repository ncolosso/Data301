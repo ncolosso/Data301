{
 "cells": [
  {
   "cell_type": "markdown",
   "metadata": {},
   "source": [
    "# Concatenating Data\n",
    "\n",
    "A central problem in data science is combining data from different sources. One of the simplest ways to combine data sets is to **concatenate** them.\n",
    "\n",
    "In this class, we will use \"concatenate\" to refer to stacking data frames on top of one another and \"merge\" to refer to stacking data frames next to each other."
   ]
  },
  {
   "cell_type": "code",
   "execution_count": 1,
   "metadata": {
    "collapsed": true
   },
   "outputs": [],
   "source": [
    "import pandas as pd"
   ]
  },
  {
   "cell_type": "markdown",
   "metadata": {},
   "source": [
    "## Baby Names Dataset"
   ]
  },
  {
   "cell_type": "markdown",
   "metadata": {},
   "source": [
    "The Social Security Administration tracks the names of all babies born in the United States each year. The data is [publicly available](https://www.ssa.gov/OACT/babynames/limits.html), and a copy of the data has been made available at `/data/names/`."
   ]
  },
  {
   "cell_type": "code",
   "execution_count": 2,
   "metadata": {
    "collapsed": false
   },
   "outputs": [
    {
     "name": "stdout",
     "output_type": "stream",
     "text": [
      "NationalReadMe.pdf  yob1907.txt  yob1935.txt  yob1963.txt  yob1991.txt\r\n",
      "yob1880.txt\t    yob1908.txt  yob1936.txt  yob1964.txt  yob1992.txt\r\n",
      "yob1881.txt\t    yob1909.txt  yob1937.txt  yob1965.txt  yob1993.txt\r\n",
      "yob1882.txt\t    yob1910.txt  yob1938.txt  yob1966.txt  yob1994.txt\r\n",
      "yob1883.txt\t    yob1911.txt  yob1939.txt  yob1967.txt  yob1995.txt\r\n",
      "yob1884.txt\t    yob1912.txt  yob1940.txt  yob1968.txt  yob1996.txt\r\n",
      "yob1885.txt\t    yob1913.txt  yob1941.txt  yob1969.txt  yob1997.txt\r\n",
      "yob1886.txt\t    yob1914.txt  yob1942.txt  yob1970.txt  yob1998.txt\r\n",
      "yob1887.txt\t    yob1915.txt  yob1943.txt  yob1971.txt  yob1999.txt\r\n",
      "yob1888.txt\t    yob1916.txt  yob1944.txt  yob1972.txt  yob2000.txt\r\n",
      "yob1889.txt\t    yob1917.txt  yob1945.txt  yob1973.txt  yob2001.txt\r\n",
      "yob1890.txt\t    yob1918.txt  yob1946.txt  yob1974.txt  yob2002.txt\r\n",
      "yob1891.txt\t    yob1919.txt  yob1947.txt  yob1975.txt  yob2003.txt\r\n",
      "yob1892.txt\t    yob1920.txt  yob1948.txt  yob1976.txt  yob2004.txt\r\n",
      "yob1893.txt\t    yob1921.txt  yob1949.txt  yob1977.txt  yob2005.txt\r\n",
      "yob1894.txt\t    yob1922.txt  yob1950.txt  yob1978.txt  yob2006.txt\r\n",
      "yob1895.txt\t    yob1923.txt  yob1951.txt  yob1979.txt  yob2007.txt\r\n",
      "yob1896.txt\t    yob1924.txt  yob1952.txt  yob1980.txt  yob2008.txt\r\n",
      "yob1897.txt\t    yob1925.txt  yob1953.txt  yob1981.txt  yob2009.txt\r\n",
      "yob1898.txt\t    yob1926.txt  yob1954.txt  yob1982.txt  yob2010.txt\r\n",
      "yob1899.txt\t    yob1927.txt  yob1955.txt  yob1983.txt  yob2011.txt\r\n",
      "yob1900.txt\t    yob1928.txt  yob1956.txt  yob1984.txt  yob2012.txt\r\n",
      "yob1901.txt\t    yob1929.txt  yob1957.txt  yob1985.txt  yob2013.txt\r\n",
      "yob1902.txt\t    yob1930.txt  yob1958.txt  yob1986.txt  yob2014.txt\r\n",
      "yob1903.txt\t    yob1931.txt  yob1959.txt  yob1987.txt  yob2015.txt\r\n",
      "yob1904.txt\t    yob1932.txt  yob1960.txt  yob1988.txt\r\n",
      "yob1905.txt\t    yob1933.txt  yob1961.txt  yob1989.txt\r\n",
      "yob1906.txt\t    yob1934.txt  yob1962.txt  yob1990.txt\r\n"
     ]
    }
   ],
   "source": [
    "!ls /data/names"
   ]
  },
  {
   "cell_type": "markdown",
   "metadata": {},
   "source": [
    "The data for each year is stored in separate files. The files are named `yob####.txt`, where `####` is the year. Notice that the data goes all the way back to 1880!\n",
    "\n",
    "Now let's look at how the data is stored."
   ]
  },
  {
   "cell_type": "code",
   "execution_count": 3,
   "metadata": {
    "collapsed": false
   },
   "outputs": [
    {
     "name": "stdout",
     "output_type": "stream",
     "text": [
      "Emily,F,25731\r",
      "\r\n",
      "Jessica,F,21043\r",
      "\r\n",
      "Ashley,F,20895\r",
      "\r\n",
      "Sarah,F,20694\r",
      "\r\n",
      "Hannah,F,20588\r",
      "\r\n",
      "Samantha,F,20169\r",
      "\r\n",
      "Taylor,F,19503\r",
      "\r\n",
      "Alexis,F,17171\r",
      "\r\n",
      "Elizabeth,F,15415\r",
      "\r\n",
      "Madison,F,15187\r",
      "\r\n"
     ]
    }
   ],
   "source": [
    "!head /data/names/yob1997.txt"
   ]
  },
  {
   "cell_type": "markdown",
   "metadata": {},
   "source": [
    "Each row specifies the number of babies born that year with that name and gender."
   ]
  },
  {
   "cell_type": "markdown",
   "metadata": {},
   "source": [
    "## Exercises"
   ]
  },
  {
   "cell_type": "markdown",
   "metadata": {},
   "source": [
    "**Question 1.** Read in the data for the year you were born. Specify appropriate column names. How many people were born with your name?"
   ]
  },
  {
   "cell_type": "code",
   "execution_count": 54,
   "metadata": {
    "collapsed": false
   },
   "outputs": [
    {
     "data": {
      "text/html": [
       "<div>\n",
       "<table border=\"1\" class=\"dataframe\">\n",
       "  <thead>\n",
       "    <tr style=\"text-align: right;\">\n",
       "      <th></th>\n",
       "      <th>Name</th>\n",
       "      <th>Sex</th>\n",
       "      <th>Babies</th>\n",
       "    </tr>\n",
       "  </thead>\n",
       "  <tbody>\n",
       "    <tr>\n",
       "      <th>16039</th>\n",
       "      <td>Nicolas</td>\n",
       "      <td>M</td>\n",
       "      <td>2294</td>\n",
       "    </tr>\n",
       "  </tbody>\n",
       "</table>\n",
       "</div>"
      ],
      "text/plain": [
       "          Name Sex  Babies\n",
       "16039  Nicolas   M    2294"
      ]
     },
     "execution_count": 54,
     "metadata": {},
     "output_type": "execute_result"
    }
   ],
   "source": [
    "data96 = pd.read_csv(\"/data/names/yob1996.txt\",\n",
    "                  names = [\"Name\",\"Sex\",\"Babies\"])\n",
    "pd.set_option(\"display.max_rows\", 15)\n",
    "data96[(data96[\"Name\"] == \"Nicolas\")&(data96[\"Sex\"] == \"M\")]"
   ]
  },
  {
   "cell_type": "markdown",
   "metadata": {},
   "source": [
    "**Question 2.** Track the popularity of your name in the years since you were born. To do this, you'll have to read in data from multiple years and concatenate the data sets into a single data frame using `pd.concat()`. Make sure you add a column \"Year\" so that you can keep track of which year each row came from.\n",
    "\n",
    "Some code to generate the filenames has been provided for you."
   ]
  },
  {
   "cell_type": "code",
   "execution_count": 66,
   "metadata": {
    "collapsed": false
   },
   "outputs": [
    {
     "data": {
      "text/html": [
       "<div>\n",
       "<table border=\"1\" class=\"dataframe\">\n",
       "  <thead>\n",
       "    <tr style=\"text-align: right;\">\n",
       "      <th></th>\n",
       "      <th>Name</th>\n",
       "      <th>Gender</th>\n",
       "      <th>Amount</th>\n",
       "      <th>Year</th>\n",
       "    </tr>\n",
       "  </thead>\n",
       "  <tbody>\n",
       "    <tr>\n",
       "      <th>0</th>\n",
       "      <td>Jessica</td>\n",
       "      <td>F</td>\n",
       "      <td>46470</td>\n",
       "      <td>1990</td>\n",
       "    </tr>\n",
       "    <tr>\n",
       "      <th>1</th>\n",
       "      <td>Ashley</td>\n",
       "      <td>F</td>\n",
       "      <td>45553</td>\n",
       "      <td>1990</td>\n",
       "    </tr>\n",
       "    <tr>\n",
       "      <th>2</th>\n",
       "      <td>Brittany</td>\n",
       "      <td>F</td>\n",
       "      <td>36534</td>\n",
       "      <td>1990</td>\n",
       "    </tr>\n",
       "    <tr>\n",
       "      <th>3</th>\n",
       "      <td>Amanda</td>\n",
       "      <td>F</td>\n",
       "      <td>34405</td>\n",
       "      <td>1990</td>\n",
       "    </tr>\n",
       "    <tr>\n",
       "      <th>4</th>\n",
       "      <td>Samantha</td>\n",
       "      <td>F</td>\n",
       "      <td>25865</td>\n",
       "      <td>1990</td>\n",
       "    </tr>\n",
       "    <tr>\n",
       "      <th>5</th>\n",
       "      <td>Sarah</td>\n",
       "      <td>F</td>\n",
       "      <td>25810</td>\n",
       "      <td>1990</td>\n",
       "    </tr>\n",
       "    <tr>\n",
       "      <th>6</th>\n",
       "      <td>Stephanie</td>\n",
       "      <td>F</td>\n",
       "      <td>24859</td>\n",
       "      <td>1990</td>\n",
       "    </tr>\n",
       "    <tr>\n",
       "      <th>...</th>\n",
       "      <td>...</td>\n",
       "      <td>...</td>\n",
       "      <td>...</td>\n",
       "      <td>...</td>\n",
       "    </tr>\n",
       "    <tr>\n",
       "      <th>32945</th>\n",
       "      <td>Zolton</td>\n",
       "      <td>M</td>\n",
       "      <td>5</td>\n",
       "      <td>2015</td>\n",
       "    </tr>\n",
       "    <tr>\n",
       "      <th>32946</th>\n",
       "      <td>Zyah</td>\n",
       "      <td>M</td>\n",
       "      <td>5</td>\n",
       "      <td>2015</td>\n",
       "    </tr>\n",
       "    <tr>\n",
       "      <th>32947</th>\n",
       "      <td>Zykell</td>\n",
       "      <td>M</td>\n",
       "      <td>5</td>\n",
       "      <td>2015</td>\n",
       "    </tr>\n",
       "    <tr>\n",
       "      <th>32948</th>\n",
       "      <td>Zyking</td>\n",
       "      <td>M</td>\n",
       "      <td>5</td>\n",
       "      <td>2015</td>\n",
       "    </tr>\n",
       "    <tr>\n",
       "      <th>32949</th>\n",
       "      <td>Zykir</td>\n",
       "      <td>M</td>\n",
       "      <td>5</td>\n",
       "      <td>2015</td>\n",
       "    </tr>\n",
       "    <tr>\n",
       "      <th>32950</th>\n",
       "      <td>Zyrus</td>\n",
       "      <td>M</td>\n",
       "      <td>5</td>\n",
       "      <td>2015</td>\n",
       "    </tr>\n",
       "    <tr>\n",
       "      <th>32951</th>\n",
       "      <td>Zyus</td>\n",
       "      <td>M</td>\n",
       "      <td>5</td>\n",
       "      <td>2015</td>\n",
       "    </tr>\n",
       "  </tbody>\n",
       "</table>\n",
       "<p>789186 rows × 4 columns</p>\n",
       "</div>"
      ],
      "text/plain": [
       "            Name Gender  Amount  Year\n",
       "0        Jessica      F   46470  1990\n",
       "1         Ashley      F   45553  1990\n",
       "2       Brittany      F   36534  1990\n",
       "3         Amanda      F   34405  1990\n",
       "4       Samantha      F   25865  1990\n",
       "5          Sarah      F   25810  1990\n",
       "6      Stephanie      F   24859  1990\n",
       "...          ...    ...     ...   ...\n",
       "32945     Zolton      M       5  2015\n",
       "32946       Zyah      M       5  2015\n",
       "32947     Zykell      M       5  2015\n",
       "32948     Zyking      M       5  2015\n",
       "32949      Zykir      M       5  2015\n",
       "32950      Zyrus      M       5  2015\n",
       "32951       Zyus      M       5  2015\n",
       "\n",
       "[789186 rows x 4 columns]"
      ]
     },
     "execution_count": 66,
     "metadata": {},
     "output_type": "execute_result"
    }
   ],
   "source": [
    "dfs = []\n",
    "for year in range(1990, 2016):\n",
    "    filename = \"/data/names/yob%d.txt\" % year\n",
    "    dataIN = pd.read_csv(filename, names=[\"Name\",\"Gender\",\"Amount\"])\n",
    "    dataIN[\"Year\"] = year\n",
    "    dfs.append(dataIN) \n",
    "    \n",
    "data = pd.concat(dfs)\n",
    "data"
   ]
  },
  {
   "cell_type": "markdown",
   "metadata": {},
   "source": [
    "**Question 3.** What do you notice about the index? What problems might this cause? How do you fix it? (_Hint_: Look at the documentation for `pd.concat`.)"
   ]
  },
  {
   "cell_type": "code",
   "execution_count": 70,
   "metadata": {
    "collapsed": false
   },
   "outputs": [
    {
     "data": {
      "text/plain": [
       "<pandas.core.indexing._LocIndexer at 0x7f979426c0b8>"
      ]
     },
     "execution_count": 70,
     "metadata": {},
     "output_type": "execute_result"
    }
   ],
   "source": [
    "data.loc(0)"
   ]
  },
  {
   "cell_type": "code",
   "execution_count": 51,
   "metadata": {
    "collapsed": false
   },
   "outputs": [
    {
     "data": {
      "text/html": [
       "<div>\n",
       "<table border=\"1\" class=\"dataframe\">\n",
       "  <thead>\n",
       "    <tr style=\"text-align: right;\">\n",
       "      <th></th>\n",
       "      <th>Name</th>\n",
       "      <th>Gender</th>\n",
       "      <th>Amount</th>\n",
       "      <th>Year</th>\n",
       "    </tr>\n",
       "  </thead>\n",
       "  <tbody>\n",
       "    <tr>\n",
       "      <th>0</th>\n",
       "      <td>Jessica</td>\n",
       "      <td>F</td>\n",
       "      <td>46470</td>\n",
       "      <td>1990</td>\n",
       "    </tr>\n",
       "    <tr>\n",
       "      <th>1</th>\n",
       "      <td>Ashley</td>\n",
       "      <td>F</td>\n",
       "      <td>45553</td>\n",
       "      <td>1990</td>\n",
       "    </tr>\n",
       "    <tr>\n",
       "      <th>2</th>\n",
       "      <td>Brittany</td>\n",
       "      <td>F</td>\n",
       "      <td>36534</td>\n",
       "      <td>1990</td>\n",
       "    </tr>\n",
       "    <tr>\n",
       "      <th>3</th>\n",
       "      <td>Amanda</td>\n",
       "      <td>F</td>\n",
       "      <td>34405</td>\n",
       "      <td>1990</td>\n",
       "    </tr>\n",
       "    <tr>\n",
       "      <th>4</th>\n",
       "      <td>Samantha</td>\n",
       "      <td>F</td>\n",
       "      <td>25865</td>\n",
       "      <td>1990</td>\n",
       "    </tr>\n",
       "    <tr>\n",
       "      <th>5</th>\n",
       "      <td>Sarah</td>\n",
       "      <td>F</td>\n",
       "      <td>25810</td>\n",
       "      <td>1990</td>\n",
       "    </tr>\n",
       "    <tr>\n",
       "      <th>6</th>\n",
       "      <td>Stephanie</td>\n",
       "      <td>F</td>\n",
       "      <td>24859</td>\n",
       "      <td>1990</td>\n",
       "    </tr>\n",
       "    <tr>\n",
       "      <th>...</th>\n",
       "      <td>...</td>\n",
       "      <td>...</td>\n",
       "      <td>...</td>\n",
       "      <td>...</td>\n",
       "    </tr>\n",
       "    <tr>\n",
       "      <th>789179</th>\n",
       "      <td>Zolton</td>\n",
       "      <td>M</td>\n",
       "      <td>5</td>\n",
       "      <td>2015</td>\n",
       "    </tr>\n",
       "    <tr>\n",
       "      <th>789180</th>\n",
       "      <td>Zyah</td>\n",
       "      <td>M</td>\n",
       "      <td>5</td>\n",
       "      <td>2015</td>\n",
       "    </tr>\n",
       "    <tr>\n",
       "      <th>789181</th>\n",
       "      <td>Zykell</td>\n",
       "      <td>M</td>\n",
       "      <td>5</td>\n",
       "      <td>2015</td>\n",
       "    </tr>\n",
       "    <tr>\n",
       "      <th>789182</th>\n",
       "      <td>Zyking</td>\n",
       "      <td>M</td>\n",
       "      <td>5</td>\n",
       "      <td>2015</td>\n",
       "    </tr>\n",
       "    <tr>\n",
       "      <th>789183</th>\n",
       "      <td>Zykir</td>\n",
       "      <td>M</td>\n",
       "      <td>5</td>\n",
       "      <td>2015</td>\n",
       "    </tr>\n",
       "    <tr>\n",
       "      <th>789184</th>\n",
       "      <td>Zyrus</td>\n",
       "      <td>M</td>\n",
       "      <td>5</td>\n",
       "      <td>2015</td>\n",
       "    </tr>\n",
       "    <tr>\n",
       "      <th>789185</th>\n",
       "      <td>Zyus</td>\n",
       "      <td>M</td>\n",
       "      <td>5</td>\n",
       "      <td>2015</td>\n",
       "    </tr>\n",
       "  </tbody>\n",
       "</table>\n",
       "<p>789186 rows × 4 columns</p>\n",
       "</div>"
      ],
      "text/plain": [
       "             Name Gender  Amount  Year\n",
       "0         Jessica      F   46470  1990\n",
       "1          Ashley      F   45553  1990\n",
       "2        Brittany      F   36534  1990\n",
       "3          Amanda      F   34405  1990\n",
       "4        Samantha      F   25865  1990\n",
       "5           Sarah      F   25810  1990\n",
       "6       Stephanie      F   24859  1990\n",
       "...           ...    ...     ...   ...\n",
       "789179     Zolton      M       5  2015\n",
       "789180       Zyah      M       5  2015\n",
       "789181     Zykell      M       5  2015\n",
       "789182     Zyking      M       5  2015\n",
       "789183      Zykir      M       5  2015\n",
       "789184      Zyrus      M       5  2015\n",
       "789185       Zyus      M       5  2015\n",
       "\n",
       "[789186 rows x 4 columns]"
      ]
     },
     "execution_count": 51,
     "metadata": {},
     "output_type": "execute_result"
    }
   ],
   "source": [
    "data = pd.concat(dfs,ignore_index=True)\n",
    "data"
   ]
  },
  {
   "cell_type": "markdown",
   "metadata": {},
   "source": [
    "**Question 4.** What happens if you try to concatenate two data frames with different column names?"
   ]
  },
  {
   "cell_type": "code",
   "execution_count": 59,
   "metadata": {
    "collapsed": false
   },
   "outputs": [],
   "source": [
    "data96\n",
    "data97 = pd.read_csv(\"/data/names/yob1997.txt\",\n",
    "                  names = [\"Name\",\"Gender\",\"Babies\"])"
   ]
  },
  {
   "cell_type": "code",
   "execution_count": 60,
   "metadata": {
    "collapsed": false
   },
   "outputs": [
    {
     "data": {
      "text/html": [
       "<div>\n",
       "<table border=\"1\" class=\"dataframe\">\n",
       "  <thead>\n",
       "    <tr style=\"text-align: right;\">\n",
       "      <th></th>\n",
       "      <th>Babies</th>\n",
       "      <th>Gender</th>\n",
       "      <th>Name</th>\n",
       "      <th>Sex</th>\n",
       "    </tr>\n",
       "  </thead>\n",
       "  <tbody>\n",
       "    <tr>\n",
       "      <th>0</th>\n",
       "      <td>25150</td>\n",
       "      <td>NaN</td>\n",
       "      <td>Emily</td>\n",
       "      <td>F</td>\n",
       "    </tr>\n",
       "    <tr>\n",
       "      <th>1</th>\n",
       "      <td>24192</td>\n",
       "      <td>NaN</td>\n",
       "      <td>Jessica</td>\n",
       "      <td>F</td>\n",
       "    </tr>\n",
       "    <tr>\n",
       "      <th>2</th>\n",
       "      <td>23676</td>\n",
       "      <td>NaN</td>\n",
       "      <td>Ashley</td>\n",
       "      <td>F</td>\n",
       "    </tr>\n",
       "    <tr>\n",
       "      <th>3</th>\n",
       "      <td>21029</td>\n",
       "      <td>NaN</td>\n",
       "      <td>Sarah</td>\n",
       "      <td>F</td>\n",
       "    </tr>\n",
       "    <tr>\n",
       "      <th>4</th>\n",
       "      <td>20545</td>\n",
       "      <td>NaN</td>\n",
       "      <td>Samantha</td>\n",
       "      <td>F</td>\n",
       "    </tr>\n",
       "    <tr>\n",
       "      <th>5</th>\n",
       "      <td>19151</td>\n",
       "      <td>NaN</td>\n",
       "      <td>Taylor</td>\n",
       "      <td>F</td>\n",
       "    </tr>\n",
       "    <tr>\n",
       "      <th>6</th>\n",
       "      <td>18594</td>\n",
       "      <td>NaN</td>\n",
       "      <td>Hannah</td>\n",
       "      <td>F</td>\n",
       "    </tr>\n",
       "    <tr>\n",
       "      <th>...</th>\n",
       "      <td>...</td>\n",
       "      <td>...</td>\n",
       "      <td>...</td>\n",
       "      <td>...</td>\n",
       "    </tr>\n",
       "    <tr>\n",
       "      <th>26959</th>\n",
       "      <td>5</td>\n",
       "      <td>M</td>\n",
       "      <td>Zenas</td>\n",
       "      <td>NaN</td>\n",
       "    </tr>\n",
       "    <tr>\n",
       "      <th>26960</th>\n",
       "      <td>5</td>\n",
       "      <td>M</td>\n",
       "      <td>Zhaire</td>\n",
       "      <td>NaN</td>\n",
       "    </tr>\n",
       "    <tr>\n",
       "      <th>26961</th>\n",
       "      <td>5</td>\n",
       "      <td>M</td>\n",
       "      <td>Zhane</td>\n",
       "      <td>NaN</td>\n",
       "    </tr>\n",
       "    <tr>\n",
       "      <th>26962</th>\n",
       "      <td>5</td>\n",
       "      <td>M</td>\n",
       "      <td>Zian</td>\n",
       "      <td>NaN</td>\n",
       "    </tr>\n",
       "    <tr>\n",
       "      <th>26963</th>\n",
       "      <td>5</td>\n",
       "      <td>M</td>\n",
       "      <td>Ziar</td>\n",
       "      <td>NaN</td>\n",
       "    </tr>\n",
       "    <tr>\n",
       "      <th>26964</th>\n",
       "      <td>5</td>\n",
       "      <td>M</td>\n",
       "      <td>Zohair</td>\n",
       "      <td>NaN</td>\n",
       "    </tr>\n",
       "    <tr>\n",
       "      <th>26965</th>\n",
       "      <td>5</td>\n",
       "      <td>M</td>\n",
       "      <td>Zohar</td>\n",
       "      <td>NaN</td>\n",
       "    </tr>\n",
       "  </tbody>\n",
       "</table>\n",
       "<p>53386 rows × 4 columns</p>\n",
       "</div>"
      ],
      "text/plain": [
       "       Babies Gender      Name  Sex\n",
       "0       25150    NaN     Emily    F\n",
       "1       24192    NaN   Jessica    F\n",
       "2       23676    NaN    Ashley    F\n",
       "3       21029    NaN     Sarah    F\n",
       "4       20545    NaN  Samantha    F\n",
       "5       19151    NaN    Taylor    F\n",
       "6       18594    NaN    Hannah    F\n",
       "...       ...    ...       ...  ...\n",
       "26959       5      M     Zenas  NaN\n",
       "26960       5      M    Zhaire  NaN\n",
       "26961       5      M     Zhane  NaN\n",
       "26962       5      M      Zian  NaN\n",
       "26963       5      M      Ziar  NaN\n",
       "26964       5      M    Zohair  NaN\n",
       "26965       5      M     Zohar  NaN\n",
       "\n",
       "[53386 rows x 4 columns]"
      ]
     },
     "execution_count": 60,
     "metadata": {},
     "output_type": "execute_result"
    }
   ],
   "source": [
    "pd.concat([data96,data97])"
   ]
  },
  {
   "cell_type": "markdown",
   "metadata": {
    "collapsed": true
   },
   "source": [
    "## A Word on `.append()`\n",
    "\n",
    "Another way to concatenate two data frames is:\n",
    "\n",
    "`df1.append(df2)`.\n",
    "\n",
    "Note that unlike `pd.concat()`, which is called on the data frames you want to concatenate, `.append()` is actually a method of a data frame.\n",
    "\n",
    "While `.append()` works fine for two data frames, it's much too slow to concatenate many data frames by using `.append()` in a loop. In general, use `pd.concat()`, but in some situations, `.append()` looks nicer."
   ]
  },
  {
   "cell_type": "code",
   "execution_count": null,
   "metadata": {
    "collapsed": true
   },
   "outputs": [],
   "source": []
  }
 ],
 "metadata": {
  "kernelspec": {
   "display_name": "Python 3",
   "language": "python",
   "name": "python3"
  },
  "language_info": {
   "codemirror_mode": {
    "name": "ipython",
    "version": 3
   },
   "file_extension": ".py",
   "mimetype": "text/x-python",
   "name": "python",
   "nbconvert_exporter": "python",
   "pygments_lexer": "ipython3",
   "version": "3.5.2"
  }
 },
 "nbformat": 4,
 "nbformat_minor": 1
}
