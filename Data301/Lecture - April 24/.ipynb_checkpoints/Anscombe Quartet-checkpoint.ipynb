{
 "cells": [
  {
   "cell_type": "markdown",
   "metadata": {},
   "source": [
    "# Anscombe Quartet\n",
    "\n",
    "In 1973, Frank Anscombe introduced a set of four data sets with a peculiar relationship. In this warm-up activity, you will explore that relationship.\n",
    "\n",
    "1. Form a team of 4 people. Assign each member of the team a different number from 1 to 4.\n",
    "2. In the `/data/anscombe/` directory are four data sets: `data1.csv`, `data2.csv`, `data3.csv`, and `data4.csv`. **You are only allowed to look at the data set corresponding to your number.**\n",
    "3. Without showing your data set to your teammates, try to explain what your data set looks like to your teammates. It may be helpful to calculate summary statistics, like means and standard deviations.\n",
    "4. As a team, try to figure out what is similar and different between your data sets, **without looking at each other's data sets**."
   ]
  },
  {
   "cell_type": "code",
   "execution_count": null,
   "metadata": {
    "collapsed": false
   },
   "outputs": [],
   "source": [
    "import pandas as pd\n",
    "\n",
    "data = pd.read_csv(\"/data/anscombe/data?.csv\")"
   ]
  }
 ],
 "metadata": {
  "kernelspec": {
   "display_name": "Python 3",
   "language": "python",
   "name": "python3"
  },
  "language_info": {
   "codemirror_mode": {
    "name": "ipython",
    "version": 3
   },
   "file_extension": ".py",
   "mimetype": "text/x-python",
   "name": "python",
   "nbconvert_exporter": "python",
   "pygments_lexer": "ipython3",
   "version": "3.5.2"
  }
 },
 "nbformat": 4,
 "nbformat_minor": 1
}
