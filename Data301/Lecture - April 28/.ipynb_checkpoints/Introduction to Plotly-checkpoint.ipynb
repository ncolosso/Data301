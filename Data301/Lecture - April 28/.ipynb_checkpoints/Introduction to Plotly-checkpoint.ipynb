{
 "cells": [
  {
   "cell_type": "markdown",
   "metadata": {},
   "source": [
    "# Introduction to Plotly\n",
    "\n",
    "[Plotly](https://plot.ly/python/) is an online data visualization and analytics tool. Although most users use Plotly through its web interface, the company also offers Python, R, Javascript, and MATLAB APIs. These APIs allow you to build interactive and production-quality visualizations with just a few lines of code.\n",
    "\n",
    "This workbook will showcase some of the basic functionalities of Plotly, in case it is useful to you for future projects (including the final project for this class)."
   ]
  },
  {
   "cell_type": "markdown",
   "metadata": {},
   "source": [
    "## First Steps\n",
    "\n",
    "By default, Plotly requires an API key that is tied to a registered account. To get around this, we use the `plotly.offline` package. To get Plotly to work within the Jupyter notebook, we also have to call `init_notebook_mode()`."
   ]
  },
  {
   "cell_type": "code",
   "execution_count": 1,
   "metadata": {
    "collapsed": false
   },
   "outputs": [
    {
     "data": {
      "text/html": [
       "<script>requirejs.config({paths: { 'plotly': ['https://cdn.plot.ly/plotly-latest.min']},});if(!window.Plotly) {{require(['plotly'],function(plotly) {window.Plotly=plotly;});}}</script>"
      ],
      "text/vnd.plotly.v1+html": [
       "<script>requirejs.config({paths: { 'plotly': ['https://cdn.plot.ly/plotly-latest.min']},});if(!window.Plotly) {{require(['plotly'],function(plotly) {window.Plotly=plotly;});}}</script>"
      ]
     },
     "metadata": {},
     "output_type": "display_data"
    }
   ],
   "source": [
    "import plotly.offline as py\n",
    "py.init_notebook_mode(connected=True)"
   ]
  },
  {
   "cell_type": "markdown",
   "metadata": {},
   "source": [
    "## Plotly Basics\n",
    "\n",
    "A Plotly figure consists of one or more `Trace` objects. Each `Trace` object specifies how to draw some part of the data. For example, to make a scatterplot of the values `x_data` and `y_data`, we would write `Scatter(x=x_data, y=y_data)`, which produces one kind of `Trace` object.\n",
    "\n",
    "There are two ways to specify a Plotly figure:\n",
    "\n",
    "1. Pass a list of `Trace` objects to `py.iplot()`.\n",
    "2. Pass a `Figure` object to `py.iplot()`. A `Figure` object consists of a list of `Trace` objects and a `Layout` object that allows you to customize the layout."
   ]
  },
  {
   "cell_type": "code",
   "execution_count": 2,
   "metadata": {
    "collapsed": true
   },
   "outputs": [],
   "source": [
    "from plotly.graph_objs import *"
   ]
  },
  {
   "cell_type": "markdown",
   "metadata": {},
   "source": [
    "## First Plotly Plot\n",
    "\n",
    "For starters, let's recreate the basic plots that we made in Matplotlib and Altair. Recall that we made a scatterplot of beginning salary (`Bsal`) vs. 1977 salary (`Sal77`) of the Harris Bank employees, where each point was colored according to the employee's gender (`Sex`)."
   ]
  },
  {
   "cell_type": "code",
   "execution_count": 3,
   "metadata": {
    "collapsed": false
   },
   "outputs": [
    {
     "data": {
      "text/html": [
       "<div>\n",
       "<table border=\"1\" class=\"dataframe\">\n",
       "  <thead>\n",
       "    <tr style=\"text-align: right;\">\n",
       "      <th></th>\n",
       "      <th>Bsal</th>\n",
       "      <th>Sal77</th>\n",
       "      <th>Sex</th>\n",
       "      <th>Senior</th>\n",
       "      <th>Age</th>\n",
       "      <th>Educ</th>\n",
       "      <th>Exper</th>\n",
       "    </tr>\n",
       "  </thead>\n",
       "  <tbody>\n",
       "    <tr>\n",
       "      <th>0</th>\n",
       "      <td>5040</td>\n",
       "      <td>12420</td>\n",
       "      <td>Male</td>\n",
       "      <td>96</td>\n",
       "      <td>329</td>\n",
       "      <td>15</td>\n",
       "      <td>14.0</td>\n",
       "    </tr>\n",
       "    <tr>\n",
       "      <th>1</th>\n",
       "      <td>6300</td>\n",
       "      <td>12060</td>\n",
       "      <td>Male</td>\n",
       "      <td>82</td>\n",
       "      <td>357</td>\n",
       "      <td>15</td>\n",
       "      <td>72.0</td>\n",
       "    </tr>\n",
       "    <tr>\n",
       "      <th>2</th>\n",
       "      <td>6000</td>\n",
       "      <td>15120</td>\n",
       "      <td>Male</td>\n",
       "      <td>67</td>\n",
       "      <td>315</td>\n",
       "      <td>15</td>\n",
       "      <td>35.5</td>\n",
       "    </tr>\n",
       "    <tr>\n",
       "      <th>3</th>\n",
       "      <td>6000</td>\n",
       "      <td>16320</td>\n",
       "      <td>Male</td>\n",
       "      <td>97</td>\n",
       "      <td>354</td>\n",
       "      <td>12</td>\n",
       "      <td>24.0</td>\n",
       "    </tr>\n",
       "    <tr>\n",
       "      <th>4</th>\n",
       "      <td>6000</td>\n",
       "      <td>12300</td>\n",
       "      <td>Male</td>\n",
       "      <td>66</td>\n",
       "      <td>351</td>\n",
       "      <td>12</td>\n",
       "      <td>56.0</td>\n",
       "    </tr>\n",
       "  </tbody>\n",
       "</table>\n",
       "</div>"
      ],
      "text/plain": [
       "   Bsal  Sal77   Sex  Senior  Age  Educ  Exper\n",
       "0  5040  12420  Male      96  329    15   14.0\n",
       "1  6300  12060  Male      82  357    15   72.0\n",
       "2  6000  15120  Male      67  315    15   35.5\n",
       "3  6000  16320  Male      97  354    12   24.0\n",
       "4  6000  12300  Male      66  351    12   56.0"
      ]
     },
     "execution_count": 3,
     "metadata": {},
     "output_type": "execute_result"
    }
   ],
   "source": [
    "# Read in the data set.\n",
    "import pandas as pd\n",
    "data = pd.read_csv(\"/data/harris.csv\")\n",
    "data.head()"
   ]
  },
  {
   "cell_type": "markdown",
   "metadata": {},
   "source": [
    "First, let's create a basic scatterplot that does not split on the `Sex` variable."
   ]
  },
  {
   "cell_type": "code",
   "execution_count": 8,
   "metadata": {
    "collapsed": false
   },
   "outputs": [
    {
     "data": {
      "application/vnd.plotly.v1+json": {
       "data": [
        {
         "mode": "markers",
         "type": "scatter",
         "x": [
          5040,
          6300,
          6000,
          6000,
          6000,
          6840,
          8100,
          6000,
          6000,
          6900,
          6900,
          5400,
          6000,
          6000,
          5100,
          4800,
          5280,
          5280,
          4800,
          4800,
          5400,
          5520,
          5400,
          5700,
          3900,
          4800,
          6120,
          5220,
          5100,
          4380,
          4290,
          5400,
          4380,
          5400,
          5400,
          4500,
          5400,
          5520,
          5640,
          4800,
          5400,
          4500,
          5400,
          5400,
          6300,
          5160,
          5100,
          4800,
          5400,
          4020,
          4980,
          5280,
          5700,
          4800,
          4800,
          5700,
          4380,
          4380,
          5400,
          5400,
          5100,
          6600,
          5100,
          6600,
          5700,
          6000,
          6000,
          6000,
          6000,
          4620,
          5220,
          6600,
          5400,
          6000,
          5400,
          6000,
          5700,
          5400,
          4440,
          6300,
          6000,
          5100,
          4800,
          5100,
          5700,
          5400,
          5100,
          4800,
          6000,
          4380,
          5580,
          4620,
          5220
         ],
         "y": [
          12420,
          12060,
          15120,
          16320,
          12300,
          10380,
          13980,
          10140,
          12360,
          10920,
          10920,
          12660,
          12960,
          12360,
          8940,
          8580,
          8760,
          8040,
          9000,
          8820,
          13320,
          9600,
          8940,
          9000,
          8760,
          9780,
          9360,
          7860,
          9660,
          9600,
          9180,
          9540,
          10380,
          8640,
          11880,
          12540,
          8400,
          8880,
          10080,
          9240,
          8640,
          7980,
          11940,
          9420,
          9780,
          10680,
          11160,
          8340,
          9600,
          9840,
          8700,
          9780,
          8280,
          8340,
          13560,
          10260,
          9720,
          10500,
          10680,
          11640,
          7860,
          11220,
          8700,
          12240,
          11220,
          12180,
          11580,
          8940,
          10680,
          11100,
          10080,
          15360,
          12600,
          8940,
          9480,
          14400,
          10620,
          10320,
          9600,
          10860,
          9720,
          9600,
          11100,
          10020,
          9780,
          10440,
          10560,
          9240,
          11940,
          10020,
          7860,
          9420,
          8340
         ]
        }
       ],
       "layout": {}
      },
      "text/html": [
       "<div id=\"fa546566-3504-4540-ba79-f72b84f234b7\" style=\"height: 525px; width: 100%;\" class=\"plotly-graph-div\"></div><script type=\"text/javascript\">require([\"plotly\"], function(Plotly) { window.PLOTLYENV=window.PLOTLYENV || {};window.PLOTLYENV.BASE_URL=\"https://plot.ly\";Plotly.newPlot(\"fa546566-3504-4540-ba79-f72b84f234b7\", [{\"type\": \"scatter\", \"y\": [12420, 12060, 15120, 16320, 12300, 10380, 13980, 10140, 12360, 10920, 10920, 12660, 12960, 12360, 8940, 8580, 8760, 8040, 9000, 8820, 13320, 9600, 8940, 9000, 8760, 9780, 9360, 7860, 9660, 9600, 9180, 9540, 10380, 8640, 11880, 12540, 8400, 8880, 10080, 9240, 8640, 7980, 11940, 9420, 9780, 10680, 11160, 8340, 9600, 9840, 8700, 9780, 8280, 8340, 13560, 10260, 9720, 10500, 10680, 11640, 7860, 11220, 8700, 12240, 11220, 12180, 11580, 8940, 10680, 11100, 10080, 15360, 12600, 8940, 9480, 14400, 10620, 10320, 9600, 10860, 9720, 9600, 11100, 10020, 9780, 10440, 10560, 9240, 11940, 10020, 7860, 9420, 8340], \"x\": [5040, 6300, 6000, 6000, 6000, 6840, 8100, 6000, 6000, 6900, 6900, 5400, 6000, 6000, 5100, 4800, 5280, 5280, 4800, 4800, 5400, 5520, 5400, 5700, 3900, 4800, 6120, 5220, 5100, 4380, 4290, 5400, 4380, 5400, 5400, 4500, 5400, 5520, 5640, 4800, 5400, 4500, 5400, 5400, 6300, 5160, 5100, 4800, 5400, 4020, 4980, 5280, 5700, 4800, 4800, 5700, 4380, 4380, 5400, 5400, 5100, 6600, 5100, 6600, 5700, 6000, 6000, 6000, 6000, 4620, 5220, 6600, 5400, 6000, 5400, 6000, 5700, 5400, 4440, 6300, 6000, 5100, 4800, 5100, 5700, 5400, 5100, 4800, 6000, 4380, 5580, 4620, 5220], \"mode\": \"markers\"}], {}, {\"showLink\": true, \"linkText\": \"Export to plot.ly\"})});</script>"
      ],
      "text/vnd.plotly.v1+html": [
       "<div id=\"fa546566-3504-4540-ba79-f72b84f234b7\" style=\"height: 525px; width: 100%;\" class=\"plotly-graph-div\"></div><script type=\"text/javascript\">require([\"plotly\"], function(Plotly) { window.PLOTLYENV=window.PLOTLYENV || {};window.PLOTLYENV.BASE_URL=\"https://plot.ly\";Plotly.newPlot(\"fa546566-3504-4540-ba79-f72b84f234b7\", [{\"type\": \"scatter\", \"y\": [12420, 12060, 15120, 16320, 12300, 10380, 13980, 10140, 12360, 10920, 10920, 12660, 12960, 12360, 8940, 8580, 8760, 8040, 9000, 8820, 13320, 9600, 8940, 9000, 8760, 9780, 9360, 7860, 9660, 9600, 9180, 9540, 10380, 8640, 11880, 12540, 8400, 8880, 10080, 9240, 8640, 7980, 11940, 9420, 9780, 10680, 11160, 8340, 9600, 9840, 8700, 9780, 8280, 8340, 13560, 10260, 9720, 10500, 10680, 11640, 7860, 11220, 8700, 12240, 11220, 12180, 11580, 8940, 10680, 11100, 10080, 15360, 12600, 8940, 9480, 14400, 10620, 10320, 9600, 10860, 9720, 9600, 11100, 10020, 9780, 10440, 10560, 9240, 11940, 10020, 7860, 9420, 8340], \"x\": [5040, 6300, 6000, 6000, 6000, 6840, 8100, 6000, 6000, 6900, 6900, 5400, 6000, 6000, 5100, 4800, 5280, 5280, 4800, 4800, 5400, 5520, 5400, 5700, 3900, 4800, 6120, 5220, 5100, 4380, 4290, 5400, 4380, 5400, 5400, 4500, 5400, 5520, 5640, 4800, 5400, 4500, 5400, 5400, 6300, 5160, 5100, 4800, 5400, 4020, 4980, 5280, 5700, 4800, 4800, 5700, 4380, 4380, 5400, 5400, 5100, 6600, 5100, 6600, 5700, 6000, 6000, 6000, 6000, 4620, 5220, 6600, 5400, 6000, 5400, 6000, 5700, 5400, 4440, 6300, 6000, 5100, 4800, 5100, 5700, 5400, 5100, 4800, 6000, 4380, 5580, 4620, 5220], \"mode\": \"markers\"}], {}, {\"showLink\": true, \"linkText\": \"Export to plot.ly\"})});</script>"
      ]
     },
     "metadata": {},
     "output_type": "display_data"
    }
   ],
   "source": [
    "traces = [\n",
    "    Scatter({\n",
    "        'x':data.Bsal,\n",
    "        'y':data.Sal77,\n",
    "        'mode':'markers'\n",
    "        })\n",
    "    \n",
    "]\n",
    "\n",
    "py.iplot(traces)"
   ]
  },
  {
   "cell_type": "markdown",
   "metadata": {},
   "source": [
    "This plot has neither an x- or y-axis label, nor a title. To customize these aspects of the plot, we need to create a `Layout` object to hold this metadata and then pass this to a `Figure` object."
   ]
  },
  {
   "cell_type": "code",
   "execution_count": 10,
   "metadata": {
    "collapsed": false
   },
   "outputs": [
    {
     "data": {
      "application/vnd.plotly.v1+json": {
       "data": [
        {
         "mode": "markers",
         "type": "scatter",
         "x": [
          5040,
          6300,
          6000,
          6000,
          6000,
          6840,
          8100,
          6000,
          6000,
          6900,
          6900,
          5400,
          6000,
          6000,
          5100,
          4800,
          5280,
          5280,
          4800,
          4800,
          5400,
          5520,
          5400,
          5700,
          3900,
          4800,
          6120,
          5220,
          5100,
          4380,
          4290,
          5400,
          4380,
          5400,
          5400,
          4500,
          5400,
          5520,
          5640,
          4800,
          5400,
          4500,
          5400,
          5400,
          6300,
          5160,
          5100,
          4800,
          5400,
          4020,
          4980,
          5280,
          5700,
          4800,
          4800,
          5700,
          4380,
          4380,
          5400,
          5400,
          5100,
          6600,
          5100,
          6600,
          5700,
          6000,
          6000,
          6000,
          6000,
          4620,
          5220,
          6600,
          5400,
          6000,
          5400,
          6000,
          5700,
          5400,
          4440,
          6300,
          6000,
          5100,
          4800,
          5100,
          5700,
          5400,
          5100,
          4800,
          6000,
          4380,
          5580,
          4620,
          5220
         ],
         "y": [
          12420,
          12060,
          15120,
          16320,
          12300,
          10380,
          13980,
          10140,
          12360,
          10920,
          10920,
          12660,
          12960,
          12360,
          8940,
          8580,
          8760,
          8040,
          9000,
          8820,
          13320,
          9600,
          8940,
          9000,
          8760,
          9780,
          9360,
          7860,
          9660,
          9600,
          9180,
          9540,
          10380,
          8640,
          11880,
          12540,
          8400,
          8880,
          10080,
          9240,
          8640,
          7980,
          11940,
          9420,
          9780,
          10680,
          11160,
          8340,
          9600,
          9840,
          8700,
          9780,
          8280,
          8340,
          13560,
          10260,
          9720,
          10500,
          10680,
          11640,
          7860,
          11220,
          8700,
          12240,
          11220,
          12180,
          11580,
          8940,
          10680,
          11100,
          10080,
          15360,
          12600,
          8940,
          9480,
          14400,
          10620,
          10320,
          9600,
          10860,
          9720,
          9600,
          11100,
          10020,
          9780,
          10440,
          10560,
          9240,
          11940,
          10020,
          7860,
          9420,
          8340
         ]
        }
       ],
       "layout": {
        "title": "Beggining Salary v. 1977 Salary",
        "xaxis": {
         "title": "Beggining Salary"
        },
        "yaxis": {
         "title": "1977 Salary"
        }
       }
      },
      "text/html": [
       "<div id=\"53df23a4-9e94-4a8c-874a-63b6be54fd24\" style=\"height: 525px; width: 100%;\" class=\"plotly-graph-div\"></div><script type=\"text/javascript\">require([\"plotly\"], function(Plotly) { window.PLOTLYENV=window.PLOTLYENV || {};window.PLOTLYENV.BASE_URL=\"https://plot.ly\";Plotly.newPlot(\"53df23a4-9e94-4a8c-874a-63b6be54fd24\", [{\"type\": \"scatter\", \"y\": [12420, 12060, 15120, 16320, 12300, 10380, 13980, 10140, 12360, 10920, 10920, 12660, 12960, 12360, 8940, 8580, 8760, 8040, 9000, 8820, 13320, 9600, 8940, 9000, 8760, 9780, 9360, 7860, 9660, 9600, 9180, 9540, 10380, 8640, 11880, 12540, 8400, 8880, 10080, 9240, 8640, 7980, 11940, 9420, 9780, 10680, 11160, 8340, 9600, 9840, 8700, 9780, 8280, 8340, 13560, 10260, 9720, 10500, 10680, 11640, 7860, 11220, 8700, 12240, 11220, 12180, 11580, 8940, 10680, 11100, 10080, 15360, 12600, 8940, 9480, 14400, 10620, 10320, 9600, 10860, 9720, 9600, 11100, 10020, 9780, 10440, 10560, 9240, 11940, 10020, 7860, 9420, 8340], \"x\": [5040, 6300, 6000, 6000, 6000, 6840, 8100, 6000, 6000, 6900, 6900, 5400, 6000, 6000, 5100, 4800, 5280, 5280, 4800, 4800, 5400, 5520, 5400, 5700, 3900, 4800, 6120, 5220, 5100, 4380, 4290, 5400, 4380, 5400, 5400, 4500, 5400, 5520, 5640, 4800, 5400, 4500, 5400, 5400, 6300, 5160, 5100, 4800, 5400, 4020, 4980, 5280, 5700, 4800, 4800, 5700, 4380, 4380, 5400, 5400, 5100, 6600, 5100, 6600, 5700, 6000, 6000, 6000, 6000, 4620, 5220, 6600, 5400, 6000, 5400, 6000, 5700, 5400, 4440, 6300, 6000, 5100, 4800, 5100, 5700, 5400, 5100, 4800, 6000, 4380, 5580, 4620, 5220], \"mode\": \"markers\"}], {\"xaxis\": {\"title\": \"Beggining Salary\"}, \"title\": \"Beggining Salary v. 1977 Salary\", \"yaxis\": {\"title\": \"1977 Salary\"}}, {\"showLink\": true, \"linkText\": \"Export to plot.ly\"})});</script>"
      ],
      "text/vnd.plotly.v1+html": [
       "<div id=\"53df23a4-9e94-4a8c-874a-63b6be54fd24\" style=\"height: 525px; width: 100%;\" class=\"plotly-graph-div\"></div><script type=\"text/javascript\">require([\"plotly\"], function(Plotly) { window.PLOTLYENV=window.PLOTLYENV || {};window.PLOTLYENV.BASE_URL=\"https://plot.ly\";Plotly.newPlot(\"53df23a4-9e94-4a8c-874a-63b6be54fd24\", [{\"type\": \"scatter\", \"y\": [12420, 12060, 15120, 16320, 12300, 10380, 13980, 10140, 12360, 10920, 10920, 12660, 12960, 12360, 8940, 8580, 8760, 8040, 9000, 8820, 13320, 9600, 8940, 9000, 8760, 9780, 9360, 7860, 9660, 9600, 9180, 9540, 10380, 8640, 11880, 12540, 8400, 8880, 10080, 9240, 8640, 7980, 11940, 9420, 9780, 10680, 11160, 8340, 9600, 9840, 8700, 9780, 8280, 8340, 13560, 10260, 9720, 10500, 10680, 11640, 7860, 11220, 8700, 12240, 11220, 12180, 11580, 8940, 10680, 11100, 10080, 15360, 12600, 8940, 9480, 14400, 10620, 10320, 9600, 10860, 9720, 9600, 11100, 10020, 9780, 10440, 10560, 9240, 11940, 10020, 7860, 9420, 8340], \"x\": [5040, 6300, 6000, 6000, 6000, 6840, 8100, 6000, 6000, 6900, 6900, 5400, 6000, 6000, 5100, 4800, 5280, 5280, 4800, 4800, 5400, 5520, 5400, 5700, 3900, 4800, 6120, 5220, 5100, 4380, 4290, 5400, 4380, 5400, 5400, 4500, 5400, 5520, 5640, 4800, 5400, 4500, 5400, 5400, 6300, 5160, 5100, 4800, 5400, 4020, 4980, 5280, 5700, 4800, 4800, 5700, 4380, 4380, 5400, 5400, 5100, 6600, 5100, 6600, 5700, 6000, 6000, 6000, 6000, 4620, 5220, 6600, 5400, 6000, 5400, 6000, 5700, 5400, 4440, 6300, 6000, 5100, 4800, 5100, 5700, 5400, 5100, 4800, 6000, 4380, 5580, 4620, 5220], \"mode\": \"markers\"}], {\"xaxis\": {\"title\": \"Beggining Salary\"}, \"title\": \"Beggining Salary v. 1977 Salary\", \"yaxis\": {\"title\": \"1977 Salary\"}}, {\"showLink\": true, \"linkText\": \"Export to plot.ly\"})});</script>"
      ]
     },
     "metadata": {},
     "output_type": "display_data"
    }
   ],
   "source": [
    "layout = Layout({\n",
    "        'title':'Beggining Salary v. 1977 Salary',\n",
    "        'xaxis':{'title':'Beggining Salary'},\n",
    "        'yaxis':{'title':'1977 Salary'}\n",
    "    })\n",
    "\n",
    "fig = Figure(data = traces, layout = layout)\n",
    "\n",
    "py.iplot(fig)"
   ]
  },
  {
   "cell_type": "markdown",
   "metadata": {},
   "source": [
    "Now, let's split the data on `Sex`. Unfortunately, this is not the easiest thing to do in Plotly, but the graphic that Plotly produces is worth the effort!"
   ]
  },
  {
   "cell_type": "code",
   "execution_count": 14,
   "metadata": {
    "collapsed": false
   },
   "outputs": [
    {
     "data": {
      "application/vnd.plotly.v1+json": {
       "data": [
        {
         "mode": "markers",
         "name": "Male",
         "type": "scatter",
         "x": [
          5040,
          6300,
          6000,
          6000,
          6000,
          6840,
          8100,
          6000,
          6000,
          6900,
          6900,
          5400,
          6000,
          6000,
          5400,
          5400,
          5100,
          6600,
          5100,
          6600,
          5700,
          6000,
          6000,
          6000,
          6000,
          4620,
          5220,
          6600,
          5400,
          6000,
          5400,
          6000
         ],
         "y": [
          12420,
          12060,
          15120,
          16320,
          12300,
          10380,
          13980,
          10140,
          12360,
          10920,
          10920,
          12660,
          12960,
          12360,
          10680,
          11640,
          7860,
          11220,
          8700,
          12240,
          11220,
          12180,
          11580,
          8940,
          10680,
          11100,
          10080,
          15360,
          12600,
          8940,
          9480,
          14400
         ]
        },
        {
         "mode": "markers",
         "name": "Female",
         "type": "scatter",
         "x": [
          5100,
          4800,
          5280,
          5280,
          4800,
          4800,
          5400,
          5520,
          5400,
          5700,
          3900,
          4800,
          6120,
          5220,
          5100,
          4380,
          4290,
          5400,
          4380,
          5400,
          5400,
          4500,
          5400,
          5520,
          5640,
          4800,
          5400,
          4500,
          5400,
          5400,
          6300,
          5160,
          5100,
          4800,
          5400,
          4020,
          4980,
          5280,
          5700,
          4800,
          4800,
          5700,
          4380,
          4380,
          5700,
          5400,
          4440,
          6300,
          6000,
          5100,
          4800,
          5100,
          5700,
          5400,
          5100,
          4800,
          6000,
          4380,
          5580,
          4620,
          5220
         ],
         "y": [
          8940,
          8580,
          8760,
          8040,
          9000,
          8820,
          13320,
          9600,
          8940,
          9000,
          8760,
          9780,
          9360,
          7860,
          9660,
          9600,
          9180,
          9540,
          10380,
          8640,
          11880,
          12540,
          8400,
          8880,
          10080,
          9240,
          8640,
          7980,
          11940,
          9420,
          9780,
          10680,
          11160,
          8340,
          9600,
          9840,
          8700,
          9780,
          8280,
          8340,
          13560,
          10260,
          9720,
          10500,
          10620,
          10320,
          9600,
          10860,
          9720,
          9600,
          11100,
          10020,
          9780,
          10440,
          10560,
          9240,
          11940,
          10020,
          7860,
          9420,
          8340
         ]
        }
       ],
       "layout": {
        "title": "Beggining Salary v. 1977 Salary",
        "xaxis": {
         "title": "Beggining Salary"
        },
        "yaxis": {
         "title": "1977 Salary"
        }
       }
      },
      "text/html": [
       "<div id=\"f6cb73e0-0b76-495e-a16a-af0fa3f10325\" style=\"height: 525px; width: 100%;\" class=\"plotly-graph-div\"></div><script type=\"text/javascript\">require([\"plotly\"], function(Plotly) { window.PLOTLYENV=window.PLOTLYENV || {};window.PLOTLYENV.BASE_URL=\"https://plot.ly\";Plotly.newPlot(\"f6cb73e0-0b76-495e-a16a-af0fa3f10325\", [{\"type\": \"scatter\", \"y\": [12420, 12060, 15120, 16320, 12300, 10380, 13980, 10140, 12360, 10920, 10920, 12660, 12960, 12360, 10680, 11640, 7860, 11220, 8700, 12240, 11220, 12180, 11580, 8940, 10680, 11100, 10080, 15360, 12600, 8940, 9480, 14400], \"name\": \"Male\", \"x\": [5040, 6300, 6000, 6000, 6000, 6840, 8100, 6000, 6000, 6900, 6900, 5400, 6000, 6000, 5400, 5400, 5100, 6600, 5100, 6600, 5700, 6000, 6000, 6000, 6000, 4620, 5220, 6600, 5400, 6000, 5400, 6000], \"mode\": \"markers\"}, {\"type\": \"scatter\", \"y\": [8940, 8580, 8760, 8040, 9000, 8820, 13320, 9600, 8940, 9000, 8760, 9780, 9360, 7860, 9660, 9600, 9180, 9540, 10380, 8640, 11880, 12540, 8400, 8880, 10080, 9240, 8640, 7980, 11940, 9420, 9780, 10680, 11160, 8340, 9600, 9840, 8700, 9780, 8280, 8340, 13560, 10260, 9720, 10500, 10620, 10320, 9600, 10860, 9720, 9600, 11100, 10020, 9780, 10440, 10560, 9240, 11940, 10020, 7860, 9420, 8340], \"name\": \"Female\", \"x\": [5100, 4800, 5280, 5280, 4800, 4800, 5400, 5520, 5400, 5700, 3900, 4800, 6120, 5220, 5100, 4380, 4290, 5400, 4380, 5400, 5400, 4500, 5400, 5520, 5640, 4800, 5400, 4500, 5400, 5400, 6300, 5160, 5100, 4800, 5400, 4020, 4980, 5280, 5700, 4800, 4800, 5700, 4380, 4380, 5700, 5400, 4440, 6300, 6000, 5100, 4800, 5100, 5700, 5400, 5100, 4800, 6000, 4380, 5580, 4620, 5220], \"mode\": \"markers\"}], {\"xaxis\": {\"title\": \"Beggining Salary\"}, \"title\": \"Beggining Salary v. 1977 Salary\", \"yaxis\": {\"title\": \"1977 Salary\"}}, {\"showLink\": true, \"linkText\": \"Export to plot.ly\"})});</script>"
      ],
      "text/vnd.plotly.v1+html": [
       "<div id=\"f6cb73e0-0b76-495e-a16a-af0fa3f10325\" style=\"height: 525px; width: 100%;\" class=\"plotly-graph-div\"></div><script type=\"text/javascript\">require([\"plotly\"], function(Plotly) { window.PLOTLYENV=window.PLOTLYENV || {};window.PLOTLYENV.BASE_URL=\"https://plot.ly\";Plotly.newPlot(\"f6cb73e0-0b76-495e-a16a-af0fa3f10325\", [{\"type\": \"scatter\", \"y\": [12420, 12060, 15120, 16320, 12300, 10380, 13980, 10140, 12360, 10920, 10920, 12660, 12960, 12360, 10680, 11640, 7860, 11220, 8700, 12240, 11220, 12180, 11580, 8940, 10680, 11100, 10080, 15360, 12600, 8940, 9480, 14400], \"name\": \"Male\", \"x\": [5040, 6300, 6000, 6000, 6000, 6840, 8100, 6000, 6000, 6900, 6900, 5400, 6000, 6000, 5400, 5400, 5100, 6600, 5100, 6600, 5700, 6000, 6000, 6000, 6000, 4620, 5220, 6600, 5400, 6000, 5400, 6000], \"mode\": \"markers\"}, {\"type\": \"scatter\", \"y\": [8940, 8580, 8760, 8040, 9000, 8820, 13320, 9600, 8940, 9000, 8760, 9780, 9360, 7860, 9660, 9600, 9180, 9540, 10380, 8640, 11880, 12540, 8400, 8880, 10080, 9240, 8640, 7980, 11940, 9420, 9780, 10680, 11160, 8340, 9600, 9840, 8700, 9780, 8280, 8340, 13560, 10260, 9720, 10500, 10620, 10320, 9600, 10860, 9720, 9600, 11100, 10020, 9780, 10440, 10560, 9240, 11940, 10020, 7860, 9420, 8340], \"name\": \"Female\", \"x\": [5100, 4800, 5280, 5280, 4800, 4800, 5400, 5520, 5400, 5700, 3900, 4800, 6120, 5220, 5100, 4380, 4290, 5400, 4380, 5400, 5400, 4500, 5400, 5520, 5640, 4800, 5400, 4500, 5400, 5400, 6300, 5160, 5100, 4800, 5400, 4020, 4980, 5280, 5700, 4800, 4800, 5700, 4380, 4380, 5700, 5400, 4440, 6300, 6000, 5100, 4800, 5100, 5700, 5400, 5100, 4800, 6000, 4380, 5580, 4620, 5220], \"mode\": \"markers\"}], {\"xaxis\": {\"title\": \"Beggining Salary\"}, \"title\": \"Beggining Salary v. 1977 Salary\", \"yaxis\": {\"title\": \"1977 Salary\"}}, {\"showLink\": true, \"linkText\": \"Export to plot.ly\"})});</script>"
      ]
     },
     "metadata": {},
     "output_type": "display_data"
    }
   ],
   "source": [
    "split_traces = [] \n",
    "\n",
    "for sex in data.Sex.unique():\n",
    "    split_traces.append(\n",
    "        Scatter({\n",
    "                'x':data.Bsal[data.Sex == sex],\n",
    "                'y':data.Sal77[data.Sex == sex],\n",
    "                'mode':'markers',\n",
    "                'name':sex\n",
    "            }))\n",
    "\n",
    "split_fig = Figure(data = split_traces, layout=layout)\n",
    "\n",
    "py.iplot(split_fig)"
   ]
  },
  {
   "cell_type": "markdown",
   "metadata": {},
   "source": [
    "We now have a quality graphic depicting the relationship between beginning salary and 1977 salary, with different colors indicating the employee's sex. If you click on a label in the legend, it will hide the observations with that value. This is useful, as it allows us to focus on a specific subset of observations."
   ]
  },
  {
   "cell_type": "markdown",
   "metadata": {},
   "source": [
    "## Interacting with Plots\n",
    "\n",
    "Next we will split our data further based on education. When you did this with Altair, you ended up having several graphs side by side. To compare them, you had to scroll back and forth. This can be cumbersome. Let's implement a graph with a drop-down menu that allows us to select which graph we want to see."
   ]
  },
  {
   "cell_type": "code",
   "execution_count": 15,
   "metadata": {
    "collapsed": false
   },
   "outputs": [
    {
     "data": {
      "text/plain": [
       "[(8, 'Female'),\n",
       " (10, 'Female'),\n",
       " (12, 'Female'),\n",
       " (15, 'Female'),\n",
       " (16, 'Female'),\n",
       " (8, 'Male'),\n",
       " (10, 'Male'),\n",
       " (12, 'Male'),\n",
       " (15, 'Male'),\n",
       " (16, 'Male')]"
      ]
     },
     "execution_count": 15,
     "metadata": {},
     "output_type": "execute_result"
    }
   ],
   "source": [
    "# Create list of combinations of values that the data will be split on.\n",
    "combinations = []\n",
    "\n",
    "education_values = data.Educ.unique()\n",
    "education_values.sort()\n",
    "sex_values = data.Sex.unique()\n",
    "sex_values.sort()\n",
    "\n",
    "for sex in sex_values:\n",
    "    for educ in education_values:\n",
    "        combinations.append((educ, sex))\n",
    "        \n",
    "combinations"
   ]
  },
  {
   "cell_type": "code",
   "execution_count": null,
   "metadata": {
    "collapsed": true
   },
   "outputs": [],
   "source": [
    "# Copy calculation of split_traces.\n",
    "further_split_traces = []"
   ]
  },
  {
   "cell_type": "code",
   "execution_count": null,
   "metadata": {
    "collapsed": true
   },
   "outputs": [],
   "source": [
    "# Create buttons.\n",
    "\n",
    "buttons = []\n"
   ]
  },
  {
   "cell_type": "code",
   "execution_count": null,
   "metadata": {
    "collapsed": true
   },
   "outputs": [],
   "source": [
    "# Create a layout, as earlier.\n",
    "interactive_layout = Layout()"
   ]
  },
  {
   "cell_type": "code",
   "execution_count": null,
   "metadata": {
    "collapsed": false
   },
   "outputs": [],
   "source": [
    "# Create a new figure and plot it.\n",
    "interactive_fig = Figure(data=, layout=)\n",
    "py.iplot(interactive_fig)"
   ]
  },
  {
   "cell_type": "markdown",
   "metadata": {},
   "source": [
    "With further editing, we could clean up the legend, but since this is only an introduction to Plotly, we won't pursue that here. Hopefully, this tutorial has convinced you of the power of Plotly!"
   ]
  },
  {
   "cell_type": "markdown",
   "metadata": {},
   "source": [
    "## Additional Examples"
   ]
  },
  {
   "cell_type": "markdown",
   "metadata": {},
   "source": [
    "Listed below are some more exciting examples of graphics that you can make with Plotly. If any of them catch your fancy, copy the code into the notebook and run it to produce the graphic!\n",
    "- [Animations](https://plot.ly/python/animations/)\n",
    "- [3D Surfaces](https://plot.ly/python/3d-surface-plots/)\n",
    "- [3D Scatter Plot](https://plot.ly/python/3d-scatter-plots/)\n",
    "- [3D Parametric Surfaces](https://plot.ly/python/3d-parametric-plots/)\n",
    "- [Geographical Maps](https://plot.ly/python/maps/)\n",
    "- [Subplots](https://plot.ly/python/mixed-subplots)"
   ]
  }
 ],
 "metadata": {
  "kernelspec": {
   "display_name": "Python 3",
   "language": "python",
   "name": "python3"
  },
  "language_info": {
   "codemirror_mode": {
    "name": "ipython",
    "version": 3
   },
   "file_extension": ".py",
   "mimetype": "text/x-python",
   "name": "python",
   "nbconvert_exporter": "python",
   "pygments_lexer": "ipython3",
   "version": "3.5.2"
  }
 },
 "nbformat": 4,
 "nbformat_minor": 1
}
