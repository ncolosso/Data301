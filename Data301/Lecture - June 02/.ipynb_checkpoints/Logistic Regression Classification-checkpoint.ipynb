{
 "cells": [
  {
   "cell_type": "markdown",
   "metadata": {},
   "source": [
    "# Logistic Regression Classification\n",
    "\n",
    "Logistic regression is used for binary classification, where each outcome variable $y_i$ is 0 or 1. Logistic regression models the log-odds of class 1 (over class 0) as a linear combination of the input variables. \n",
    "\n",
    "$$ \\log \\frac{\\Pr(Y_i = 1)}{1 - \\Pr(Y_i = 1)} = \\beta_0 + \\beta_1 x_{i1} + ... + \\beta_p x_{ip} $$\n",
    "\n",
    "The coefficients $\\beta_j$ are chosen to maximize the probability of observing the data that was observed. As with linear regression, we will not go into the details of how logistic regression is actually fit. We will simply learn to use the implementation in Scikit-Learn.\n",
    "\n",
    "Let's fit a logistic regression model to predict which passengers on the Titanic were most likely to survive."
   ]
  },
  {
   "cell_type": "code",
   "execution_count": 1,
   "metadata": {
    "collapsed": true
   },
   "outputs": [],
   "source": [
    "import numpy as np\n",
    "import pandas as pd\n",
    "import matplotlib.pyplot as plt\n",
    "\n",
    "%matplotlib inline\n",
    "\n",
    "data = pd.read_csv(\"/data/titanic.csv\")"
   ]
  },
  {
   "cell_type": "markdown",
   "metadata": {},
   "source": [
    "### Exercise 1\n",
    "\n",
    "Fit a logistic regression model to predict `survived` from `age`. Interpret the coefficient of `age`. Then, make a scatterplot showing the data and the fitted curve.\n",
    "\n",
    "Remember the Scikit-Learn API: \n",
    "1. specify the model object\n",
    "2. call `model.fit(X, y)` to fit the model to training data\n",
    "3. use `model` to make predictions for new data.\n",
    "\n",
    "_Hint:_ When you call `model.predict()`, it will return a predicted class (0 or 1). If you want the predicted _probability_, you need `model.predict_proba()`, which will return a Numpy array of predicted probabilities for each class."
   ]
  },
  {
   "cell_type": "code",
   "execution_count": 4,
   "metadata": {
    "collapsed": false
   },
   "outputs": [],
   "source": [
    "data_train = data[['survived', 'age']].dropna()"
   ]
  },
  {
   "cell_type": "code",
   "execution_count": 7,
   "metadata": {
    "collapsed": false
   },
   "outputs": [
    {
     "data": {
      "text/plain": [
       "(array([-0.05507808]), array([[-0.0110084]]))"
      ]
     },
     "execution_count": 7,
     "metadata": {},
     "output_type": "execute_result"
    }
   ],
   "source": [
    "from sklearn.linear_model import LogisticRegression\n",
    "\n",
    "# YOUR CODE HERE\n",
    "model = LogisticRegression()\n",
    "model.fit(data_train[['age']], data_train['survived'])\n",
    "model.intercept_, model.coef_"
   ]
  },
  {
   "cell_type": "markdown",
   "metadata": {},
   "source": [
    "Because the coefficient of age is negative, older people have a smaller probability of surviving. "
   ]
  },
  {
   "cell_type": "code",
   "execution_count": 14,
   "metadata": {
    "collapsed": false
   },
   "outputs": [
    {
     "data": {
      "text/plain": [
       "[<matplotlib.lines.Line2D at 0x7f332bbc3748>]"
      ]
     },
     "execution_count": 14,
     "metadata": {},
     "output_type": "execute_result"
    },
    {
     "data": {
      "image/png": "[encoded data removed]",
      "text/plain": [
       "<matplotlib.figure.Figure at 0x7f332bd05550>"
      ]
     },
     "metadata": {},
     "output_type": "display_data"
    }
   ],
   "source": [
    "# YOUR PLOT HERE\n",
    "data.plot.scatter(x='age', y='survived')\n",
    "\n",
    "X_new = pd.DataFrame({\n",
    "        'age':range(0,80)\n",
    "    })\n",
    "probs = model.predict_proba(X_new)[:,1]\n",
    "plt.plot(X_new, probs, 'r-')"
   ]
  },
  {
   "cell_type": "markdown",
   "metadata": {},
   "source": [
    "### Exercise 2\n",
    "\n",
    "Fit a logistic regression model to predict `survived` from `age`, `sex`, and `class`. Note that `sex` and `class` are categorical variables.\n",
    "\n",
    "Use cross-validation to estimate the precision and recall of this model. (_Hint:_ Take a look at [the options for the `scoring` parameter](http://scikit-learn.org/stable/modules/model_evaluation.html#scoring-parameter) in `cross_val_score`.)"
   ]
  },
  {
   "cell_type": "code",
   "execution_count": 18,
   "metadata": {
    "collapsed": false
   },
   "outputs": [
    {
     "data": {
      "text/html": [
       "<div>\n",
       "<table border=\"1\" class=\"dataframe\">\n",
       "  <thead>\n",
       "    <tr style=\"text-align: right;\">\n",
       "      <th></th>\n",
       "      <th>survived</th>\n",
       "      <th>age</th>\n",
       "      <th>sex</th>\n",
       "      <th>class</th>\n",
       "    </tr>\n",
       "  </thead>\n",
       "  <tbody>\n",
       "    <tr>\n",
       "      <th>0</th>\n",
       "      <td>0</td>\n",
       "      <td>22.0</td>\n",
       "      <td>male</td>\n",
       "      <td>Third</td>\n",
       "    </tr>\n",
       "    <tr>\n",
       "      <th>1</th>\n",
       "      <td>1</td>\n",
       "      <td>38.0</td>\n",
       "      <td>female</td>\n",
       "      <td>First</td>\n",
       "    </tr>\n",
       "    <tr>\n",
       "      <th>2</th>\n",
       "      <td>1</td>\n",
       "      <td>26.0</td>\n",
       "      <td>female</td>\n",
       "      <td>Third</td>\n",
       "    </tr>\n",
       "    <tr>\n",
       "      <th>3</th>\n",
       "      <td>1</td>\n",
       "      <td>35.0</td>\n",
       "      <td>female</td>\n",
       "      <td>First</td>\n",
       "    </tr>\n",
       "    <tr>\n",
       "      <th>4</th>\n",
       "      <td>0</td>\n",
       "      <td>35.0</td>\n",
       "      <td>male</td>\n",
       "      <td>Third</td>\n",
       "    </tr>\n",
       "  </tbody>\n",
       "</table>\n",
       "</div>"
      ],
      "text/plain": [
       "   survived   age     sex  class\n",
       "0         0  22.0    male  Third\n",
       "1         1  38.0  female  First\n",
       "2         1  26.0  female  Third\n",
       "3         1  35.0  female  First\n",
       "4         0  35.0    male  Third"
      ]
     },
     "execution_count": 18,
     "metadata": {},
     "output_type": "execute_result"
    }
   ],
   "source": [
    "data_train = data[['survived', 'age', 'sex', 'class']].dropna()\n",
    "data_train.head()"
   ]
  },
  {
   "cell_type": "code",
   "execution_count": 34,
   "metadata": {
    "collapsed": false
   },
   "outputs": [
    {
     "data": {
      "text/html": [
       "<div>\n",
       "<table border=\"1\" class=\"dataframe\">\n",
       "  <thead>\n",
       "    <tr style=\"text-align: right;\">\n",
       "      <th></th>\n",
       "      <th>sex_male</th>\n",
       "      <th>class_Second</th>\n",
       "      <th>class_Third</th>\n",
       "      <th>age</th>\n",
       "    </tr>\n",
       "  </thead>\n",
       "  <tbody>\n",
       "    <tr>\n",
       "      <th>0</th>\n",
       "      <td>1</td>\n",
       "      <td>0</td>\n",
       "      <td>1</td>\n",
       "      <td>22.0</td>\n",
       "    </tr>\n",
       "    <tr>\n",
       "      <th>1</th>\n",
       "      <td>0</td>\n",
       "      <td>0</td>\n",
       "      <td>0</td>\n",
       "      <td>38.0</td>\n",
       "    </tr>\n",
       "    <tr>\n",
       "      <th>2</th>\n",
       "      <td>0</td>\n",
       "      <td>0</td>\n",
       "      <td>1</td>\n",
       "      <td>26.0</td>\n",
       "    </tr>\n",
       "    <tr>\n",
       "      <th>3</th>\n",
       "      <td>0</td>\n",
       "      <td>0</td>\n",
       "      <td>0</td>\n",
       "      <td>35.0</td>\n",
       "    </tr>\n",
       "    <tr>\n",
       "      <th>4</th>\n",
       "      <td>1</td>\n",
       "      <td>0</td>\n",
       "      <td>1</td>\n",
       "      <td>35.0</td>\n",
       "    </tr>\n",
       "  </tbody>\n",
       "</table>\n",
       "</div>"
      ],
      "text/plain": [
       "   sex_male  class_Second  class_Third   age\n",
       "0         1             0            1  22.0\n",
       "1         0             0            0  38.0\n",
       "2         0             0            1  26.0\n",
       "3         0             0            0  35.0\n",
       "4         1             0            1  35.0"
      ]
     },
     "execution_count": 34,
     "metadata": {},
     "output_type": "execute_result"
    }
   ],
   "source": [
    "# YOUR CODE HERE\n",
    "data = pd.get_dummies(data_train[['sex', 'class']])\n",
    "data = data.drop('sex_female', axis=1).drop('class_First', axis=1)\n",
    "data['age'] = data_train['age']\n",
    "data.head()"
   ]
  },
  {
   "cell_type": "code",
   "execution_count": 38,
   "metadata": {
    "collapsed": false
   },
   "outputs": [
    {
     "name": "stdout",
     "output_type": "stream",
     "text": [
      "Precision: 0.771184248331\n",
      "Recall 0.689655172414\n"
     ]
    }
   ],
   "source": [
    "model = LogisticRegression()\n",
    "model.fit(data, data_train['survived'])\n",
    "\n",
    "from sklearn.model_selection import cross_val_score\n",
    "\n",
    "print('Precision:', cross_val_score(model, data, data_train['survived'], cv=10, \n",
    "               scoring=\"precision\").mean())\n",
    "\n",
    "print('Recall', cross_val_score(model, data, data_train['survived'], cv=10, \n",
    "               scoring=\"recall\").mean())"
   ]
  },
  {
   "cell_type": "code",
   "execution_count": null,
   "metadata": {
    "collapsed": true
   },
   "outputs": [],
   "source": []
  }
 ],
 "metadata": {
  "kernelspec": {
   "display_name": "Python 3",
   "language": "python",
   "name": "python3"
  },
  "language_info": {
   "codemirror_mode": {
    "name": "ipython",
    "version": 3
   },
   "file_extension": ".py",
   "mimetype": "text/x-python",
   "name": "python",
   "nbconvert_exporter": "python",
   "pygments_lexer": "ipython3",
   "version": "3.5.2"
  }
 },
 "nbformat": 4,
 "nbformat_minor": 2
}
