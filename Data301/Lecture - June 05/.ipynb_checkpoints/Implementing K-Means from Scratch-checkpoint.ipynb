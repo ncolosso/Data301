{
 "cells": [
  {
   "cell_type": "markdown",
   "metadata": {},
   "source": [
    "# Implementing K-Means from Scratch\n",
    "\n",
    "In this notebook, you will implement $k$-means from scratch. This is something you have to do once in your life as a data scientist."
   ]
  },
  {
   "cell_type": "code",
   "execution_count": null,
   "metadata": {
    "collapsed": true
   },
   "outputs": [],
   "source": [
    "import numpy as np\n",
    "import pandas as pd\n",
    "\n",
    "import matplotlib.pyplot as plt\n",
    "%matplotlib inline"
   ]
  },
  {
   "cell_type": "code",
   "execution_count": null,
   "metadata": {
    "collapsed": true
   },
   "outputs": [],
   "source": [
    "data = pd.read_csv(\"/data/wines.csv\", sep=\";\")"
   ]
  },
  {
   "cell_type": "markdown",
   "metadata": {},
   "source": [
    "**TODO:** Implement the `assign_points_to_clusters()` and `recalculate_cluster_centroids()` functions below."
   ]
  },
  {
   "cell_type": "code",
   "execution_count": null,
   "metadata": {
    "collapsed": true
   },
   "outputs": [],
   "source": [
    "def assign_points_to_clusters(data, centroids):\n",
    "    \"\"\"Assign each observation in data to the nearest centroid.\n",
    "    \n",
    "    Args:\n",
    "      - data: an n x p Pandas DataFrame of observations.\n",
    "      - centroids: a k x p Pandas DataFrame of cluster centroids.\n",
    "    \n",
    "    Returns:\n",
    "      a vector of length n, consisting of numbers 0, 1, ..., k-1 \n",
    "      indicating the cluster assignment of each observation.\n",
    "    \"\"\"\n",
    "    k = centroids.shape[0]\n",
    "    raise NotImplementedError\n",
    "    \n",
    "def recalculate_cluster_centroids(data, clusters):\n",
    "    \"\"\"Recalculate cluster centroids based on cluster assignments.\n",
    "    \n",
    "    Args:\n",
    "      - data: an n x p Pandas DataFrame of observations\n",
    "      - clusters: a vector of length n, with numbers 0, 1, ..., k-1,\n",
    "                  indicating the cluster assignment of each observation.\n",
    "    \n",
    "    Returns:\n",
    "      a k x p Pandas DataFrame of cluster centroids.\n",
    "    \"\"\"\n",
    "    k = clusters.max() + 1\n",
    "    raise NotImplementedError"
   ]
  },
  {
   "cell_type": "markdown",
   "metadata": {},
   "source": [
    "The function provided below runs $k$-means and plots the clusters and centroids at each iteration. The code has already been written for you, but you should read and understand the code."
   ]
  },
  {
   "cell_type": "code",
   "execution_count": null,
   "metadata": {
    "collapsed": true
   },
   "outputs": [],
   "source": [
    "def plot(data, centroids, clusters, ax, title):\n",
    "    k = centroids.shape[0]\n",
    "    for i in range(k):\n",
    "        ax.plot(data[clusters == i].iloc[:, 0], data[clusters == i].iloc[:, 1], 'x', alpha=.2)\n",
    "        ax.plot(centroids.iloc[i, 0], centroids.iloc[i, 1], 'ko')\n",
    "    ax.set_title(title)\n",
    "\n",
    "def run_k_means(data, k):\n",
    "    \n",
    "    # initialize the centroids to k randomly selected observations from the data set\n",
    "    centroids = data.sample(k)\n",
    "    clusters = assign_points_to_clusters(data, centroids)\n",
    "    \n",
    "    # repeat the above steps until the cluster assignments don't change\n",
    "    while True:\n",
    "        # plot data\n",
    "        fig, ax = plt.subplots(1, 2, figsize=(12, 5))\n",
    "        plot(data, centroids, clusters, ax[0], \"Assign Clusters to Centroids\")\n",
    "        \n",
    "        # STEP 1: recalculate cluster centroids\n",
    "        centroids = recalculate_cluster_centroids(data, clusters)\n",
    "        \n",
    "        # plot data\n",
    "        plot(data, centroids, clusters, ax[1], \"Recalculate Centroids\")\n",
    "        \n",
    "        # STEP 2: assign points to nearest cluster\n",
    "        new_clusters = assign_points_to_clusters(data, centroids)\n",
    "        \n",
    "        # if cluster assignments haven't changed, terminate the loop\n",
    "        if all(new_clusters == clusters):\n",
    "            break\n",
    "        else:\n",
    "            clusters = new_clusters\n",
    "    \n",
    "    return centroids, clusters"
   ]
  },
  {
   "cell_type": "markdown",
   "metadata": {},
   "source": [
    "The code below tests the `run_k_means()` function you implemented above."
   ]
  },
  {
   "cell_type": "code",
   "execution_count": null,
   "metadata": {
    "collapsed": false,
    "scrolled": false
   },
   "outputs": [],
   "source": [
    "X = data[[\"total sulfur dioxide\", \"volatile acidity\"]]\n",
    "\n",
    "_, clusters = run_k_means(X, 2)"
   ]
  },
  {
   "cell_type": "markdown",
   "metadata": {},
   "source": [
    "What do you notice about the clusters above? How would you correct this problem?"
   ]
  }
 ],
 "metadata": {
  "kernelspec": {
   "display_name": "Python 3",
   "language": "python",
   "name": "python3"
  },
  "language_info": {
   "codemirror_mode": {
    "name": "ipython",
    "version": 3
   },
   "file_extension": ".py",
   "mimetype": "text/x-python",
   "name": "python",
   "nbconvert_exporter": "python",
   "pygments_lexer": "ipython3",
   "version": "3.5.2"
  }
 },
 "nbformat": 4,
 "nbformat_minor": 2
}
