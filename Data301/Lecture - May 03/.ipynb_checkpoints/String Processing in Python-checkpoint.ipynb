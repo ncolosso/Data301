{
 "cells": [
  {
   "cell_type": "markdown",
   "metadata": {},
   "source": [
    "# String Processing in Python\n",
    "\n",
    "One thing that distinguishes data science from traditional statistics is that the data sets we work with tend to be messier and unconventionally structured. Manipulating such data requires some programming chops, which traditional statistics courses do not prepare you for.\n",
    "\n",
    "One increasingly common data format is **raw text**. Python is uniquely suited to analyzing text data because of its powerful string processing capabilities. In this workbook, we will sample just a few of these capabilities; for a comprehensive list, take a look at [the Python documentation for strings](https://docs.python.org/3.6/library/stdtypes.html#textseq)."
   ]
  },
  {
   "cell_type": "markdown",
   "metadata": {},
   "source": [
    "# Green Eggs and Ham\n",
    "\n",
    "It is said that the Dr. Seuss book _Green Eggs and Ham_ was written in response to a challenge from his publisher to write a book using a vocabulary of just 50 words. Is this true? Let's investigate."
   ]
  },
  {
   "cell_type": "markdown",
   "metadata": {},
   "source": [
    "## File I/O\n",
    "\n",
    "First, let's read in the text of Green Eggs and Ham."
   ]
  },
  {
   "cell_type": "code",
   "execution_count": null,
   "metadata": {
    "collapsed": false
   },
   "outputs": [],
   "source": [
    "# The with statement ensures that the file is closed.\n",
    "with open(\"/data/GreenEggsAndHam.txt\") as f:\n",
    "    text = f.read()\n",
    "    # DO STUFF WITH THE TEXT"
   ]
  },
  {
   "cell_type": "markdown",
   "metadata": {},
   "source": [
    "## Strings are like Lists\n",
    "\n",
    "Strings in Python behave like lists in Python."
   ]
  },
  {
   "cell_type": "code",
   "execution_count": null,
   "metadata": {
    "collapsed": false
   },
   "outputs": [],
   "source": [
    "# You can index them.\n",
    "text[:100]"
   ]
  },
  {
   "cell_type": "code",
   "execution_count": null,
   "metadata": {
    "collapsed": false
   },
   "outputs": [],
   "source": [
    "# You can iterate over the characters in a string.\n",
    "num_As = 0\n",
    "for char in text:\n",
    "    # Write code to count the number of As.\n",
    "    pass"
   ]
  },
  {
   "cell_type": "markdown",
   "metadata": {},
   "source": [
    "### WARNING\n",
    "\n",
    "Do not attempt to print large amounts of text in the Jupyter notebook. Your notebook will freeze, and you will not be able to do anything for several minutes."
   ]
  },
  {
   "cell_type": "markdown",
   "metadata": {},
   "source": [
    "## Splitting and Stripping\n",
    "\n",
    "We want to count the number of words in the text. To do so, we need to be able to split the string into words. To do this, we can use the `.split()` method. (By default, if you don't pass in a character, it splits on whitespace.)"
   ]
  },
  {
   "cell_type": "code",
   "execution_count": null,
   "metadata": {
    "collapsed": true
   },
   "outputs": [],
   "source": [
    "words = text.split()"
   ]
  },
  {
   "cell_type": "code",
   "execution_count": null,
   "metadata": {
    "collapsed": false
   },
   "outputs": [],
   "source": [
    "len(set(words))"
   ]
  },
  {
   "cell_type": "markdown",
   "metadata": {},
   "source": [
    "Why are there so many different words? \n",
    "\n",
    "We haven't accounted for capitalization (so \"would\" is different from \"Would\") or punctuation (so \"house?\" is different from \"house.\")! Let's convert all words to lowercase and strip the punctuation. This process of converting text to a standard form is known as **normalization**."
   ]
  },
  {
   "cell_type": "code",
   "execution_count": null,
   "metadata": {
    "collapsed": true
   },
   "outputs": [],
   "source": [
    "# Write code here to normalize the words.\n",
    "# (Use Python's string methods.)"
   ]
  },
  {
   "cell_type": "code",
   "execution_count": null,
   "metadata": {
    "collapsed": true
   },
   "outputs": [],
   "source": [
    "# Now count up the number of unique words."
   ]
  },
  {
   "cell_type": "markdown",
   "metadata": {},
   "source": [
    "## Format Strings\n",
    "\n",
    "Another powerful feature of Python is format strings. Format strings allow you to insert numbers or other strings in the middle of a string. They are Python's version of `sprintf()` in C-style languages."
   ]
  },
  {
   "cell_type": "code",
   "execution_count": null,
   "metadata": {
    "collapsed": true
   },
   "outputs": [],
   "source": [
    "\"There are %d unique words in %s.\" % (len(set(words)), \"Green Eggs and Ham\")"
   ]
  },
  {
   "cell_type": "markdown",
   "metadata": {},
   "source": [
    "Instead of specifying the replacement values in order as a tuple, we can also assign names to the replacement arguments and then specify the replacement values as a dict. This is useful when the same replacement argument appears multiple times in a string.\n",
    "\n",
    "Note also the use below of a multiline string, which is delimited by triple-quotes (instead of a single quote)."
   ]
  },
  {
   "cell_type": "code",
   "execution_count": null,
   "metadata": {
    "collapsed": false
   },
   "outputs": [],
   "source": [
    "print(\"\"\"I am %(name)s\n",
    "%(name)s I am\n",
    "\n",
    "That %(name)s-I-am\n",
    "That %(name)s-I-am!\n",
    "I do not like\n",
    "that %(name)s-I-am.\"\"\" % {\n",
    "    \"name\": \"Sam\"\n",
    "})"
   ]
  }
 ],
 "metadata": {
  "kernelspec": {
   "display_name": "Python 3",
   "language": "python",
   "name": "python3"
  },
  "language_info": {
   "codemirror_mode": {
    "name": "ipython",
    "version": 3
   },
   "file_extension": ".py",
   "mimetype": "text/x-python",
   "name": "python",
   "nbconvert_exporter": "python",
   "pygments_lexer": "ipython3",
   "version": "3.5.2"
  }
 },
 "nbformat": 4,
 "nbformat_minor": 1
}
