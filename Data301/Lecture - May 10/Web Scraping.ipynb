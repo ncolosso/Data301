{
 "cells": [
  {
   "cell_type": "markdown",
   "metadata": {},
   "source": [
    "# Web Scraping"
   ]
  },
  {
   "cell_type": "markdown",
   "metadata": {},
   "source": [
    "You want to go for a hike in San Luis Obispo. But where? In this workbook, you will scrape [a website](http://www.hikeslo.com/) with information about local hiking routes, and build a data frame containing information about each hike (e.g., length, elevation change)."
   ]
  },
  {
   "cell_type": "markdown",
   "metadata": {},
   "source": [
    "## Scraping a Single Page\n",
    "\n",
    "We will use the `requests` library to fetch the contents of a URL and BeautifulSoup to parse the HTML. Although we used BeautifulSoup previously to parse XML, it's HTML where BeautifulSoup really shines. Much HTML on the web is malformed, and BeautifulSoup is designed to handle malformed HTML gracefully."
   ]
  },
  {
   "cell_type": "code",
   "execution_count": 1,
   "metadata": {
    "collapsed": false
   },
   "outputs": [],
   "source": [
    "import requests\n",
    "from bs4 import BeautifulSoup"
   ]
  },
  {
   "cell_type": "markdown",
   "metadata": {},
   "source": [
    "Let's try to extract the rating, location, elevation gain, and distance from the following page automatically: http://www.hikeslo.com/vaca-flats/"
   ]
  },
  {
   "cell_type": "code",
   "execution_count": 2,
   "metadata": {
    "collapsed": true
   },
   "outputs": [],
   "source": [
    "req = requests.get(\"http://www.hikeslo.com/vaca-flats/\")\n",
    "soup = BeautifulSoup(req.text, \"html.parser\")"
   ]
  },
  {
   "cell_type": "markdown",
   "metadata": {},
   "source": [
    "The variable `soup` is a `BeautifulSoup` object that represents the document as a nested data structure. As before, to get all instances of a particular tag as a list, we can use the `.find_all()` method."
   ]
  },
  {
   "cell_type": "code",
   "execution_count": 3,
   "metadata": {
    "collapsed": false
   },
   "outputs": [
    {
     "data": {
      "text/plain": [
       "[<table class=\"rw-rating-table rw-ltr rw-left rw-no-labels\"><tr><td><nobr> </nobr></td><td><div class=\"rw-left\"><div class=\"rw-ui-container rw-class-blog-post rw-urid-8270\" data-img=\"http://www.hikeslo.com/wp-content/uploads/2017/04/DSCN1883.jpg\"></div></div></td></tr></table>]"
      ]
     },
     "execution_count": 3,
     "metadata": {},
     "output_type": "execute_result"
    }
   ],
   "source": [
    "soup.find_all('table')"
   ]
  },
  {
   "cell_type": "markdown",
   "metadata": {},
   "source": [
    "As mentioned above, BeautifulSoup represents the document as a nested data structure. So we can also call `.find()` and `.find_all()` on a tag to search for tags _within_ that tag."
   ]
  },
  {
   "cell_type": "code",
   "execution_count": 4,
   "metadata": {
    "collapsed": false
   },
   "outputs": [
    {
     "data": {
      "text/plain": [
       "[<div class=\"rw-left\"><div class=\"rw-ui-container rw-class-blog-post rw-urid-8270\" data-img=\"http://www.hikeslo.com/wp-content/uploads/2017/04/DSCN1883.jpg\"></div></div>,\n",
       " <div class=\"rw-ui-container rw-class-blog-post rw-urid-8270\" data-img=\"http://www.hikeslo.com/wp-content/uploads/2017/04/DSCN1883.jpg\"></div>]"
      ]
     },
     "execution_count": 4,
     "metadata": {},
     "output_type": "execute_result"
    }
   ],
   "source": [
    "table = soup.find('table')\n",
    "table.find_all('div')"
   ]
  },
  {
   "cell_type": "markdown",
   "metadata": {},
   "source": [
    "Now let's use `BeautifulSoup` to extract the information that we want from the page: rating, location, elevation gain, and distance. How do we know where to find this information in the HTML source code?\n",
    "\n",
    "When web scraping, you will need to constantly go back and forth between the rendered page and the HTML source code. Google Chrome makes this easy for you. If you right click on any element on the page, one of the options is \"Inspect\". This will show you the HTML source code, with the element you selected highlighted.\n",
    "\n",
    "Let's try to extract the Location from the page automatically."
   ]
  },
  {
   "cell_type": "code",
   "execution_count": 5,
   "metadata": {
    "collapsed": false
   },
   "outputs": [
    {
     "name": "stdout",
     "output_type": "stream",
     "text": [
      "Santa Margarita Lake\n"
     ]
    }
   ],
   "source": [
    "for p in soup.find_all(\"p\"):\n",
    "    if \"Location\" in p.text:\n",
    "        print(p.text.split(\":\")[-1].strip())"
   ]
  },
  {
   "cell_type": "markdown",
   "metadata": {},
   "source": [
    "Now implement the function below, which given a page on this site, returns the rating, location, elevation gain, and distance as a Pandas series. \n",
    "\n",
    "_Hint:_ The rating is probably the most challenging. You will need to filter based on the `class` attribute. If you have forgotten how to filter on an attribute, take a look at the documentation for `.find_all()`."
   ]
  },
  {
   "cell_type": "code",
   "execution_count": 6,
   "metadata": {
    "collapsed": true
   },
   "outputs": [],
   "source": [
    "import pandas as pd"
   ]
  },
  {
   "cell_type": "code",
   "execution_count": null,
   "metadata": {
    "collapsed": false
   },
   "outputs": [],
   "source": []
  },
  {
   "cell_type": "code",
   "execution_count": 7,
   "metadata": {
    "collapsed": false
   },
   "outputs": [
    {
     "name": "stdout",
     "output_type": "stream",
     "text": [
      "3.08 Miles\n"
     ]
    }
   ],
   "source": [
    "for p in soup.find_all(\"p\"):\n",
    "    if \"Distance\" in p.text:\n",
    "        print(p.text.split(\":\")[-1].strip())"
   ]
  },
  {
   "cell_type": "code",
   "execution_count": 8,
   "metadata": {
    "collapsed": false
   },
   "outputs": [],
   "source": [
    "def get_data_for_hike(url):\n",
    "    \n",
    "    for p in soup.find_all(\"p\"):\n",
    "        if \"Elevation Gain\" in p.text:\n",
    "            elevation_gain = (p.text.split(\":\")[-1].strip())\n",
    "        if \"Location\" in p.text:\n",
    "            location = (p.text.split(\":\")[-1].strip())\n",
    "        if \"Distance\" in p.text:\n",
    "            distance = (p.text.split(\":\")[-1].strip())\n",
    "    \n",
    "    return pd.Series({\n",
    "            \"rating\": None,\n",
    "            \"location\": location,\n",
    "            \"elevation_gain\": elevation_gain,\n",
    "            \"distance\": distance\n",
    "        })"
   ]
  },
  {
   "cell_type": "code",
   "execution_count": 9,
   "metadata": {
    "collapsed": false
   },
   "outputs": [
    {
     "data": {
      "text/plain": [
       "distance                    3.08 Miles\n",
       "elevation_gain                    656′\n",
       "location          Santa Margarita Lake\n",
       "rating                            None\n",
       "dtype: object"
      ]
     },
     "execution_count": 9,
     "metadata": {},
     "output_type": "execute_result"
    }
   ],
   "source": [
    "get_data_for_hike(\"http://www.hikeslo.com/vaca-flats/\")"
   ]
  },
  {
   "cell_type": "markdown",
   "metadata": {},
   "source": [
    "## Crawling a Site\n",
    "\n",
    "We want to be able to automatically scrape all of the hikes on the website. For example, we might want to be able to scrape information about the 10 hikes listed on [this page](http://www.hikeslo.com/).\n",
    "\n",
    "We can do this in two steps. First, we scrape the main page, getting all links to hikes. (Note: Hyperlinks are represented by the `<a>` tag.) Then, we scrape each of those pages by calling the function `get_data_for_hike()` that we wrote above."
   ]
  },
  {
   "cell_type": "code",
   "execution_count": 10,
   "metadata": {
    "collapsed": false
   },
   "outputs": [
    {
     "ename": "UnboundLocalError",
     "evalue": "local variable 'location' referenced before assignment",
     "output_type": "error",
     "traceback": [
      "\u001b[0;31m---------------------------------------------------------------------------\u001b[0m",
      "\u001b[0;31mUnboundLocalError\u001b[0m                         Traceback (most recent call last)",
      "\u001b[0;32m<ipython-input-10-96b67d3d0f60>\u001b[0m in \u001b[0;36m<module>\u001b[0;34m()\u001b[0m\n\u001b[1;32m      5\u001b[0m \u001b[0;32mfor\u001b[0m \u001b[0mh2\u001b[0m \u001b[0;32min\u001b[0m \u001b[0msoup\u001b[0m\u001b[0;34m.\u001b[0m\u001b[0mfind_all\u001b[0m\u001b[0;34m(\u001b[0m\u001b[0;34m\"h2\"\u001b[0m\u001b[0;34m,\u001b[0m \u001b[0;34m{\u001b[0m\u001b[0;34m\"class\"\u001b[0m\u001b[0;34m:\u001b[0m\u001b[0;34m\"entry-title\"\u001b[0m\u001b[0;34m}\u001b[0m\u001b[0;34m)\u001b[0m\u001b[0;34m:\u001b[0m\u001b[0;34m\u001b[0m\u001b[0m\n\u001b[1;32m      6\u001b[0m     \u001b[0murl\u001b[0m \u001b[0;34m=\u001b[0m \u001b[0mh2\u001b[0m\u001b[0;34m.\u001b[0m\u001b[0mfind\u001b[0m\u001b[0;34m(\u001b[0m\u001b[0;34m\"a\"\u001b[0m\u001b[0;34m)\u001b[0m\u001b[0;34m[\u001b[0m\u001b[0;34m\"href\"\u001b[0m\u001b[0;34m]\u001b[0m\u001b[0;34m\u001b[0m\u001b[0m\n\u001b[0;32m----> 7\u001b[0;31m     \u001b[0mdata\u001b[0m\u001b[0;34m.\u001b[0m\u001b[0mappend\u001b[0m\u001b[0;34m(\u001b[0m\u001b[0mget_data_for_hike\u001b[0m\u001b[0;34m(\u001b[0m\u001b[0murl\u001b[0m\u001b[0;34m)\u001b[0m\u001b[0;34m)\u001b[0m\u001b[0;34m\u001b[0m\u001b[0m\n\u001b[0m\u001b[1;32m      8\u001b[0m \u001b[0;34m\u001b[0m\u001b[0m\n\u001b[1;32m      9\u001b[0m \u001b[0mpd\u001b[0m\u001b[0;34m.\u001b[0m\u001b[0mconcat\u001b[0m\u001b[0;34m(\u001b[0m\u001b[0mdata\u001b[0m\u001b[0;34m,\u001b[0m \u001b[0maxis\u001b[0m\u001b[0;34m=\u001b[0m\u001b[0;36m1\u001b[0m\u001b[0;34m)\u001b[0m\u001b[0;34m\u001b[0m\u001b[0m\n",
      "\u001b[0;32m<ipython-input-8-3282cc3f7928>\u001b[0m in \u001b[0;36mget_data_for_hike\u001b[0;34m(url)\u001b[0m\n\u001b[1;32m     11\u001b[0m     return pd.Series({\n\u001b[1;32m     12\u001b[0m             \u001b[0;34m\"rating\"\u001b[0m\u001b[0;34m:\u001b[0m \u001b[0;32mNone\u001b[0m\u001b[0;34m,\u001b[0m\u001b[0;34m\u001b[0m\u001b[0m\n\u001b[0;32m---> 13\u001b[0;31m             \u001b[0;34m\"location\"\u001b[0m\u001b[0;34m:\u001b[0m \u001b[0mlocation\u001b[0m\u001b[0;34m,\u001b[0m\u001b[0;34m\u001b[0m\u001b[0m\n\u001b[0m\u001b[1;32m     14\u001b[0m             \u001b[0;34m\"elevation_gain\"\u001b[0m\u001b[0;34m:\u001b[0m \u001b[0melevation_gain\u001b[0m\u001b[0;34m,\u001b[0m\u001b[0;34m\u001b[0m\u001b[0m\n\u001b[1;32m     15\u001b[0m             \u001b[0;34m\"distance\"\u001b[0m\u001b[0;34m:\u001b[0m \u001b[0mdistance\u001b[0m\u001b[0;34m\u001b[0m\u001b[0m\n",
      "\u001b[0;31mUnboundLocalError\u001b[0m: local variable 'location' referenced before assignment"
     ]
    }
   ],
   "source": [
    "req = requests.get(\"http://www.hikeslo.com/\")\n",
    "soup = BeautifulSoup(req.text, \"html.parser\")\n",
    "\n",
    "data = []\n",
    "for h2 in soup.find_all(\"h2\", {\"class\":\"entry-title\"}):\n",
    "    url = h2.find(\"a\")[\"href\"]\n",
    "    data.append(get_data_for_hike(url))\n",
    "    \n",
    "pd.concat(data, axis=1)"
   ]
  },
  {
   "cell_type": "code",
   "execution_count": null,
   "metadata": {
    "collapsed": true
   },
   "outputs": [],
   "source": []
  }
 ],
 "metadata": {
  "kernelspec": {
   "display_name": "Python 3",
   "language": "python",
   "name": "python3"
  },
  "language_info": {
   "codemirror_mode": {
    "name": "ipython",
    "version": 3
   },
   "file_extension": ".py",
   "mimetype": "text/x-python",
   "name": "python",
   "nbconvert_exporter": "python",
   "pygments_lexer": "ipython3",
   "version": "3.5.2"
  }
 },
 "nbformat": 4,
 "nbformat_minor": 2
}
