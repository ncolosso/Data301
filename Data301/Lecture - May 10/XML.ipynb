{
 "cells": [
  {
   "cell_type": "markdown",
   "metadata": {
    "collapsed": true
   },
   "source": [
    "# XML\n",
    "\n",
    "XML is another format for representing nested data. An XML document consists of **tags**, which are denoted by angle brackets `< >`. Every tag is opened and closed. Nested fields are represented by tags between the opening and closing of a tag.\n",
    "\n",
    "```\n",
    "<employee name=\"Willy L.\">\n",
    "  <child name=\"Biff\">\n",
    "  </child>\n",
    "  <child name=\"Happy\">\n",
    "  </child>\n",
    "</employee>\n",
    "```\n",
    "\n",
    "In the above example, `employee` and `child` are tag names, while `name` is an attribute. Each tag can contain any number of attributes."
   ]
  },
  {
   "cell_type": "markdown",
   "metadata": {},
   "source": [
    "We will work with XML data from [setlist.fm](http://setlist.fm), a website that contains user-contributed setlists for live music concerts around the world. They provide [a REST API](https://api.setlist.fm/docs/index.html) for querying their data.\n",
    "\n",
    "Let's get setlists from concerts in San Luis Obispo. Take a look at [the documentation here](https://api.setlist.fm/docs/rest.0.1.search.setlists.html), and see if you can construct the URL to fetch the most recent concerts in San Luis Obispo. Then, write a request using the `requests` package to fetch the data into a `Request` object called `req`. (But before you write the request, visit the URL first in your browser to make sure you are understanding the API.) "
   ]
  },
  {
   "cell_type": "code",
   "execution_count": 1,
   "metadata": {
    "collapsed": false
   },
   "outputs": [],
   "source": [
    "import requests\n",
    "\n",
    "# YOUR CODE HERE\n",
    "req = requests.get(\"https://api.setlist.fm/rest/0.1/search/setlists?cityName=San%20Luis%20Obispo\")"
   ]
  },
  {
   "cell_type": "markdown",
   "metadata": {},
   "source": [
    "The XML document is now saved as a string in `req.text`. To make the data more accessible, we should represent the XML document using a nested data structure. To do this, we will use a Python package called BeautifulSoup. BeautifulSoup parses a string of XML into a tree-like data structure that makes it easy to find the tags we need. We have to specify a parser; since this is XML, we use the `\"xml\"` parser. (Later, we'll use `\"html.parser\"` for HTML.)"
   ]
  },
  {
   "cell_type": "code",
   "execution_count": 2,
   "metadata": {
    "collapsed": false
   },
   "outputs": [],
   "source": [
    "from bs4 import BeautifulSoup\n",
    "soup = BeautifulSoup(req.text, \"xml\")"
   ]
  },
  {
   "cell_type": "markdown",
   "metadata": {},
   "source": [
    "The `BeautifulSoup` object contains a method `.find_all()`, which allows you to find all tags with a given name or attribute.\n",
    "\n",
    "For example, if we wanted to find all `<setlist>` tags, we could do:"
   ]
  },
  {
   "cell_type": "code",
   "execution_count": 3,
   "metadata": {
    "collapsed": false
   },
   "outputs": [
    {
     "data": {
      "text/plain": [
       "[<setlist eventDate=\"07-05-2017\" id=\"53e6437d\" lastUpdated=\"2017-05-05T07:17:53.000+0000\" tour=\"Spring 2017\" versionId=\"5b5d6fb0\"><artist disambiguation=\"\" mbid=\"b7765a33-ed19-4d99-bc93-1e54efdbe255\" name=\"From Indian Lakes\" sortName=\"From Indian Lakes\" tmid=\"1484853\"><url>http://www.setlist.fm/setlists/from-indian-lakes-5bda27b4.html</url></artist><venue id=\"13d55115\" name=\"SLO Guild Hall\"><city id=\"cu:aa19a1c6-06c7-11e6-b736-22000bb3106b\" name=\"San Luis Obispo\" state=\"California\" stateCode=\"CA\"><coords lat=\"35.0\" long=\"120.0\"/><country code=\"US\" name=\"United States\"/></city><url>http://www.setlist.fm/venue/slo-guild-hall-san-luis-obispo-ca-usa-13d55115.html</url></venue><sets/><url>http://www.setlist.fm/setlist/from-indian-lakes/2017/slo-guild-hall-san-luis-obispo-ca-53e6437d.html</url></setlist>,\n",
       " <setlist eventDate=\"07-05-2017\" id=\"4be6437e\" lastUpdated=\"2017-05-05T07:17:46.000+0000\" tour=\"Light We Made\" versionId=\"535d6fb1\"><artist disambiguation=\"\" mbid=\"0d20c42d-133c-429d-8f76-3c2458aee3e8\" name=\"Balance and Composure\" sortName=\"Balance and Composure\" tmid=\"1478547\"><url>http://www.setlist.fm/setlists/balance-and-composure-63d232d3.html</url></artist><venue id=\"13d55115\" name=\"SLO Guild Hall\"><city id=\"cu:aa19a1c6-06c7-11e6-b736-22000bb3106b\" name=\"San Luis Obispo\" state=\"California\" stateCode=\"CA\"><coords lat=\"35.0\" long=\"120.0\"/><country code=\"US\" name=\"United States\"/></city><url>http://www.setlist.fm/venue/slo-guild-hall-san-luis-obispo-ca-usa-13d55115.html</url></venue><sets/><url>http://www.setlist.fm/setlist/balance-and-composure/2017/slo-guild-hall-san-luis-obispo-ca-4be6437e.html</url></setlist>,\n",
       " <setlist eventDate=\"14-04-2017\" id=\"43e6e30f\" lastUpdated=\"2017-04-15T18:17:36.000+0000\" tour='\"Live And Unpeeled\" Acoustic Tour' versionId=\"735c368d\"><artist disambiguation=\"\" mbid=\"b41b38d4-ef3e-4f37-8c75-cfe9af999696\" name=\"Cage the Elephant\" sortName=\"Cage the Elephant\" tmid=\"1105603\"><url>http://www.setlist.fm/setlists/cage-the-elephant-73d60aa9.html</url></artist><venue id=\"3bd724bc\" name=\"The Fremont Theatre\"><city id=\"cu:aa19a1c6-06c7-11e6-b736-22000bb3106b\" name=\"San Luis Obispo\" state=\"California\" stateCode=\"CA\"><coords lat=\"35.0\" long=\"120.0\"/><country code=\"US\" name=\"United States\"/></city><url>http://www.setlist.fm/venue/the-fremont-theatre-san-luis-obispo-ca-usa-3bd724bc.html</url></venue><sets><set name=\"Set 1:\"><song name=\"How Are You True\"/><song name=\"Sweetie Little Jean\"/><song name=\"Ain't No Rest for the Wicked\"/><song name=\"Spiderhead\"/><song name=\"Take It or Leave It\"/><song name=\"Punchin' Bag\"/><song name=\"Too Late to Say Goodbye\"/><song name=\"Cold Cold Cold\"/><song name=\"Instant Crush\"><cover disambiguation=\"\" mbid=\"056e4f3e-d505-4dad-8ec1-d04f521cbb56\" name=\"Daft Punk\" sortName=\"Daft Punk\" tmid=\"807213\"><url>http://www.setlist.fm/setlists/daft-punk-bd6d5a2.html</url></cover></song><song name=\"Telescope\"/></set><set name=\"Set 2:\"><song name=\"Back Against the Wall\"/><song name=\"Aberdeen\"/><song name=\"Cry Baby\"/><song name=\"(I'd Go The) Whole Wide World\"><cover disambiguation=\"\" mbid=\"b80f2162-c04e-400d-bc5f-124eacbd9fd2\" name=\"Wreckless Eric\" sortName=\"Wreckless Eric\" tmid=\"748648\"><url>http://www.setlist.fm/setlists/wreckless-eric-4bd6f7a2.html</url></cover></song><song name=\"Hypocrite\"/><song name=\"Golden Brown\"><cover disambiguation=\"\" mbid=\"a96d82a0-cdca-40bf-b4c8-3d7ec178d85b\" name=\"The Stranglers\" sortName=\"Stranglers, The\" tmid=\"736208\"><url>http://www.setlist.fm/setlists/the-stranglers-1bd66d20.html</url></cover></song><song name=\"Rubber Ball\"/><song name=\"Trouble\"/><song name=\"Cigarette Daydreams\"/><song name=\"Shake Me Down\"/><song name=\"Come a Little Closer\"/></set><set encore=\"1\" name=\"Set 2:\"><song name=\"Right Before My Eyes\"/></set></sets><url>http://www.setlist.fm/setlist/cage-the-elephant/2017/the-fremont-theatre-san-luis-obispo-ca-43e6e30f.html</url></setlist>,\n",
       " <setlist eventDate=\"06-04-2017\" id=\"5be68bf4\" lastUpdated=\"2017-04-06T03:36:11.000+0000\" versionId=\"735f4e5d\"><artist disambiguation=\"\" mbid=\"36a8177a-05bc-41a8-afb9-14923b7a64fb\" name=\"Tijuana Panthers\" sortName=\"Tijuana Panthers\" tmid=\"1503093\"><url>http://www.setlist.fm/setlists/tijuana-panthers-63dc2ad3.html</url></artist><venue id=\"3bd724bc\" name=\"The Fremont Theatre\"><city id=\"cu:aa19a1c6-06c7-11e6-b736-22000bb3106b\" name=\"San Luis Obispo\" state=\"California\" stateCode=\"CA\"><coords lat=\"35.0\" long=\"120.0\"/><country code=\"US\" name=\"United States\"/></city><url>http://www.setlist.fm/venue/the-fremont-theatre-san-luis-obispo-ca-usa-3bd724bc.html</url></venue><sets/><url>http://www.setlist.fm/setlist/tijuana-panthers/2017/the-fremont-theatre-san-luis-obispo-ca-5be68bf4.html</url></setlist>,\n",
       " <setlist eventDate=\"06-04-2017\" id=\"53e68bf5\" lastUpdated=\"2017-04-06T03:36:05.000+0000\" versionId=\"6b5f4e5e\"><artist disambiguation=\"\" mbid=\"b1eb1fab-5784-473c-86cd-2ee146a38bd7\" name=\"Runner\" sortName=\"Runner\" tmid=\"747530\"><url>http://www.setlist.fm/setlists/runner-7bd73274.html</url></artist><venue id=\"3bd724bc\" name=\"The Fremont Theatre\"><city id=\"cu:aa19a1c6-06c7-11e6-b736-22000bb3106b\" name=\"San Luis Obispo\" state=\"California\" stateCode=\"CA\"><coords lat=\"35.0\" long=\"120.0\"/><country code=\"US\" name=\"United States\"/></city><url>http://www.setlist.fm/venue/the-fremont-theatre-san-luis-obispo-ca-usa-3bd724bc.html</url></venue><sets/><url>http://www.setlist.fm/setlist/runner/2017/the-fremont-theatre-san-luis-obispo-ca-53e68bf5.html</url></setlist>,\n",
       " <setlist eventDate=\"06-04-2017\" id=\"4be68bf6\" lastUpdated=\"2017-04-06T03:35:57.000+0000\" tour=\"Cody\" versionId=\"635f4e5f\"><artist disambiguation=\"\" mbid=\"945d3b69-27cd-45fa-b491-52553a63dead\" name=\"Joyce Manor\" sortName=\"Joyce Manor\" tmid=\"1576311\"><url>http://www.setlist.fm/setlists/joyce-manor-6bd2e232.html</url></artist><venue id=\"3bd724bc\" name=\"The Fremont Theatre\"><city id=\"cu:aa19a1c6-06c7-11e6-b736-22000bb3106b\" name=\"San Luis Obispo\" state=\"California\" stateCode=\"CA\"><coords lat=\"35.0\" long=\"120.0\"/><country code=\"US\" name=\"United States\"/></city><url>http://www.setlist.fm/venue/the-fremont-theatre-san-luis-obispo-ca-usa-3bd724bc.html</url></venue><sets/><url>http://www.setlist.fm/setlist/joyce-manor/2017/the-fremont-theatre-san-luis-obispo-ca-4be68bf6.html</url></setlist>,\n",
       " <setlist eventDate=\"06-03-2017\" id=\"bf9edfa\" lastUpdated=\"2017-03-04T03:40:53.000+0000\" tour=\"2017 U.S. Tour\" versionId=\"4b514ba2\"><artist disambiguation=\"\" mbid=\"70b166d1-b511-49f1-ad15-8b94603515d5\" name=\"Laura Stevenson\" sortName=\"Stevenson, Laura\" tmid=\"1840866\"><url>http://www.setlist.fm/setlists/laura-stevenson-3ddf977.html</url></artist><venue id=\"73d5ca6d\" name=\"Sweet Springs Saloon\"><city id=\"cu:aa19a1c6-06c7-11e6-b736-22000bb3106b\" name=\"San Luis Obispo\" state=\"California\" stateCode=\"CA\"><coords lat=\"35.0\" long=\"120.0\"/><country code=\"US\" name=\"United States\"/></city><url>http://www.setlist.fm/venue/sweet-springs-saloon-san-luis-obispo-ca-usa-73d5ca6d.html</url></venue><sets/><url>http://www.setlist.fm/setlist/laura-stevenson/2017/sweet-springs-saloon-san-luis-obispo-ca-bf9edfa.html</url></setlist>,\n",
       " <setlist eventDate=\"02-03-2017\" id=\"13e7b5a1\" lastUpdated=\"2017-05-06T17:17:52.000+0000\" versionId=\"235d542f\"><artist disambiguation=\"Pop-singer Devin Star Tailes\" mbid=\"7cc04f00-4c8f-40ea-894c-5f65777b3575\" name=\"Dev\" sortName=\"Dev\" tmid=\"1473413\"><url>http://www.setlist.fm/setlists/dev-7bd2ce88.html</url></artist><venue id=\"bd79da2\" name=\"SLO Brewing Company\"><city id=\"cu:aa19a1c6-06c7-11e6-b736-22000bb3106b\" name=\"San Luis Obispo\" state=\"California\" stateCode=\"CA\"><coords lat=\"35.0\" long=\"120.0\"/><country code=\"US\" name=\"United States\"/></city><url>http://www.setlist.fm/venue/slo-brewing-company-san-luis-obispo-ca-usa-bd79da2.html</url></venue><sets><set><song name=\"Bass Down Low\"/></set></sets><url>http://www.setlist.fm/setlist/dev/2017/slo-brewing-company-san-luis-obispo-ca-13e7b5a1.html</url></setlist>,\n",
       " <setlist eventDate=\"25-02-2017\" id=\"73f9ded9\" lastUpdated=\"2017-03-07T03:04:40.000+0000\" versionId=\"135e9941\"><artist disambiguation=\"\" mbid=\"d4a9be59-13e5-481b-8c68-833c5c1fd458\" name=\"matt pond PA\" sortName=\"matt pond PA\" tmid=\"926482\"><url>http://www.setlist.fm/setlists/matt-pond-pa-7bd69a30.html</url></artist><venue id=\"bd565be\" name=\"Living Room\"><city id=\"cu:aa19a1c6-06c7-11e6-b736-22000bb3106b\" name=\"San Luis Obispo\" state=\"California\" stateCode=\"CA\"><coords lat=\"35.0\" long=\"120.0\"/><country code=\"US\" name=\"United States\"/></city><url>http://www.setlist.fm/venue/living-room-san-luis-obispo-ca-usa-bd565be.html</url></venue><sets/><url>http://www.setlist.fm/setlist/matt-pond-pa/2017/living-room-san-luis-obispo-ca-73f9ded9.html</url></setlist>,\n",
       " <setlist eventDate=\"20-02-2017\" id=\"33f9bc0d\" lastUpdated=\"2017-02-19T07:49:27.000+0000\" tour=\"Mad Love Tour\" versionId=\"2351809f\"><artist disambiguation=\"US pop/R&amp;B singer and actress Joanna Levesque\" mbid=\"ed29398b-bbf3-42a0-8eff-8631509c271d\" name=\"JoJo\" sortName=\"JoJo\" tmid=\"745918\"><url>http://www.setlist.fm/setlists/jojo-4bd6bfb2.html</url></artist><venue id=\"3bd724bc\" name=\"The Fremont Theatre\"><city id=\"cu:aa19a1c6-06c7-11e6-b736-22000bb3106b\" name=\"San Luis Obispo\" state=\"California\" stateCode=\"CA\"><coords lat=\"35.0\" long=\"120.0\"/><country code=\"US\" name=\"United States\"/></city><url>http://www.setlist.fm/venue/the-fremont-theatre-san-luis-obispo-ca-usa-3bd724bc.html</url></venue><sets/><url>http://www.setlist.fm/setlist/jojo/2017/the-fremont-theatre-san-luis-obispo-ca-33f9bc0d.html</url></setlist>,\n",
       " <setlist eventDate=\"19-02-2017\" id=\"bf9b526\" lastUpdated=\"2017-02-22T04:40:09.000+0000\" versionId=\"4351d7f3\"><artist disambiguation=\"\" mbid=\"4a51d885-9445-4e6a-a171-36e2d51dcfa0\" name=\"The Growlers\" sortName=\"Growlers, The\" tmid=\"1405386\"><url>http://www.setlist.fm/setlists/the-growlers-23d4304f.html</url></artist><venue id=\"3bd724bc\" name=\"The Fremont Theatre\"><city id=\"cu:aa19a1c6-06c7-11e6-b736-22000bb3106b\" name=\"San Luis Obispo\" state=\"California\" stateCode=\"CA\"><coords lat=\"35.0\" long=\"120.0\"/><country code=\"US\" name=\"United States\"/></city><url>http://www.setlist.fm/venue/the-fremont-theatre-san-luis-obispo-ca-usa-3bd724bc.html</url></venue><sets><set><song name=\"Wandering Eyes\"/><song name=\"Big Toe\"/><song name=\"Old Cold River\"/><song name=\"Naked Kids\"/><song name=\"Night Ride\"/><song name=\"Dope on a Rope\"/><song name=\"Purgatory Drive\"/><song name=\"Feelin' good\"/><song name=\"One Million Lovers\"/><song name=\"Late Bloomer\"/><song name=\"Living in a Memory\"/><song name=\"Pet Shop Eyes\"/><song name=\"Badlands\"/><song name=\"Good Advice\"/><song name=\"Change in Your Veins\"/><song name=\"Gay Thoughts\"/><song name=\"Vacant Lot\"/><song name=\"Neverending Line\"/><song name=\"Too Many Times\"/><song name=\"Sea Lion Goth Blues\"/><song name=\"The Daisy Chain\"/><song name=\"Empty Bones\"/><song name=\"City Club\"/><song name=\"Chinese Fountain\"/><song name=\"Good Name\"/><song name=\"Rubber &amp; Bone\"/><song name=\"I'll Be Around\"/></set><set encore=\"1\"><song name=\"Blood of a Mutt\"/><song name=\"Going Gets Tough\"/></set></sets><url>http://www.setlist.fm/setlist/the-growlers/2017/the-fremont-theatre-san-luis-obispo-ca-bf9b526.html</url></setlist>,\n",
       " <setlist eventDate=\"11-02-2017\" id=\"23f87c5f\" lastUpdated=\"2017-02-09T00:11:57.000+0000\" versionId=\"53503b6d\"><artist disambiguation=\"\" mbid=\"1af32dd1-893d-43f3-8e09-af38a902d56f\" name=\"Brian Regan\" sortName=\"Regan, Brian\"><url>http://www.setlist.fm/setlists/brian-regan-3bd64484.html</url></artist><venue id=\"73d672f9\" name=\"Christopher Cohan Performing Arts Center\"><city id=\"cu:aa19a1c6-06c7-11e6-b736-22000bb3106b\" name=\"San Luis Obispo\" state=\"California\" stateCode=\"CA\"><coords lat=\"35.0\" long=\"120.0\"/><country code=\"US\" name=\"United States\"/></city><url>http://www.setlist.fm/venue/christopher-cohan-performing-arts-center-san-luis-obispo-ca-usa-73d672f9.html</url></venue><sets/><url>http://www.setlist.fm/setlist/brian-regan/2017/christopher-cohan-performing-arts-center-san-luis-obispo-ca-23f87c5f.html</url></setlist>,\n",
       " <setlist eventDate=\"13-01-2017\" id=\"3f8addf\" lastUpdated=\"2017-05-05T02:54:25.000+0000\" tour=\"An Evening With Dawes\" versionId=\"35d6df3\"><artist disambiguation=\"US band\" mbid=\"59bc9caa-5700-4c77-9ab7-f089aa7a357f\" name=\"Dawes\" sortName=\"Dawes\" tmid=\"1393124\"><url>http://www.setlist.fm/setlists/dawes-13d7f119.html</url></artist><venue id=\"3bd724bc\" name=\"The Fremont Theatre\"><city id=\"cu:aa19a1c6-06c7-11e6-b736-22000bb3106b\" name=\"San Luis Obispo\" state=\"California\" stateCode=\"CA\"><coords lat=\"35.0\" long=\"120.0\"/><country code=\"US\" name=\"United States\"/></city><url>http://www.setlist.fm/venue/the-fremont-theatre-san-luis-obispo-ca-usa-3bd724bc.html</url></venue><sets><set><song name=\"One of Us\"/><song name=\"Time Spent in Los Angeles\"/><song name=\"Most People\"/><song name=\"Coming Back to a Man\"/><song name=\"Don't Send Me Away\"/><song name=\"Picture Of A Man\"/><song name=\"Quitter\"/><song name=\"A Little Bit of Everything\"/><song name=\"When the Tequila Runs Out\"/><song name=\"From the Right Angle\"/><song name=\"When My Time Comes\"/><song name=\"Less Than Five Miles Away\"><info>End of Set 1</info></song><song name=\"For No Good Reason\"/><song name=\"How Far We've Come\"/><song name=\"Hey Lover\"><cover disambiguation=\"\" mbid=\"c13101d0-cc31-4df3-a156-b9a29ca39825\" name=\"Blake Mills\" sortName=\"Mills, Blake\" tmid=\"1650670\"><url>http://www.setlist.fm/setlists/blake-mills-bd239d6.html</url></cover></song><song name=\"Roll With the Punches\"/><song name=\"From a Window Seat\"/><song name=\"Things Happen\"/><song name=\"Million Dollar Bill\"><cover disambiguation=\"\" mbid=\"6ea28f86-a4fc-4902-9594-2e913db54059\" name=\"Middle Brother\" sortName=\"Middle Brother\" tmid=\"1543299\"><url>http://www.setlist.fm/setlists/middle-brother-43d203af.html</url></cover></song><song name=\"I Can't Think About It Now\"/><song name=\"If I Wanted Someone\"/><song name=\"We're All Gonna Die\"/></set><set encore=\"1\"><song name=\"Fire Away\"/><song name=\"All Your Favorite Bands\"/></set></sets><url>http://www.setlist.fm/setlist/dawes/2017/the-fremont-theatre-san-luis-obispo-ca-3f8addf.html</url></setlist>,\n",
       " <setlist eventDate=\"31-12-2016\" id=\"23fb705b\" lastUpdated=\"2016-12-29T18:21:29.000+0000\" versionId=\"1352cdfd\"><artist disambiguation=\"\" mbid=\"cf66ee44-360b-445e-bfb8-e20e69325742\" name=\"Donavon Frankenreiter\" sortName=\"Frankenreiter, Donavon\" tmid=\"953083\"><url>http://www.setlist.fm/setlists/donavon-frankenreiter-33d6a419.html</url></artist><venue id=\"3bd724bc\" name=\"The Fremont Theatre\"><city id=\"cu:aa19a1c6-06c7-11e6-b736-22000bb3106b\" name=\"San Luis Obispo\" state=\"California\" stateCode=\"CA\"><coords lat=\"35.0\" long=\"120.0\"/><country code=\"US\" name=\"United States\"/></city><url>http://www.setlist.fm/venue/the-fremont-theatre-san-luis-obispo-ca-usa-3bd724bc.html</url></venue><sets/><url>http://www.setlist.fm/setlist/donavon-frankenreiter/2016/the-fremont-theatre-san-luis-obispo-ca-23fb705b.html</url></setlist>,\n",
       " <setlist eventDate=\"15-12-2016\" id=\"63fbc68f\" lastUpdated=\"2016-12-16T15:09:10.000+0000\" tour=\"2016 Fall Tour\" versionId=\"6b55762a\"><artist disambiguation=\"\" mbid=\"21e31312-bfc1-4425-a93b-bab5cc5969af\" name=\"Chris Robinson Brotherhood\" sortName=\"Robinson, Chris, Brotherhood\" tmid=\"1552626\"><url>http://www.setlist.fm/setlists/chris-robinson-brotherhood-7bdeaab0.html</url></artist><venue id=\"3bd724bc\" name=\"The Fremont Theatre\"><city id=\"cu:aa19a1c6-06c7-11e6-b736-22000bb3106b\" name=\"San Luis Obispo\" state=\"California\" stateCode=\"CA\"><coords lat=\"35.0\" long=\"120.0\"/><country code=\"US\" name=\"United States\"/></city><url>http://www.setlist.fm/venue/the-fremont-theatre-san-luis-obispo-ca-usa-3bd724bc.html</url></venue><sets><set><song name=\"Shake, Rattle and Roll\"><cover disambiguation=\"\" mbid=\"b168bb54-825d-4bef-bb49-b02fa3ca601b\" name=\"Big Joe Turner &amp; His Blues Kings\" sortName=\"Turner, Big Joe &amp; His Blues Kings\"><url>http://www.setlist.fm/setlists/big-joe-turner-and-his-blues-kings-23d08c07.html</url></cover></song><song name=\"New Cannonball Rag\"/><song name=\"The Music's Hot\"><cover disambiguation=\"\" mbid=\"dcf7b2e3-d3aa-41e4-bba5-40515122f209\" name=\"Slim Harpo\" sortName=\"Harpo, Slim\"><url>http://www.setlist.fm/setlists/slim-harpo-bd7199a.html</url></cover></song><song name=\"Meanwhile in the Gods...\"/><song name=\"California Hymn\"/><song name=\"Star or Stone\"/><song name=\"Forever as the Moon\"/><song name=\"Clear Blue Sky &amp; The Good Doctor\"><info>&gt;</info></song><song name=\"Never Been to Spain\"><cover disambiguation=\"\" mbid=\"2e359fac-9a6b-4436-9719-6170315e0072\" name=\"Hoyt Axton\" sortName=\"Axton, Hoyt\" tmid=\"1119466\"><url>http://www.setlist.fm/setlists/hoyt-axton-43d64f47.html</url></cover></song><song name=\"Shadow Cosmos\"/><song name=\"Narcissus Soaking Wet\"/><song name=\"Shore Power\"/></set><set encore=\"1\"><song name=\"Driving Wheel\"><cover disambiguation=\"\" mbid=\"fd98ba98-60e5-432a-859c-a1cb13287be7\" name=\"David Wiffen\" sortName=\"Wiffen, David\"><url>http://www.setlist.fm/setlists/david-wiffen-4bdedf5a.html</url></cover></song></set></sets><url>http://www.setlist.fm/setlist/chris-robinson-brotherhood/2016/the-fremont-theatre-san-luis-obispo-ca-63fbc68f.html</url></setlist>,\n",
       " <setlist eventDate=\"30-11-2016\" id=\"63e6dabf\" lastUpdated=\"2017-04-17T03:28:33.000+0000\" versionId=\"7b5c1e2c\"><artist disambiguation=\"\" mbid=\"f6c6ff48-5198-47dc-a7c5-fd733dc379a2\" name=\"Jake Shimabukuro\" sortName=\"Shimabukuro, Jake\" tmid=\"977545\"><url>http://www.setlist.fm/setlists/jake-shimabukuro-3bd65488.html</url></artist><venue id=\"3bd724bc\" name=\"The Fremont Theatre\"><city id=\"cu:aa19a1c6-06c7-11e6-b736-22000bb3106b\" name=\"San Luis Obispo\" state=\"California\" stateCode=\"CA\"><coords lat=\"35.0\" long=\"120.0\"/><country code=\"US\" name=\"United States\"/></city><url>http://www.setlist.fm/venue/the-fremont-theatre-san-luis-obispo-ca-usa-3bd724bc.html</url></venue><sets><set><song name=\"Galloping Seahorses\"/><song name=\"Me And Shirley T.\"/><song name=\"6/8\"/><song name=\"143\"/><song name=\"Celtic tune\"/><song name=\"Ichigo Ichie\"/><song name=\"Go for Broke\"/><song name=\"Tritone\"/><song name=\"Piano Forte\"/><song name=\"Travels\"/><song name=\"Medley\"/><song name=\"Bohemian Rhapsody\"><cover disambiguation=\"UK rock group\" mbid=\"0383dadf-2a4e-4d10-a46a-e9e041da8eb3\" name=\"Queen\" sortName=\"Queen\" tmid=\"845182\"><url>http://www.setlist.fm/setlists/queen-43d6e37f.html</url></cover></song><song name=\"Dragon\"/><song name=\"Motown\"/><song name=\"While My Guitar Gently Weeps\"><cover disambiguation=\"\" mbid=\"b10bbbfc-cf9e-42e0-be17-e2c3e1d2600d\" name=\"The Beatles\" sortName=\"Beatles, The\" tmid=\"735610\"><url>http://www.setlist.fm/setlists/the-beatles-23d6a88b.html</url></cover></song><song name=\"Kawika\"><cover mbid=\"2d165ba1-6fe4-40e2-a270-39f5b2d23ea3\" name=\"Peter Moon\" sortName=\"Moon, Peter\"><url>http://www.setlist.fm/setlists/peter-moon-43d41347.html</url></cover></song></set></sets><url>http://www.setlist.fm/setlist/jake-shimabukuro/2016/the-fremont-theatre-san-luis-obispo-ca-63e6dabf.html</url></setlist>,\n",
       " <setlist eventDate=\"25-11-2016\" id=\"3fba5a7\" lastUpdated=\"2016-12-02T19:40:05.000+0000\" tour=\"Thundering Herd\" versionId=\"3b55b8fc\"><artist disambiguation=\"\" mbid=\"de06bf59-4081-4f61-b589-93a92c3af448\" name=\"Kyle Gass Band\" sortName=\"Kyle Gass Band\"><url>http://www.setlist.fm/setlists/kyle-gass-band-33d88439.html</url></artist><venue id=\"6bd5d2b2\" name=\"SLO Brewing Company\"><city id=\"cu:aa19a1c6-06c7-11e6-b736-22000bb3106b\" name=\"San Luis Obispo\" state=\"California\" stateCode=\"CA\"><coords lat=\"35.0\" long=\"120.0\"/><country code=\"US\" name=\"United States\"/></city><url>http://www.setlist.fm/venue/slo-brewing-company-san-luis-obispo-ca-usa-6bd5d2b2.html</url></venue><sets><set><song name=\"Manchild\"/><song name=\"Gettin' the Band Back Together\"/><song name=\"Cakey\"/><song name=\"Regretta\"/></set></sets><url>http://www.setlist.fm/setlist/kyle-gass-band/2016/slo-brewing-company-san-luis-obispo-ca-3fba5a7.html</url></setlist>,\n",
       " <setlist eventDate=\"13-11-2016\" id=\"73f8be19\" lastUpdated=\"2017-01-08T13:19:20.000+0000\" versionId=\"735262ad\"><artist disambiguation=\"\" mbid=\"0a542cc6-528e-4830-a0bb-175348233052\" name=\"John Brown's Body\" sortName=\"John Brown's Body\"><url>http://www.setlist.fm/setlists/john-browns-body-4bd7d756.html</url></artist><venue id=\"63d5d2b3\" name=\"SLO Brewing Company\"><city id=\"cu:aa19a1c6-06c7-11e6-b736-22000bb3106b\" name=\"San Luis Obispo\" state=\"California\" stateCode=\"CA\"><coords lat=\"35.0\" long=\"120.0\"/><country code=\"US\" name=\"United States\"/></city><url>http://www.setlist.fm/venue/slo-brewing-company-san-luis-obispo-ca-usa-63d5d2b3.html</url></venue><sets/><url>http://www.setlist.fm/setlist/john-browns-body/2016/slo-brewing-company-san-luis-obispo-ca-73f8be19.html</url></setlist>,\n",
       " <setlist eventDate=\"11-11-2016\" id=\"23fa2077\" lastUpdated=\"2016-11-10T12:31:40.000+0000\" versionId=\"6b572a3e\"><artist disambiguation=\"\" mbid=\"0647615c-474d-411d-af43-b3089e39a3fc\" name=\"Plague Vendor\" sortName=\"Plague Vendor\"><url>http://www.setlist.fm/setlists/plague-vendor-43da7b87.html</url></artist><venue id=\"73d5ca6d\" name=\"Sweet Springs Saloon\"><city id=\"cu:aa19a1c6-06c7-11e6-b736-22000bb3106b\" name=\"San Luis Obispo\" state=\"California\" stateCode=\"CA\"><coords lat=\"35.0\" long=\"120.0\"/><country code=\"US\" name=\"United States\"/></city><url>http://www.setlist.fm/venue/sweet-springs-saloon-san-luis-obispo-ca-usa-73d5ca6d.html</url></venue><sets/><url>http://www.setlist.fm/setlist/plague-vendor/2016/sweet-springs-saloon-san-luis-obispo-ca-23fa2077.html</url></setlist>,\n",
       " <setlist eventDate=\"11-11-2016\" id=\"33fa2075\" lastUpdated=\"2016-11-10T12:31:58.000+0000\" versionId=\"7b572a3c\"><artist disambiguation=\"US hardcore punk band\" mbid=\"da9a1492-47c2-4e93-8b2b-04555be23efb\" name=\"OFF!\" sortName=\"OFF!\" tmid=\"1511523\"><url>http://www.setlist.fm/setlists/off-3d2015b.html</url></artist><venue id=\"73d5ca6d\" name=\"Sweet Springs Saloon\"><city id=\"cu:aa19a1c6-06c7-11e6-b736-22000bb3106b\" name=\"San Luis Obispo\" state=\"California\" stateCode=\"CA\"><coords lat=\"35.0\" long=\"120.0\"/><country code=\"US\" name=\"United States\"/></city><url>http://www.setlist.fm/venue/sweet-springs-saloon-san-luis-obispo-ca-usa-73d5ca6d.html</url></venue><sets/><url>http://www.setlist.fm/setlist/off/2016/sweet-springs-saloon-san-luis-obispo-ca-33fa2075.html</url></setlist>]"
      ]
     },
     "execution_count": 3,
     "metadata": {},
     "output_type": "execute_result"
    }
   ],
   "source": [
    "soup.find_all('setlist')"
   ]
  },
  {
   "cell_type": "markdown",
   "metadata": {},
   "source": [
    "Or, if we wanted to find all `<venue>` tags where `name=\"The Fremont Theatre\"`, we could do:"
   ]
  },
  {
   "cell_type": "code",
   "execution_count": 4,
   "metadata": {
    "collapsed": false
   },
   "outputs": [
    {
     "data": {
      "text/plain": [
       "10"
      ]
     },
     "execution_count": 4,
     "metadata": {},
     "output_type": "execute_result"
    }
   ],
   "source": [
    "len(soup.find_all('venue', {\"name\": \"The Fremont Theatre\"}))"
   ]
  },
  {
   "cell_type": "markdown",
   "metadata": {},
   "source": [
    "Remember, `soup` is a nested data structure, so we can also query within any tag that we find. For example, suppose we have a setlist tag. We can also use the `.find_all()` on a tag to search only within that tag.\n",
    "\n",
    "(Note: `.find()` just pulls the first instance of a tag. You should use it only when you are sure there is only one tag or when you only want one tag.)"
   ]
  },
  {
   "cell_type": "code",
   "execution_count": 5,
   "metadata": {
    "collapsed": false
   },
   "outputs": [
    {
     "data": {
      "text/plain": [
       "[<artist disambiguation=\"\" mbid=\"b7765a33-ed19-4d99-bc93-1e54efdbe255\" name=\"From Indian Lakes\" sortName=\"From Indian Lakes\" tmid=\"1484853\"><url>http://www.setlist.fm/setlists/from-indian-lakes-5bda27b4.html</url></artist>]"
      ]
     },
     "execution_count": 5,
     "metadata": {},
     "output_type": "execute_result"
    }
   ],
   "source": [
    "setlist = soup.find(\"setlist\")\n",
    "setlist.find_all(\"artist\")"
   ]
  },
  {
   "cell_type": "code",
   "execution_count": 6,
   "metadata": {
    "collapsed": false
   },
   "outputs": [
    {
     "data": {
      "text/plain": [
       "[<setlist eventDate=\"07-05-2017\" id=\"53e6437d\" lastUpdated=\"2017-05-05T07:17:53.000+0000\" tour=\"Spring 2017\" versionId=\"5b5d6fb0\"><artist disambiguation=\"\" mbid=\"b7765a33-ed19-4d99-bc93-1e54efdbe255\" name=\"From Indian Lakes\" sortName=\"From Indian Lakes\" tmid=\"1484853\"><url>http://www.setlist.fm/setlists/from-indian-lakes-5bda27b4.html</url></artist><venue id=\"13d55115\" name=\"SLO Guild Hall\"><city id=\"cu:aa19a1c6-06c7-11e6-b736-22000bb3106b\" name=\"San Luis Obispo\" state=\"California\" stateCode=\"CA\"><coords lat=\"35.0\" long=\"120.0\"/><country code=\"US\" name=\"United States\"/></city><url>http://www.setlist.fm/venue/slo-guild-hall-san-luis-obispo-ca-usa-13d55115.html</url></venue><sets/><url>http://www.setlist.fm/setlist/from-indian-lakes/2017/slo-guild-hall-san-luis-obispo-ca-53e6437d.html</url></setlist>]"
      ]
     },
     "execution_count": 6,
     "metadata": {},
     "output_type": "execute_result"
    }
   ],
   "source": [
    "artist = soup.find(\"artist\")\n",
    "artist.find_parents(\"setlist\")"
   ]
  },
  {
   "cell_type": "markdown",
   "metadata": {},
   "source": [
    "## Exercises"
   ]
  },
  {
   "cell_type": "markdown",
   "metadata": {},
   "source": [
    "**Question 1.** Flatten the data at the setlist level to obtain a data frame with one setlist per row. Note that there is always exactly one \"artist\" and \"venue\" per setlist, so these should be columns in your data frame. However, for repeated fields like \"song\", you will need to aggregate them into a single value."
   ]
  },
  {
   "cell_type": "code",
   "execution_count": 11,
   "metadata": {
    "collapsed": false
   },
   "outputs": [],
   "source": [
    "setlists = soup.find_all(\"setlist\")"
   ]
  },
  {
   "cell_type": "code",
   "execution_count": 17,
   "metadata": {
    "collapsed": false
   },
   "outputs": [
    {
     "data": {
      "text/html": [
       "<div>\n",
       "<table border=\"1\" class=\"dataframe\">\n",
       "  <thead>\n",
       "    <tr style=\"text-align: right;\">\n",
       "      <th></th>\n",
       "      <th>artist</th>\n",
       "      <th>songs</th>\n",
       "      <th>venue</th>\n",
       "    </tr>\n",
       "  </thead>\n",
       "  <tbody>\n",
       "    <tr>\n",
       "      <th>0</th>\n",
       "      <td>From Indian Lakes</td>\n",
       "      <td>0</td>\n",
       "      <td>SLO Guild Hall</td>\n",
       "    </tr>\n",
       "    <tr>\n",
       "      <th>1</th>\n",
       "      <td>Balance and Composure</td>\n",
       "      <td>0</td>\n",
       "      <td>SLO Guild Hall</td>\n",
       "    </tr>\n",
       "    <tr>\n",
       "      <th>2</th>\n",
       "      <td>Cage the Elephant</td>\n",
       "      <td>22</td>\n",
       "      <td>The Fremont Theatre</td>\n",
       "    </tr>\n",
       "    <tr>\n",
       "      <th>3</th>\n",
       "      <td>Tijuana Panthers</td>\n",
       "      <td>0</td>\n",
       "      <td>The Fremont Theatre</td>\n",
       "    </tr>\n",
       "    <tr>\n",
       "      <th>4</th>\n",
       "      <td>Runner</td>\n",
       "      <td>0</td>\n",
       "      <td>The Fremont Theatre</td>\n",
       "    </tr>\n",
       "    <tr>\n",
       "      <th>5</th>\n",
       "      <td>Joyce Manor</td>\n",
       "      <td>0</td>\n",
       "      <td>The Fremont Theatre</td>\n",
       "    </tr>\n",
       "    <tr>\n",
       "      <th>6</th>\n",
       "      <td>Laura Stevenson</td>\n",
       "      <td>0</td>\n",
       "      <td>Sweet Springs Saloon</td>\n",
       "    </tr>\n",
       "    <tr>\n",
       "      <th>7</th>\n",
       "      <td>Dev</td>\n",
       "      <td>1</td>\n",
       "      <td>SLO Brewing Company</td>\n",
       "    </tr>\n",
       "    <tr>\n",
       "      <th>8</th>\n",
       "      <td>matt pond PA</td>\n",
       "      <td>0</td>\n",
       "      <td>Living Room</td>\n",
       "    </tr>\n",
       "    <tr>\n",
       "      <th>9</th>\n",
       "      <td>JoJo</td>\n",
       "      <td>0</td>\n",
       "      <td>The Fremont Theatre</td>\n",
       "    </tr>\n",
       "    <tr>\n",
       "      <th>10</th>\n",
       "      <td>The Growlers</td>\n",
       "      <td>29</td>\n",
       "      <td>The Fremont Theatre</td>\n",
       "    </tr>\n",
       "    <tr>\n",
       "      <th>11</th>\n",
       "      <td>Brian Regan</td>\n",
       "      <td>0</td>\n",
       "      <td>Christopher Cohan Performing Arts Center</td>\n",
       "    </tr>\n",
       "    <tr>\n",
       "      <th>12</th>\n",
       "      <td>Dawes</td>\n",
       "      <td>24</td>\n",
       "      <td>The Fremont Theatre</td>\n",
       "    </tr>\n",
       "    <tr>\n",
       "      <th>13</th>\n",
       "      <td>Donavon Frankenreiter</td>\n",
       "      <td>0</td>\n",
       "      <td>The Fremont Theatre</td>\n",
       "    </tr>\n",
       "    <tr>\n",
       "      <th>14</th>\n",
       "      <td>Chris Robinson Brotherhood</td>\n",
       "      <td>13</td>\n",
       "      <td>The Fremont Theatre</td>\n",
       "    </tr>\n",
       "    <tr>\n",
       "      <th>15</th>\n",
       "      <td>Jake Shimabukuro</td>\n",
       "      <td>16</td>\n",
       "      <td>The Fremont Theatre</td>\n",
       "    </tr>\n",
       "    <tr>\n",
       "      <th>16</th>\n",
       "      <td>Kyle Gass Band</td>\n",
       "      <td>4</td>\n",
       "      <td>SLO Brewing Company</td>\n",
       "    </tr>\n",
       "    <tr>\n",
       "      <th>17</th>\n",
       "      <td>John Brown's Body</td>\n",
       "      <td>0</td>\n",
       "      <td>SLO Brewing Company</td>\n",
       "    </tr>\n",
       "    <tr>\n",
       "      <th>18</th>\n",
       "      <td>Plague Vendor</td>\n",
       "      <td>0</td>\n",
       "      <td>Sweet Springs Saloon</td>\n",
       "    </tr>\n",
       "    <tr>\n",
       "      <th>19</th>\n",
       "      <td>OFF!</td>\n",
       "      <td>0</td>\n",
       "      <td>Sweet Springs Saloon</td>\n",
       "    </tr>\n",
       "  </tbody>\n",
       "</table>\n",
       "</div>"
      ],
      "text/plain": [
       "                        artist  songs  \\\n",
       "0            From Indian Lakes      0   \n",
       "1        Balance and Composure      0   \n",
       "2            Cage the Elephant     22   \n",
       "3             Tijuana Panthers      0   \n",
       "4                       Runner      0   \n",
       "5                  Joyce Manor      0   \n",
       "6              Laura Stevenson      0   \n",
       "7                          Dev      1   \n",
       "8                 matt pond PA      0   \n",
       "9                         JoJo      0   \n",
       "10                The Growlers     29   \n",
       "11                 Brian Regan      0   \n",
       "12                       Dawes     24   \n",
       "13       Donavon Frankenreiter      0   \n",
       "14  Chris Robinson Brotherhood     13   \n",
       "15            Jake Shimabukuro     16   \n",
       "16              Kyle Gass Band      4   \n",
       "17           John Brown's Body      0   \n",
       "18               Plague Vendor      0   \n",
       "19                        OFF!      0   \n",
       "\n",
       "                                       venue  \n",
       "0                             SLO Guild Hall  \n",
       "1                             SLO Guild Hall  \n",
       "2                        The Fremont Theatre  \n",
       "3                        The Fremont Theatre  \n",
       "4                        The Fremont Theatre  \n",
       "5                        The Fremont Theatre  \n",
       "6                       Sweet Springs Saloon  \n",
       "7                        SLO Brewing Company  \n",
       "8                                Living Room  \n",
       "9                        The Fremont Theatre  \n",
       "10                       The Fremont Theatre  \n",
       "11  Christopher Cohan Performing Arts Center  \n",
       "12                       The Fremont Theatre  \n",
       "13                       The Fremont Theatre  \n",
       "14                       The Fremont Theatre  \n",
       "15                       The Fremont Theatre  \n",
       "16                       SLO Brewing Company  \n",
       "17                       SLO Brewing Company  \n",
       "18                      Sweet Springs Saloon  \n",
       "19                      Sweet Springs Saloon  "
      ]
     },
     "execution_count": 17,
     "metadata": {},
     "output_type": "execute_result"
    }
   ],
   "source": [
    "import pandas as pd\n",
    "setlist_data = {\n",
    "    \"artist\":[],\n",
    "    \"venue\":[],\n",
    "    \"songs\":[]\n",
    "}\n",
    "for setlist in setlists:\n",
    "    setlist_data[\"artist\"].append(setlist.find(\"artist\")[\"name\"])\n",
    "    setlist_data[\"venue\"].append(setlist.find(\"venue\")[\"name\"])\n",
    "    setlist_data[\"songs\"].append(len(setlist.find_all(\"song\")))\n",
    "\n",
    "setlist_data = pd.DataFrame(setlist_data)\n",
    "setlist_data"
   ]
  },
  {
   "cell_type": "markdown",
   "metadata": {},
   "source": [
    "**Question 2.** Flatten the data at the song level to obtain a data frame with one song per row. You will want to include information at higher levels, such as the artist and the venue."
   ]
  },
  {
   "cell_type": "code",
   "execution_count": 8,
   "metadata": {
    "collapsed": false
   },
   "outputs": [],
   "source": [
    "# YOUR CODE HERE."
   ]
  },
  {
   "cell_type": "code",
   "execution_count": 19,
   "metadata": {
    "collapsed": false
   },
   "outputs": [
    {
     "data": {
      "text/plain": [
       "[]"
      ]
     },
     "execution_count": 19,
     "metadata": {},
     "output_type": "execute_result"
    }
   ],
   "source": [
    "soup.find_all(\"setlist\", {\"artist\": \"Rihanna\"})"
   ]
  },
  {
   "cell_type": "code",
   "execution_count": null,
   "metadata": {
    "collapsed": true
   },
   "outputs": [],
   "source": []
  }
 ],
 "metadata": {
  "kernelspec": {
   "display_name": "Python 3",
   "language": "python",
   "name": "python3"
  },
  "language_info": {
   "codemirror_mode": {
    "name": "ipython",
    "version": 3
   },
   "file_extension": ".py",
   "mimetype": "text/x-python",
   "name": "python",
   "nbconvert_exporter": "python",
   "pygments_lexer": "ipython3",
   "version": "3.5.2"
  }
 },
 "nbformat": 4,
 "nbformat_minor": 2
}
