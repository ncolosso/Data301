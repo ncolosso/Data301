{
 "cells": [
  {
   "cell_type": "markdown",
   "metadata": {},
   "source": [
    "# Dealing with Categorical Inputs\n",
    "\n",
    "$$ f({\\bf x}) = \\beta_0 + \\beta_1 x_1 + \\beta_2 x_2 + ... + \\beta_p x_p $$\n",
    "\n",
    "In order for linear regression to make sense, the $x_j$s all have to be quantitative. But what if we want to incorporate categorical variables in our linear regression model? Like we did with textual data, we have to convert the categorical variables into quantitative variables.\n",
    "\n",
    "Let's start with the easy case first: a binary categorical variable (i.e., a categorical variable with two levels)."
   ]
  },
  {
   "cell_type": "code",
   "execution_count": 1,
   "metadata": {
    "collapsed": true
   },
   "outputs": [],
   "source": [
    "import pandas as pd\n",
    "import matplotlib.pyplot as plt\n",
    "%matplotlib inline\n",
    "\n",
    "data = pd.read_csv(\"/data/harris.csv\")"
   ]
  },
  {
   "cell_type": "markdown",
   "metadata": {},
   "source": [
    "## Binary Categorical Variables\n",
    "\n",
    "A binary categorical variable (like `Sex` in the Harris Bank data) has an obvious encoding as a quantitative variable; we can represent one level by 1 and the other by 0. Variables that are either 0 or 1 are also called **indicator variables** or **dummy variables**.\n",
    "\n",
    "Encode the categorical variable `Sex` as a dummy variable. Then, fit two linear regression models:\n",
    "\n",
    "1. a model that predicts `Bsal` from just `Sex`, and\n",
    "2. a model that predicts `Bsal` from both `Sex` and `Exper`."
   ]
  },
  {
   "cell_type": "code",
   "execution_count": 2,
   "metadata": {
    "collapsed": false
   },
   "outputs": [],
   "source": [
    "# YOUR CODE HERE\n",
    "import numpy as np\n",
    "\n",
    "data['BinarySex'] = 1*(data['Sex']=='Male')"
   ]
  },
  {
   "cell_type": "markdown",
   "metadata": {},
   "source": [
    "Extract the linear regression coefficient from the first model. Interpret the coefficient."
   ]
  },
  {
   "cell_type": "code",
   "execution_count": 3,
   "metadata": {
    "collapsed": true
   },
   "outputs": [],
   "source": [
    "# YOUR CODE HERE\n",
    "from sklearn.linear_model import LinearRegression\n",
    "model1 = LinearRegression()\n",
    "model2 = LinearRegression()"
   ]
  },
  {
   "cell_type": "code",
   "execution_count": 4,
   "metadata": {
    "collapsed": false
   },
   "outputs": [
    {
     "data": {
      "text/plain": [
       "array([ 818.02254098])"
      ]
     },
     "execution_count": 4,
     "metadata": {},
     "output_type": "execute_result"
    }
   ],
   "source": [
    "model1.fit(data[['BinarySex']], data['Bsal'])\n",
    "model1.coef_"
   ]
  },
  {
   "cell_type": "markdown",
   "metadata": {},
   "source": [
    "Males are predicted to have a starting salary of $818 higher than females."
   ]
  },
  {
   "cell_type": "code",
   "execution_count": 5,
   "metadata": {
    "collapsed": false
   },
   "outputs": [
    {
     "data": {
      "text/plain": [
       "array([ 814.05324408,    1.22838962])"
      ]
     },
     "execution_count": 5,
     "metadata": {},
     "output_type": "execute_result"
    }
   ],
   "source": [
    "model2.fit(data[['BinarySex', 'Exper']], data['Bsal'])\n",
    "model2.coef_"
   ]
  },
  {
   "cell_type": "markdown",
   "metadata": {},
   "source": [
    "For a man and a woman with the same leve of experience, we predict a man to make \\$814.05 more than a woman\n",
    "\n",
    "Holing gender constant, each additional month of experience yields an increased predicted salary of \\$1.22"
   ]
  },
  {
   "cell_type": "code",
   "execution_count": null,
   "metadata": {
    "collapsed": true
   },
   "outputs": [],
   "source": [
    "# YOUR CODE HERE"
   ]
  },
  {
   "cell_type": "markdown",
   "metadata": {},
   "source": [
    "_YOUR INTERPRETATION HERE_"
   ]
  },
  {
   "cell_type": "markdown",
   "metadata": {},
   "source": [
    "## General Categorical Variables\n",
    "\n",
    "To encode a general categorical variable, we'll need multiple quantitative variables. For example, suppose we treat `Educ` as a categorical variable with 5 levels (8, 10, 12, 15, 16). We can encode this categorical variable with 4 dummy variables:\n",
    "\n",
    "- The first variable, $x_1$, is 1 if `Educ == 10` and 0 otherwise.\n",
    "- The second variable, $x_2$, is 1 if `Educ == 12` and 0 otherwise.\n",
    "- The third variable, $x_3$, is 1 if `Educ == 15` and 0 otherwise.\n",
    "- The fourth variable, $x_4$, is 1 if `Educ == 16` and 0 otherwise.\n",
    "\n",
    "Then, we add all four of these variables to our regression model. Together, these 4 dummy variables represent the single categorical variable `Educ`.\n",
    "\n",
    "$$ f({\\bf x}) = \\beta_0 + \\underbrace{\\beta_1 x_1 + \\beta_2 x_2 + \\beta_3 x_3 + \\beta_4 x_4}_{\\tt{Educ}} + ... $$\n",
    "\n",
    "Notice that we left out one level (`Educ == 8`). This level serves as a baseline. The coefficients of the dummies of the other levels represent the effect of that education level, _relative to 8 years of education_. To see this, let's work out what the predicted salary would be for someone with each level of education:"
   ]
  },
  {
   "cell_type": "markdown",
   "metadata": {},
   "source": [
    "_COMPLETE THE FOLLOWING STATEMENTS WITH EXPRESSIONS IN TERMS OF $\\beta_0, \\beta_1, \\beta_2, \\beta_3, \\beta_4$._\n",
    "\n",
    "- For a person with 8 years of education, their predicted starting salary is: $\\beta_0$\n",
    "- For a person with 10 years of education, their predicted starting salary is: $\\beta_0 + \\beta_1$ \n",
    "- For a person with 12 years of education, their predicted starting salary is: $\\beta_0 + \\beta_2$\n",
    "- For a person with 15 years of education, their predicted starting salary is: $\\beta_0 + \\beta_3$\n",
    "- For a person with 16 years of education, their predicted starting salary is: $\\beta_0 + \\beta_4$"
   ]
  },
  {
   "cell_type": "code",
   "execution_count": 22,
   "metadata": {
    "collapsed": false
   },
   "outputs": [
    {
     "data": {
      "text/html": [
       "<div>\n",
       "<table border=\"1\" class=\"dataframe\">\n",
       "  <thead>\n",
       "    <tr style=\"text-align: right;\">\n",
       "      <th></th>\n",
       "      <th>10</th>\n",
       "      <th>12</th>\n",
       "      <th>15</th>\n",
       "      <th>16</th>\n",
       "    </tr>\n",
       "  </thead>\n",
       "  <tbody>\n",
       "    <tr>\n",
       "      <th>0</th>\n",
       "      <td>0</td>\n",
       "      <td>0</td>\n",
       "      <td>1</td>\n",
       "      <td>0</td>\n",
       "    </tr>\n",
       "    <tr>\n",
       "      <th>1</th>\n",
       "      <td>0</td>\n",
       "      <td>0</td>\n",
       "      <td>1</td>\n",
       "      <td>0</td>\n",
       "    </tr>\n",
       "    <tr>\n",
       "      <th>2</th>\n",
       "      <td>0</td>\n",
       "      <td>0</td>\n",
       "      <td>1</td>\n",
       "      <td>0</td>\n",
       "    </tr>\n",
       "  </tbody>\n",
       "</table>\n",
       "</div>"
      ],
      "text/plain": [
       "   10  12  15  16\n",
       "0   0   0   1   0\n",
       "1   0   0   1   0\n",
       "2   0   0   1   0"
      ]
     },
     "execution_count": 22,
     "metadata": {},
     "output_type": "execute_result"
    }
   ],
   "source": [
    "# Convert categorical variable to a matrix of dummy variables.\n",
    "X = pd.get_dummies(data[\"Educ\"])\n",
    "X = X.drop(8, axis=1)\n",
    "X.head(3)\n",
    "# Don't forget to drop one of the levels from X."
   ]
  },
  {
   "cell_type": "markdown",
   "metadata": {},
   "source": [
    "**Exercise 1**\n",
    "\n",
    "- Make a scatterplot of `Bsal` versus `Educ`.\n",
    "- Fit a linear regression model to predict `Bsal`, where `Educ` is treated as a quantitative variable. Plot the fitted function on the scatterplot.\n",
    "- Fit a linear regression model to predict `Bsal`, where `Educ` is treated as a categorical variable. Plot the fitted function on the scatterplot.\n",
    "\n",
    "How do the two models differ?"
   ]
  },
  {
   "cell_type": "code",
   "execution_count": 33,
   "metadata": {
    "collapsed": false
   },
   "outputs": [
    {
     "data": {
      "text/plain": [
       "<matplotlib.text.Text at 0x7f93b48ff048>"
      ]
     },
     "execution_count": 33,
     "metadata": {},
     "output_type": "execute_result"
    },
    {
     "data": {
      "image/png": "[encoded data removed]",
      "text/plain": [
       "<matplotlib.figure.Figure at 0x7f93b48ebac8>"
      ]
     },
     "metadata": {},
     "output_type": "display_data"
    }
   ],
   "source": [
    "plt.scatter(x=data['Educ'], y=data['Bsal'])\n",
    "plt.xlabel('Education (Years)')\n",
    "plt.ylabel('Bsal')"
   ]
  },
  {
   "cell_type": "code",
   "execution_count": 44,
   "metadata": {
    "collapsed": false
   },
   "outputs": [
    {
     "data": {
      "text/plain": [
       "[<matplotlib.lines.Line2D at 0x7f93b46e3780>]"
      ]
     },
     "execution_count": 44,
     "metadata": {},
     "output_type": "execute_result"
    },
    {
     "data": {
      "image/png": "[encoded data removed]",
      "text/plain": [
       "<matplotlib.figure.Figure at 0x7f93b46e3588>"
      ]
     },
     "metadata": {},
     "output_type": "display_data"
    }
   ],
   "source": [
    "# YOUR CODE HERE\n",
    "import numpy as np\n",
    "\n",
    "data.plot.scatter(x='Educ', y='Bsal')\n",
    "\n",
    "modelQ = LinearRegression()\n",
    "modelQ.fit(data[['Educ']], data['Bsal'])\n",
    "\n",
    "X_new = pd.DataFrame({\n",
    "        'Educ': np.arange(8, 17)\n",
    "    })\n",
    "\n",
    "y_new = modelQ.predict(X_new)\n",
    "plt.plot(X_new, y_new, 'r-')\n",
    "\n",
    "modelC = LinearRegression()\n",
    "modelC.fit(X, data['Bsal'])\n",
    "\n",
    "X_new = pd.get_dummies(pd.Series([8, 10, 12, 15, 16], name='Educ')).drop(8, axis=1)\n",
    "\n",
    "y_new = modelC.predict(X_new)\n",
    "plt.plot([8, 10, 12, 15, 16], y_new, 'k--')"
   ]
  },
  {
   "cell_type": "markdown",
   "metadata": {},
   "source": [
    "**Exercise 2**\n",
    "\n",
    "Fit a linear regression model to predict `Bsal` from `Exper` (a quantitative variable) and `Educ` (a categorical variable). Predict the starting salary of someone with 3 years of experience and 15 years of education.\n",
    "\n",
    "_Hint:_ Once you have already fit an encoding `enc`, you can encode subsequent values by calling `enc.transform()`."
   ]
  },
  {
   "cell_type": "code",
   "execution_count": 50,
   "metadata": {
    "collapsed": false
   },
   "outputs": [
    {
     "data": {
      "text/plain": [
       "array([ 5729.48787407])"
      ]
     },
     "execution_count": 50,
     "metadata": {},
     "output_type": "execute_result"
    }
   ],
   "source": [
    "# YOUR CODE HERE\n",
    "X = pd.get_dummies(data['Educ']).drop(8, axis=1)\n",
    "X['Exper'] = data['Exper']\n",
    "\n",
    "model = LinearRegression()\n",
    "model.fit(X, data['Bsal'])\n",
    "\n",
    "model.predict([[0, 0, 1, 0, 36.0]])"
   ]
  },
  {
   "cell_type": "code",
   "execution_count": null,
   "metadata": {
    "collapsed": true
   },
   "outputs": [],
   "source": []
  }
 ],
 "metadata": {
  "kernelspec": {
   "display_name": "Python 3",
   "language": "python",
   "name": "python3"
  },
  "language_info": {
   "codemirror_mode": {
    "name": "ipython",
    "version": 3
   },
   "file_extension": ".py",
   "mimetype": "text/x-python",
   "name": "python",
   "nbconvert_exporter": "python",
   "pygments_lexer": "ipython3",
   "version": "3.5.2"
  }
 },
 "nbformat": 4,
 "nbformat_minor": 2
}
