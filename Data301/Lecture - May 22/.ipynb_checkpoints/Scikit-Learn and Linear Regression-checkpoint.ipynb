{
 "cells": [
  {
   "cell_type": "markdown",
   "metadata": {},
   "source": [
    "# Scikit-Learn and Linear Regression\n",
    "\n",
    "[scikit-learn](http://scikit-learn.org/) is the standard machine learning package in Python. It brings many different machine learning methods (including linear regression, $k$-nearest neighbors, and decision trees) all under one common API.\n",
    "\n",
    "In this workbook, you will learn the scikit-learn API and use it to fit linear regression models. We'll use the Harris Bank data set."
   ]
  },
  {
   "cell_type": "code",
   "execution_count": 1,
   "metadata": {
    "collapsed": true
   },
   "outputs": [],
   "source": [
    "import numpy as np\n",
    "import pandas as pd\n",
    "\n",
    "import matplotlib.pyplot as plt\n",
    "%matplotlib inline"
   ]
  },
  {
   "cell_type": "code",
   "execution_count": 2,
   "metadata": {
    "collapsed": true
   },
   "outputs": [],
   "source": [
    "data = pd.read_csv(\"/data/harris.csv\")"
   ]
  },
  {
   "cell_type": "markdown",
   "metadata": {},
   "source": [
    "## The scikit-learn API and Simple Linear Regression\n",
    "\n",
    "Once you've learned how to fit one machine learning model with scikit-learn, you've learned to fit them all. The steps are the same for any machine learning model.\n",
    "\n",
    "1. Specify a model.\n",
    "2. Fit the model to training data by calling `model.fit(X, y)`, where `X` is a \"matrix\" of inputs/predictors and `y` is a \"vector\" of corresponding outputs/responses/decisions.\n",
    "3. Call `model.predict(X_new)` to predict the outputs for a new set of inputs `X_new`. `X_new` must have the same columns as `X`.\n",
    "\n",
    "Now let's use this API to add the best-fit line to the scatterplot of `Exper` and `Bsal`."
   ]
  },
  {
   "cell_type": "markdown",
   "metadata": {},
   "source": [
    "**Step 1.** Specify a model."
   ]
  },
  {
   "cell_type": "code",
   "execution_count": 3,
   "metadata": {
    "collapsed": true
   },
   "outputs": [],
   "source": [
    "from sklearn.linear_model import LinearRegression\n",
    "model = LinearRegression()"
   ]
  },
  {
   "cell_type": "markdown",
   "metadata": {},
   "source": [
    "**Step 2.** Fit the model to the training data. \n",
    "\n",
    "Notice the double brackets in `data[[\"Exper\"]]`. This is because the input `X` has to be a matrix (i.e., a DataFrame), even if there is only a single variable."
   ]
  },
  {
   "cell_type": "code",
   "execution_count": 4,
   "metadata": {
    "collapsed": false
   },
   "outputs": [
    {
     "data": {
      "text/plain": [
       "LinearRegression(copy_X=True, fit_intercept=True, n_jobs=1, normalize=False)"
      ]
     },
     "execution_count": 4,
     "metadata": {},
     "output_type": "execute_result"
    }
   ],
   "source": [
    "model.fit(X=data[[\"Exper\"]], y=data[\"Bsal\"])"
   ]
  },
  {
   "cell_type": "markdown",
   "metadata": {},
   "source": [
    "Now that the model has been fit, we can extract the fitted slope and intercept."
   ]
  },
  {
   "cell_type": "code",
   "execution_count": 5,
   "metadata": {
    "collapsed": false
   },
   "outputs": [
    {
     "data": {
      "text/plain": [
       "(array([ 1.30094385]), 5289.0216755830697)"
      ]
     },
     "execution_count": 5,
     "metadata": {},
     "output_type": "execute_result"
    }
   ],
   "source": [
    "model.coef_, model.intercept_"
   ]
  },
  {
   "cell_type": "markdown",
   "metadata": {},
   "source": [
    "**Step 3.** To plot the best-fit line, we could use the slope and intercept calculated above. But there is another way that generalizes better to more complex machine learning models. We can simply predict the value of `y` over a grid of `X` values using the fitted model."
   ]
  },
  {
   "cell_type": "code",
   "execution_count": 6,
   "metadata": {
    "collapsed": true
   },
   "outputs": [],
   "source": [
    "# Remember: X_new should look like the original X matrix\n",
    "X_new = pd.DataFrame({\n",
    "        \"Exper\": np.arange(0, 400)\n",
    "    })\n",
    "\n",
    "y_new = model.predict(X_new)"
   ]
  },
  {
   "cell_type": "markdown",
   "metadata": {},
   "source": [
    "Now you have all the pieces to make a scatterplot of `Exper` and `Bsal`, with the best-fit line superimposed."
   ]
  },
  {
   "cell_type": "code",
   "execution_count": 17,
   "metadata": {
    "collapsed": false
   },
   "outputs": [
    {
     "data": {
      "text/plain": [
       "[<matplotlib.lines.Line2D at 0x7f05108a2128>]"
      ]
     },
     "execution_count": 17,
     "metadata": {},
     "output_type": "execute_result"
    },
    {
     "data": {
      "image/png": "[encoded data removed]",
      "text/plain": [
       "<matplotlib.figure.Figure at 0x7f05108a20b8>"
      ]
     },
     "metadata": {},
     "output_type": "display_data"
    }
   ],
   "source": [
    "x = data['Exper']\n",
    "y = data['Bsal']\n",
    "plt.scatter(x,y)\n",
    "plt.plot(X_new, y_new, color='red')"
   ]
  },
  {
   "cell_type": "markdown",
   "metadata": {},
   "source": [
    "## Multiple Linear Regression\n",
    "\n",
    "Linear regression can be generalized to more than one variable. We assume that the decision $f({\\bf x})$ is based on a linear combination of $p$ input variables:\n",
    "\n",
    "$$ f({\\bf x}) = \\beta_0 + \\beta_1 x_1 + \\beta_2 x_2 + ... + \\beta_p x_p, $$\n",
    "\n",
    "and we find the coefficients $\\beta_j$ that minimize the discrepancy between $y$ and $f({\\bf x})$ on our training data.\n",
    "\n",
    "Fitting such a model in scikit-learn is just as easy, even though visualizing the fitted model is no longer straightforward."
   ]
  },
  {
   "cell_type": "markdown",
   "metadata": {},
   "source": [
    "**Exercise.** Fit a machine learning model to predict `Bsal`, given `Exper`, `Age`, and `Educ`. Then, use your model to predict the starting salary for a 24-year old with 15 years of education and 3 years of experience."
   ]
  },
  {
   "cell_type": "code",
   "execution_count": 30,
   "metadata": {
    "collapsed": false
   },
   "outputs": [
    {
     "data": {
      "text/plain": [
       "LinearRegression(copy_X=True, fit_intercept=True, n_jobs=1, normalize=False)"
      ]
     },
     "execution_count": 30,
     "metadata": {},
     "output_type": "execute_result"
    }
   ],
   "source": [
    "# YOUR CODE HERE.\n",
    "model = LinearRegression()\n",
    "\n",
    "model.fit(data[['Exper', 'Age', 'Educ']], data['Bsal'])"
   ]
  },
  {
   "cell_type": "code",
   "execution_count": 36,
   "metadata": {
    "collapsed": false
   },
   "outputs": [
    {
     "data": {
      "text/plain": [
       "array([ 5695.9314019])"
      ]
     },
     "execution_count": 36,
     "metadata": {},
     "output_type": "execute_result"
    }
   ],
   "source": [
    "X_new = pd.DataFrame({\n",
    "        'Exper':[36],\n",
    "        'Age':[24*12],\n",
    "        'Educ':[15],\n",
    "    })\n",
    "\n",
    "model.predict(X_new[['Exper', 'Age', 'Educ']])"
   ]
  },
  {
   "cell_type": "code",
   "execution_count": 37,
   "metadata": {
    "collapsed": false
   },
   "outputs": [
    {
     "data": {
      "text/html": [
       "<div>\n",
       "<table border=\"1\" class=\"dataframe\">\n",
       "  <thead>\n",
       "    <tr style=\"text-align: right;\">\n",
       "      <th></th>\n",
       "      <th>Exper</th>\n",
       "      <th>Age</th>\n",
       "      <th>Educ</th>\n",
       "    </tr>\n",
       "  </thead>\n",
       "  <tbody>\n",
       "    <tr>\n",
       "      <th>0</th>\n",
       "      <td>36</td>\n",
       "      <td>288</td>\n",
       "      <td>15</td>\n",
       "    </tr>\n",
       "  </tbody>\n",
       "</table>\n",
       "</div>"
      ],
      "text/plain": [
       "   Exper  Age  Educ\n",
       "0     36  288    15"
      ]
     },
     "execution_count": 37,
     "metadata": {},
     "output_type": "execute_result"
    }
   ],
   "source": [
    "X_new[['Exper', 'Age', 'Educ']]"
   ]
  },
  {
   "cell_type": "code",
   "execution_count": 38,
   "metadata": {
    "collapsed": false
   },
   "outputs": [
    {
     "data": {
      "text/plain": [
       "array([ 5695.9314019])"
      ]
     },
     "execution_count": 38,
     "metadata": {},
     "output_type": "execute_result"
    }
   ],
   "source": [
    "model.predict([[36, 24*12, 15]])"
   ]
  },
  {
   "cell_type": "code",
   "execution_count": null,
   "metadata": {
    "collapsed": true
   },
   "outputs": [],
   "source": []
  }
 ],
 "metadata": {
  "kernelspec": {
   "display_name": "Python 3",
   "language": "python",
   "name": "python3"
  },
  "language_info": {
   "codemirror_mode": {
    "name": "ipython",
    "version": 3
   },
   "file_extension": ".py",
   "mimetype": "text/x-python",
   "name": "python",
   "nbconvert_exporter": "python",
   "pygments_lexer": "ipython3",
   "version": "3.5.2"
  }
 },
 "nbformat": 4,
 "nbformat_minor": 2
}
