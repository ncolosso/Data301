{
 "cells": [
  {
   "cell_type": "markdown",
   "metadata": {},
   "source": [
    "# Estimating Test Error\n",
    "\n",
    "The purpose of building a machine learning model is to make decisions/predictions for _future_ data. Therefore, we are less interested in minimizing **training error** than we are in minimizing **test error**.\n",
    "\n",
    "To estimate test error, we split our data into two: a **training set**, which will be used to _fit_ the model, and a **test set**, which will be used to _evaluate_ the model."
   ]
  },
  {
   "cell_type": "code",
   "execution_count": 8,
   "metadata": {
    "collapsed": true
   },
   "outputs": [],
   "source": [
    "import pandas as pd\n",
    "data = pd.read_csv(\"/data/harris.csv\")"
   ]
  },
  {
   "cell_type": "markdown",
   "metadata": {},
   "source": [
    "**Exercise 1**\n",
    "\n",
    "First, split the Harris Bank data set into training and test sets. Then, estimate the test error of each of the following models:\n",
    "\n",
    "- $f(\\tt{Exper}) = \\beta_0 + \\beta_1 \\tt{Exper}$\n",
    "- $f(\\tt{Exper}) = \\beta_0 + \\beta_1 \\tt{Exper} + \\beta_2 \\tt{Exper}^2$\n",
    "- $f(\\tt{Exper}) = \\beta_0 + \\beta_1 \\tt{Exper} + \\beta_2 \\tt{Exper}^2 + \\beta_3 \\tt{Exper}^3$\n",
    "- $f(\\tt{Exper}) = \\beta_0 + \\beta_1 \\tt{Exper} + \\beta_2 \\tt{Exper}^2 + \\beta_3 \\tt{Exper}^3 + \\beta_4 \\tt{Exper}^4$\n",
    "\n",
    "Based on your analysis, which of the models to you prefer?"
   ]
  },
  {
   "cell_type": "code",
   "execution_count": 9,
   "metadata": {
    "collapsed": false
   },
   "outputs": [
    {
     "data": {
      "text/plain": [
       "755.67283389903673"
      ]
     },
     "execution_count": 9,
     "metadata": {},
     "output_type": "execute_result"
    }
   ],
   "source": [
    "# randomly split the data into training and test sets\n",
    "from sklearn.model_selection import train_test_split\n",
    "X_train, X_test, y_train, y_test = train_test_split(data[[\"Exper\"]], data[\"Bsal\"], test_size=10)\n",
    "\n",
    "\n",
    "# YOUR CODE HERE.\n",
    "import numpy as np\n",
    "from sklearn.linear_model import LinearRegression\n",
    "\n",
    "model1= LinearRegression()\n",
    "model1.fit(X_train, y_train)\n",
    "np.sqrt(((y_test - model1.predict(X_test))**2).mean())"
   ]
  },
  {
   "cell_type": "markdown",
   "metadata": {},
   "source": [
    "## $K$-Fold Cross Validation\n",
    "\n",
    "The problem with estimating test error from a single train-test split is that the variability in the estimate can be quite high. Depending on which random split we get, the estimate of the test error could be very different.\n",
    "\n",
    "One way to remedy this problem is to use _several_ train-test splits. Each train-test split produces a slightly different estimate of the test error; we can combine them into a single estimate by averaging.\n",
    "\n",
    "The standard way to obtain several train-test splits is to first divide the data set into $K$ parts, or **folds**. Each fold serves as the test set once, with the remaining data used for training. This procedure is known as **k-fold cross validation**. A schematic for cross-validation when $K=5$ is shown below.\n",
    "![5-fold cross-validation](5foldcv.png)\n",
    "\n",
    "Notice that this procedure gives us $K=5$ separate estimates of the test error, which we can then average to produce a single estimate."
   ]
  },
  {
   "cell_type": "markdown",
   "metadata": {},
   "source": [
    "It is not hard to implement cross-validation from scratch. (You should try it!) However, scikit-learn provides a convenient function, \n",
    "\n",
    "`cross_val_score(model, X, y, scoring, cv)`, \n",
    "\n",
    "that will divide up `X` and `y` into `cv` folds, fit `model` to the data with each fold left out, and calculate `scoring` between the predicted and actual $y$ values in each fold. You can read more about `cross_val_score` in the scikit-learn [documentation on cross-validation](http://scikit-learn.org/stable/modules/cross_validation.html)."
   ]
  },
  {
   "cell_type": "markdown",
   "metadata": {},
   "source": [
    "**Exercise 2**\n",
    "\n",
    "Repeat Exercise 1, estimating the test error of each of the following models\n",
    "\n",
    "- $f(\\tt{Exper}) = \\beta_0 + \\beta_1 \\tt{Exper}$\n",
    "- $f(\\tt{Exper}) = \\beta_0 + \\beta_1 \\tt{Exper} + \\beta_2 \\tt{Exper}^2$\n",
    "- $f(\\tt{Exper}) = \\beta_0 + \\beta_1 \\tt{Exper} + \\beta_2 \\tt{Exper}^2 + \\beta_3 \\tt{Exper}^3$\n",
    "- $f(\\tt{Exper}) = \\beta_0 + \\beta_1 \\tt{Exper} + \\beta_2 \\tt{Exper}^2 + \\beta_3 \\tt{Exper}^3 + \\beta_4 \\tt{Exper}^4$\n",
    "\n",
    "but use cross-validation instead of a single train-test split."
   ]
  },
  {
   "cell_type": "code",
   "execution_count": 10,
   "metadata": {
    "collapsed": false
   },
   "outputs": [
    {
     "name": "stdout",
     "output_type": "stream",
     "text": [
      "518189.584546\n",
      "480787.701237\n",
      "478182.043105\n",
      "431805.790591\n",
      "431141.035327\n",
      "435167.95771\n"
     ]
    }
   ],
   "source": [
    "from sklearn.model_selection import cross_val_score\n",
    "\n",
    "# YOUR CODE HERE.\n",
    "model = LinearRegression()\n",
    "\n",
    "print(-cross_val_score(model, data[['Exper']], data['Bsal'], cv=10, \n",
    "               scoring=\"neg_mean_squared_error\").mean())\n",
    "\n",
    "# quadratic\n",
    "data['Exper2'] = data['Exper']**2\n",
    "print(-cross_val_score(model, data[['Exper', 'Exper2']], data['Bsal'], cv=10, \n",
    "               scoring=\"neg_mean_squared_error\").mean())\n",
    "\n",
    "# cubic \n",
    "data['Exper3'] = data['Exper']**3\n",
    "print(-cross_val_score(model, data[['Exper', 'Exper2', 'Exper3']], data['Bsal'], cv=10, \n",
    "               scoring=\"neg_mean_squared_error\").mean())\n",
    "\n",
    "# quartic\n",
    "data['Exper4'] = data['Exper']**4\n",
    "print(-cross_val_score(model, data[['Exper', 'Exper2', 'Exper3', 'Exper4']], data['Bsal'], cv=10, \n",
    "               scoring=\"neg_mean_squared_error\").mean())\n",
    "\n",
    "# quintic\n",
    "data['Exper5'] = data['Exper']**5\n",
    "print(-cross_val_score(model, data[['Exper', 'Exper2', 'Exper3', 'Exper4', 'Exper5']], data['Bsal'], cv=10, \n",
    "               scoring=\"neg_mean_squared_error\").mean())\n",
    "\n",
    "# six\n",
    "data['Exper6'] = data['Exper']**6\n",
    "print(-cross_val_score(model, data[['Exper', 'Exper2', 'Exper3', 'Exper4', 'Exper5', 'Exper6']], data['Bsal'], cv=10, \n",
    "               scoring=\"neg_mean_squared_error\").mean())"
   ]
  },
  {
   "cell_type": "code",
   "execution_count": 46,
   "metadata": {
    "collapsed": false
   },
   "outputs": [
    {
     "data": {
      "text/html": [
       "<div>\n",
       "<table border=\"1\" class=\"dataframe\">\n",
       "  <thead>\n",
       "    <tr style=\"text-align: right;\">\n",
       "      <th></th>\n",
       "      <th>symboling</th>\n",
       "      <th>normalized-losses</th>\n",
       "      <th>make</th>\n",
       "      <th>fuel-type</th>\n",
       "      <th>aspiration</th>\n",
       "      <th>num-of-doors</th>\n",
       "      <th>body-style</th>\n",
       "      <th>drive-wheels</th>\n",
       "      <th>engine-location</th>\n",
       "      <th>wheel-base</th>\n",
       "      <th>...</th>\n",
       "      <th>engine-size</th>\n",
       "      <th>fuel-system</th>\n",
       "      <th>bore</th>\n",
       "      <th>stroke</th>\n",
       "      <th>compression-ratio</th>\n",
       "      <th>horsepower</th>\n",
       "      <th>peak-rpm</th>\n",
       "      <th>city-mpg</th>\n",
       "      <th>highway-mpg</th>\n",
       "      <th>price</th>\n",
       "    </tr>\n",
       "  </thead>\n",
       "  <tbody>\n",
       "    <tr>\n",
       "      <th>0</th>\n",
       "      <td>3</td>\n",
       "      <td>NaN</td>\n",
       "      <td>alfa-romero</td>\n",
       "      <td>gas</td>\n",
       "      <td>std</td>\n",
       "      <td>two</td>\n",
       "      <td>convertible</td>\n",
       "      <td>rwd</td>\n",
       "      <td>front</td>\n",
       "      <td>88.6</td>\n",
       "      <td>...</td>\n",
       "      <td>130</td>\n",
       "      <td>mpfi</td>\n",
       "      <td>3.47</td>\n",
       "      <td>2.68</td>\n",
       "      <td>9.0</td>\n",
       "      <td>111.0</td>\n",
       "      <td>5000.0</td>\n",
       "      <td>21</td>\n",
       "      <td>27</td>\n",
       "      <td>13495.0</td>\n",
       "    </tr>\n",
       "    <tr>\n",
       "      <th>1</th>\n",
       "      <td>3</td>\n",
       "      <td>NaN</td>\n",
       "      <td>alfa-romero</td>\n",
       "      <td>gas</td>\n",
       "      <td>std</td>\n",
       "      <td>two</td>\n",
       "      <td>convertible</td>\n",
       "      <td>rwd</td>\n",
       "      <td>front</td>\n",
       "      <td>88.6</td>\n",
       "      <td>...</td>\n",
       "      <td>130</td>\n",
       "      <td>mpfi</td>\n",
       "      <td>3.47</td>\n",
       "      <td>2.68</td>\n",
       "      <td>9.0</td>\n",
       "      <td>111.0</td>\n",
       "      <td>5000.0</td>\n",
       "      <td>21</td>\n",
       "      <td>27</td>\n",
       "      <td>16500.0</td>\n",
       "    </tr>\n",
       "    <tr>\n",
       "      <th>2</th>\n",
       "      <td>1</td>\n",
       "      <td>NaN</td>\n",
       "      <td>alfa-romero</td>\n",
       "      <td>gas</td>\n",
       "      <td>std</td>\n",
       "      <td>two</td>\n",
       "      <td>hatchback</td>\n",
       "      <td>rwd</td>\n",
       "      <td>front</td>\n",
       "      <td>94.5</td>\n",
       "      <td>...</td>\n",
       "      <td>152</td>\n",
       "      <td>mpfi</td>\n",
       "      <td>2.68</td>\n",
       "      <td>3.47</td>\n",
       "      <td>9.0</td>\n",
       "      <td>154.0</td>\n",
       "      <td>5000.0</td>\n",
       "      <td>19</td>\n",
       "      <td>26</td>\n",
       "      <td>16500.0</td>\n",
       "    </tr>\n",
       "    <tr>\n",
       "      <th>3</th>\n",
       "      <td>2</td>\n",
       "      <td>164.0</td>\n",
       "      <td>audi</td>\n",
       "      <td>gas</td>\n",
       "      <td>std</td>\n",
       "      <td>four</td>\n",
       "      <td>sedan</td>\n",
       "      <td>fwd</td>\n",
       "      <td>front</td>\n",
       "      <td>99.8</td>\n",
       "      <td>...</td>\n",
       "      <td>109</td>\n",
       "      <td>mpfi</td>\n",
       "      <td>3.19</td>\n",
       "      <td>3.40</td>\n",
       "      <td>10.0</td>\n",
       "      <td>102.0</td>\n",
       "      <td>5500.0</td>\n",
       "      <td>24</td>\n",
       "      <td>30</td>\n",
       "      <td>13950.0</td>\n",
       "    </tr>\n",
       "    <tr>\n",
       "      <th>4</th>\n",
       "      <td>2</td>\n",
       "      <td>164.0</td>\n",
       "      <td>audi</td>\n",
       "      <td>gas</td>\n",
       "      <td>std</td>\n",
       "      <td>four</td>\n",
       "      <td>sedan</td>\n",
       "      <td>4wd</td>\n",
       "      <td>front</td>\n",
       "      <td>99.4</td>\n",
       "      <td>...</td>\n",
       "      <td>136</td>\n",
       "      <td>mpfi</td>\n",
       "      <td>3.19</td>\n",
       "      <td>3.40</td>\n",
       "      <td>8.0</td>\n",
       "      <td>115.0</td>\n",
       "      <td>5500.0</td>\n",
       "      <td>18</td>\n",
       "      <td>22</td>\n",
       "      <td>17450.0</td>\n",
       "    </tr>\n",
       "  </tbody>\n",
       "</table>\n",
       "<p>5 rows × 26 columns</p>\n",
       "</div>"
      ],
      "text/plain": [
       "   symboling  normalized-losses         make fuel-type aspiration  \\\n",
       "0          3                NaN  alfa-romero       gas        std   \n",
       "1          3                NaN  alfa-romero       gas        std   \n",
       "2          1                NaN  alfa-romero       gas        std   \n",
       "3          2              164.0         audi       gas        std   \n",
       "4          2              164.0         audi       gas        std   \n",
       "\n",
       "  num-of-doors   body-style drive-wheels engine-location  wheel-base   ...     \\\n",
       "0          two  convertible          rwd           front        88.6   ...      \n",
       "1          two  convertible          rwd           front        88.6   ...      \n",
       "2          two    hatchback          rwd           front        94.5   ...      \n",
       "3         four        sedan          fwd           front        99.8   ...      \n",
       "4         four        sedan          4wd           front        99.4   ...      \n",
       "\n",
       "   engine-size  fuel-system  bore  stroke compression-ratio horsepower  \\\n",
       "0          130         mpfi  3.47    2.68               9.0      111.0   \n",
       "1          130         mpfi  3.47    2.68               9.0      111.0   \n",
       "2          152         mpfi  2.68    3.47               9.0      154.0   \n",
       "3          109         mpfi  3.19    3.40              10.0      102.0   \n",
       "4          136         mpfi  3.19    3.40               8.0      115.0   \n",
       "\n",
       "   peak-rpm city-mpg  highway-mpg    price  \n",
       "0    5000.0       21           27  13495.0  \n",
       "1    5000.0       21           27  16500.0  \n",
       "2    5000.0       19           26  16500.0  \n",
       "3    5500.0       24           30  13950.0  \n",
       "4    5500.0       18           22  17450.0  \n",
       "\n",
       "[5 rows x 26 columns]"
      ]
     },
     "execution_count": 46,
     "metadata": {},
     "output_type": "execute_result"
    }
   ],
   "source": [
    "data = pd.read_csv(\"/data/automobile.csv\")\n",
    "data.head()"
   ]
  },
  {
   "cell_type": "code",
   "execution_count": 60,
   "metadata": {
    "collapsed": false
   },
   "outputs": [],
   "source": [
    "data = data[data['price'] != 0]"
   ]
  },
  {
   "cell_type": "code",
   "execution_count": 61,
   "metadata": {
    "collapsed": false
   },
   "outputs": [],
   "source": [
    "X = pd.get_dummies(data[\"body-style\"])\n",
    "X['length'] = data['length']\n",
    "X['width'] = data['width']\n",
    "X['height'] = data['height']\n",
    "X.replace([np.inf, -np.inf], np.nan)\n",
    "X = X.fillna(0)\n"
   ]
  },
  {
   "cell_type": "code",
   "execution_count": 62,
   "metadata": {
    "collapsed": false
   },
   "outputs": [
    {
     "data": {
      "text/plain": [
       "LinearRegression(copy_X=True, fit_intercept=True, n_jobs=1, normalize=False)"
      ]
     },
     "execution_count": 62,
     "metadata": {},
     "output_type": "execute_result"
    }
   ],
   "source": [
    "model = LinearRegression()\n",
    "data['city-mpg2'] = data['city-mpg']**2\n",
    "data['city-mpg3'] = data['city-mpg']**3\n",
    "model.fit(data[['city-mpg', 'city-mpg2', 'city-mpg3']], data['price'])"
   ]
  },
  {
   "cell_type": "code",
   "execution_count": 63,
   "metadata": {
    "collapsed": false
   },
   "outputs": [
    {
     "data": {
      "text/plain": [
       "(127481.68740930739,\n",
       " array([ -1.01956042e+04,   2.87049531e+02,  -2.66752889e+00]))"
      ]
     },
     "execution_count": 63,
     "metadata": {},
     "output_type": "execute_result"
    }
   ],
   "source": [
    "model.intercept_, model.coef_"
   ]
  },
  {
   "cell_type": "code",
   "execution_count": 65,
   "metadata": {
    "collapsed": false
   },
   "outputs": [
    {
     "name": "stdout",
     "output_type": "stream",
     "text": [
      "67600643.195\n",
      "68878069.8439\n",
      "61618496.8449\n",
      "63903959.3987\n"
     ]
    }
   ],
   "source": [
    "print(-cross_val_score(model, data[['height']], data['price'], cv=10, \n",
    "               scoring=\"neg_mean_squared_error\").mean())\n",
    "\n",
    "data['height2'] = data['height']**2\n",
    "print(-cross_val_score(model, data[['height', 'height2']], data['price'], cv=10, \n",
    "               scoring=\"neg_mean_squared_error\").mean())\n",
    "\n",
    "data['height3'] = data['height']**3\n",
    "print(-cross_val_score(model, data[['height', 'height2', 'height3']], data['price'], cv=10, \n",
    "               scoring=\"neg_mean_squared_error\").mean())\n",
    "\n",
    "data['height4'] = data['height']**4\n",
    "print(-cross_val_score(model, data[['height', 'height2', 'height3', 'height4']], data['price'], cv=10, \n",
    "               scoring=\"neg_mean_squared_error\").mean())"
   ]
  },
  {
   "cell_type": "code",
   "execution_count": null,
   "metadata": {
    "collapsed": true
   },
   "outputs": [],
   "source": []
  }
 ],
 "metadata": {
  "kernelspec": {
   "display_name": "Python 3",
   "language": "python",
   "name": "python3"
  },
  "language_info": {
   "codemirror_mode": {
    "name": "ipython",
    "version": 3
   },
   "file_extension": ".py",
   "mimetype": "text/x-python",
   "name": "python",
   "nbconvert_exporter": "python",
   "pygments_lexer": "ipython3",
   "version": "3.5.2"
  }
 },
 "nbformat": 4,
 "nbformat_minor": 2
}
