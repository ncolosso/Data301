{
 "cells": [
  {
   "cell_type": "markdown",
   "metadata": {},
   "source": [
    "# K-Nearest Neighbors in Scikit-Learn\n",
    "\n",
    "To fit a $k$-nearest neighbors model in scikit-learn, we follow the same general scikit-learn API:\n",
    "\n",
    "1. Specify the model. (For $k$-nearest neighbors, we use the `KNeighborsRegressor` model.)\n",
    "2. Fit the model with `model.fit(X, y)`.\n",
    "3. Predict the y-values for a new set of x-values with `model.predict(X_new)`."
   ]
  },
  {
   "cell_type": "code",
   "execution_count": 1,
   "metadata": {
    "collapsed": true
   },
   "outputs": [],
   "source": [
    "import numpy as np\n",
    "import pandas as pd\n",
    "import matplotlib.pyplot as plt\n",
    "\n",
    "%matplotlib inline\n",
    "\n",
    "data = pd.read_csv(\"/data/harris.csv\")"
   ]
  },
  {
   "cell_type": "markdown",
   "metadata": {},
   "source": [
    "**Exercise 1.** Fit a 4-nearest neighbors model to the Harris Bank data set. Then, use your model to predict the starting salary of an employee with 8 years (96 months) of experience and 15 years of education."
   ]
  },
  {
   "cell_type": "code",
   "execution_count": 2,
   "metadata": {
    "collapsed": false
   },
   "outputs": [
    {
     "data": {
      "text/plain": [
       "array([ 5400.])"
      ]
     },
     "execution_count": 2,
     "metadata": {},
     "output_type": "execute_result"
    }
   ],
   "source": [
    "from sklearn.neighbors import KNeighborsRegressor\n",
    "\n",
    "# YOUR CODE HERE\n",
    "model = KNeighborsRegressor(n_neighbors=4)\n",
    "model.fit(data[['Exper', 'Educ']], data['Bsal'])\n",
    "model.predict([[96, 15]])"
   ]
  },
  {
   "cell_type": "markdown",
   "metadata": {},
   "source": [
    "**Exercise 2.** Repeat Exercise 1, but first standardize the input variables (`Exper` and `Educ`) to have mean 0 and standard deviation 1. \n",
    "\n",
    "_Hint:_ It's not hard to standardize manually -- just calculate the means and SDs of all of your variables, subtract the means from the data frame, and divide by the SDs. Just remember to store the mean and SDs for later, since you'll also have to standardize test inputs in exactly the same way."
   ]
  },
  {
   "cell_type": "code",
   "execution_count": 3,
   "metadata": {
    "collapsed": false
   },
   "outputs": [
    {
     "data": {
      "text/plain": [
       "array([ 5910.])"
      ]
     },
     "execution_count": 3,
     "metadata": {},
     "output_type": "execute_result"
    }
   ],
   "source": [
    "# YOUR CODE HERE\n",
    "X = data[['Exper', 'Educ']]\n",
    "X_mean = X.mean()\n",
    "X_std = X.std()\n",
    "X_standardized = (X - X_mean)/X_std\n",
    "\n",
    "model2 = KNeighborsRegressor(n_neighbors=4)\n",
    "model2.fit(X_standardized, data['Bsal'])\n",
    "\n",
    "x_test = pd.Series({\n",
    "        'Exper':96,\n",
    "        'Educ':15\n",
    "    })\n",
    "\n",
    "model2.predict([(x_test - X_mean)/ X_std])"
   ]
  },
  {
   "cell_type": "markdown",
   "metadata": {},
   "source": [
    "**Exercise 3.** Use cross-validation to determine whether or not standardizing the input variables improves the predictive performance of your model."
   ]
  },
  {
   "cell_type": "code",
   "execution_count": 4,
   "metadata": {
    "collapsed": false
   },
   "outputs": [
    {
     "name": "stdout",
     "output_type": "stream",
     "text": [
      "452901.1875\n",
      "431459.125\n"
     ]
    }
   ],
   "source": [
    "from sklearn.model_selection import cross_val_score\n",
    "\n",
    "# YOUR CODE HERE\n",
    "print(-cross_val_score(model, data[['Exper', 'Educ']], data['Bsal'], cv=10, \n",
    "               scoring=\"neg_mean_squared_error\").mean())\n",
    "\n",
    "print(-cross_val_score(model2, X_standardized, data['Bsal'], cv=10, \n",
    "               scoring=\"neg_mean_squared_error\").mean())"
   ]
  },
  {
   "cell_type": "markdown",
   "metadata": {},
   "source": [
    "**Exercise 4.** Use cross-validation to determine the optimal value of $k$. Plot both the training and test error curves as a function of $k$."
   ]
  },
  {
   "cell_type": "code",
   "execution_count": 10,
   "metadata": {
    "collapsed": false
   },
   "outputs": [
    {
     "data": {
      "text/plain": [
       "<matplotlib.legend.Legend at 0x7fb0e24edef0>"
      ]
     },
     "execution_count": 10,
     "metadata": {},
     "output_type": "execute_result"
    },
    {
     "data": {
      "image/png": "[encoded data removed]",
      "text/plain": [
       "<matplotlib.figure.Figure at 0x7fb0e2639588>"
      ]
     },
     "metadata": {},
     "output_type": "display_data"
    }
   ],
   "source": [
    "# YOUR CODE HERE\n",
    "test = []\n",
    "train = []\n",
    "for n in range(1,50):\n",
    "    model = KNeighborsRegressor(n_neighbors=n)\n",
    "    model.fit(X_standardized, data['Bsal'])\n",
    "    test.append(-cross_val_score(model, X_standardized, data['Bsal'], cv=10, \n",
    "               scoring=\"neg_mean_squared_error\").mean())\n",
    "    train.append(((data['Bsal'] - model.predict(X_standardized))**2).mean())\n",
    "plt.plot(range(1,50), test, 'r-')\n",
    "plt.plot(range(1,50), train, 'b-')\n",
    "\n",
    "plt.ylabel('Error')\n",
    "plt.xlabel('k')\n",
    "plt.legend(['Test MSE', 'Training MSE'])"
   ]
  },
  {
   "cell_type": "code",
   "execution_count": null,
   "metadata": {
    "collapsed": false
   },
   "outputs": [],
   "source": []
  }
 ],
 "metadata": {
  "kernelspec": {
   "display_name": "Python 3",
   "language": "python",
   "name": "python3"
  },
  "language_info": {
   "codemirror_mode": {
    "name": "ipython",
    "version": 3
   },
   "file_extension": ".py",
   "mimetype": "text/x-python",
   "name": "python",
   "nbconvert_exporter": "python",
   "pygments_lexer": "ipython3",
   "version": "3.5.2"
  }
 },
 "nbformat": 4,
 "nbformat_minor": 2
}
