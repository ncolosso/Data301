{
 "cells": [
  {
   "cell_type": "markdown",
   "metadata": {},
   "source": [
    "# K-Nearest Neighbors from Scratch\n",
    "\n",
    "In this notebook, you will implement your own version of $k$-nearest neighbors. Of course, $k$-nearest neighbors is implemented in Scikit-Learn, so there is no real reason to build it ourselves."
   ]
  },
  {
   "cell_type": "code",
   "execution_count": 1,
   "metadata": {
    "collapsed": true
   },
   "outputs": [],
   "source": [
    "import numpy as np\n",
    "import pandas as pd\n",
    "import matplotlib.pyplot as plt\n",
    "\n",
    "%matplotlib inline\n",
    "\n",
    "data = pd.read_csv(\"/data/harris.csv\")"
   ]
  },
  {
   "cell_type": "markdown",
   "metadata": {},
   "source": [
    "**Exercise 1.** Write one-off code to predict the starting salary of an employee with 8 years (96 months) of experience and 15 years of education, based on the 4-nearest neighbors according to Euclidean distance."
   ]
  },
  {
   "cell_type": "code",
   "execution_count": 36,
   "metadata": {
    "collapsed": true
   },
   "outputs": [],
   "source": [
    "def euclidean_distance(x1, x2):\n",
    "    return np.sqrt(sum((x1 - x2) ** 2))"
   ]
  },
  {
   "cell_type": "code",
   "execution_count": 25,
   "metadata": {
    "collapsed": false
   },
   "outputs": [
    {
     "data": {
      "text/plain": [
       "5400.0"
      ]
     },
     "execution_count": 25,
     "metadata": {},
     "output_type": "execute_result"
    }
   ],
   "source": [
    "X_train = data[[\"Exper\", \"Educ\"]]\n",
    "y_train = data[\"Bsal\"]\n",
    "\n",
    "x_test = pd.Series({\n",
    "        \"Exper\": 96,\n",
    "        \"Educ\": 15\n",
    "    })\n",
    "\n",
    "# YOUR CODE HERE\n",
    "dists = np.sqrt(((X_train - x_test)**2).sum(axis=1))\n",
    "y_train.loc[dists.nsmallest().index[:4]].mean()"
   ]
  },
  {
   "cell_type": "markdown",
   "metadata": {},
   "source": [
    "**Exercise 2.** Write a general function, `k_nearest_neighbors`, that takes in `X_train`, `y_train`, $k$, and a distance function, and predicts the response for a new input value `x_test`."
   ]
  },
  {
   "cell_type": "code",
   "execution_count": 41,
   "metadata": {
    "collapsed": false
   },
   "outputs": [
    {
     "data": {
      "text/plain": [
       "array([ 1203.1758236 ,   805.49053377])"
      ]
     },
     "execution_count": 41,
     "metadata": {},
     "output_type": "execute_result"
    }
   ],
   "source": [
    "euclidean_distance(X_train.values, x_test.values)"
   ]
  },
  {
   "cell_type": "code",
   "execution_count": 42,
   "metadata": {
    "collapsed": false
   },
   "outputs": [],
   "source": [
    "def k_nearest_neighbors(x_test, X_train, y_train, k, dist=euclidean_distance):\n",
    "    \"\"\"Predict output value for x_test based on the k-nearest training observations.\n",
    "    \n",
    "    Args:\n",
    "      - x_test: the input for which we want to predict the output\n",
    "      - X_train: a DataFrame of training inputs\n",
    "      - y_train: a Series of training outputs\n",
    "      - k: how many nearest neighbors to use\n",
    "      - dist: a function that returns the distance between the two vectors\n",
    "      \n",
    "    Returns:\n",
    "      the predicted output value for x_test, obtained by averaging y_train for the\n",
    "      k observations in X_train that are closest to x_test\n",
    "    \"\"\"\n",
    "    # YOUR CODE HERE\n",
    "    def dist_from_x_test(x):\n",
    "        return dist(x, x_test)\n",
    "    \n",
    "    dists = X_train.apply(dist_from_x_test, axis=1)\n",
    "    return y_train[dists.nsmallest().index[:k]].mean()"
   ]
  },
  {
   "cell_type": "markdown",
   "metadata": {},
   "source": [
    "The code below tests the function that you wrote. The code should plot the estimated curve when you fit a k-nearest neighbors model to predict `Bsal` from `Exper`. \n",
    "\n",
    "Try modifying $k$. What happens to the curve as $k$ increases?"
   ]
  },
  {
   "cell_type": "code",
   "execution_count": 43,
   "metadata": {
    "collapsed": false
   },
   "outputs": [
    {
     "data": {
      "text/plain": [
       "<matplotlib.text.Text at 0x7f2978827ef0>"
      ]
     },
     "execution_count": 43,
     "metadata": {},
     "output_type": "execute_result"
    },
    {
     "data": {
      "image/png": "[encoded data removed]",
      "text/plain": [
       "<matplotlib.figure.Figure at 0x7f29799e4978>"
      ]
     },
     "metadata": {},
     "output_type": "display_data"
    }
   ],
   "source": [
    "# Plot the k-nearest neighbors model for predicting Bsal from Exper.\n",
    "k = 4\n",
    "x_new = range(0, 400)\n",
    "y_pred = [k_nearest_neighbors(np.array(x), data[[\"Exper\"]], data[\"Bsal\"], k) for x in x_new]\n",
    "\n",
    "data.plot.scatter(x=\"Exper\", y=\"Bsal\", alpha=.5)\n",
    "plt.plot(x_new, y_pred, 'r')\n",
    "plt.title(\"k = %d\" % k)"
   ]
  },
  {
   "cell_type": "markdown",
   "metadata": {
    "collapsed": true
   },
   "source": [
    "Notice how slow our function is. This is because we re-sort the data for each value we want to predict.\n",
    "\n",
    "A better implementation would sort the data once and store the sorted data in a specialized data structure that makes it fast to find the nearest neighbors for any test input. However, implementing such a routine is beyond the scope of this class. Instead, we will use Scikit-Learn's implementation of $k$-nearest neighbors, which does all of these optimizations under the hood."
   ]
  }
 ],
 "metadata": {
  "kernelspec": {
   "display_name": "Python 3",
   "language": "python",
   "name": "python3"
  },
  "language_info": {
   "codemirror_mode": {
    "name": "ipython",
    "version": 3
   },
   "file_extension": ".py",
   "mimetype": "text/x-python",
   "name": "python",
   "nbconvert_exporter": "python",
   "pygments_lexer": "ipython3",
   "version": "3.5.2"
  }
 },
 "nbformat": 4,
 "nbformat_minor": 2
}
