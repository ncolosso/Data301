{
 "cells": [
  {
   "cell_type": "markdown",
   "metadata": {},
   "source": [
    "# Exam 1"
   ]
  },
  {
   "cell_type": "markdown",
   "metadata": {},
   "source": [
    "## Honesty Pledge\n",
    "\n",
    "This exam is open-Internet. I understand that I am allowed to use any existing resources on the web, including web search, but I am not allowed to consult with any people during this exam. Giving and receiving help are both forbidden and will be prosecuted equally.\n",
    "\n",
    "I understand that the penalty for violating this pledge is a grade of **F** in the course and disciplinary action by the Office of Student Rights & Responsibilities. Please sign below to indicate that you have read and understood this pledge. Your project will not be graded unless you sign below."
   ]
  },
  {
   "cell_type": "markdown",
   "metadata": {
    "deletable": false,
    "nbgrader": {
     "checksum": "f69b5c8add4832cf5e4dcbea69b7d304",
     "grade": true,
     "grade_id": "pledge",
     "locked": false,
     "points": 0,
     "solution": true
    }
   },
   "source": [
    "YOUR ANSWER HERE"
   ]
  },
  {
   "cell_type": "markdown",
   "metadata": {},
   "source": [
    "## Description\n",
    "\n",
    "In this in-class project, we will revisit the baby names data from lecture. The data can be found in the directory `/data/babynames/`. The files in this directory are all of the form `yobXXXX.csv`, where `XXXX` is a year. Each file consists of rows specifying a name, a gender, and a count of how many babies with that name and gender were born in the year `XXXX`.\n",
    "\n",
    "We will begin by looking at data from the year 2010.\n",
    "\n",
    "**Remember:** vectorization > for loop > manually writing out every case. Partial credit will be awarded even for brute-force solutions!"
   ]
  },
  {
   "cell_type": "code",
   "execution_count": 1,
   "metadata": {
    "collapsed": true
   },
   "outputs": [],
   "source": [
    "import pandas as pd\n",
    "import numpy as np\n",
    "import matplotlib.pyplot as plt\n",
    "\n",
    "%matplotlib inline"
   ]
  },
  {
   "cell_type": "code",
   "execution_count": 2,
   "metadata": {
    "collapsed": false
   },
   "outputs": [],
   "source": [
    "data = pd.read_csv(\"/data/babynames/yob2010.txt\", names=[\"Name\", \"Gender\", \"Count\"])"
   ]
  },
  {
   "cell_type": "code",
   "execution_count": 3,
   "metadata": {
    "collapsed": false
   },
   "outputs": [
    {
     "data": {
      "text/html": [
       "<div>\n",
       "<table border=\"1\" class=\"dataframe\">\n",
       "  <thead>\n",
       "    <tr style=\"text-align: right;\">\n",
       "      <th></th>\n",
       "      <th>Name</th>\n",
       "      <th>Gender</th>\n",
       "      <th>Count</th>\n",
       "    </tr>\n",
       "  </thead>\n",
       "  <tbody>\n",
       "    <tr>\n",
       "      <th>0</th>\n",
       "      <td>Isabella</td>\n",
       "      <td>F</td>\n",
       "      <td>22890</td>\n",
       "    </tr>\n",
       "    <tr>\n",
       "      <th>1</th>\n",
       "      <td>Sophia</td>\n",
       "      <td>F</td>\n",
       "      <td>20623</td>\n",
       "    </tr>\n",
       "    <tr>\n",
       "      <th>2</th>\n",
       "      <td>Emma</td>\n",
       "      <td>F</td>\n",
       "      <td>17327</td>\n",
       "    </tr>\n",
       "    <tr>\n",
       "      <th>3</th>\n",
       "      <td>Olivia</td>\n",
       "      <td>F</td>\n",
       "      <td>17017</td>\n",
       "    </tr>\n",
       "    <tr>\n",
       "      <th>4</th>\n",
       "      <td>Ava</td>\n",
       "      <td>F</td>\n",
       "      <td>15421</td>\n",
       "    </tr>\n",
       "  </tbody>\n",
       "</table>\n",
       "</div>"
      ],
      "text/plain": [
       "       Name Gender  Count\n",
       "0  Isabella      F  22890\n",
       "1    Sophia      F  20623\n",
       "2      Emma      F  17327\n",
       "3    Olivia      F  17017\n",
       "4       Ava      F  15421"
      ]
     },
     "execution_count": 3,
     "metadata": {},
     "output_type": "execute_result"
    }
   ],
   "source": [
    "data.head()"
   ]
  },
  {
   "cell_type": "markdown",
   "metadata": {},
   "source": [
    "## Question 1 (10 points)\n",
    "\n",
    "How many babies born in 2010 (of either gender) had the same name as you? \n",
    "\n",
    "(Just write code in the cell below that outputs the final answer. No explanation required.)"
   ]
  },
  {
   "cell_type": "code",
   "execution_count": 4,
   "metadata": {
    "collapsed": false,
    "deletable": false,
    "nbgrader": {
     "checksum": "09bd9d7786cca4f1210120482541f87b",
     "grade": true,
     "grade_id": "same_name",
     "locked": false,
     "points": 10,
     "solution": true
    }
   },
   "outputs": [
    {
     "data": {
      "text/plain": [
       "19966    2390\n",
       "Name: Count, dtype: int64"
      ]
     },
     "execution_count": 4,
     "metadata": {},
     "output_type": "execute_result"
    }
   ],
   "source": [
    "data[data.Name == \"Nicolas\"][\"Count\"]"
   ]
  },
  {
   "cell_type": "markdown",
   "metadata": {},
   "source": [
    "## Question 2 (10 points)\n",
    "\n",
    "How many girls born in 2010 had names that began with the letter S?\n",
    "\n",
    "(Just write code in the cell below that outputs the final answer. No explanation required.)"
   ]
  },
  {
   "cell_type": "code",
   "execution_count": 5,
   "metadata": {
    "collapsed": false,
    "deletable": false,
    "nbgrader": {
     "checksum": "6550ff6d3c515b7d2191bc820bd87331",
     "grade": true,
     "grade_id": "begins_with_S",
     "locked": false,
     "points": 10,
     "solution": true
    }
   },
   "outputs": [
    {
     "data": {
      "text/plain": [
       "209323"
      ]
     },
     "execution_count": 5,
     "metadata": {},
     "output_type": "execute_result"
    }
   ],
   "source": [
    "data[data[\"Name\"].str[0] == \"S\"][\"Count\"].sum()"
   ]
  },
  {
   "cell_type": "markdown",
   "metadata": {},
   "source": [
    "## Question 3 (10 points)\n",
    "\n",
    "What was the most common first letter of names of babies born in 2010? What was the least common first letter? You may find `.str.get()` method of Pandas Series helpful.\n",
    "\n",
    "(Just write code in the cell below that outputs the final answer. No explanation required.)"
   ]
  },
  {
   "cell_type": "code",
   "execution_count": 6,
   "metadata": {
    "collapsed": false,
    "deletable": false,
    "nbgrader": {
     "checksum": "9aac49ee15ac01e17fb99d9c78503d2a",
     "grade": true,
     "grade_id": "first_letter",
     "locked": false,
     "points": 10,
     "solution": true
    }
   },
   "outputs": [
    {
     "name": "stdout",
     "output_type": "stream",
     "text": [
      "Max: A 4410\n",
      "Min: U 69\n"
     ]
    }
   ],
   "source": [
    "print(\"Max:\",data.groupby(data[\"Name\"].str.get(0))[\"Count\"].count().argmax(), data.groupby(data[\"Name\"].str.get(0))[\"Count\"].count().max())\n",
    "print(\"Min:\",data.groupby(data[\"Name\"].str.get(0))[\"Count\"].count().argmin(), data.groupby(data[\"Name\"].str.get(0))[\"Count\"].count().min())"
   ]
  },
  {
   "cell_type": "markdown",
   "metadata": {},
   "source": [
    "## Question 4a (10 points)\n",
    "\n",
    "How many of the 2010 names can serve as both boys' and girls' names?\n",
    "\n",
    "(Just write code in the cell below that outputs the final answer. No explanation required.)"
   ]
  },
  {
   "cell_type": "code",
   "execution_count": 7,
   "metadata": {
    "collapsed": false,
    "deletable": false,
    "nbgrader": {
     "checksum": "99be4021f8eff9ffe4f552ee689f2cd4",
     "grade": true,
     "grade_id": "double_names",
     "locked": false,
     "points": 10,
     "solution": true
    }
   },
   "outputs": [
    {
     "data": {
      "text/plain": [
       "2441"
      ]
     },
     "execution_count": 7,
     "metadata": {},
     "output_type": "execute_result"
    }
   ],
   "source": [
    "(data.groupby(\"Name\")[\"Gender\"].count() == 2).sum()"
   ]
  },
  {
   "cell_type": "markdown",
   "metadata": {},
   "source": [
    "## Question 4b (10 points)\n",
    "\n",
    "Obviously, most mixed-gender names are very heavily skewed towards one gender or the other. For example, \"William\" is technically a mixed-gender name, but only 14 girls in 2010 were named William, compared with 16570 boys. Similarly, \"Emma\" is technically a mixed-gender name, but only 18 boys in 2010 were named Emma.\n",
    "\n",
    "If we want to know which are the most gender-ambiguous names, we should sort the names by the frequency of the less common gender. This way, even though William is a very common name overall, it would not be at the top of the list since the frequency of its less common gender (female) is only 14. Likewise, the frequency of the less common gender of Emma (male) is 18.\n",
    "\n",
    "Sort the mixed-gender names in decreasing order by the frequency of the less common gender. What are the Top 5 gender-ambiguous names?\n",
    "\n",
    "(Just write code in the cell below that outputs the final answer. No explanation required.)"
   ]
  },
  {
   "cell_type": "code",
   "execution_count": 8,
   "metadata": {
    "collapsed": false,
    "deletable": false,
    "nbgrader": {
     "checksum": "2433d6bb11f14c125e1aefc2b1483c78",
     "grade": true,
     "grade_id": "ambiguous",
     "locked": false,
     "points": 10,
     "solution": true
    }
   },
   "outputs": [
    {
     "data": {
      "text/html": [
       "<div>\n",
       "<table border=\"1\" class=\"dataframe\">\n",
       "  <thead>\n",
       "    <tr style=\"text-align: right;\">\n",
       "      <th></th>\n",
       "      <th>Name</th>\n",
       "      <th>Gender_x</th>\n",
       "      <th>Count_x</th>\n",
       "      <th>Unisex_x</th>\n",
       "      <th>Gender_y</th>\n",
       "      <th>Count_y</th>\n",
       "      <th>Unisex_y</th>\n",
       "    </tr>\n",
       "  </thead>\n",
       "  <tbody>\n",
       "    <tr>\n",
       "      <th>0</th>\n",
       "      <td>Isabella</td>\n",
       "      <td>M</td>\n",
       "      <td>30</td>\n",
       "      <td>True</td>\n",
       "      <td>F</td>\n",
       "      <td>22890</td>\n",
       "      <td>True</td>\n",
       "    </tr>\n",
       "    <tr>\n",
       "      <th>1</th>\n",
       "      <td>Sophia</td>\n",
       "      <td>M</td>\n",
       "      <td>26</td>\n",
       "      <td>True</td>\n",
       "      <td>F</td>\n",
       "      <td>20623</td>\n",
       "      <td>True</td>\n",
       "    </tr>\n",
       "    <tr>\n",
       "      <th>2</th>\n",
       "      <td>Emma</td>\n",
       "      <td>M</td>\n",
       "      <td>17</td>\n",
       "      <td>True</td>\n",
       "      <td>F</td>\n",
       "      <td>17327</td>\n",
       "      <td>True</td>\n",
       "    </tr>\n",
       "    <tr>\n",
       "      <th>3</th>\n",
       "      <td>Olivia</td>\n",
       "      <td>M</td>\n",
       "      <td>28</td>\n",
       "      <td>True</td>\n",
       "      <td>F</td>\n",
       "      <td>17017</td>\n",
       "      <td>True</td>\n",
       "    </tr>\n",
       "    <tr>\n",
       "      <th>4</th>\n",
       "      <td>Ava</td>\n",
       "      <td>M</td>\n",
       "      <td>17</td>\n",
       "      <td>True</td>\n",
       "      <td>F</td>\n",
       "      <td>15421</td>\n",
       "      <td>True</td>\n",
       "    </tr>\n",
       "  </tbody>\n",
       "</table>\n",
       "</div>"
      ],
      "text/plain": [
       "       Name Gender_x  Count_x Unisex_x Gender_y  Count_y Unisex_y\n",
       "0  Isabella        M       30     True        F    22890     True\n",
       "1    Sophia        M       26     True        F    20623     True\n",
       "2      Emma        M       17     True        F    17327     True\n",
       "3    Olivia        M       28     True        F    17017     True\n",
       "4       Ava        M       17     True        F    15421     True"
      ]
     },
     "execution_count": 8,
     "metadata": {},
     "output_type": "execute_result"
    }
   ],
   "source": [
    "unisex = (data.groupby(\"Name\")[\"Gender\"].count() == 2).reset_index(name=\"Unisex\")\n",
    "data_merged = data.merge(unisex, how='right', on=[\"Name\"])\n",
    "males = data_merged[data_merged[\"Gender\"] == \"M\"]\n",
    "females = data_merged[data_merged[\"Gender\"] == \"F\"]\n",
    "data_clean = males.merge(females, on=[\"Name\"])\n",
    "data_clean.head()"
   ]
  },
  {
   "cell_type": "code",
   "execution_count": 9,
   "metadata": {
    "collapsed": false
   },
   "outputs": [
    {
     "name": "stderr",
     "output_type": "stream",
     "text": [
      "/opt/conda/lib/python3.5/site-packages/ipykernel/__main__.py:2: FutureWarning: sort(columns=....) is deprecated, use sort_values(by=.....)\n",
      "  from ipykernel import kernelapp as app\n"
     ]
    },
    {
     "data": {
      "text/html": [
       "<div>\n",
       "<table border=\"1\" class=\"dataframe\">\n",
       "  <thead>\n",
       "    <tr style=\"text-align: right;\">\n",
       "      <th></th>\n",
       "      <th>Name</th>\n",
       "      <th>Gender_x</th>\n",
       "      <th>Count_x</th>\n",
       "      <th>Unisex_x</th>\n",
       "      <th>Gender_y</th>\n",
       "      <th>Count_y</th>\n",
       "      <th>Unisex_y</th>\n",
       "      <th>FreqLess</th>\n",
       "    </tr>\n",
       "  </thead>\n",
       "  <tbody>\n",
       "    <tr>\n",
       "      <th>38</th>\n",
       "      <td>Riley</td>\n",
       "      <td>M</td>\n",
       "      <td>3640</td>\n",
       "      <td>True</td>\n",
       "      <td>F</td>\n",
       "      <td>5535</td>\n",
       "      <td>True</td>\n",
       "      <td>3640</td>\n",
       "    </tr>\n",
       "    <tr>\n",
       "      <th>48</th>\n",
       "      <td>Peyton</td>\n",
       "      <td>M</td>\n",
       "      <td>2641</td>\n",
       "      <td>True</td>\n",
       "      <td>F</td>\n",
       "      <td>4967</td>\n",
       "      <td>True</td>\n",
       "      <td>2641</td>\n",
       "    </tr>\n",
       "    <tr>\n",
       "      <th>112</th>\n",
       "      <td>Hayden</td>\n",
       "      <td>M</td>\n",
       "      <td>4183</td>\n",
       "      <td>True</td>\n",
       "      <td>F</td>\n",
       "      <td>1891</td>\n",
       "      <td>True</td>\n",
       "      <td>1891</td>\n",
       "    </tr>\n",
       "    <tr>\n",
       "      <th>114</th>\n",
       "      <td>Jordan</td>\n",
       "      <td>M</td>\n",
       "      <td>8224</td>\n",
       "      <td>True</td>\n",
       "      <td>F</td>\n",
       "      <td>1725</td>\n",
       "      <td>True</td>\n",
       "      <td>1725</td>\n",
       "    </tr>\n",
       "    <tr>\n",
       "      <th>21</th>\n",
       "      <td>Avery</td>\n",
       "      <td>M</td>\n",
       "      <td>1697</td>\n",
       "      <td>True</td>\n",
       "      <td>F</td>\n",
       "      <td>6670</td>\n",
       "      <td>True</td>\n",
       "      <td>1697</td>\n",
       "    </tr>\n",
       "  </tbody>\n",
       "</table>\n",
       "</div>"
      ],
      "text/plain": [
       "       Name Gender_x  Count_x Unisex_x Gender_y  Count_y Unisex_y  FreqLess\n",
       "38    Riley        M     3640     True        F     5535     True      3640\n",
       "48   Peyton        M     2641     True        F     4967     True      2641\n",
       "112  Hayden        M     4183     True        F     1891     True      1891\n",
       "114  Jordan        M     8224     True        F     1725     True      1725\n",
       "21    Avery        M     1697     True        F     6670     True      1697"
      ]
     },
     "execution_count": 9,
     "metadata": {},
     "output_type": "execute_result"
    }
   ],
   "source": [
    "data_clean[\"FreqLess\"] = (data_clean[[\"Count_x\", \"Count_y\"]].min(axis=1))\n",
    "data_clean.sort(columns=\"FreqLess\", ascending=False).head()"
   ]
  },
  {
   "cell_type": "markdown",
   "metadata": {},
   "source": [
    "## Question 5a (10 points)\n",
    "\n",
    "The **entropy** of a distribution is a measure of how diverse its values are. A distribution which is usually one of a handful of values is said to have \"low entropy\", while a distribution which takes on many different values is said to \n",
    "have \"high entropy\".\n",
    "\n",
    "How diverse are human names? Let's calculate the entropy of the distribution of names in 2010. If a distribution takes on n values, each one with probability $p_i$, then the entropy $H$ is defined as \n",
    "$$ H = -\\sum_{i=1}^n p_i \\log_2(p_i). $$\n",
    "\n",
    "Calculate the entropy of the distribution of names in 2010.\n",
    "\n",
    "(Just write code in the cell below that outputs the final answer. No explanation required.)"
   ]
  },
  {
   "cell_type": "code",
   "execution_count": 10,
   "metadata": {
    "collapsed": false,
    "deletable": false,
    "nbgrader": {
     "checksum": "0a470eca43ea00c8525e1cf7d5a70bfa",
     "grade": true,
     "grade_id": "entropy",
     "locked": false,
     "points": 10,
     "solution": true
    }
   },
   "outputs": [
    {
     "data": {
      "text/html": [
       "<div>\n",
       "<table border=\"1\" class=\"dataframe\">\n",
       "  <thead>\n",
       "    <tr style=\"text-align: right;\">\n",
       "      <th></th>\n",
       "      <th>Name</th>\n",
       "      <th>Gender</th>\n",
       "      <th>Count</th>\n",
       "    </tr>\n",
       "  </thead>\n",
       "  <tbody>\n",
       "    <tr>\n",
       "      <th>0</th>\n",
       "      <td>Isabella</td>\n",
       "      <td>F</td>\n",
       "      <td>22890</td>\n",
       "    </tr>\n",
       "    <tr>\n",
       "      <th>1</th>\n",
       "      <td>Sophia</td>\n",
       "      <td>F</td>\n",
       "      <td>20623</td>\n",
       "    </tr>\n",
       "    <tr>\n",
       "      <th>2</th>\n",
       "      <td>Emma</td>\n",
       "      <td>F</td>\n",
       "      <td>17327</td>\n",
       "    </tr>\n",
       "    <tr>\n",
       "      <th>3</th>\n",
       "      <td>Olivia</td>\n",
       "      <td>F</td>\n",
       "      <td>17017</td>\n",
       "    </tr>\n",
       "    <tr>\n",
       "      <th>4</th>\n",
       "      <td>Ava</td>\n",
       "      <td>F</td>\n",
       "      <td>15421</td>\n",
       "    </tr>\n",
       "  </tbody>\n",
       "</table>\n",
       "</div>"
      ],
      "text/plain": [
       "       Name Gender  Count\n",
       "0  Isabella      F  22890\n",
       "1    Sophia      F  20623\n",
       "2      Emma      F  17327\n",
       "3    Olivia      F  17017\n",
       "4       Ava      F  15421"
      ]
     },
     "execution_count": 10,
     "metadata": {},
     "output_type": "execute_result"
    }
   ],
   "source": [
    "data.head()"
   ]
  },
  {
   "cell_type": "code",
   "execution_count": 11,
   "metadata": {
    "collapsed": false,
    "scrolled": true
   },
   "outputs": [
    {
     "name": "stdout",
     "output_type": "stream",
     "text": [
      "2010 Entropy: 11.472701936742652\n"
     ]
    }
   ],
   "source": [
    "total = data.Count.sum()\n",
    "def entropy(sample):\n",
    "    prob = sample/total\n",
    "    return prob*np.log2(prob)\n",
    "print(\"2010 Entropy:\",-(data[\"Count\"].apply(entropy).sum()))"
   ]
  },
  {
   "cell_type": "markdown",
   "metadata": {},
   "source": [
    "## Question 5b (10 points)\n",
    "\n",
    "Calculate the entropy for every year between 1880 and 2014. Make a line plot of the entropy over time. Interpret what you see in context."
   ]
  },
  {
   "cell_type": "code",
   "execution_count": 12,
   "metadata": {
    "collapsed": false,
    "deletable": false,
    "nbgrader": {
     "checksum": "97467bafe6685d873765f3fac5f369cd",
     "grade": true,
     "grade_id": "entropy_plot",
     "locked": false,
     "points": 10,
     "solution": true
    }
   },
   "outputs": [
    {
     "data": {
      "text/html": [
       "<div>\n",
       "<table border=\"1\" class=\"dataframe\">\n",
       "  <thead>\n",
       "    <tr style=\"text-align: right;\">\n",
       "      <th></th>\n",
       "      <th>Name</th>\n",
       "      <th>Gender</th>\n",
       "      <th>Count</th>\n",
       "      <th>Year</th>\n",
       "    </tr>\n",
       "  </thead>\n",
       "  <tbody>\n",
       "    <tr>\n",
       "      <th>0</th>\n",
       "      <td>Mary</td>\n",
       "      <td>F</td>\n",
       "      <td>7065</td>\n",
       "      <td>1880</td>\n",
       "    </tr>\n",
       "    <tr>\n",
       "      <th>1</th>\n",
       "      <td>Anna</td>\n",
       "      <td>F</td>\n",
       "      <td>2604</td>\n",
       "      <td>1880</td>\n",
       "    </tr>\n",
       "    <tr>\n",
       "      <th>2</th>\n",
       "      <td>Emma</td>\n",
       "      <td>F</td>\n",
       "      <td>2003</td>\n",
       "      <td>1880</td>\n",
       "    </tr>\n",
       "    <tr>\n",
       "      <th>3</th>\n",
       "      <td>Elizabeth</td>\n",
       "      <td>F</td>\n",
       "      <td>1939</td>\n",
       "      <td>1880</td>\n",
       "    </tr>\n",
       "    <tr>\n",
       "      <th>4</th>\n",
       "      <td>Minnie</td>\n",
       "      <td>F</td>\n",
       "      <td>1746</td>\n",
       "      <td>1880</td>\n",
       "    </tr>\n",
       "  </tbody>\n",
       "</table>\n",
       "</div>"
      ],
      "text/plain": [
       "        Name Gender  Count  Year\n",
       "0       Mary      F   7065  1880\n",
       "1       Anna      F   2604  1880\n",
       "2       Emma      F   2003  1880\n",
       "3  Elizabeth      F   1939  1880\n",
       "4     Minnie      F   1746  1880"
      ]
     },
     "execution_count": 12,
     "metadata": {},
     "output_type": "execute_result"
    }
   ],
   "source": [
    "dfs = []\n",
    "for year in range(2010):\n",
    "    filename = \"/data/babynames/yob%d.txt\" % year\n",
    "    dataIN = pd.read_csv(filename, names=[\"Name\",\"Gender\",\"Count\"])\n",
    "    dataIN[\"Year\"] = year\n",
    "    dfs.append(dataIN) \n",
    "    \n",
    "dataAll = pd.concat(dfs)\n",
    "dataAll.head()"
   ]
  },
  {
   "cell_type": "code",
   "execution_count": 13,
   "metadata": {
    "collapsed": false
   },
   "outputs": [
    {
     "data": {
      "text/plain": [
       "<matplotlib.axes._subplots.AxesSubplot at 0x7f1570157940>"
      ]
     },
     "execution_count": 13,
     "metadata": {},
     "output_type": "execute_result"
    },
    {
     "data": {
      "image/png": "[encoded data removed]",
      "text/plain": [
       "<matplotlib.figure.Figure at 0x7f1572986358>"
      ]
     },
     "metadata": {},
     "output_type": "display_data"
    }
   ],
   "source": [
    "dataAll[\"Entropy\"] = data[\"Count\"].apply(entropy)\n",
    "entropies = -(dataAll.groupby(\"Year\")[\"Entropy\"].sum())\n",
    "entropies.plot()"
   ]
  },
  {
   "cell_type": "markdown",
   "metadata": {
    "collapsed": false
   },
   "source": [
    "From the line plot, I can infer that the distribution of baby names in the U.S. did not vary very much between 1880 and 1980. However, the variation saw a major spike in the early 1980s and has been pretty high ever since."
   ]
  },
  {
   "cell_type": "markdown",
   "metadata": {},
   "source": [
    "## Question 6a (10 points)\n",
    "\n",
    "What percentage of boys born in 2000 were named \"Michael\"? What percentage of boys born in 2010 were named \"Michael\"? Is the difference statistically significant? Interpret your result in context."
   ]
  },
  {
   "cell_type": "code",
   "execution_count": 14,
   "metadata": {
    "collapsed": false
   },
   "outputs": [],
   "source": [
    "data2000 = pd.read_csv(\"/data/babynames/yob2000.txt\", names=[\"Name\", \"Gender\", \"Count\"])\n",
    "data2010 = pd.read_csv(\"/data/babynames/yob2010.txt\", names=[\"Name\", \"Gender\", \"Count\"])\n",
    "boys00 = data2000[data2000[\"Gender\"] == \"M\"]\n",
    "boys10 = data2010[data2010[\"Gender\"] == \"M\"]"
   ]
  },
  {
   "cell_type": "code",
   "execution_count": 15,
   "metadata": {
    "collapsed": false
   },
   "outputs": [
    {
     "data": {
      "text/plain": [
       "(0.016319534321568404, 0.009048228142371184)"
      ]
     },
     "execution_count": 15,
     "metadata": {},
     "output_type": "execute_result"
    }
   ],
   "source": [
    "perc00 = (boys00[boys00[\"Name\"] == \"Michael\"][\"Count\"].sum())/(boys00[\"Count\"].sum())\n",
    "perc10 = (boys10[boys10[\"Name\"] == \"Michael\"][\"Count\"].sum())/(boys10[\"Count\"].sum())\n",
    "diff = abs(perc00-perc10)\n",
    "perc00, perc10"
   ]
  },
  {
   "cell_type": "code",
   "execution_count": 43,
   "metadata": {
    "collapsed": false
   },
   "outputs": [
    {
     "name": "stderr",
     "output_type": "stream",
     "text": [
      "/opt/conda/lib/python3.5/site-packages/ipykernel/__main__.py:1: SettingWithCopyWarning: \n",
      "A value is trying to be set on a copy of a slice from a DataFrame.\n",
      "Try using .loc[row_indexer,col_indexer] = value instead\n",
      "\n",
      "See the caveats in the documentation: http://pandas.pydata.org/pandas-docs/stable/indexing.html#indexing-view-versus-copy\n",
      "  if __name__ == '__main__':\n",
      "/opt/conda/lib/python3.5/site-packages/ipykernel/__main__.py:2: SettingWithCopyWarning: \n",
      "A value is trying to be set on a copy of a slice from a DataFrame.\n",
      "Try using .loc[row_indexer,col_indexer] = value instead\n",
      "\n",
      "See the caveats in the documentation: http://pandas.pydata.org/pandas-docs/stable/indexing.html#indexing-view-versus-copy\n",
      "  from ipykernel import kernelapp as app\n"
     ]
    },
    {
     "data": {
      "text/plain": [
       "<matplotlib.axes._subplots.AxesSubplot at 0x7f156af81908>"
      ]
     },
     "execution_count": 43,
     "metadata": {},
     "output_type": "execute_result"
    },
    {
     "data": {
      "image/png": "[encoded data removed]",
      "text/plain": [
       "<matplotlib.figure.Figure at 0x7f1564d0add8>"
      ]
     },
     "metadata": {},
     "output_type": "display_data"
    }
   ],
   "source": [
    "boys00[\"Perc\"] = (boys00[\"Count\"])/(boys00[\"Count\"].sum())\n",
    "boys10[\"Perc\"] = (boys10[\"Count\"])/(boys10[\"Count\"].sum())\n",
    "boys_merged = boys00.merge(boys10, on=[\"Name\"])\n",
    "diffs = abs(boys_merged[\"Perc_x\"]-boys_merged[\"Perc_y\"])\n",
    "diffs.plot()"
   ]
  },
  {
   "cell_type": "markdown",
   "metadata": {
    "deletable": false,
    "nbgrader": {
     "checksum": "8c2fbc8de8bd4d60b776314c2a1c04c6",
     "grade": true,
     "grade_id": "conf_int",
     "locked": false,
     "points": 10,
     "solution": true
    }
   },
   "source": [
    "**ENTER YOUR INTERPRETATION HERE.**"
   ]
  },
  {
   "cell_type": "markdown",
   "metadata": {},
   "source": [
    "## Question 6b (10 points)\n",
    "\n",
    "Make a bar graph showing the percentage of boys named Michael in 2000 and 2010. Include standard error bars.\n",
    "\n",
    "(Just write code in the cell below that outputs the final answer. No explanation required.)"
   ]
  },
  {
   "cell_type": "code",
   "execution_count": 25,
   "metadata": {
    "collapsed": false,
    "deletable": false,
    "nbgrader": {
     "checksum": "03e19966f076cfeaa7750c4248679e28",
     "grade": true,
     "grade_id": "bar_graph",
     "locked": false,
     "points": 10,
     "solution": true
    }
   },
   "outputs": [],
   "source": [
    "n00 = len(boys00)\n",
    "n10 = len(boys10)\n",
    "percs00 = boys00[\"Count\"]/(boys00[\"Count\"].sum())\n",
    "percs10 = boys10[\"Count\"]/(boys10[\"Count\"].sum())\n",
    "\n",
    "sd00 = percs00.std()\n",
    "sd10 = percs10.std()\n",
    "\n",
    "std_err00 = (sd00/np.sqrt(n00))\n",
    "std_err10 = (sd10/np.sqrt(n10))"
   ]
  },
  {
   "cell_type": "code",
   "execution_count": 29,
   "metadata": {
    "collapsed": false
   },
   "outputs": [
    {
     "data": {
      "text/plain": [
       "<Container object of 1 artists>"
      ]
     },
     "execution_count": 29,
     "metadata": {},
     "output_type": "execute_result"
    },
    {
     "data": {
      "image/png": "[encoded data removed]",
      "text/plain": [
       "<matplotlib.figure.Figure at 0x7f156afe4400>"
      ]
     },
     "metadata": {},
     "output_type": "display_data"
    }
   ],
   "source": [
    "plt.bar(2000, perc00, yerr=2*std_err00)\n",
    "plt.bar(2010, perc10, yerr=2*std_err10)"
   ]
  },
  {
   "cell_type": "code",
   "execution_count": null,
   "metadata": {
    "collapsed": false
   },
   "outputs": [],
   "source": []
  }
 ],
 "metadata": {
  "kernelspec": {
   "display_name": "Python 3",
   "language": "python",
   "name": "python3"
  },
  "language_info": {
   "codemirror_mode": {
    "name": "ipython",
    "version": 3
   },
   "file_extension": ".py",
   "mimetype": "text/x-python",
   "name": "python",
   "nbconvert_exporter": "python",
   "pygments_lexer": "ipython3",
   "version": "3.5.2"
  }
 },
 "nbformat": 4,
 "nbformat_minor": 0
}
