{
 "cells": [
  {
   "cell_type": "markdown",
   "metadata": {},
   "source": [
    "# Presentation Schedule\n",
    "\n",
    "As you know, participation is a component of your final project grade. Your participation will be based on questions that you ask during the session, as well as on peer feedback that you provide. \n",
    "\n",
    "Run the cells below. You should see a list of the Github usernames of the presenters, in the order that they will present. Each username is a hyperlink that will take you to a form where you can submit peer feedback for that presenter."
   ]
  },
  {
   "cell_type": "code",
   "execution_count": 2,
   "metadata": {
    "collapsed": false
   },
   "outputs": [
    {
     "name": "stdout",
     "output_type": "stream",
     "text": [
      "I am ncolosso.\n"
     ]
    }
   ],
   "source": [
    "import os\n",
    "import pwd\n",
    "from IPython.core.display import display, HTML\n",
    "\n",
    "user = pwd.getpwuid(os.getuid())[0]\n",
    "\n",
    "print(\"I am %s.\" % user)"
   ]
  },
  {
   "cell_type": "code",
   "execution_count": 3,
   "metadata": {
    "collapsed": true
   },
   "outputs": [],
   "source": [
    "presenters = [\"cwarne\", \"slascola\", \"jebradbury39\", \"oats-meal\", \"lmunro0402\", \"doermatt\",\n",
    "              \"ms2300\", \"ncolosso\", \"jesmith14\", \"yengkerng\", \"howardjohn\"]"
   ]
  },
  {
   "cell_type": "code",
   "execution_count": 4,
   "metadata": {
    "collapsed": false
   },
   "outputs": [
    {
     "data": {
      "text/html": [
       "<h2>Presentation Schedule</h2>"
      ],
      "text/plain": [
       "<IPython.core.display.HTML object>"
      ]
     },
     "metadata": {},
     "output_type": "display_data"
    },
    {
     "data": {
      "text/html": [
       "\n",
       "    0. <a href=\"https://docs.google.com/forms/d/e/1FAIpQLSe8D1TC7fzfAd6k0e3Q-jCmO15L3RJwVWFn0I2u-tiOvhvoGA/viewform?usp=pp_url&entry.1227876566=ncolosso&entry.375934390=cwarne\" target=\"_blank\">cwarne</a> \n",
       "    "
      ],
      "text/plain": [
       "<IPython.core.display.HTML object>"
      ]
     },
     "metadata": {},
     "output_type": "display_data"
    },
    {
     "data": {
      "text/html": [
       "\n",
       "    1. <a href=\"https://docs.google.com/forms/d/e/1FAIpQLSe8D1TC7fzfAd6k0e3Q-jCmO15L3RJwVWFn0I2u-tiOvhvoGA/viewform?usp=pp_url&entry.1227876566=ncolosso&entry.375934390=slascola\" target=\"_blank\">slascola</a> \n",
       "    "
      ],
      "text/plain": [
       "<IPython.core.display.HTML object>"
      ]
     },
     "metadata": {},
     "output_type": "display_data"
    },
    {
     "data": {
      "text/html": [
       "\n",
       "    2. <a href=\"https://docs.google.com/forms/d/e/1FAIpQLSe8D1TC7fzfAd6k0e3Q-jCmO15L3RJwVWFn0I2u-tiOvhvoGA/viewform?usp=pp_url&entry.1227876566=ncolosso&entry.375934390=jebradbury39\" target=\"_blank\">jebradbury39</a> \n",
       "    "
      ],
      "text/plain": [
       "<IPython.core.display.HTML object>"
      ]
     },
     "metadata": {},
     "output_type": "display_data"
    },
    {
     "data": {
      "text/html": [
       "\n",
       "    3. <a href=\"https://docs.google.com/forms/d/e/1FAIpQLSe8D1TC7fzfAd6k0e3Q-jCmO15L3RJwVWFn0I2u-tiOvhvoGA/viewform?usp=pp_url&entry.1227876566=ncolosso&entry.375934390=oats-meal\" target=\"_blank\">oats-meal</a> \n",
       "    "
      ],
      "text/plain": [
       "<IPython.core.display.HTML object>"
      ]
     },
     "metadata": {},
     "output_type": "display_data"
    },
    {
     "data": {
      "text/html": [
       "\n",
       "    4. <a href=\"https://docs.google.com/forms/d/e/1FAIpQLSe8D1TC7fzfAd6k0e3Q-jCmO15L3RJwVWFn0I2u-tiOvhvoGA/viewform?usp=pp_url&entry.1227876566=ncolosso&entry.375934390=lmunro0402\" target=\"_blank\">lmunro0402</a> \n",
       "    "
      ],
      "text/plain": [
       "<IPython.core.display.HTML object>"
      ]
     },
     "metadata": {},
     "output_type": "display_data"
    },
    {
     "data": {
      "text/html": [
       "\n",
       "    5. <a href=\"https://docs.google.com/forms/d/e/1FAIpQLSe8D1TC7fzfAd6k0e3Q-jCmO15L3RJwVWFn0I2u-tiOvhvoGA/viewform?usp=pp_url&entry.1227876566=ncolosso&entry.375934390=doermatt\" target=\"_blank\">doermatt</a> \n",
       "    "
      ],
      "text/plain": [
       "<IPython.core.display.HTML object>"
      ]
     },
     "metadata": {},
     "output_type": "display_data"
    },
    {
     "data": {
      "text/html": [
       "\n",
       "    6. <a href=\"https://docs.google.com/forms/d/e/1FAIpQLSe8D1TC7fzfAd6k0e3Q-jCmO15L3RJwVWFn0I2u-tiOvhvoGA/viewform?usp=pp_url&entry.1227876566=ncolosso&entry.375934390=ms2300\" target=\"_blank\">ms2300</a> \n",
       "    "
      ],
      "text/plain": [
       "<IPython.core.display.HTML object>"
      ]
     },
     "metadata": {},
     "output_type": "display_data"
    },
    {
     "data": {
      "text/html": [
       "\n",
       "    7. <a href=\"https://docs.google.com/forms/d/e/1FAIpQLSe8D1TC7fzfAd6k0e3Q-jCmO15L3RJwVWFn0I2u-tiOvhvoGA/viewform?usp=pp_url&entry.1227876566=ncolosso&entry.375934390=ncolosso\" target=\"_blank\">ncolosso</a> \n",
       "    "
      ],
      "text/plain": [
       "<IPython.core.display.HTML object>"
      ]
     },
     "metadata": {},
     "output_type": "display_data"
    },
    {
     "data": {
      "text/html": [
       "\n",
       "    8. <a href=\"https://docs.google.com/forms/d/e/1FAIpQLSe8D1TC7fzfAd6k0e3Q-jCmO15L3RJwVWFn0I2u-tiOvhvoGA/viewform?usp=pp_url&entry.1227876566=ncolosso&entry.375934390=jesmith14\" target=\"_blank\">jesmith14</a> \n",
       "    "
      ],
      "text/plain": [
       "<IPython.core.display.HTML object>"
      ]
     },
     "metadata": {},
     "output_type": "display_data"
    },
    {
     "data": {
      "text/html": [
       "\n",
       "    9. <a href=\"https://docs.google.com/forms/d/e/1FAIpQLSe8D1TC7fzfAd6k0e3Q-jCmO15L3RJwVWFn0I2u-tiOvhvoGA/viewform?usp=pp_url&entry.1227876566=ncolosso&entry.375934390=yengkerng\" target=\"_blank\">yengkerng</a> \n",
       "    "
      ],
      "text/plain": [
       "<IPython.core.display.HTML object>"
      ]
     },
     "metadata": {},
     "output_type": "display_data"
    },
    {
     "data": {
      "text/html": [
       "\n",
       "    10. <a href=\"https://docs.google.com/forms/d/e/1FAIpQLSe8D1TC7fzfAd6k0e3Q-jCmO15L3RJwVWFn0I2u-tiOvhvoGA/viewform?usp=pp_url&entry.1227876566=ncolosso&entry.375934390=howardjohn\" target=\"_blank\">howardjohn</a> \n",
       "    "
      ],
      "text/plain": [
       "<IPython.core.display.HTML object>"
      ]
     },
     "metadata": {},
     "output_type": "display_data"
    }
   ],
   "source": [
    "display(HTML(\"<h2>Presentation Schedule</h2>\"))\n",
    "\n",
    "for i, presenter in enumerate(presenters):\n",
    "    display(HTML('''\n",
    "    %d. <a href=\"https://docs.google.com/forms/d/e/1FAIpQLSe8D1TC7fzfAd6k0e3Q-jCmO15L3RJwVWFn0I2u-tiOvhvoGA/viewform?usp=pp_url&entry.1227876566=%s&entry.375934390=%s\" target=\"_blank\">%s</a> \n",
    "    ''' % (i, user, presenter, presenter)))"
   ]
  },
  {
   "cell_type": "code",
   "execution_count": null,
   "metadata": {
    "collapsed": true
   },
   "outputs": [],
   "source": []
  }
 ],
 "metadata": {
  "kernelspec": {
   "display_name": "Python 3",
   "language": "python",
   "name": "python3"
  },
  "language_info": {
   "codemirror_mode": {
    "name": "ipython",
    "version": 3
   },
   "file_extension": ".py",
   "mimetype": "text/x-python",
   "name": "python",
   "nbconvert_exporter": "python",
   "pygments_lexer": "ipython3",
   "version": "3.5.2"
  }
 },
 "nbformat": 4,
 "nbformat_minor": 2
}
