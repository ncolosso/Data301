{
 "cells": [
  {
   "cell_type": "code",
   "execution_count": 39,
   "metadata": {
    "collapsed": true
   },
   "outputs": [],
   "source": [
    "import requests\n",
    "from bs4 import BeautifulSoup"
   ]
  },
  {
   "cell_type": "code",
   "execution_count": 40,
   "metadata": {
    "collapsed": true
   },
   "outputs": [],
   "source": [
    "req = requests.get(\"http://www.calpoly.edu/~dsun09/data301/lectures.html\")\n",
    "soup = BeautifulSoup(req.text, \"html.parser\")"
   ]
  },
  {
   "cell_type": "code",
   "execution_count": 51,
   "metadata": {
    "collapsed": false
   },
   "outputs": [
    {
     "data": {
      "text/plain": [
       "50"
      ]
     },
     "execution_count": 51,
     "metadata": {},
     "output_type": "execute_result"
    }
   ],
   "source": [
    "len(soup.find_all(\"table\")[1].find_all(\"tr\"))"
   ]
  },
  {
   "cell_type": "code",
   "execution_count": 58,
   "metadata": {
    "collapsed": true
   },
   "outputs": [],
   "source": [
    "req = requests.get(\"https://api.setlist.fm/rest/0.1/search/setlists?tour=ANTi%20World%20Tour\")"
   ]
  },
  {
   "cell_type": "code",
   "execution_count": 59,
   "metadata": {
    "collapsed": true
   },
   "outputs": [],
   "source": [
    "soup = BeautifulSoup(req.text, \"xml\")"
   ]
  },
  {
   "cell_type": "code",
   "execution_count": 65,
   "metadata": {
    "collapsed": false
   },
   "outputs": [
    {
     "data": {
      "text/plain": [
       "20"
      ]
     },
     "execution_count": 65,
     "metadata": {},
     "output_type": "execute_result"
    }
   ],
   "source": [
    "len(soup.find_all(\"artist\", {\"name\":\"Rihanna\"}))"
   ]
  },
  {
   "cell_type": "code",
   "execution_count": 100,
   "metadata": {
    "collapsed": false
   },
   "outputs": [
    {
     "data": {
      "text/plain": [
       "[<set encore=\"1\" name=\"Act IV\"><song name=\"Love on the Brain\"/><song name=\"Kiss It Better\"/></set>,\n",
       " <set encore=\"1\" name=\"Act IV\"><song name=\"Love on the Brain\"/><song name=\"Kiss It Better\"/></set>,\n",
       " <set encore=\"1\" name=\"Act IV\"><song name=\"Love on the Brain\"/><song name=\"Kiss It Better\"/></set>,\n",
       " <set encore=\"1\" name=\"Act IV\"><song name=\"Love on the Brain\"/><song name=\"Kiss It Better\"/></set>,\n",
       " <set encore=\"1\" name=\"Act IV\"><song name=\"Love on the Brain\"/><song name=\"Kiss It Better\"/></set>,\n",
       " <set encore=\"1\" name=\"Act IV\"><song name=\"Love on the Brain\"/><song name=\"Kiss It Better\"/></set>,\n",
       " <set encore=\"1\" name=\"Act IV\"><song name=\"Diamonds\"/><song name=\"Love on the Brain\"/></set>,\n",
       " <set encore=\"1\" name=\"Act IV\"><song name=\"Love on the Brain\"/><song name=\"Kiss It Better\"/></set>,\n",
       " <set encore=\"1\" name=\"Act IV\"><song name=\"Love on the Brain\"/><song name=\"Kiss It Better\"/></set>,\n",
       " <set encore=\"1\" name=\"Act IV\"><song name=\"Love on the Brain\"/><song name=\"Kiss It Better\"/></set>,\n",
       " <set encore=\"1\" name=\"Act IV\"><song name=\"Love on the Brain\"/><song name=\"Kiss It Better\"/></set>,\n",
       " <set encore=\"1\" name=\"Act IV\"><song name=\"Love on the Brain\"/><song name=\"Kiss It Better\"/></set>,\n",
       " <set encore=\"1\" name=\"Act IV\"><song name=\"Love on the Brain\"/><song name=\"Kiss It Better\"/><song name=\"Higher\" tape=\"true\"><info>Instrumental</info></song></set>,\n",
       " <set encore=\"1\" name=\"Act IV\"><song name=\"Love on the Brain\"/><song name=\"Kiss It Better\"/></set>,\n",
       " <set encore=\"1\" name=\"Act IV\"><song name=\"Love on the Brain\"/><song name=\"Kiss It Better\"/></set>,\n",
       " <set encore=\"1\" name=\"Act IV\"><song name=\"Love on the Brain\"/><song name=\"Kiss It Better\"/><song name=\"Higher\" tape=\"true\"><info>Instrumental</info></song></set>,\n",
       " <set encore=\"1\" name=\"Act IV\"><song name=\"Love on the Brain\"/><song name=\"Kiss It Better\"/></set>]"
      ]
     },
     "execution_count": 100,
     "metadata": {},
     "output_type": "execute_result"
    }
   ],
   "source": [
    "soup.find_all(\"set\", {\"encore\":\"1\"})"
   ]
  },
  {
   "cell_type": "code",
   "execution_count": 86,
   "metadata": {
    "collapsed": false
   },
   "outputs": [
    {
     "data": {
      "text/plain": [
       "[<song name=\"Rude Boy\"/>,\n",
       " <song name=\"Rude Boy\"/>,\n",
       " <song name=\"Rude Boy\"/>,\n",
       " <song name=\"Rude Boy\"/>,\n",
       " <song name=\"Rude Boy\"/>,\n",
       " <song name=\"Rude Boy\"/>,\n",
       " <song name=\"Rude Boy\"/>,\n",
       " <song name=\"Rude Boy\"/>,\n",
       " <song name=\"Rude Boy\"/>,\n",
       " <song name=\"Rude Boy\"/>,\n",
       " <song name=\"Rude Boy\"/>,\n",
       " <song name=\"Rude Boy\"/>,\n",
       " <song name=\"Rude Boy\"/>,\n",
       " <song name=\"Rude Boy\"/>,\n",
       " <song name=\"Rude Boy\"/>,\n",
       " <song name=\"Rude Boy\"/>,\n",
       " <song name=\"Rude Boy\"/>,\n",
       " <song name=\"Rude Boy\"/>,\n",
       " <song name=\"Rude Boy\"/>]"
      ]
     },
     "execution_count": 86,
     "metadata": {},
     "output_type": "execute_result"
    }
   ],
   "source": [
    "soup.find_all(\"song\", {\"name\":\"Rude Boy\"})"
   ]
  },
  {
   "cell_type": "code",
   "execution_count": null,
   "metadata": {
    "collapsed": true
   },
   "outputs": [],
   "source": []
  }
 ],
 "metadata": {
  "kernelspec": {
   "display_name": "Python 3",
   "language": "python",
   "name": "python3"
  },
  "language_info": {
   "codemirror_mode": {
    "name": "ipython",
    "version": 3
   },
   "file_extension": ".py",
   "mimetype": "text/x-python",
   "name": "python",
   "nbconvert_exporter": "python",
   "pygments_lexer": "ipython3",
   "version": "3.5.2"
  }
 },
 "nbformat": 4,
 "nbformat_minor": 1
}
